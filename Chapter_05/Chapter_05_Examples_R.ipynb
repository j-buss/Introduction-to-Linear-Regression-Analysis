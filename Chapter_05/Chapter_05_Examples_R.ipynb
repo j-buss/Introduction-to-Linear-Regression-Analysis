{
 "cells": [
  {
   "cell_type": "markdown",
   "id": "0af34841",
   "metadata": {},
   "source": [
    "# Chapter 5 Examples - R"
   ]
  },
  {
   "cell_type": "code",
   "execution_count": 1,
   "id": "0d7fe13e",
   "metadata": {},
   "outputs": [],
   "source": [
    "#### Sytem may require the following: \n",
    "# sudo apt install libcurl4-openssl-dev\n",
    "# sudo apt install libxml2-dev\n",
    "\n",
    "#### Only need to run the folloing installs once\n",
    "# install.packages(c(\"ggplot2\", \"ggpubr\", \"tidyverse\", \"broom\", \n",
    "#                    \"AICcmodavg\", \"ellipse\", \"asbio\", \"QuantPsyc\", \n",
    "#                    \"qpcR\",\"qqplotr\"))"
   ]
  },
  {
   "cell_type": "markdown",
   "id": "a86dd5d1",
   "metadata": {},
   "source": [
    "## Load Libraries"
   ]
  },
  {
   "cell_type": "code",
   "execution_count": 2,
   "id": "f48f1667",
   "metadata": {},
   "outputs": [],
   "source": [
    "suppressMessages(library(readxl))\n",
    "suppressMessages(library(qpcR))\n",
    "suppressMessages(library(ggplot2))\n",
    "suppressMessages(library(qqplotr))"
   ]
  },
  {
   "cell_type": "markdown",
   "id": "c3977e95",
   "metadata": {},
   "source": [
    "### Define Functions"
   ]
  },
  {
   "cell_type": "code",
   "execution_count": 49,
   "id": "49b944e0",
   "metadata": {},
   "outputs": [],
   "source": [
    "create_residuals_df <- function(linearMod){\n",
    "    #Calculate Residuals\n",
    "    Residuals <- resid(linearMod)\n",
    "    StandardizedResiduals <- resid(linearMod) / sqrt(tail(anova(Delivery.lm)[['Mean Sq']], n=1))\n",
    "    HatMatrixDiagonals <- unname(influence(linearMod)$hat)\n",
    "    StudentizedResiduals <- rstandard(linearMod)\n",
    "    PRESSResiduals <- PRESS(linearMod, verbose = FALSE)$residuals\n",
    "    RStudentResiduals <- rstudent(linearMod)\n",
    "    PRESSResidualsSqrd <- PRESSResiduals^2\n",
    "    \n",
    "    #Add Residuals to df\n",
    "    df <- data.frame(\n",
    "        unname(Residuals),\n",
    "        unname(StandardizedResiduals),\n",
    "        unname(StudentizedResiduals),\n",
    "        HatMatrixDiagonals,\n",
    "        PRESSResiduals,\n",
    "        RStudentResiduals,\n",
    "        PRESSResidualsSqrd\n",
    "    )\n",
    "    \n",
    "    #Rename Columns\n",
    "    colnames(df) <- c(\n",
    "        \"Residuals\",\n",
    "        \"StandardizedResiduals\",\n",
    "        \"StudentizedResiduals\", \n",
    "        \"HatMatrixDiagonals\", \n",
    "        \"PRESSResiduals\", \n",
    "        \"RStudentResiduals\", \n",
    "        \"PRESSResidualsSqrd\"\n",
    "    )\n",
    "    \n",
    "    return(df)\n",
    "    \n",
    "}"
   ]
  },
  {
   "cell_type": "markdown",
   "id": "4a7947d0",
   "metadata": {},
   "source": [
    "### 5.1 The Electric Utility Data"
   ]
  },
  {
   "cell_type": "code",
   "execution_count": 50,
   "id": "dc4909b4",
   "metadata": {},
   "outputs": [
    {
     "data": {
      "text/html": [
       "<table class=\"dataframe\">\n",
       "<caption>A data.frame: 6 × 2</caption>\n",
       "<thead>\n",
       "\t<tr><th></th><th scope=col>x</th><th scope=col>y</th></tr>\n",
       "\t<tr><th></th><th scope=col>&lt;dbl&gt;</th><th scope=col>&lt;dbl&gt;</th></tr>\n",
       "</thead>\n",
       "<tbody>\n",
       "\t<tr><th scope=row>1</th><td> 679</td><td>0.79</td></tr>\n",
       "\t<tr><th scope=row>2</th><td> 292</td><td>0.44</td></tr>\n",
       "\t<tr><th scope=row>3</th><td>1012</td><td>0.56</td></tr>\n",
       "\t<tr><th scope=row>4</th><td> 493</td><td>0.79</td></tr>\n",
       "\t<tr><th scope=row>5</th><td> 582</td><td>2.70</td></tr>\n",
       "\t<tr><th scope=row>6</th><td>1156</td><td>3.64</td></tr>\n",
       "</tbody>\n",
       "</table>\n"
      ],
      "text/latex": [
       "A data.frame: 6 × 2\n",
       "\\begin{tabular}{r|ll}\n",
       "  & x & y\\\\\n",
       "  & <dbl> & <dbl>\\\\\n",
       "\\hline\n",
       "\t1 &  679 & 0.79\\\\\n",
       "\t2 &  292 & 0.44\\\\\n",
       "\t3 & 1012 & 0.56\\\\\n",
       "\t4 &  493 & 0.79\\\\\n",
       "\t5 &  582 & 2.70\\\\\n",
       "\t6 & 1156 & 3.64\\\\\n",
       "\\end{tabular}\n"
      ],
      "text/markdown": [
       "\n",
       "A data.frame: 6 × 2\n",
       "\n",
       "| <!--/--> | x &lt;dbl&gt; | y &lt;dbl&gt; |\n",
       "|---|---|---|\n",
       "| 1 |  679 | 0.79 |\n",
       "| 2 |  292 | 0.44 |\n",
       "| 3 | 1012 | 0.56 |\n",
       "| 4 |  493 | 0.79 |\n",
       "| 5 |  582 | 2.70 |\n",
       "| 6 | 1156 | 3.64 |\n",
       "\n"
      ],
      "text/plain": [
       "  x    y   \n",
       "1  679 0.79\n",
       "2  292 0.44\n",
       "3 1012 0.56\n",
       "4  493 0.79\n",
       "5  582 2.70\n",
       "6 1156 3.64"
      ]
     },
     "metadata": {},
     "output_type": "display_data"
    }
   ],
   "source": [
    "Electric.table <- read_excel(\n",
    "    '../linear_regression_5e_data_sets/Chapter 5/Examples/data-ex-5-1 (Electric Utility).xls')\n",
    "\n",
    "Electric.df <- data.frame(Electric.table$`x (kWh)`,\n",
    "                         Electric.table$`y (kW)`)\n",
    "\n",
    "colnames(Electric.df) <- c(\"x\", \"y\")\n",
    "\n",
    "head(Electric.df)"
   ]
  },
  {
   "cell_type": "code",
   "execution_count": 51,
   "id": "8b36b486",
   "metadata": {},
   "outputs": [
    {
     "name": "stdout",
     "output_type": "stream",
     "text": [
      "\n",
      "Call:\n",
      "lm(formula = y ~ x, data = Electric.df)\n",
      "\n",
      "Coefficients:\n",
      "(Intercept)            x  \n",
      "  -0.831304     0.003683  \n",
      "\n"
     ]
    }
   ],
   "source": [
    "Electric.lm <- lm(\n",
    "    y ~ x,\n",
    "    data=Electric.df)\n",
    "\n",
    "print(Electric.lm)"
   ]
  },
  {
   "cell_type": "code",
   "execution_count": 52,
   "id": "79e6ac7b",
   "metadata": {},
   "outputs": [
    {
     "data": {
      "text/plain": [
       "\n",
       "Call:\n",
       "lm(formula = y ~ x, data = Electric.df)\n",
       "\n",
       "Residuals:\n",
       "    Min      1Q  Median      3Q     Max \n",
       "-4.1399 -0.8275 -0.1934  1.2376  3.1522 \n",
       "\n",
       "Coefficients:\n",
       "              Estimate Std. Error t value Pr(>|t|)    \n",
       "(Intercept) -0.8313037  0.4416121  -1.882   0.0655 .  \n",
       "x            0.0036828  0.0003339  11.030 4.11e-15 ***\n",
       "---\n",
       "Signif. codes:  0 ‘***’ 0.001 ‘**’ 0.01 ‘*’ 0.05 ‘.’ 0.1 ‘ ’ 1\n",
       "\n",
       "Residual standard error: 1.577 on 51 degrees of freedom\n",
       "Multiple R-squared:  0.7046,\tAdjusted R-squared:  0.6988 \n",
       "F-statistic: 121.7 on 1 and 51 DF,  p-value: 4.106e-15\n"
      ]
     },
     "metadata": {},
     "output_type": "display_data"
    }
   ],
   "source": [
    "summary(Electric.lm)"
   ]
  },
  {
   "cell_type": "code",
   "execution_count": 53,
   "id": "58b40757",
   "metadata": {},
   "outputs": [
    {
     "data": {
      "text/html": [
       "<table class=\"dataframe\">\n",
       "<caption>A anova: 2 × 5</caption>\n",
       "<thead>\n",
       "\t<tr><th></th><th scope=col>Df</th><th scope=col>Sum Sq</th><th scope=col>Mean Sq</th><th scope=col>F value</th><th scope=col>Pr(&gt;F)</th></tr>\n",
       "\t<tr><th></th><th scope=col>&lt;int&gt;</th><th scope=col>&lt;dbl&gt;</th><th scope=col>&lt;dbl&gt;</th><th scope=col>&lt;dbl&gt;</th><th scope=col>&lt;dbl&gt;</th></tr>\n",
       "</thead>\n",
       "<tbody>\n",
       "\t<tr><th scope=row>x</th><td> 1</td><td>302.6331</td><td>302.633136</td><td>121.6582</td><td>4.106229e-15</td></tr>\n",
       "\t<tr><th scope=row>Residuals</th><td>51</td><td>126.8660</td><td>  2.487569</td><td>      NA</td><td>          NA</td></tr>\n",
       "</tbody>\n",
       "</table>\n"
      ],
      "text/latex": [
       "A anova: 2 × 5\n",
       "\\begin{tabular}{r|lllll}\n",
       "  & Df & Sum Sq & Mean Sq & F value & Pr(>F)\\\\\n",
       "  & <int> & <dbl> & <dbl> & <dbl> & <dbl>\\\\\n",
       "\\hline\n",
       "\tx &  1 & 302.6331 & 302.633136 & 121.6582 & 4.106229e-15\\\\\n",
       "\tResiduals & 51 & 126.8660 &   2.487569 &       NA &           NA\\\\\n",
       "\\end{tabular}\n"
      ],
      "text/markdown": [
       "\n",
       "A anova: 2 × 5\n",
       "\n",
       "| <!--/--> | Df &lt;int&gt; | Sum Sq &lt;dbl&gt; | Mean Sq &lt;dbl&gt; | F value &lt;dbl&gt; | Pr(&gt;F) &lt;dbl&gt; |\n",
       "|---|---|---|---|---|---|\n",
       "| x |  1 | 302.6331 | 302.633136 | 121.6582 | 4.106229e-15 |\n",
       "| Residuals | 51 | 126.8660 |   2.487569 |       NA |           NA |\n",
       "\n"
      ],
      "text/plain": [
       "          Df Sum Sq   Mean Sq    F value  Pr(>F)      \n",
       "x          1 302.6331 302.633136 121.6582 4.106229e-15\n",
       "Residuals 51 126.8660   2.487569       NA           NA"
      ]
     },
     "metadata": {},
     "output_type": "display_data"
    }
   ],
   "source": [
    "anova(Electric.lm)"
   ]
  },
  {
   "cell_type": "code",
   "execution_count": 55,
   "id": "e5ec4da1",
   "metadata": {},
   "outputs": [],
   "source": [
    "Electric.Residuals <- create_residuals_df(Electric.lm)"
   ]
  },
  {
   "cell_type": "code",
   "execution_count": 59,
   "id": "adfe141a",
   "metadata": {},
   "outputs": [
    {
     "data": {
      "image/png": "[encoded data removed]",
      "text/plain": [
       "Plot with title “Electricity Demand vs. Usage”"
      ]
     },
     "metadata": {
      "image/png": {
       "height": 420,
       "width": 420
      }
     },
     "output_type": "display_data"
    }
   ],
   "source": [
    "plot(\n",
    "    Electric.df$x, \n",
    "    Electric.df$y,\n",
    "    xlab=\"Usage\",\n",
    "    ylab=\"Demand\",\n",
    "    main=\"Electricity Demand vs. Usage\"\n",
    ")"
   ]
  },
  {
   "cell_type": "code",
   "execution_count": 60,
   "id": "604d43ed",
   "metadata": {},
   "outputs": [
    {
     "data": {
      "image/png": "[encoded data removed]",
      "text/plain": [
       "Plot with title “Versus Fits”"
      ]
     },
     "metadata": {
      "image/png": {
       "height": 420,
       "width": 420
      }
     },
     "output_type": "display_data"
    }
   ],
   "source": [
    "plot(\n",
    "    fitted(Electric.lm), \n",
    "    Electric.Residuals$RStudentResiduals,\n",
    "    xlab=\"Fitted Values\",\n",
    "    ylab=\"Externally Studentized Residual\",\n",
    "    main=\"Versus Fits\"\n",
    ")\n",
    "abline(h=0)"
   ]
  },
  {
   "cell_type": "code",
   "execution_count": 62,
   "id": "1c78ec96",
   "metadata": {},
   "outputs": [],
   "source": [
    "Electric.df$y_transformed <- sqrt(Electric.df$y)"
   ]
  },
  {
   "cell_type": "code",
   "execution_count": 64,
   "id": "29c72cfe",
   "metadata": {},
   "outputs": [],
   "source": [
    "Electric.lm_2 <- lm(\n",
    "    y_transformed ~ x,\n",
    "    data=Electric.df)"
   ]
  },
  {
   "cell_type": "code",
   "execution_count": 65,
   "id": "79aec152",
   "metadata": {},
   "outputs": [],
   "source": [
    "Electric.Residuals_2 <- create_residuals_df(Electric.lm_2)"
   ]
  },
  {
   "cell_type": "code",
   "execution_count": 67,
   "id": "35a1c02d",
   "metadata": {},
   "outputs": [
    {
     "data": {
      "image/png": "[encoded data removed]",
      "text/plain": [
       "Plot with title “Versus Fits”"
      ]
     },
     "metadata": {
      "image/png": {
       "height": 420,
       "width": 420
      }
     },
     "output_type": "display_data"
    }
   ],
   "source": [
    "plot(\n",
    "    fitted(Electric.lm_2), \n",
    "    Electric.Residuals_2$RStudentResiduals,\n",
    "    xlab=\"Fitted Values\",\n",
    "    ylab=\"Externally Studentized Residual\",\n",
    "    main=\"Versus Fits\"\n",
    ")\n",
    "abline(h=0)"
   ]
  },
  {
   "cell_type": "markdown",
   "id": "3c3e73ae",
   "metadata": {},
   "source": [
    "## 5.2 The Windmill Data"
   ]
  },
  {
   "cell_type": "code",
   "execution_count": 69,
   "id": "e338712b",
   "metadata": {},
   "outputs": [
    {
     "data": {
      "text/html": [
       "<table class=\"dataframe\">\n",
       "<caption>A data.frame: 6 × 2</caption>\n",
       "<thead>\n",
       "\t<tr><th></th><th scope=col>x</th><th scope=col>y</th></tr>\n",
       "\t<tr><th></th><th scope=col>&lt;dbl&gt;</th><th scope=col>&lt;dbl&gt;</th></tr>\n",
       "</thead>\n",
       "<tbody>\n",
       "\t<tr><th scope=row>1</th><td> 5.0</td><td>1.582</td></tr>\n",
       "\t<tr><th scope=row>2</th><td> 6.0</td><td>1.822</td></tr>\n",
       "\t<tr><th scope=row>3</th><td> 3.4</td><td>1.057</td></tr>\n",
       "\t<tr><th scope=row>4</th><td> 2.7</td><td>0.500</td></tr>\n",
       "\t<tr><th scope=row>5</th><td>10.0</td><td>2.236</td></tr>\n",
       "\t<tr><th scope=row>6</th><td> 9.7</td><td>2.386</td></tr>\n",
       "</tbody>\n",
       "</table>\n"
      ],
      "text/latex": [
       "A data.frame: 6 × 2\n",
       "\\begin{tabular}{r|ll}\n",
       "  & x & y\\\\\n",
       "  & <dbl> & <dbl>\\\\\n",
       "\\hline\n",
       "\t1 &  5.0 & 1.582\\\\\n",
       "\t2 &  6.0 & 1.822\\\\\n",
       "\t3 &  3.4 & 1.057\\\\\n",
       "\t4 &  2.7 & 0.500\\\\\n",
       "\t5 & 10.0 & 2.236\\\\\n",
       "\t6 &  9.7 & 2.386\\\\\n",
       "\\end{tabular}\n"
      ],
      "text/markdown": [
       "\n",
       "A data.frame: 6 × 2\n",
       "\n",
       "| <!--/--> | x &lt;dbl&gt; | y &lt;dbl&gt; |\n",
       "|---|---|---|\n",
       "| 1 |  5.0 | 1.582 |\n",
       "| 2 |  6.0 | 1.822 |\n",
       "| 3 |  3.4 | 1.057 |\n",
       "| 4 |  2.7 | 0.500 |\n",
       "| 5 | 10.0 | 2.236 |\n",
       "| 6 |  9.7 | 2.386 |\n",
       "\n"
      ],
      "text/plain": [
       "  x    y    \n",
       "1  5.0 1.582\n",
       "2  6.0 1.822\n",
       "3  3.4 1.057\n",
       "4  2.7 0.500\n",
       "5 10.0 2.236\n",
       "6  9.7 2.386"
      ]
     },
     "metadata": {},
     "output_type": "display_data"
    }
   ],
   "source": [
    "Windmill.table <- read_excel(\n",
    "    '../linear_regression_5e_data_sets/Chapter 5/Examples/data-ex-5-2 (Windmill).xls')\n",
    "\n",
    "Windmill.df <- data.frame(Windmill.table$`Wind Velocity, xi (mph)`,\n",
    "                         Windmill.table$`DC Output, yi`)\n",
    "\n",
    "colnames(Windmill.df) <- c(\"x\", \"y\")\n",
    "\n",
    "head(Windmill.df)"
   ]
  },
  {
   "cell_type": "code",
   "execution_count": 71,
   "id": "6e285c95",
   "metadata": {},
   "outputs": [
    {
     "data": {
      "image/png": "[encoded data removed]",
      "text/plain": [
       "Plot with title “DC output vs. Wind Velocity”"
      ]
     },
     "metadata": {
      "image/png": {
       "height": 420,
       "width": 420
      }
     },
     "output_type": "display_data"
    }
   ],
   "source": [
    "plot(\n",
    "    Windmill.df$x, \n",
    "    Windmill.df$y,\n",
    "    xlab=\"Wind velocity, x\",\n",
    "    ylab=\"DC output, y\",\n",
    "    main=\"DC output vs. Wind Velocity\"\n",
    ")"
   ]
  },
  {
   "cell_type": "code",
   "execution_count": 72,
   "id": "2256a8aa",
   "metadata": {},
   "outputs": [],
   "source": [
    "Windmill.lm <- lm(\n",
    "    y ~ x,\n",
    "    data=Windmill.df)"
   ]
  },
  {
   "cell_type": "code",
   "execution_count": 74,
   "id": "b9ca136c",
   "metadata": {},
   "outputs": [],
   "source": [
    "Windmill.Residuals <- create_residuals_df(Windmill.lm)"
   ]
  },
  {
   "cell_type": "code",
   "execution_count": 76,
   "id": "0301e55d",
   "metadata": {},
   "outputs": [
    {
     "data": {
      "image/png": "[encoded data removed]",
      "text/plain": [
       "Plot with title “Versus Fits”"
      ]
     },
     "metadata": {
      "image/png": {
       "height": 420,
       "width": 420
      }
     },
     "output_type": "display_data"
    }
   ],
   "source": [
    "plot(\n",
    "    fitted(Windmill.lm), \n",
    "    Windmill.Residuals$RStudentResiduals,\n",
    "    xlab=\"Fitted Values\",\n",
    "    ylab=\"Externally Studentized Residual\",\n",
    "    main=\"Versus Fits\"\n",
    ")\n",
    "abline(h=0)"
   ]
  },
  {
   "cell_type": "code",
   "execution_count": 77,
   "id": "b181b532",
   "metadata": {},
   "outputs": [],
   "source": [
    "Windmill.df$x_transformed <- 1/Windmill.df$x"
   ]
  },
  {
   "cell_type": "code",
   "execution_count": 78,
   "id": "232e7f3b",
   "metadata": {},
   "outputs": [],
   "source": [
    "Windmill.lm_2 <- lm(y ~ x_transformed, data=Windmill.df)"
   ]
  },
  {
   "cell_type": "code",
   "execution_count": 79,
   "id": "a8ad4867",
   "metadata": {},
   "outputs": [],
   "source": [
    "Windmill.Residuals_2 <- create_residuals_df(Windmill.lm_2)"
   ]
  },
  {
   "cell_type": "code",
   "execution_count": 81,
   "id": "148b89e7",
   "metadata": {},
   "outputs": [
    {
     "data": {
      "image/png": "[encoded data removed]",
      "text/plain": [
       "plot without title"
      ]
     },
     "metadata": {
      "image/png": {
       "height": 420,
       "width": 420
      }
     },
     "output_type": "display_data"
    }
   ],
   "source": [
    "plot(Windmill.df$x_transformed, Windmill.df$y)"
   ]
  },
  {
   "cell_type": "code",
   "execution_count": 82,
   "id": "5c86bbc8",
   "metadata": {},
   "outputs": [
    {
     "data": {
      "image/png": "[encoded data removed]",
      "text/plain": [
       "Plot with title “Versus Fits”"
      ]
     },
     "metadata": {
      "image/png": {
       "height": 420,
       "width": 420
      }
     },
     "output_type": "display_data"
    }
   ],
   "source": [
    "plot(\n",
    "    fitted(Windmill.lm_2), \n",
    "    Windmill.Residuals_2$RStudentResiduals,\n",
    "    xlab=\"Fitted Values\",\n",
    "    ylab=\"Externally Studentized Residual\",\n",
    "    main=\"Versus Fits\"\n",
    ")\n",
    "abline(h=0)"
   ]
  },
  {
   "cell_type": "markdown",
   "id": "bbcc51ac",
   "metadata": {},
   "source": [
    "### 5.3 Electric Utility Data"
   ]
  },
  {
   "cell_type": "code",
   "execution_count": 90,
   "id": "a4ef36b9",
   "metadata": {},
   "outputs": [
    {
     "data": {
      "image/png": "[encoded data removed]",
      "text/plain": [
       "plot without title"
      ]
     },
     "metadata": {
      "image/png": {
       "height": 420,
       "width": 420
      }
     },
     "output_type": "display_data"
    }
   ],
   "source": [
    "boxcox(Electric.lm)"
   ]
  },
  {
   "cell_type": "markdown",
   "id": "8f93fa9c",
   "metadata": {},
   "source": [
    "### 5.4 Box Tidwell ??"
   ]
  },
  {
   "cell_type": "code",
   "execution_count": null,
   "id": "81bceb0e",
   "metadata": {},
   "outputs": [],
   "source": []
  },
  {
   "cell_type": "markdown",
   "id": "f01aa168",
   "metadata": {},
   "source": [
    "### 5.5 Weighted Least Squares"
   ]
  },
  {
   "cell_type": "markdown",
   "id": "9492b139",
   "metadata": {},
   "source": [
    "### 5.6"
   ]
  },
  {
   "cell_type": "markdown",
   "id": "3594897e",
   "metadata": {},
   "source": [
    "### 5.7 Delivery Time Data Revisited"
   ]
  },
  {
   "cell_type": "code",
   "execution_count": 109,
   "id": "a022c8c2",
   "metadata": {},
   "outputs": [
    {
     "data": {
      "text/html": [
       "<table class=\"dataframe\">\n",
       "<caption>A data.frame: 6 × 3</caption>\n",
       "<thead>\n",
       "\t<tr><th></th><th scope=col>DeliveryTime</th><th scope=col>NumberCases</th><th scope=col>Distance</th></tr>\n",
       "\t<tr><th></th><th scope=col>&lt;dbl&gt;</th><th scope=col>&lt;dbl&gt;</th><th scope=col>&lt;dbl&gt;</th></tr>\n",
       "</thead>\n",
       "<tbody>\n",
       "\t<tr><th scope=row>1</th><td>16.68</td><td>7</td><td>560</td></tr>\n",
       "\t<tr><th scope=row>2</th><td>11.50</td><td>3</td><td>220</td></tr>\n",
       "\t<tr><th scope=row>3</th><td>12.03</td><td>3</td><td>340</td></tr>\n",
       "\t<tr><th scope=row>4</th><td>14.88</td><td>4</td><td> 80</td></tr>\n",
       "\t<tr><th scope=row>5</th><td>13.75</td><td>6</td><td>150</td></tr>\n",
       "\t<tr><th scope=row>6</th><td>18.11</td><td>7</td><td>330</td></tr>\n",
       "</tbody>\n",
       "</table>\n"
      ],
      "text/latex": [
       "A data.frame: 6 × 3\n",
       "\\begin{tabular}{r|lll}\n",
       "  & DeliveryTime & NumberCases & Distance\\\\\n",
       "  & <dbl> & <dbl> & <dbl>\\\\\n",
       "\\hline\n",
       "\t1 & 16.68 & 7 & 560\\\\\n",
       "\t2 & 11.50 & 3 & 220\\\\\n",
       "\t3 & 12.03 & 3 & 340\\\\\n",
       "\t4 & 14.88 & 4 &  80\\\\\n",
       "\t5 & 13.75 & 6 & 150\\\\\n",
       "\t6 & 18.11 & 7 & 330\\\\\n",
       "\\end{tabular}\n"
      ],
      "text/markdown": [
       "\n",
       "A data.frame: 6 × 3\n",
       "\n",
       "| <!--/--> | DeliveryTime &lt;dbl&gt; | NumberCases &lt;dbl&gt; | Distance &lt;dbl&gt; |\n",
       "|---|---|---|---|\n",
       "| 1 | 16.68 | 7 | 560 |\n",
       "| 2 | 11.50 | 3 | 220 |\n",
       "| 3 | 12.03 | 3 | 340 |\n",
       "| 4 | 14.88 | 4 |  80 |\n",
       "| 5 | 13.75 | 6 | 150 |\n",
       "| 6 | 18.11 | 7 | 330 |\n",
       "\n"
      ],
      "text/plain": [
       "  DeliveryTime NumberCases Distance\n",
       "1 16.68        7           560     \n",
       "2 11.50        3           220     \n",
       "3 12.03        3           340     \n",
       "4 14.88        4            80     \n",
       "5 13.75        6           150     \n",
       "6 18.11        7           330     "
      ]
     },
     "metadata": {},
     "output_type": "display_data"
    }
   ],
   "source": [
    "Delivery.table <- read_excel(\n",
    "    '../linear_regression_5e_data_sets/Chapter 3/Examples/data-ex-3-1 (Delivery Time).xls')\n",
    "\n",
    "Delivery.df <- data.frame(Delivery.table$`Delivery Time, y`, \n",
    "                              Delivery.table$`Number of Cases, x1`, \n",
    "                              Delivery.table$`Distance, x2 (ft)`)\n",
    "\n",
    "colnames(Delivery.df) <- c(\"DeliveryTime\", \"NumberCases\", \"Distance\")\n",
    "\n",
    "head(Delivery.df)"
   ]
  },
  {
   "cell_type": "code",
   "execution_count": 112,
   "id": "530a0117",
   "metadata": {},
   "outputs": [
    {
     "name": "stderr",
     "output_type": "stream",
     "text": [
      "Installing package into ‘/home/jeremyfbuss/R/x86_64-pc-linux-gnu-library/3.6’\n",
      "(as ‘lib’ is unspecified)\n",
      "\n"
     ]
    }
   ],
   "source": [
    "install.packages(\"nlme\")\n",
    "library(nlme)"
   ]
  },
  {
   "cell_type": "code",
   "execution_count": 120,
   "id": "356621bd",
   "metadata": {},
   "outputs": [],
   "source": [
    "city <- c(\n",
    "        \"SD\",\"SD\",\"SD\",\"SD\",\"SD\",\"SD\",\"SD\",\n",
    "        \"B\",\"B\",\"B\",\"B\",\"B\",\"B\",\"B\",\"B\",\"B\",\"B\",\n",
    "        \"A\",\"A\",\"A\",\"A\",\"A\",\"A\",\n",
    "        \"M\",\"M\")"
   ]
  },
  {
   "cell_type": "code",
   "execution_count": 122,
   "id": "e14e4a7e",
   "metadata": {},
   "outputs": [],
   "source": [
    "Delivery.df$city <- city"
   ]
  },
  {
   "cell_type": "code",
   "execution_count": 123,
   "id": "9e76dfc1",
   "metadata": {},
   "outputs": [
    {
     "data": {
      "text/html": [
       "<table class=\"dataframe\">\n",
       "<caption>A data.frame: 25 × 4</caption>\n",
       "<thead>\n",
       "\t<tr><th scope=col>DeliveryTime</th><th scope=col>NumberCases</th><th scope=col>Distance</th><th scope=col>city</th></tr>\n",
       "\t<tr><th scope=col>&lt;dbl&gt;</th><th scope=col>&lt;dbl&gt;</th><th scope=col>&lt;dbl&gt;</th><th scope=col>&lt;chr&gt;</th></tr>\n",
       "</thead>\n",
       "<tbody>\n",
       "\t<tr><td>16.68</td><td> 7</td><td> 560</td><td>SD</td></tr>\n",
       "\t<tr><td>11.50</td><td> 3</td><td> 220</td><td>SD</td></tr>\n",
       "\t<tr><td>12.03</td><td> 3</td><td> 340</td><td>SD</td></tr>\n",
       "\t<tr><td>14.88</td><td> 4</td><td>  80</td><td>SD</td></tr>\n",
       "\t<tr><td>13.75</td><td> 6</td><td> 150</td><td>SD</td></tr>\n",
       "\t<tr><td>18.11</td><td> 7</td><td> 330</td><td>SD</td></tr>\n",
       "\t<tr><td> 8.00</td><td> 2</td><td> 110</td><td>SD</td></tr>\n",
       "\t<tr><td>17.83</td><td> 7</td><td> 210</td><td>B </td></tr>\n",
       "\t<tr><td>79.24</td><td>30</td><td>1460</td><td>B </td></tr>\n",
       "\t<tr><td>21.50</td><td> 5</td><td> 605</td><td>B </td></tr>\n",
       "\t<tr><td>40.33</td><td>16</td><td> 688</td><td>B </td></tr>\n",
       "\t<tr><td>21.00</td><td>10</td><td> 215</td><td>B </td></tr>\n",
       "\t<tr><td>13.50</td><td> 4</td><td> 255</td><td>B </td></tr>\n",
       "\t<tr><td>19.75</td><td> 6</td><td> 462</td><td>B </td></tr>\n",
       "\t<tr><td>24.00</td><td> 9</td><td> 448</td><td>B </td></tr>\n",
       "\t<tr><td>29.00</td><td>10</td><td> 776</td><td>B </td></tr>\n",
       "\t<tr><td>15.35</td><td> 6</td><td> 200</td><td>B </td></tr>\n",
       "\t<tr><td>19.00</td><td> 7</td><td> 132</td><td>A </td></tr>\n",
       "\t<tr><td> 9.50</td><td> 3</td><td>  36</td><td>A </td></tr>\n",
       "\t<tr><td>35.10</td><td>17</td><td> 770</td><td>A </td></tr>\n",
       "\t<tr><td>17.90</td><td>10</td><td> 140</td><td>A </td></tr>\n",
       "\t<tr><td>52.32</td><td>26</td><td> 810</td><td>A </td></tr>\n",
       "\t<tr><td>18.75</td><td> 9</td><td> 450</td><td>A </td></tr>\n",
       "\t<tr><td>19.83</td><td> 8</td><td> 635</td><td>M </td></tr>\n",
       "\t<tr><td>10.75</td><td> 4</td><td> 150</td><td>M </td></tr>\n",
       "</tbody>\n",
       "</table>\n"
      ],
      "text/latex": [
       "A data.frame: 25 × 4\n",
       "\\begin{tabular}{llll}\n",
       " DeliveryTime & NumberCases & Distance & city\\\\\n",
       " <dbl> & <dbl> & <dbl> & <chr>\\\\\n",
       "\\hline\n",
       "\t 16.68 &  7 &  560 & SD\\\\\n",
       "\t 11.50 &  3 &  220 & SD\\\\\n",
       "\t 12.03 &  3 &  340 & SD\\\\\n",
       "\t 14.88 &  4 &   80 & SD\\\\\n",
       "\t 13.75 &  6 &  150 & SD\\\\\n",
       "\t 18.11 &  7 &  330 & SD\\\\\n",
       "\t  8.00 &  2 &  110 & SD\\\\\n",
       "\t 17.83 &  7 &  210 & B \\\\\n",
       "\t 79.24 & 30 & 1460 & B \\\\\n",
       "\t 21.50 &  5 &  605 & B \\\\\n",
       "\t 40.33 & 16 &  688 & B \\\\\n",
       "\t 21.00 & 10 &  215 & B \\\\\n",
       "\t 13.50 &  4 &  255 & B \\\\\n",
       "\t 19.75 &  6 &  462 & B \\\\\n",
       "\t 24.00 &  9 &  448 & B \\\\\n",
       "\t 29.00 & 10 &  776 & B \\\\\n",
       "\t 15.35 &  6 &  200 & B \\\\\n",
       "\t 19.00 &  7 &  132 & A \\\\\n",
       "\t  9.50 &  3 &   36 & A \\\\\n",
       "\t 35.10 & 17 &  770 & A \\\\\n",
       "\t 17.90 & 10 &  140 & A \\\\\n",
       "\t 52.32 & 26 &  810 & A \\\\\n",
       "\t 18.75 &  9 &  450 & A \\\\\n",
       "\t 19.83 &  8 &  635 & M \\\\\n",
       "\t 10.75 &  4 &  150 & M \\\\\n",
       "\\end{tabular}\n"
      ],
      "text/markdown": [
       "\n",
       "A data.frame: 25 × 4\n",
       "\n",
       "| DeliveryTime &lt;dbl&gt; | NumberCases &lt;dbl&gt; | Distance &lt;dbl&gt; | city &lt;chr&gt; |\n",
       "|---|---|---|---|\n",
       "| 16.68 |  7 |  560 | SD |\n",
       "| 11.50 |  3 |  220 | SD |\n",
       "| 12.03 |  3 |  340 | SD |\n",
       "| 14.88 |  4 |   80 | SD |\n",
       "| 13.75 |  6 |  150 | SD |\n",
       "| 18.11 |  7 |  330 | SD |\n",
       "|  8.00 |  2 |  110 | SD |\n",
       "| 17.83 |  7 |  210 | B  |\n",
       "| 79.24 | 30 | 1460 | B  |\n",
       "| 21.50 |  5 |  605 | B  |\n",
       "| 40.33 | 16 |  688 | B  |\n",
       "| 21.00 | 10 |  215 | B  |\n",
       "| 13.50 |  4 |  255 | B  |\n",
       "| 19.75 |  6 |  462 | B  |\n",
       "| 24.00 |  9 |  448 | B  |\n",
       "| 29.00 | 10 |  776 | B  |\n",
       "| 15.35 |  6 |  200 | B  |\n",
       "| 19.00 |  7 |  132 | A  |\n",
       "|  9.50 |  3 |   36 | A  |\n",
       "| 35.10 | 17 |  770 | A  |\n",
       "| 17.90 | 10 |  140 | A  |\n",
       "| 52.32 | 26 |  810 | A  |\n",
       "| 18.75 |  9 |  450 | A  |\n",
       "| 19.83 |  8 |  635 | M  |\n",
       "| 10.75 |  4 |  150 | M  |\n",
       "\n"
      ],
      "text/plain": [
       "   DeliveryTime NumberCases Distance city\n",
       "1  16.68         7           560     SD  \n",
       "2  11.50         3           220     SD  \n",
       "3  12.03         3           340     SD  \n",
       "4  14.88         4            80     SD  \n",
       "5  13.75         6           150     SD  \n",
       "6  18.11         7           330     SD  \n",
       "7   8.00         2           110     SD  \n",
       "8  17.83         7           210     B   \n",
       "9  79.24        30          1460     B   \n",
       "10 21.50         5           605     B   \n",
       "11 40.33        16           688     B   \n",
       "12 21.00        10           215     B   \n",
       "13 13.50         4           255     B   \n",
       "14 19.75         6           462     B   \n",
       "15 24.00         9           448     B   \n",
       "16 29.00        10           776     B   \n",
       "17 15.35         6           200     B   \n",
       "18 19.00         7           132     A   \n",
       "19  9.50         3            36     A   \n",
       "20 35.10        17           770     A   \n",
       "21 17.90        10           140     A   \n",
       "22 52.32        26           810     A   \n",
       "23 18.75         9           450     A   \n",
       "24 19.83         8           635     M   \n",
       "25 10.75         4           150     M   "
      ]
     },
     "metadata": {},
     "output_type": "display_data"
    }
   ],
   "source": [
    "Delivery.df"
   ]
  },
  {
   "cell_type": "code",
   "execution_count": 124,
   "id": "741fd596",
   "metadata": {},
   "outputs": [],
   "source": [
    "Delivery.model <- lme(DeliveryTime~NumberCases+Distance, random=~1|city, data=Delivery.df)"
   ]
  },
  {
   "cell_type": "code",
   "execution_count": 125,
   "id": "c7792adc",
   "metadata": {},
   "outputs": [
    {
     "name": "stdout",
     "output_type": "stream",
     "text": [
      "Linear mixed-effects model fit by REML\n",
      "  Data: Delivery.df \n",
      "  Log-restricted-likelihood: -68.34199\n",
      "  Fixed: DeliveryTime ~ NumberCases + Distance \n",
      "(Intercept) NumberCases    Distance \n",
      " 2.07543193  1.71482344  0.01203165 \n",
      "\n",
      "Random effects:\n",
      " Formula: ~1 | city\n",
      "        (Intercept) Residual\n",
      "StdDev:    1.609268 2.964796\n",
      "\n",
      "Number of Observations: 25\n",
      "Number of Groups: 4 \n"
     ]
    }
   ],
   "source": [
    "print(Delivery.model)"
   ]
  },
  {
   "cell_type": "code",
   "execution_count": null,
   "id": "3c4e610a",
   "metadata": {},
   "outputs": [],
   "source": []
  }
 ],
 "metadata": {
  "kernelspec": {
   "display_name": "R",
   "language": "R",
   "name": "ir"
  },
  "language_info": {
   "codemirror_mode": "r",
   "file_extension": ".r",
   "mimetype": "text/x-r-source",
   "name": "R",
   "pygments_lexer": "r",
   "version": "3.6.3"
  }
 },
 "nbformat": 4,
 "nbformat_minor": 5
}
