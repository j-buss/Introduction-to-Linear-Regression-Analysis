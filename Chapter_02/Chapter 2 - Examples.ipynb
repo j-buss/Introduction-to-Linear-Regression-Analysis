{
 "cells": [
  {
   "cell_type": "markdown",
   "id": "af224352",
   "metadata": {},
   "source": [
    "# Chapter 2 Examples"
   ]
  },
  {
   "cell_type": "markdown",
   "id": "19d666c7",
   "metadata": {},
   "source": [
    "## Load Libraries"
   ]
  },
  {
   "cell_type": "code",
   "execution_count": 1,
   "id": "07c3cb39",
   "metadata": {},
   "outputs": [],
   "source": [
    "suppressMessages(library(readxl))\n",
    "suppressMessages(library(ggplot2))\n",
    "suppressMessages(library(ggpubr))\n",
    "suppressMessages(library(tidyverse))\n",
    "suppressMessages(library(broom))\n",
    "suppressMessages(library(AICcmodavg))"
   ]
  },
  {
   "cell_type": "markdown",
   "id": "e946ff5d",
   "metadata": {},
   "source": [
    "### 2.1"
   ]
  },
  {
   "cell_type": "code",
   "execution_count": 2,
   "id": "f063afff",
   "metadata": {},
   "outputs": [
    {
     "data": {
      "text/html": [
       "<table class=\"dataframe\">\n",
       "<caption>A data.frame: 6 × 2</caption>\n",
       "<thead>\n",
       "\t<tr><th></th><th scope=col>y</th><th scope=col>x</th></tr>\n",
       "\t<tr><th></th><th scope=col>&lt;dbl&gt;</th><th scope=col>&lt;dbl&gt;</th></tr>\n",
       "</thead>\n",
       "<tbody>\n",
       "\t<tr><th scope=row>1</th><td>2158.70</td><td>15.50</td></tr>\n",
       "\t<tr><th scope=row>2</th><td>1678.15</td><td>23.75</td></tr>\n",
       "\t<tr><th scope=row>3</th><td>2316.00</td><td> 8.00</td></tr>\n",
       "\t<tr><th scope=row>4</th><td>2061.30</td><td>17.00</td></tr>\n",
       "\t<tr><th scope=row>5</th><td>2207.50</td><td> 5.50</td></tr>\n",
       "\t<tr><th scope=row>6</th><td>1708.30</td><td>19.00</td></tr>\n",
       "</tbody>\n",
       "</table>\n"
      ],
      "text/latex": [
       "A data.frame: 6 × 2\n",
       "\\begin{tabular}{r|ll}\n",
       "  & y & x\\\\\n",
       "  & <dbl> & <dbl>\\\\\n",
       "\\hline\n",
       "\t1 & 2158.70 & 15.50\\\\\n",
       "\t2 & 1678.15 & 23.75\\\\\n",
       "\t3 & 2316.00 &  8.00\\\\\n",
       "\t4 & 2061.30 & 17.00\\\\\n",
       "\t5 & 2207.50 &  5.50\\\\\n",
       "\t6 & 1708.30 & 19.00\\\\\n",
       "\\end{tabular}\n"
      ],
      "text/markdown": [
       "\n",
       "A data.frame: 6 × 2\n",
       "\n",
       "| <!--/--> | y &lt;dbl&gt; | x &lt;dbl&gt; |\n",
       "|---|---|---|\n",
       "| 1 | 2158.70 | 15.50 |\n",
       "| 2 | 1678.15 | 23.75 |\n",
       "| 3 | 2316.00 |  8.00 |\n",
       "| 4 | 2061.30 | 17.00 |\n",
       "| 5 | 2207.50 |  5.50 |\n",
       "| 6 | 1708.30 | 19.00 |\n",
       "\n"
      ],
      "text/plain": [
       "  y       x    \n",
       "1 2158.70 15.50\n",
       "2 1678.15 23.75\n",
       "3 2316.00  8.00\n",
       "4 2061.30 17.00\n",
       "5 2207.50  5.50\n",
       "6 1708.30 19.00"
      ]
     },
     "metadata": {},
     "output_type": "display_data"
    }
   ],
   "source": [
    "dataTable <- read_excel('../linear_regression_5e_data_sets/Chapter 2/Examples/data-ex-2-1 (Rocket Prop).xls')\n",
    "\n",
    "df <- data.frame(y=dataTable$'Shear Strength, yi (psi)', x=dataTable$'Age of Propellant, xi (weeks)')\n",
    "\n",
    "head(df)"
   ]
  },
  {
   "cell_type": "code",
   "execution_count": 3,
   "id": "7a5f609a",
   "metadata": {},
   "outputs": [
    {
     "name": "stdout",
     "output_type": "stream",
     "text": [
      "\n",
      "Call:\n",
      "lm(formula = y ~ x, data = df)\n",
      "\n",
      "Coefficients:\n",
      "(Intercept)            x  \n",
      "    2627.82       -37.15  \n",
      "\n"
     ]
    }
   ],
   "source": [
    "Rocket.lm <- lm(y ~ x, data=df)\n",
    "print(Rocket.lm)"
   ]
  },
  {
   "cell_type": "code",
   "execution_count": 4,
   "id": "e42cd4e4",
   "metadata": {},
   "outputs": [
    {
     "data": {
      "text/plain": [
       "\n",
       "Call:\n",
       "lm(formula = y ~ x, data = df)\n",
       "\n",
       "Residuals:\n",
       "    Min      1Q  Median      3Q     Max \n",
       "-215.98  -50.68   28.74   66.61  106.76 \n",
       "\n",
       "Coefficients:\n",
       "            Estimate Std. Error t value Pr(>|t|)    \n",
       "(Intercept) 2627.822     44.184   59.48  < 2e-16 ***\n",
       "x            -37.154      2.889  -12.86 1.64e-10 ***\n",
       "---\n",
       "Signif. codes:  0 ‘***’ 0.001 ‘**’ 0.01 ‘*’ 0.05 ‘.’ 0.1 ‘ ’ 1\n",
       "\n",
       "Residual standard error: 96.11 on 18 degrees of freedom\n",
       "Multiple R-squared:  0.9018,\tAdjusted R-squared:  0.8964 \n",
       "F-statistic: 165.4 on 1 and 18 DF,  p-value: 1.643e-10\n"
      ]
     },
     "metadata": {},
     "output_type": "display_data"
    }
   ],
   "source": [
    "summary(Rocket.lm)"
   ]
  },
  {
   "cell_type": "code",
   "execution_count": 5,
   "id": "2f5cb0c1",
   "metadata": {},
   "outputs": [
    {
     "name": "stdout",
     "output_type": "stream",
     "text": [
      "Analysis of Variance Table\n",
      "\n",
      "Response: y\n",
      "          Df  Sum Sq Mean Sq F value    Pr(>F)    \n",
      "x          1 1527483 1527483  165.38 1.643e-10 ***\n",
      "Residuals 18  166255    9236                      \n",
      "---\n",
      "Signif. codes:  0 ‘***’ 0.001 ‘**’ 0.01 ‘*’ 0.05 ‘.’ 0.1 ‘ ’ 1\n"
     ]
    }
   ],
   "source": [
    "Rocket.anova <- anova(Rocket.lm)\n",
    "print(Rocket.anova)"
   ]
  },
  {
   "cell_type": "markdown",
   "id": "ef2e3104",
   "metadata": {},
   "source": [
    "### 2.2"
   ]
  },
  {
   "cell_type": "code",
   "execution_count": 6,
   "id": "3a0f7467",
   "metadata": {},
   "outputs": [
    {
     "data": {
      "text/html": [
       "9236.38100372114"
      ],
      "text/latex": [
       "9236.38100372114"
      ],
      "text/markdown": [
       "9236.38100372114"
      ],
      "text/plain": [
       "[1] 9236.381"
      ]
     },
     "metadata": {},
     "output_type": "display_data"
    }
   ],
   "source": [
    "Rocket.anova['Residuals','Mean Sq']"
   ]
  },
  {
   "cell_type": "markdown",
   "id": "5043676c",
   "metadata": {},
   "source": [
    "### 2.3"
   ]
  },
  {
   "cell_type": "code",
   "execution_count": 7,
   "id": "f88e1ac0",
   "metadata": {},
   "outputs": [
    {
     "data": {
      "text/html": [
       "-12.8598894903233"
      ],
      "text/latex": [
       "-12.8598894903233"
      ],
      "text/markdown": [
       "-12.8598894903233"
      ],
      "text/plain": [
       "[1] -12.85989"
      ]
     },
     "metadata": {},
     "output_type": "display_data"
    }
   ],
   "source": [
    "summary(Rocket.lm)$coefficients['x','t value']"
   ]
  },
  {
   "cell_type": "markdown",
   "id": "aa075ae9",
   "metadata": {},
   "source": [
    "### 2.4"
   ]
  },
  {
   "cell_type": "code",
   "execution_count": 8,
   "id": "6dcb6b1a",
   "metadata": {},
   "outputs": [],
   "source": [
    "# IF the observed value of F_0 is large, then it is likely that the slope beta_1 <> 0\n",
    "# Therefore to test the hypothesis H_0: Beta_1 =0, compute the test statistic F_0 and\n",
    "# reject H_0 if F_0 > F_alpha,1,n-2"
   ]
  },
  {
   "cell_type": "code",
   "execution_count": 9,
   "id": "2ad80202",
   "metadata": {},
   "outputs": [],
   "source": [
    "# Calculate the F-Distribution\n",
    "Df1 <- anova(Rocket.lm)['x','Df']\n",
    "Df2 <- anova(Rocket.lm)['Residuals','Df']\n",
    "F_0 <- qf(.99, df1=Df1, df2=Df2)"
   ]
  },
  {
   "cell_type": "code",
   "execution_count": 10,
   "id": "65b82598",
   "metadata": {},
   "outputs": [],
   "source": [
    "F_value <- anova(Rocket.lm)['x','F value']"
   ]
  },
  {
   "cell_type": "code",
   "execution_count": 11,
   "id": "9336698b",
   "metadata": {},
   "outputs": [
    {
     "name": "stdout",
     "output_type": "stream",
     "text": [
      "[1] TRUE\n"
     ]
    }
   ],
   "source": [
    "RejectNull <- (F_value > F_0)\n",
    "print(RejectNull)"
   ]
  },
  {
   "cell_type": "markdown",
   "id": "2f13a323",
   "metadata": {},
   "source": [
    "### 2.5"
   ]
  },
  {
   "cell_type": "code",
   "execution_count": 12,
   "id": "ac54147a",
   "metadata": {},
   "outputs": [
    {
     "data": {
      "text/html": [
       "<style>\n",
       ".dl-inline {width: auto; margin:0; padding: 0}\n",
       ".dl-inline>dt, .dl-inline>dd {float: none; width: auto; display: inline-block}\n",
       ".dl-inline>dt::after {content: \":\\0020\"; padding-right: .5ex}\n",
       ".dl-inline>dt:not(:first-of-type) {padding-left: .5ex}\n",
       "</style><dl class=dl-inline><dt>2.5 %</dt><dd>-43.22337857014</dd><dt>97.5 %</dt><dd>-31.0838033196705</dd></dl>\n"
      ],
      "text/latex": [
       "\\begin{description*}\n",
       "\\item[2.5 \\textbackslash{}\\%] -43.22337857014\n",
       "\\item[97.5 \\textbackslash{}\\%] -31.0838033196705\n",
       "\\end{description*}\n"
      ],
      "text/markdown": [
       "2.5 %\n",
       ":   -43.2233785701497.5 %\n",
       ":   -31.0838033196705\n",
       "\n"
      ],
      "text/plain": [
       "    2.5 %    97.5 % \n",
       "-43.22338 -31.08380 "
      ]
     },
     "metadata": {},
     "output_type": "display_data"
    }
   ],
   "source": [
    "# Confidence Interval on the slope\n",
    "confint(Rocket.lm, level=0.95)['x',]"
   ]
  },
  {
   "cell_type": "code",
   "execution_count": 13,
   "id": "6bf308e3",
   "metadata": {},
   "outputs": [],
   "source": [
    "# Confidence Interval on the variance\n",
    "conf_level <- .95\n",
    "conf_level_half <- (1 - conf_level) / 2"
   ]
  },
  {
   "cell_type": "code",
   "execution_count": 14,
   "id": "97c606cf",
   "metadata": {},
   "outputs": [
    {
     "data": {
      "text/html": [
       "5273.51590292404"
      ],
      "text/latex": [
       "5273.51590292404"
      ],
      "text/markdown": [
       "5273.51590292404"
      ],
      "text/plain": [
       "[1] 5273.516"
      ]
     },
     "metadata": {},
     "output_type": "display_data"
    },
    {
     "data": {
      "text/html": [
       "20199.2448962759"
      ],
      "text/latex": [
       "20199.2448962759"
      ],
      "text/markdown": [
       "20199.2448962759"
      ],
      "text/plain": [
       "[1] 20199.24"
      ]
     },
     "metadata": {},
     "output_type": "display_data"
    }
   ],
   "source": [
    "Rocket.anova['Residuals','Mean Sq']*Df2 / qchisq(1 - conf_level_half, Df2)\n",
    "Rocket.anova['Residuals','Mean Sq']*Df2 / qchisq(conf_level_half, Df2)"
   ]
  },
  {
   "cell_type": "markdown",
   "id": "f030a4be",
   "metadata": {},
   "source": [
    "### 2.6"
   ]
  },
  {
   "cell_type": "code",
   "execution_count": 15,
   "id": "45cf9d64",
   "metadata": {},
   "outputs": [
    {
     "data": {
      "text/html": [
       "<table class=\"dataframe\">\n",
       "<caption>A matrix: 1 × 3 of type dbl</caption>\n",
       "<thead>\n",
       "\t<tr><th></th><th scope=col>fit</th><th scope=col>lwr</th><th scope=col>upr</th></tr>\n",
       "</thead>\n",
       "<tbody>\n",
       "\t<tr><th scope=row>1</th><td>2131.357</td><td>2086.209</td><td>2176.506</td></tr>\n",
       "</tbody>\n",
       "</table>\n"
      ],
      "text/latex": [
       "A matrix: 1 × 3 of type dbl\n",
       "\\begin{tabular}{r|lll}\n",
       "  & fit & lwr & upr\\\\\n",
       "\\hline\n",
       "\t1 & 2131.357 & 2086.209 & 2176.506\\\\\n",
       "\\end{tabular}\n"
      ],
      "text/markdown": [
       "\n",
       "A matrix: 1 × 3 of type dbl\n",
       "\n",
       "| <!--/--> | fit | lwr | upr |\n",
       "|---|---|---|---|\n",
       "| 1 | 2131.357 | 2086.209 | 2176.506 |\n",
       "\n"
      ],
      "text/plain": [
       "  fit      lwr      upr     \n",
       "1 2131.357 2086.209 2176.506"
      ]
     },
     "metadata": {},
     "output_type": "display_data"
    }
   ],
   "source": [
    "predict(Rocket.lm, data.frame(x=c(13.3625)), interval=\"confidence\", level=0.95)"
   ]
  },
  {
   "cell_type": "markdown",
   "id": "3ad3ffe4",
   "metadata": {},
   "source": [
    "### 2.7"
   ]
  },
  {
   "cell_type": "code",
   "execution_count": 16,
   "id": "ca075282",
   "metadata": {},
   "outputs": [
    {
     "data": {
      "text/html": [
       "<table class=\"dataframe\">\n",
       "<caption>A matrix: 1 × 3 of type dbl</caption>\n",
       "<thead>\n",
       "\t<tr><th></th><th scope=col>fit</th><th scope=col>lwr</th><th scope=col>upr</th></tr>\n",
       "</thead>\n",
       "<tbody>\n",
       "\t<tr><th scope=row>1</th><td>2256.286</td><td>2048.385</td><td>2464.188</td></tr>\n",
       "</tbody>\n",
       "</table>\n"
      ],
      "text/latex": [
       "A matrix: 1 × 3 of type dbl\n",
       "\\begin{tabular}{r|lll}\n",
       "  & fit & lwr & upr\\\\\n",
       "\\hline\n",
       "\t1 & 2256.286 & 2048.385 & 2464.188\\\\\n",
       "\\end{tabular}\n"
      ],
      "text/markdown": [
       "\n",
       "A matrix: 1 × 3 of type dbl\n",
       "\n",
       "| <!--/--> | fit | lwr | upr |\n",
       "|---|---|---|---|\n",
       "| 1 | 2256.286 | 2048.385 | 2464.188 |\n",
       "\n"
      ],
      "text/plain": [
       "  fit      lwr      upr     \n",
       "1 2256.286 2048.385 2464.188"
      ]
     },
     "metadata": {},
     "output_type": "display_data"
    }
   ],
   "source": [
    "predict(Rocket.lm, data.frame(x=c(10)), interval=\"predict\", level=0.95)"
   ]
  },
  {
   "cell_type": "markdown",
   "id": "21f54fbf",
   "metadata": {},
   "source": [
    "### 2.8"
   ]
  },
  {
   "cell_type": "code",
   "execution_count": 17,
   "id": "9427e5ef",
   "metadata": {},
   "outputs": [
    {
     "data": {
      "text/html": [
       "<table class=\"dataframe\">\n",
       "<caption>A data.frame: 6 × 2</caption>\n",
       "<thead>\n",
       "\t<tr><th></th><th scope=col>y</th><th scope=col>x</th></tr>\n",
       "\t<tr><th></th><th scope=col>&lt;dbl&gt;</th><th scope=col>&lt;dbl&gt;</th></tr>\n",
       "</thead>\n",
       "<tbody>\n",
       "\t<tr><th scope=row>1</th><td>10.15</td><td>25</td></tr>\n",
       "\t<tr><th scope=row>2</th><td> 2.96</td><td> 6</td></tr>\n",
       "\t<tr><th scope=row>3</th><td> 3.00</td><td> 8</td></tr>\n",
       "\t<tr><th scope=row>4</th><td> 6.88</td><td>17</td></tr>\n",
       "\t<tr><th scope=row>5</th><td> 0.28</td><td> 2</td></tr>\n",
       "\t<tr><th scope=row>6</th><td> 5.06</td><td>13</td></tr>\n",
       "</tbody>\n",
       "</table>\n"
      ],
      "text/latex": [
       "A data.frame: 6 × 2\n",
       "\\begin{tabular}{r|ll}\n",
       "  & y & x\\\\\n",
       "  & <dbl> & <dbl>\\\\\n",
       "\\hline\n",
       "\t1 & 10.15 & 25\\\\\n",
       "\t2 &  2.96 &  6\\\\\n",
       "\t3 &  3.00 &  8\\\\\n",
       "\t4 &  6.88 & 17\\\\\n",
       "\t5 &  0.28 &  2\\\\\n",
       "\t6 &  5.06 & 13\\\\\n",
       "\\end{tabular}\n"
      ],
      "text/markdown": [
       "\n",
       "A data.frame: 6 × 2\n",
       "\n",
       "| <!--/--> | y &lt;dbl&gt; | x &lt;dbl&gt; |\n",
       "|---|---|---|\n",
       "| 1 | 10.15 | 25 |\n",
       "| 2 |  2.96 |  6 |\n",
       "| 3 |  3.00 |  8 |\n",
       "| 4 |  6.88 | 17 |\n",
       "| 5 |  0.28 |  2 |\n",
       "| 6 |  5.06 | 13 |\n",
       "\n"
      ],
      "text/plain": [
       "  y     x \n",
       "1 10.15 25\n",
       "2  2.96  6\n",
       "3  3.00  8\n",
       "4  6.88 17\n",
       "5  0.28  2\n",
       "6  5.06 13"
      ]
     },
     "metadata": {},
     "output_type": "display_data"
    }
   ],
   "source": [
    "dataTable <- read_excel('../linear_regression_5e_data_sets/Chapter 2/Examples/data-ex-2-8 (Shelf-Stocking).xls')\n",
    "\n",
    "df <- data.frame(y=dataTable$'Time, y (minutes)', x=dataTable$'Cases Stocked, x')\n",
    "\n",
    "head(df)"
   ]
  },
  {
   "cell_type": "code",
   "execution_count": 18,
   "id": "695fef36",
   "metadata": {},
   "outputs": [],
   "source": [
    "Stocking.lmNoInt <- lm(y ~ 0 + x, data=df)"
   ]
  },
  {
   "cell_type": "code",
   "execution_count": 19,
   "id": "cb82ab99",
   "metadata": {},
   "outputs": [],
   "source": [
    "Stocking.lm <- lm(y ~ x, data=df)"
   ]
  },
  {
   "cell_type": "code",
   "execution_count": 20,
   "id": "fe989cc5",
   "metadata": {},
   "outputs": [
    {
     "data": {
      "text/plain": [
       "\n",
       "Call:\n",
       "lm(formula = y ~ 0 + x, data = df)\n",
       "\n",
       "Residuals:\n",
       "    Min      1Q  Median      3Q     Max \n",
       "-0.5252 -0.2198 -0.1202  0.1070  0.5443 \n",
       "\n",
       "Coefficients:\n",
       "  Estimate Std. Error t value Pr(>|t|)    \n",
       "x 0.402619   0.004418   91.13   <2e-16 ***\n",
       "---\n",
       "Signif. codes:  0 ‘***’ 0.001 ‘**’ 0.01 ‘*’ 0.05 ‘.’ 0.1 ‘ ’ 1\n",
       "\n",
       "Residual standard error: 0.2988 on 14 degrees of freedom\n",
       "Multiple R-squared:  0.9983,\tAdjusted R-squared:  0.9982 \n",
       "F-statistic:  8305 on 1 and 14 DF,  p-value: < 2.2e-16\n"
      ]
     },
     "metadata": {},
     "output_type": "display_data"
    }
   ],
   "source": [
    "summary(Stocking.lmNoInt)"
   ]
  },
  {
   "cell_type": "code",
   "execution_count": 21,
   "id": "4be2325c",
   "metadata": {},
   "outputs": [
    {
     "data": {
      "text/html": [
       "<table class=\"dataframe\">\n",
       "<caption>A anova: 2 × 5</caption>\n",
       "<thead>\n",
       "\t<tr><th></th><th scope=col>Df</th><th scope=col>Sum Sq</th><th scope=col>Mean Sq</th><th scope=col>F value</th><th scope=col>Pr(&gt;F)</th></tr>\n",
       "\t<tr><th></th><th scope=col>&lt;int&gt;</th><th scope=col>&lt;dbl&gt;</th><th scope=col>&lt;dbl&gt;</th><th scope=col>&lt;dbl&gt;</th><th scope=col>&lt;dbl&gt;</th></tr>\n",
       "</thead>\n",
       "<tbody>\n",
       "\t<tr><th scope=row>x</th><td> 1</td><td>741.615371</td><td>741.61537058</td><td>8305.232</td><td>8.012367e-21</td></tr>\n",
       "\t<tr><th scope=row>Residuals</th><td>14</td><td>  1.250129</td><td>  0.08929496</td><td>      NA</td><td>          NA</td></tr>\n",
       "</tbody>\n",
       "</table>\n"
      ],
      "text/latex": [
       "A anova: 2 × 5\n",
       "\\begin{tabular}{r|lllll}\n",
       "  & Df & Sum Sq & Mean Sq & F value & Pr(>F)\\\\\n",
       "  & <int> & <dbl> & <dbl> & <dbl> & <dbl>\\\\\n",
       "\\hline\n",
       "\tx &  1 & 741.615371 & 741.61537058 & 8305.232 & 8.012367e-21\\\\\n",
       "\tResiduals & 14 &   1.250129 &   0.08929496 &       NA &           NA\\\\\n",
       "\\end{tabular}\n"
      ],
      "text/markdown": [
       "\n",
       "A anova: 2 × 5\n",
       "\n",
       "| <!--/--> | Df &lt;int&gt; | Sum Sq &lt;dbl&gt; | Mean Sq &lt;dbl&gt; | F value &lt;dbl&gt; | Pr(&gt;F) &lt;dbl&gt; |\n",
       "|---|---|---|---|---|---|\n",
       "| x |  1 | 741.615371 | 741.61537058 | 8305.232 | 8.012367e-21 |\n",
       "| Residuals | 14 |   1.250129 |   0.08929496 |       NA |           NA |\n",
       "\n"
      ],
      "text/plain": [
       "          Df Sum Sq     Mean Sq      F value  Pr(>F)      \n",
       "x          1 741.615371 741.61537058 8305.232 8.012367e-21\n",
       "Residuals 14   1.250129   0.08929496       NA           NA"
      ]
     },
     "metadata": {},
     "output_type": "display_data"
    },
    {
     "data": {
      "text/html": [
       "0.998317152404083"
      ],
      "text/latex": [
       "0.998317152404083"
      ],
      "text/markdown": [
       "0.998317152404083"
      ],
      "text/plain": [
       "[1] 0.9983172"
      ]
     },
     "metadata": {},
     "output_type": "display_data"
    }
   ],
   "source": [
    "anova(Stocking.lmNoInt)\n",
    "summary(Stocking.lmNoInt)$r.squared"
   ]
  },
  {
   "cell_type": "code",
   "execution_count": 22,
   "id": "6f3978d3",
   "metadata": {},
   "outputs": [
    {
     "data": {
      "text/html": [
       "<table class=\"dataframe\">\n",
       "<caption>A anova: 2 × 5</caption>\n",
       "<thead>\n",
       "\t<tr><th></th><th scope=col>Df</th><th scope=col>Sum Sq</th><th scope=col>Mean Sq</th><th scope=col>F value</th><th scope=col>Pr(&gt;F)</th></tr>\n",
       "\t<tr><th></th><th scope=col>&lt;int&gt;</th><th scope=col>&lt;dbl&gt;</th><th scope=col>&lt;dbl&gt;</th><th scope=col>&lt;dbl&gt;</th><th scope=col>&lt;dbl&gt;</th></tr>\n",
       "</thead>\n",
       "<tbody>\n",
       "\t<tr><th scope=row>x</th><td> 1</td><td>228.317573</td><td>228.31757324</td><td>2452.134</td><td>3.398506e-16</td></tr>\n",
       "\t<tr><th scope=row>Residuals</th><td>13</td><td>  1.210427</td><td>  0.09310975</td><td>      NA</td><td>          NA</td></tr>\n",
       "</tbody>\n",
       "</table>\n"
      ],
      "text/latex": [
       "A anova: 2 × 5\n",
       "\\begin{tabular}{r|lllll}\n",
       "  & Df & Sum Sq & Mean Sq & F value & Pr(>F)\\\\\n",
       "  & <int> & <dbl> & <dbl> & <dbl> & <dbl>\\\\\n",
       "\\hline\n",
       "\tx &  1 & 228.317573 & 228.31757324 & 2452.134 & 3.398506e-16\\\\\n",
       "\tResiduals & 13 &   1.210427 &   0.09310975 &       NA &           NA\\\\\n",
       "\\end{tabular}\n"
      ],
      "text/markdown": [
       "\n",
       "A anova: 2 × 5\n",
       "\n",
       "| <!--/--> | Df &lt;int&gt; | Sum Sq &lt;dbl&gt; | Mean Sq &lt;dbl&gt; | F value &lt;dbl&gt; | Pr(&gt;F) &lt;dbl&gt; |\n",
       "|---|---|---|---|---|---|\n",
       "| x |  1 | 228.317573 | 228.31757324 | 2452.134 | 3.398506e-16 |\n",
       "| Residuals | 13 |   1.210427 |   0.09310975 |       NA |           NA |\n",
       "\n"
      ],
      "text/plain": [
       "          Df Sum Sq     Mean Sq      F value  Pr(>F)      \n",
       "x          1 228.317573 228.31757324 2452.134 3.398506e-16\n",
       "Residuals 13   1.210427   0.09310975       NA           NA"
      ]
     },
     "metadata": {},
     "output_type": "display_data"
    },
    {
     "data": {
      "text/html": [
       "0.994726452734837"
      ],
      "text/latex": [
       "0.994726452734837"
      ],
      "text/markdown": [
       "0.994726452734837"
      ],
      "text/plain": [
       "[1] 0.9947265"
      ]
     },
     "metadata": {},
     "output_type": "display_data"
    }
   ],
   "source": [
    "anova(Stocking.lm)\n",
    "summary(Stocking.lm)$r.squared"
   ]
  },
  {
   "cell_type": "markdown",
   "id": "cd101b10",
   "metadata": {},
   "source": [
    "### 2.9"
   ]
  },
  {
   "cell_type": "code",
   "execution_count": 23,
   "id": "9d8732c3",
   "metadata": {},
   "outputs": [
    {
     "data": {
      "text/html": [
       "<table class=\"dataframe\">\n",
       "<caption>A data.frame: 6 × 2</caption>\n",
       "<thead>\n",
       "\t<tr><th></th><th scope=col>y</th><th scope=col>x</th></tr>\n",
       "\t<tr><th></th><th scope=col>&lt;dbl&gt;</th><th scope=col>&lt;dbl&gt;</th></tr>\n",
       "</thead>\n",
       "<tbody>\n",
       "\t<tr><th scope=row>1</th><td>16.68</td><td>7</td></tr>\n",
       "\t<tr><th scope=row>2</th><td>11.50</td><td>3</td></tr>\n",
       "\t<tr><th scope=row>3</th><td>12.03</td><td>3</td></tr>\n",
       "\t<tr><th scope=row>4</th><td>14.88</td><td>4</td></tr>\n",
       "\t<tr><th scope=row>5</th><td>13.75</td><td>6</td></tr>\n",
       "\t<tr><th scope=row>6</th><td>18.11</td><td>7</td></tr>\n",
       "</tbody>\n",
       "</table>\n"
      ],
      "text/latex": [
       "A data.frame: 6 × 2\n",
       "\\begin{tabular}{r|ll}\n",
       "  & y & x\\\\\n",
       "  & <dbl> & <dbl>\\\\\n",
       "\\hline\n",
       "\t1 & 16.68 & 7\\\\\n",
       "\t2 & 11.50 & 3\\\\\n",
       "\t3 & 12.03 & 3\\\\\n",
       "\t4 & 14.88 & 4\\\\\n",
       "\t5 & 13.75 & 6\\\\\n",
       "\t6 & 18.11 & 7\\\\\n",
       "\\end{tabular}\n"
      ],
      "text/markdown": [
       "\n",
       "A data.frame: 6 × 2\n",
       "\n",
       "| <!--/--> | y &lt;dbl&gt; | x &lt;dbl&gt; |\n",
       "|---|---|---|\n",
       "| 1 | 16.68 | 7 |\n",
       "| 2 | 11.50 | 3 |\n",
       "| 3 | 12.03 | 3 |\n",
       "| 4 | 14.88 | 4 |\n",
       "| 5 | 13.75 | 6 |\n",
       "| 6 | 18.11 | 7 |\n",
       "\n"
      ],
      "text/plain": [
       "  y     x\n",
       "1 16.68 7\n",
       "2 11.50 3\n",
       "3 12.03 3\n",
       "4 14.88 4\n",
       "5 13.75 6\n",
       "6 18.11 7"
      ]
     },
     "metadata": {},
     "output_type": "display_data"
    }
   ],
   "source": [
    "dataTable <- read_excel('../linear_regression_5e_data_sets/Chapter 2/Examples/data-ex-2-9 (Delivery Time).xls')\n",
    "\n",
    "df <- data.frame(y=dataTable$'Delivery Time, y', x=dataTable$'Number of Cases, x')\n",
    "\n",
    "head(df)"
   ]
  },
  {
   "cell_type": "code",
   "execution_count": 24,
   "id": "efceaac9",
   "metadata": {},
   "outputs": [
    {
     "data": {
      "text/html": [
       "0.964614593295522"
      ],
      "text/latex": [
       "0.964614593295522"
      ],
      "text/markdown": [
       "0.964614593295522"
      ],
      "text/plain": [
       "[1] 0.9646146"
      ]
     },
     "metadata": {},
     "output_type": "display_data"
    }
   ],
   "source": [
    "cor(df$x, df$y)"
   ]
  },
  {
   "cell_type": "code",
   "execution_count": 25,
   "id": "9b08c239",
   "metadata": {},
   "outputs": [
    {
     "data": {
      "text/plain": [
       "\n",
       "\tPearson's product-moment correlation\n",
       "\n",
       "data:  df$x and df$y\n",
       "t = 17.546, df = 23, p-value = 8.22e-15\n",
       "alternative hypothesis: true correlation is not equal to 0\n",
       "95 percent confidence interval:\n",
       " 0.9202275 0.9845031\n",
       "sample estimates:\n",
       "      cor \n",
       "0.9646146 \n"
      ]
     },
     "metadata": {},
     "output_type": "display_data"
    }
   ],
   "source": [
    "cor.test(df$x, df$y)"
   ]
  },
  {
   "cell_type": "code",
   "execution_count": 30,
   "id": "9de884f4",
   "metadata": {},
   "outputs": [
    {
     "name": "stdout",
     "output_type": "stream",
     "text": [
      "[1] 2.068658\n"
     ]
    }
   ],
   "source": [
    "t_0 <- qt(.975, df=23)\n",
    "print(t_0)"
   ]
  },
  {
   "cell_type": "code",
   "execution_count": 27,
   "id": "50e40db2",
   "metadata": {},
   "outputs": [
    {
     "name": "stdout",
     "output_type": "stream",
     "text": [
      "[1] 17.54555\n"
     ]
    }
   ],
   "source": [
    "t_value <- unname(cor.test(df$x, df$y)$statistic)\n",
    "print(t_value)"
   ]
  },
  {
   "cell_type": "code",
   "execution_count": 28,
   "id": "bda6f1cf",
   "metadata": {},
   "outputs": [
    {
     "data": {
      "text/html": [
       "17.5455492207491"
      ],
      "text/latex": [
       "17.5455492207491"
      ],
      "text/markdown": [
       "17.5455492207491"
      ],
      "text/plain": [
       "[1] 17.54555"
      ]
     },
     "metadata": {},
     "output_type": "display_data"
    }
   ],
   "source": [
    "unname(cor.test(df$x, df$y)$statistic)"
   ]
  },
  {
   "cell_type": "code",
   "execution_count": 29,
   "id": "226a6798",
   "metadata": {},
   "outputs": [
    {
     "name": "stdout",
     "output_type": "stream",
     "text": [
      "[1] TRUE\n"
     ]
    }
   ],
   "source": [
    "RejectNull <- (t_value > t_0)\n",
    "print(RejectNull)"
   ]
  }
 ],
 "metadata": {
  "kernelspec": {
   "display_name": "R",
   "language": "R",
   "name": "ir"
  },
  "language_info": {
   "codemirror_mode": "r",
   "file_extension": ".r",
   "mimetype": "text/x-r-source",
   "name": "R",
   "pygments_lexer": "r",
   "version": "3.6.3"
  }
 },
 "nbformat": 4,
 "nbformat_minor": 5
}
