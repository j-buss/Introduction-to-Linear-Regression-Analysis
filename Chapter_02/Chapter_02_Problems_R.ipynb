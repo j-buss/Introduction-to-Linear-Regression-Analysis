{
 "cells": [
  {
   "cell_type": "markdown",
   "id": "6dc2ea8d",
   "metadata": {},
   "source": [
    "# Chapter 2 Problems - R"
   ]
  },
  {
   "cell_type": "code",
   "execution_count": 1,
   "id": "ccff5d98",
   "metadata": {},
   "outputs": [],
   "source": [
    "#### Sytem may require the following: \n",
    "# sudo apt install libcurl4-openssl-dev\n",
    "# sudo apt install libxml2-dev\n",
    "\n",
    "#### Only need to run the folloing installs once\n",
    "# install.packages(c(\"ggplot2\", \"ggpubr\", \"tidyverse\", \"broom\", \"AICcmodavg\"))"
   ]
  },
  {
   "cell_type": "markdown",
   "id": "1395c5d3",
   "metadata": {},
   "source": [
    "## Load Libraries"
   ]
  },
  {
   "cell_type": "code",
   "execution_count": 2,
   "id": "75fa0838",
   "metadata": {},
   "outputs": [],
   "source": [
    "suppressMessages(library(readxl))\n",
    "suppressMessages(library(ggplot2))\n",
    "suppressMessages(library(ggpubr))\n",
    "suppressMessages(library(tidyverse))\n",
    "suppressMessages(library(broom))\n",
    "suppressMessages(library(AICcmodavg))"
   ]
  },
  {
   "cell_type": "markdown",
   "id": "689f8476",
   "metadata": {},
   "source": [
    "### Functions"
   ]
  },
  {
   "cell_type": "markdown",
   "id": "b4240d0d",
   "metadata": {},
   "source": [
    "## 2.1"
   ]
  },
  {
   "cell_type": "code",
   "execution_count": 3,
   "id": "c6a177e8",
   "metadata": {},
   "outputs": [
    {
     "data": {
      "text/html": [
       "<table class=\"dataframe\">\n",
       "<caption>A data.frame: 6 × 2</caption>\n",
       "<thead>\n",
       "\t<tr><th></th><th scope=col>y</th><th scope=col>x</th></tr>\n",
       "\t<tr><th></th><th scope=col>&lt;dbl&gt;</th><th scope=col>&lt;dbl&gt;</th></tr>\n",
       "</thead>\n",
       "<tbody>\n",
       "\t<tr><th scope=row>1</th><td>10</td><td>2205</td></tr>\n",
       "\t<tr><th scope=row>2</th><td>11</td><td>2096</td></tr>\n",
       "\t<tr><th scope=row>3</th><td>11</td><td>1847</td></tr>\n",
       "\t<tr><th scope=row>4</th><td>13</td><td>1903</td></tr>\n",
       "\t<tr><th scope=row>5</th><td>10</td><td>1457</td></tr>\n",
       "\t<tr><th scope=row>6</th><td>11</td><td>1848</td></tr>\n",
       "</tbody>\n",
       "</table>\n"
      ],
      "text/latex": [
       "A data.frame: 6 × 2\n",
       "\\begin{tabular}{r|ll}\n",
       "  & y & x\\\\\n",
       "  & <dbl> & <dbl>\\\\\n",
       "\\hline\n",
       "\t1 & 10 & 2205\\\\\n",
       "\t2 & 11 & 2096\\\\\n",
       "\t3 & 11 & 1847\\\\\n",
       "\t4 & 13 & 1903\\\\\n",
       "\t5 & 10 & 1457\\\\\n",
       "\t6 & 11 & 1848\\\\\n",
       "\\end{tabular}\n"
      ],
      "text/markdown": [
       "\n",
       "A data.frame: 6 × 2\n",
       "\n",
       "| <!--/--> | y &lt;dbl&gt; | x &lt;dbl&gt; |\n",
       "|---|---|---|\n",
       "| 1 | 10 | 2205 |\n",
       "| 2 | 11 | 2096 |\n",
       "| 3 | 11 | 1847 |\n",
       "| 4 | 13 | 1903 |\n",
       "| 5 | 10 | 1457 |\n",
       "| 6 | 11 | 1848 |\n",
       "\n"
      ],
      "text/plain": [
       "  y  x   \n",
       "1 10 2205\n",
       "2 11 2096\n",
       "3 11 1847\n",
       "4 13 1903\n",
       "5 10 1457\n",
       "6 11 1848"
      ]
     },
     "metadata": {},
     "output_type": "display_data"
    }
   ],
   "source": [
    "dataTableB1 <- read_excel('../linear_regression_5e_data_sets/Appendices/data-table-B1.XLS')\n",
    "\n",
    "df <- data.frame(y=dataTableB1$y, x=dataTableB1$x8)\n",
    "\n",
    "head(df)"
   ]
  },
  {
   "cell_type": "code",
   "execution_count": 4,
   "id": "854c08c2",
   "metadata": {},
   "outputs": [
    {
     "data": {
      "text/plain": [
       "       y                x       \n",
       " Min.   : 0.000   Min.   :1457  \n",
       " 1st Qu.: 4.000   1st Qu.:1848  \n",
       " Median : 6.500   Median :2050  \n",
       " Mean   : 6.964   Mean   :2110  \n",
       " 3rd Qu.:10.000   3rd Qu.:2320  \n",
       " Max.   :13.000   Max.   :2876  "
      ]
     },
     "metadata": {},
     "output_type": "display_data"
    }
   ],
   "source": [
    "summary(df)"
   ]
  },
  {
   "cell_type": "code",
   "execution_count": 5,
   "id": "e7de1b71",
   "metadata": {},
   "outputs": [
    {
     "data": {
      "text/html": [
       "-0.738027303892383"
      ],
      "text/latex": [
       "-0.738027303892383"
      ],
      "text/markdown": [
       "-0.738027303892383"
      ],
      "text/plain": [
       "[1] -0.7380273"
      ]
     },
     "metadata": {},
     "output_type": "display_data"
    }
   ],
   "source": [
    "cor(df$x, df$y)"
   ]
  },
  {
   "cell_type": "markdown",
   "id": "16792a1a",
   "metadata": {},
   "source": [
    "### a"
   ]
  },
  {
   "cell_type": "code",
   "execution_count": 6,
   "id": "0d76c96a",
   "metadata": {},
   "outputs": [
    {
     "name": "stdout",
     "output_type": "stream",
     "text": [
      "\n",
      "Call:\n",
      "lm(formula = y ~ x, data = df)\n",
      "\n",
      "Coefficients:\n",
      "(Intercept)            x  \n",
      "  21.788251    -0.007025  \n",
      "\n"
     ]
    }
   ],
   "source": [
    "Football.lm <- lm(y ~ x, data=df)  # build linear regression model on full data\n",
    "print(Football.lm)"
   ]
  },
  {
   "cell_type": "code",
   "execution_count": 7,
   "id": "7d1ec840",
   "metadata": {},
   "outputs": [
    {
     "data": {
      "image/png": "[encoded data removed]",
      "text/plain": [
       "Plot with title “wins ~ opponent rushing yards”"
      ]
     },
     "metadata": {
      "image/png": {
       "height": 420,
       "width": 420
      }
     },
     "output_type": "display_data"
    }
   ],
   "source": [
    "plot(x=df$x, y=df$y, main=\"wins ~ opponent rushing yards\")\n",
    "abline(Football.lm)"
   ]
  },
  {
   "cell_type": "code",
   "execution_count": 8,
   "id": "d0a866b4",
   "metadata": {},
   "outputs": [
    {
     "data": {
      "text/plain": [
       "\n",
       "Call:\n",
       "lm(formula = y ~ x, data = df)\n",
       "\n",
       "Residuals:\n",
       "   Min     1Q Median     3Q    Max \n",
       "-3.804 -1.591 -0.647  2.032  4.580 \n",
       "\n",
       "Coefficients:\n",
       "             Estimate Std. Error t value Pr(>|t|)    \n",
       "(Intercept) 21.788251   2.696233   8.081 1.46e-08 ***\n",
       "x           -0.007025   0.001260  -5.577 7.38e-06 ***\n",
       "---\n",
       "Signif. codes:  0 ‘***’ 0.001 ‘**’ 0.01 ‘*’ 0.05 ‘.’ 0.1 ‘ ’ 1\n",
       "\n",
       "Residual standard error: 2.393 on 26 degrees of freedom\n",
       "Multiple R-squared:  0.5447,\tAdjusted R-squared:  0.5272 \n",
       "F-statistic:  31.1 on 1 and 26 DF,  p-value: 7.381e-06\n"
      ]
     },
     "metadata": {},
     "output_type": "display_data"
    }
   ],
   "source": [
    "summary(Football.lm)"
   ]
  },
  {
   "cell_type": "markdown",
   "id": "90d19043",
   "metadata": {},
   "source": [
    "### b"
   ]
  },
  {
   "cell_type": "code",
   "execution_count": 9,
   "id": "c4a606b6",
   "metadata": {},
   "outputs": [
    {
     "data": {
      "text/html": [
       "<table class=\"dataframe\">\n",
       "<caption>A anova: 2 × 5</caption>\n",
       "<thead>\n",
       "\t<tr><th></th><th scope=col>Df</th><th scope=col>Sum Sq</th><th scope=col>Mean Sq</th><th scope=col>F value</th><th scope=col>Pr(&gt;F)</th></tr>\n",
       "\t<tr><th></th><th scope=col>&lt;int&gt;</th><th scope=col>&lt;dbl&gt;</th><th scope=col>&lt;dbl&gt;</th><th scope=col>&lt;dbl&gt;</th><th scope=col>&lt;dbl&gt;</th></tr>\n",
       "</thead>\n",
       "<tbody>\n",
       "\t<tr><th scope=row>x</th><td> 1</td><td>178.0923</td><td>178.092314</td><td>31.10324</td><td>7.380709e-06</td></tr>\n",
       "\t<tr><th scope=row>Residuals</th><td>26</td><td>148.8720</td><td>  5.725845</td><td>      NA</td><td>          NA</td></tr>\n",
       "</tbody>\n",
       "</table>\n"
      ],
      "text/latex": [
       "A anova: 2 × 5\n",
       "\\begin{tabular}{r|lllll}\n",
       "  & Df & Sum Sq & Mean Sq & F value & Pr(>F)\\\\\n",
       "  & <int> & <dbl> & <dbl> & <dbl> & <dbl>\\\\\n",
       "\\hline\n",
       "\tx &  1 & 178.0923 & 178.092314 & 31.10324 & 7.380709e-06\\\\\n",
       "\tResiduals & 26 & 148.8720 &   5.725845 &       NA &           NA\\\\\n",
       "\\end{tabular}\n"
      ],
      "text/markdown": [
       "\n",
       "A anova: 2 × 5\n",
       "\n",
       "| <!--/--> | Df &lt;int&gt; | Sum Sq &lt;dbl&gt; | Mean Sq &lt;dbl&gt; | F value &lt;dbl&gt; | Pr(&gt;F) &lt;dbl&gt; |\n",
       "|---|---|---|---|---|---|\n",
       "| x |  1 | 178.0923 | 178.092314 | 31.10324 | 7.380709e-06 |\n",
       "| Residuals | 26 | 148.8720 |   5.725845 |       NA |           NA |\n",
       "\n"
      ],
      "text/plain": [
       "          Df Sum Sq   Mean Sq    F value  Pr(>F)      \n",
       "x          1 178.0923 178.092314 31.10324 7.380709e-06\n",
       "Residuals 26 148.8720   5.725845       NA           NA"
      ]
     },
     "metadata": {},
     "output_type": "display_data"
    }
   ],
   "source": [
    "anova(Football.lm)"
   ]
  },
  {
   "cell_type": "markdown",
   "id": "08832168",
   "metadata": {},
   "source": [
    "### c"
   ]
  },
  {
   "cell_type": "code",
   "execution_count": 10,
   "id": "99c3cb4e",
   "metadata": {},
   "outputs": [
    {
     "data": {
      "text/html": [
       "<table class=\"dataframe\">\n",
       "<caption>A matrix: 2 × 2 of type dbl</caption>\n",
       "<thead>\n",
       "\t<tr><th></th><th scope=col>2.5 %</th><th scope=col>97.5 %</th></tr>\n",
       "</thead>\n",
       "<tbody>\n",
       "\t<tr><th scope=row>(Intercept)</th><td>16.246064040</td><td>27.330437725</td></tr>\n",
       "\t<tr><th scope=row>x</th><td>-0.009614347</td><td>-0.004435854</td></tr>\n",
       "</tbody>\n",
       "</table>\n"
      ],
      "text/latex": [
       "A matrix: 2 × 2 of type dbl\n",
       "\\begin{tabular}{r|ll}\n",
       "  & 2.5 \\% & 97.5 \\%\\\\\n",
       "\\hline\n",
       "\t(Intercept) & 16.246064040 & 27.330437725\\\\\n",
       "\tx & -0.009614347 & -0.004435854\\\\\n",
       "\\end{tabular}\n"
      ],
      "text/markdown": [
       "\n",
       "A matrix: 2 × 2 of type dbl\n",
       "\n",
       "| <!--/--> | 2.5 % | 97.5 % |\n",
       "|---|---|---|\n",
       "| (Intercept) | 16.246064040 | 27.330437725 |\n",
       "| x | -0.009614347 | -0.004435854 |\n",
       "\n"
      ],
      "text/plain": [
       "            2.5 %        97.5 %      \n",
       "(Intercept) 16.246064040 27.330437725\n",
       "x           -0.009614347 -0.004435854"
      ]
     },
     "metadata": {},
     "output_type": "display_data"
    }
   ],
   "source": [
    " confint(Football.lm, level=0.95)"
   ]
  },
  {
   "cell_type": "markdown",
   "id": "7734d745",
   "metadata": {},
   "source": [
    "### d"
   ]
  },
  {
   "cell_type": "code",
   "execution_count": 11,
   "id": "df457cb1",
   "metadata": {},
   "outputs": [
    {
     "data": {
      "text/html": [
       "0.544684301290661"
      ],
      "text/latex": [
       "0.544684301290661"
      ],
      "text/markdown": [
       "0.544684301290661"
      ],
      "text/plain": [
       "[1] 0.5446843"
      ]
     },
     "metadata": {},
     "output_type": "display_data"
    }
   ],
   "source": [
    "summary(Football.lm)$r.squared"
   ]
  },
  {
   "cell_type": "markdown",
   "id": "78b444a0",
   "metadata": {},
   "source": [
    "### e"
   ]
  },
  {
   "cell_type": "code",
   "execution_count": 12,
   "id": "845c2463",
   "metadata": {},
   "outputs": [
    {
     "name": "stdout",
     "output_type": "stream",
     "text": [
      "      fit      lwr      upr\n",
      "1 7.73805 6.765753 8.710348\n"
     ]
    }
   ],
   "source": [
    "pred<-predict(Football.lm, data.frame(x = c(2000)), interval=\"confidence\", level=0.95)\n",
    "print(pred)"
   ]
  },
  {
   "cell_type": "markdown",
   "id": "396d9904",
   "metadata": {},
   "source": [
    "### Plot of Point Prediction Interval and Mean Confidence Interval"
   ]
  },
  {
   "cell_type": "code",
   "execution_count": 13,
   "id": "24b707ff",
   "metadata": {},
   "outputs": [
    {
     "data": {
      "image/png": "[encoded data removed]",
      "text/plain": [
       "plot without title"
      ]
     },
     "metadata": {
      "image/png": {
       "height": 420,
       "width": 420
      }
     },
     "output_type": "display_data"
    }
   ],
   "source": [
    "#get predicted y values using regression equation\n",
    "newx <- seq(min(df$x), max(df$x), length.out=100)\n",
    "\n",
    "#calculate the confidence interval values\n",
    "conf <- predict(Football.lm, newdata = data.frame(x=newx), interval = 'confidence', level=0.95)\n",
    "\n",
    "#calculate the prediction interval values\n",
    "pred <- predict(Football.lm, newdata = data.frame(x=newx), interval = 'predict', level=0.95)\n",
    "\n",
    "#create plot of x vs. y, but don't display individual points (type='n') \n",
    "plot(y ~ x, data = df, type='n')\n",
    "\n",
    "#add polygon: Confidence Interval Upper -> Prediction Interval Upper\n",
    "polygon(c(rev(newx), newx), c(rev(conf[ ,3]), pred[ ,3]), col = 'pink', border = NA)\n",
    "\n",
    "#add polygon: Predicted Values -> Confidence Interval Upper\n",
    "polygon(c(rev(newx), newx), c(rev(conf[ ,3]), conf[ ,1]), col = 'gray85', border = NA)\n",
    "\n",
    "#add polygon: Predicted Values -> Confidence Interval Lower\n",
    "polygon(c(rev(newx), newx), c(rev(conf[ ,2]), pred[ ,2]), col = 'pink', border = NA)\n",
    "\n",
    "#add polygon: Confidence Interval Lower -> Prediction Interval Lower\n",
    "polygon(c(rev(newx), newx), c(rev(conf[ ,2]), conf[ ,1]), col = 'gray85', border = NA)\n",
    "\n",
    "#add line: Regression\n",
    "abline(Football.lm, lwd=1.5)\n",
    "\n",
    "#add line: Confidence Interval Upper\n",
    "lines(newx, conf[ ,3], lty = 'dashed', col = 'gray5', lwd=1.5)\n",
    "#add line: Confidence Interval Lower\n",
    "lines(newx, conf[ ,2], lty = 'dashed', col = 'gray5', lwd=1.5)\n",
    "\n",
    "#add line: Prediction Interval Upper\n",
    "lines(newx, pred[ ,3], lty = 'dashed', col = 'red4', lwd=1.5)\n",
    "#add line: Prediction Interval Upper\n",
    "lines(newx, pred[ ,2], lty = 'dashed', col = 'red4', lwd=1.5)\n",
    "\n"
   ]
  },
  {
   "cell_type": "code",
   "execution_count": null,
   "id": "187c2687",
   "metadata": {},
   "outputs": [],
   "source": [
    "plot_bands(Ozone.df, Ozone.lm)"
   ]
  },
  {
   "cell_type": "markdown",
   "id": "f950381f",
   "metadata": {},
   "source": [
    "## 2.2"
   ]
  },
  {
   "cell_type": "code",
   "execution_count": 14,
   "id": "b1658b2e",
   "metadata": {},
   "outputs": [
    {
     "name": "stdout",
     "output_type": "stream",
     "text": [
      "      fit      lwr      upr\n",
      "1 9.14307 4.936392 13.34975\n"
     ]
    }
   ],
   "source": [
    "# Point Estimate\n",
    "pred<-predict(Football.lm, data.frame(x = c(1800)), interval=\"predict\", level=0.90)\n",
    "print(pred)"
   ]
  },
  {
   "cell_type": "markdown",
   "id": "036c8f52",
   "metadata": {},
   "source": [
    "## 2.3"
   ]
  },
  {
   "cell_type": "code",
   "execution_count": 15,
   "id": "4c34e779",
   "metadata": {},
   "outputs": [
    {
     "data": {
      "text/html": [
       "<table class=\"dataframe\">\n",
       "<caption>A data.frame: 6 × 2</caption>\n",
       "<thead>\n",
       "\t<tr><th></th><th scope=col>y</th><th scope=col>x</th></tr>\n",
       "\t<tr><th></th><th scope=col>&lt;dbl&gt;</th><th scope=col>&lt;dbl&gt;</th></tr>\n",
       "</thead>\n",
       "<tbody>\n",
       "\t<tr><th scope=row>1</th><td>271.8</td><td>16.66</td></tr>\n",
       "\t<tr><th scope=row>2</th><td>264.0</td><td>16.46</td></tr>\n",
       "\t<tr><th scope=row>3</th><td>238.8</td><td>17.66</td></tr>\n",
       "\t<tr><th scope=row>4</th><td>230.7</td><td>17.50</td></tr>\n",
       "\t<tr><th scope=row>5</th><td>251.6</td><td>16.40</td></tr>\n",
       "\t<tr><th scope=row>6</th><td>257.9</td><td>16.28</td></tr>\n",
       "</tbody>\n",
       "</table>\n"
      ],
      "text/latex": [
       "A data.frame: 6 × 2\n",
       "\\begin{tabular}{r|ll}\n",
       "  & y & x\\\\\n",
       "  & <dbl> & <dbl>\\\\\n",
       "\\hline\n",
       "\t1 & 271.8 & 16.66\\\\\n",
       "\t2 & 264.0 & 16.46\\\\\n",
       "\t3 & 238.8 & 17.66\\\\\n",
       "\t4 & 230.7 & 17.50\\\\\n",
       "\t5 & 251.6 & 16.40\\\\\n",
       "\t6 & 257.9 & 16.28\\\\\n",
       "\\end{tabular}\n"
      ],
      "text/markdown": [
       "\n",
       "A data.frame: 6 × 2\n",
       "\n",
       "| <!--/--> | y &lt;dbl&gt; | x &lt;dbl&gt; |\n",
       "|---|---|---|\n",
       "| 1 | 271.8 | 16.66 |\n",
       "| 2 | 264.0 | 16.46 |\n",
       "| 3 | 238.8 | 17.66 |\n",
       "| 4 | 230.7 | 17.50 |\n",
       "| 5 | 251.6 | 16.40 |\n",
       "| 6 | 257.9 | 16.28 |\n",
       "\n"
      ],
      "text/plain": [
       "  y     x    \n",
       "1 271.8 16.66\n",
       "2 264.0 16.46\n",
       "3 238.8 17.66\n",
       "4 230.7 17.50\n",
       "5 251.6 16.40\n",
       "6 257.9 16.28"
      ]
     },
     "metadata": {},
     "output_type": "display_data"
    }
   ],
   "source": [
    "dt <- read_excel('../linear_regression_5e_data_sets/Appendices/data-table-B2.XLS')\n",
    "\n",
    "df <- data.frame(y=dt$y, x=dt$x4)\n",
    "\n",
    "head(df)"
   ]
  },
  {
   "cell_type": "markdown",
   "id": "ff4e5bcb",
   "metadata": {},
   "source": [
    "### a"
   ]
  },
  {
   "cell_type": "code",
   "execution_count": 16,
   "id": "757e62bc",
   "metadata": {},
   "outputs": [
    {
     "name": "stdout",
     "output_type": "stream",
     "text": [
      "\n",
      "Call:\n",
      "lm(formula = y ~ x, data = df)\n",
      "\n",
      "Coefficients:\n",
      "(Intercept)            x  \n",
      "      607.1        -21.4  \n",
      "\n"
     ]
    }
   ],
   "source": [
    "Solar.lm <- lm(y ~ x, data=df)\n",
    "print(Solar.lm)"
   ]
  },
  {
   "cell_type": "markdown",
   "id": "c7e3a3c1",
   "metadata": {},
   "source": [
    "### b"
   ]
  },
  {
   "cell_type": "code",
   "execution_count": 17,
   "id": "9b02f878",
   "metadata": {},
   "outputs": [
    {
     "data": {
      "text/html": [
       "<table class=\"dataframe\">\n",
       "<caption>A anova: 2 × 5</caption>\n",
       "<thead>\n",
       "\t<tr><th></th><th scope=col>Df</th><th scope=col>Sum Sq</th><th scope=col>Mean Sq</th><th scope=col>F value</th><th scope=col>Pr(&gt;F)</th></tr>\n",
       "\t<tr><th></th><th scope=col>&lt;int&gt;</th><th scope=col>&lt;dbl&gt;</th><th scope=col>&lt;dbl&gt;</th><th scope=col>&lt;dbl&gt;</th><th scope=col>&lt;dbl&gt;</th></tr>\n",
       "</thead>\n",
       "<tbody>\n",
       "\t<tr><th scope=row>x</th><td> 1</td><td>10578.685</td><td>10578.685</td><td>69.60944</td><td>5.935009e-09</td></tr>\n",
       "\t<tr><th scope=row>Residuals</th><td>27</td><td> 4103.244</td><td>  151.972</td><td>      NA</td><td>          NA</td></tr>\n",
       "</tbody>\n",
       "</table>\n"
      ],
      "text/latex": [
       "A anova: 2 × 5\n",
       "\\begin{tabular}{r|lllll}\n",
       "  & Df & Sum Sq & Mean Sq & F value & Pr(>F)\\\\\n",
       "  & <int> & <dbl> & <dbl> & <dbl> & <dbl>\\\\\n",
       "\\hline\n",
       "\tx &  1 & 10578.685 & 10578.685 & 69.60944 & 5.935009e-09\\\\\n",
       "\tResiduals & 27 &  4103.244 &   151.972 &       NA &           NA\\\\\n",
       "\\end{tabular}\n"
      ],
      "text/markdown": [
       "\n",
       "A anova: 2 × 5\n",
       "\n",
       "| <!--/--> | Df &lt;int&gt; | Sum Sq &lt;dbl&gt; | Mean Sq &lt;dbl&gt; | F value &lt;dbl&gt; | Pr(&gt;F) &lt;dbl&gt; |\n",
       "|---|---|---|---|---|---|\n",
       "| x |  1 | 10578.685 | 10578.685 | 69.60944 | 5.935009e-09 |\n",
       "| Residuals | 27 |  4103.244 |   151.972 |       NA |           NA |\n",
       "\n"
      ],
      "text/plain": [
       "          Df Sum Sq    Mean Sq   F value  Pr(>F)      \n",
       "x          1 10578.685 10578.685 69.60944 5.935009e-09\n",
       "Residuals 27  4103.244   151.972       NA           NA"
      ]
     },
     "metadata": {},
     "output_type": "display_data"
    }
   ],
   "source": [
    "anova(Solar.lm)"
   ]
  },
  {
   "cell_type": "markdown",
   "id": "ac318a97",
   "metadata": {},
   "source": [
    "### c"
   ]
  },
  {
   "cell_type": "code",
   "execution_count": 18,
   "id": "d82be1f6",
   "metadata": {},
   "outputs": [
    {
     "data": {
      "text/html": [
       "<table class=\"dataframe\">\n",
       "<caption>A matrix: 2 × 2 of type dbl</caption>\n",
       "<thead>\n",
       "\t<tr><th></th><th scope=col>0.5 %</th><th scope=col>99.5 %</th></tr>\n",
       "</thead>\n",
       "<tbody>\n",
       "\t<tr><th scope=row>(Intercept)</th><td>488.22411</td><td>725.98242</td></tr>\n",
       "\t<tr><th scope=row>x</th><td>-28.50995</td><td>-14.29497</td></tr>\n",
       "</tbody>\n",
       "</table>\n"
      ],
      "text/latex": [
       "A matrix: 2 × 2 of type dbl\n",
       "\\begin{tabular}{r|ll}\n",
       "  & 0.5 \\% & 99.5 \\%\\\\\n",
       "\\hline\n",
       "\t(Intercept) & 488.22411 & 725.98242\\\\\n",
       "\tx & -28.50995 & -14.29497\\\\\n",
       "\\end{tabular}\n"
      ],
      "text/markdown": [
       "\n",
       "A matrix: 2 × 2 of type dbl\n",
       "\n",
       "| <!--/--> | 0.5 % | 99.5 % |\n",
       "|---|---|---|\n",
       "| (Intercept) | 488.22411 | 725.98242 |\n",
       "| x | -28.50995 | -14.29497 |\n",
       "\n"
      ],
      "text/plain": [
       "            0.5 %     99.5 %   \n",
       "(Intercept) 488.22411 725.98242\n",
       "x           -28.50995 -14.29497"
      ]
     },
     "metadata": {},
     "output_type": "display_data"
    }
   ],
   "source": [
    "confint(Solar.lm, level=0.99)"
   ]
  },
  {
   "cell_type": "markdown",
   "id": "27038cce",
   "metadata": {},
   "source": [
    "### d"
   ]
  },
  {
   "cell_type": "code",
   "execution_count": 19,
   "id": "269c58f1",
   "metadata": {},
   "outputs": [
    {
     "data": {
      "text/html": [
       "0.72052419640671"
      ],
      "text/latex": [
       "0.72052419640671"
      ],
      "text/markdown": [
       "0.72052419640671"
      ],
      "text/plain": [
       "[1] 0.7205242"
      ]
     },
     "metadata": {},
     "output_type": "display_data"
    }
   ],
   "source": [
    "summary(Solar.lm)$r.squared"
   ]
  },
  {
   "cell_type": "markdown",
   "id": "db304eec",
   "metadata": {},
   "source": [
    "### e"
   ]
  },
  {
   "cell_type": "code",
   "execution_count": 20,
   "id": "b694fe4e",
   "metadata": {},
   "outputs": [
    {
     "name": "stdout",
     "output_type": "stream",
     "text": [
      "       fit      lwr      upr\n",
      "1 253.9627 249.1468 258.7787\n"
     ]
    }
   ],
   "source": [
    "pred<-predict(Solar.lm, data.frame(x = c(16.5)), interval=\"confidence\", level=0.95)\n",
    "print(pred)"
   ]
  },
  {
   "cell_type": "markdown",
   "id": "505ec94d",
   "metadata": {},
   "source": [
    "## 2.4"
   ]
  },
  {
   "cell_type": "code",
   "execution_count": 21,
   "id": "a504545e",
   "metadata": {
    "scrolled": true
   },
   "outputs": [
    {
     "data": {
      "text/html": [
       "<table class=\"dataframe\">\n",
       "<caption>A data.frame: 6 × 2</caption>\n",
       "<thead>\n",
       "\t<tr><th></th><th scope=col>y</th><th scope=col>x</th></tr>\n",
       "\t<tr><th></th><th scope=col>&lt;dbl&gt;</th><th scope=col>&lt;dbl&gt;</th></tr>\n",
       "</thead>\n",
       "<tbody>\n",
       "\t<tr><th scope=row>1</th><td>18.90</td><td>350</td></tr>\n",
       "\t<tr><th scope=row>2</th><td>17.00</td><td>350</td></tr>\n",
       "\t<tr><th scope=row>3</th><td>20.00</td><td>250</td></tr>\n",
       "\t<tr><th scope=row>4</th><td>18.25</td><td>351</td></tr>\n",
       "\t<tr><th scope=row>5</th><td>20.07</td><td>225</td></tr>\n",
       "\t<tr><th scope=row>6</th><td>11.20</td><td>440</td></tr>\n",
       "</tbody>\n",
       "</table>\n"
      ],
      "text/latex": [
       "A data.frame: 6 × 2\n",
       "\\begin{tabular}{r|ll}\n",
       "  & y & x\\\\\n",
       "  & <dbl> & <dbl>\\\\\n",
       "\\hline\n",
       "\t1 & 18.90 & 350\\\\\n",
       "\t2 & 17.00 & 350\\\\\n",
       "\t3 & 20.00 & 250\\\\\n",
       "\t4 & 18.25 & 351\\\\\n",
       "\t5 & 20.07 & 225\\\\\n",
       "\t6 & 11.20 & 440\\\\\n",
       "\\end{tabular}\n"
      ],
      "text/markdown": [
       "\n",
       "A data.frame: 6 × 2\n",
       "\n",
       "| <!--/--> | y &lt;dbl&gt; | x &lt;dbl&gt; |\n",
       "|---|---|---|\n",
       "| 1 | 18.90 | 350 |\n",
       "| 2 | 17.00 | 350 |\n",
       "| 3 | 20.00 | 250 |\n",
       "| 4 | 18.25 | 351 |\n",
       "| 5 | 20.07 | 225 |\n",
       "| 6 | 11.20 | 440 |\n",
       "\n"
      ],
      "text/plain": [
       "  y     x  \n",
       "1 18.90 350\n",
       "2 17.00 350\n",
       "3 20.00 250\n",
       "4 18.25 351\n",
       "5 20.07 225\n",
       "6 11.20 440"
      ]
     },
     "metadata": {},
     "output_type": "display_data"
    }
   ],
   "source": [
    "dt <- read_excel('../linear_regression_5e_data_sets/Appendices/data-table-B3.xlsx')\n",
    "\n",
    "df <- data.frame(y=dt$y, x=dt$x1)\n",
    "\n",
    "head(df)"
   ]
  },
  {
   "cell_type": "markdown",
   "id": "e84edb9d",
   "metadata": {},
   "source": [
    "### a"
   ]
  },
  {
   "cell_type": "code",
   "execution_count": 22,
   "id": "0a31dc3c",
   "metadata": {},
   "outputs": [
    {
     "name": "stdout",
     "output_type": "stream",
     "text": [
      "\n",
      "Call:\n",
      "lm(formula = y ~ x, data = df)\n",
      "\n",
      "Coefficients:\n",
      "(Intercept)            x  \n",
      "   33.72268     -0.04736  \n",
      "\n"
     ]
    }
   ],
   "source": [
    "Mileage.lm <- lm(y ~ x, data=df)\n",
    "print(Mileage.lm)"
   ]
  },
  {
   "cell_type": "code",
   "execution_count": 23,
   "id": "aea2b5e1",
   "metadata": {},
   "outputs": [
    {
     "data": {
      "image/png": "[encoded data removed]",
      "text/plain": [
       "plot without title"
      ]
     },
     "metadata": {
      "image/png": {
       "height": 420,
       "width": 420
      }
     },
     "output_type": "display_data"
    }
   ],
   "source": [
    "plot(x=df$x, y=df$y, xlab=\"Cubic Inches\", ylab=\"MPG\")\n",
    "abline(Mileage.lm)"
   ]
  },
  {
   "cell_type": "markdown",
   "id": "4222fb8f",
   "metadata": {},
   "source": [
    "### b"
   ]
  },
  {
   "cell_type": "code",
   "execution_count": 24,
   "id": "68dc83cf",
   "metadata": {},
   "outputs": [
    {
     "data": {
      "text/html": [
       "<table class=\"dataframe\">\n",
       "<caption>A anova: 2 × 5</caption>\n",
       "<thead>\n",
       "\t<tr><th></th><th scope=col>Df</th><th scope=col>Sum Sq</th><th scope=col>Mean Sq</th><th scope=col>F value</th><th scope=col>Pr(&gt;F)</th></tr>\n",
       "\t<tr><th></th><th scope=col>&lt;int&gt;</th><th scope=col>&lt;dbl&gt;</th><th scope=col>&lt;dbl&gt;</th><th scope=col>&lt;dbl&gt;</th><th scope=col>&lt;dbl&gt;</th></tr>\n",
       "</thead>\n",
       "<tbody>\n",
       "\t<tr><th scope=row>x</th><td> 1</td><td>955.7197</td><td>955.719710</td><td>101.7357</td><td>3.743041e-11</td></tr>\n",
       "\t<tr><th scope=row>Residuals</th><td>30</td><td>281.8244</td><td>  9.394146</td><td>      NA</td><td>          NA</td></tr>\n",
       "</tbody>\n",
       "</table>\n"
      ],
      "text/latex": [
       "A anova: 2 × 5\n",
       "\\begin{tabular}{r|lllll}\n",
       "  & Df & Sum Sq & Mean Sq & F value & Pr(>F)\\\\\n",
       "  & <int> & <dbl> & <dbl> & <dbl> & <dbl>\\\\\n",
       "\\hline\n",
       "\tx &  1 & 955.7197 & 955.719710 & 101.7357 & 3.743041e-11\\\\\n",
       "\tResiduals & 30 & 281.8244 &   9.394146 &       NA &           NA\\\\\n",
       "\\end{tabular}\n"
      ],
      "text/markdown": [
       "\n",
       "A anova: 2 × 5\n",
       "\n",
       "| <!--/--> | Df &lt;int&gt; | Sum Sq &lt;dbl&gt; | Mean Sq &lt;dbl&gt; | F value &lt;dbl&gt; | Pr(&gt;F) &lt;dbl&gt; |\n",
       "|---|---|---|---|---|---|\n",
       "| x |  1 | 955.7197 | 955.719710 | 101.7357 | 3.743041e-11 |\n",
       "| Residuals | 30 | 281.8244 |   9.394146 |       NA |           NA |\n",
       "\n"
      ],
      "text/plain": [
       "          Df Sum Sq   Mean Sq    F value  Pr(>F)      \n",
       "x          1 955.7197 955.719710 101.7357 3.743041e-11\n",
       "Residuals 30 281.8244   9.394146       NA           NA"
      ]
     },
     "metadata": {},
     "output_type": "display_data"
    }
   ],
   "source": [
    "anova(Mileage.lm)"
   ]
  },
  {
   "cell_type": "markdown",
   "id": "d4326f4e",
   "metadata": {},
   "source": [
    "### c"
   ]
  },
  {
   "cell_type": "code",
   "execution_count": 25,
   "id": "dd8fa9cc",
   "metadata": {},
   "outputs": [
    {
     "data": {
      "text/html": [
       "0.772271242320445"
      ],
      "text/latex": [
       "0.772271242320445"
      ],
      "text/markdown": [
       "0.772271242320445"
      ],
      "text/plain": [
       "[1] 0.7722712"
      ]
     },
     "metadata": {},
     "output_type": "display_data"
    }
   ],
   "source": [
    "summary(Mileage.lm)$r.squared"
   ]
  },
  {
   "cell_type": "markdown",
   "id": "c7c47008",
   "metadata": {},
   "source": [
    "### d"
   ]
  },
  {
   "cell_type": "code",
   "execution_count": 26,
   "id": "c054eb0b",
   "metadata": {},
   "outputs": [
    {
     "name": "stdout",
     "output_type": "stream",
     "text": [
      "       fit      lwr      upr\n",
      "1 20.69879 19.58807 21.80952\n"
     ]
    }
   ],
   "source": [
    "pred<-predict(Mileage.lm, data.frame(x = c(275)), interval=\"confidence\", level=0.95)\n",
    "print(pred)"
   ]
  },
  {
   "cell_type": "markdown",
   "id": "df98b817",
   "metadata": {},
   "source": [
    "### e"
   ]
  },
  {
   "cell_type": "code",
   "execution_count": 27,
   "id": "6eec1eb4",
   "metadata": {},
   "outputs": [
    {
     "name": "stdout",
     "output_type": "stream",
     "text": [
      "       fit      lwr      upr\n",
      "1 20.69879 14.34147 27.05611\n"
     ]
    }
   ],
   "source": [
    "pred<-predict(Mileage.lm, data.frame(x = c(275)), interval=\"predict\", level=0.95)\n",
    "print(pred)"
   ]
  },
  {
   "cell_type": "markdown",
   "id": "2c9c91f5",
   "metadata": {},
   "source": [
    "### f"
   ]
  },
  {
   "cell_type": "markdown",
   "id": "428d00ea",
   "metadata": {},
   "source": [
    "Of the two intervals the one for the point estimate is wider. For an individual point it can have\n",
    "more variability."
   ]
  },
  {
   "cell_type": "markdown",
   "id": "25741721",
   "metadata": {},
   "source": [
    "## 2.5"
   ]
  },
  {
   "cell_type": "markdown",
   "id": "a3880741",
   "metadata": {},
   "source": [
    "### a"
   ]
  },
  {
   "cell_type": "code",
   "execution_count": 28,
   "id": "2620fffc",
   "metadata": {},
   "outputs": [
    {
     "data": {
      "text/html": [
       "<table class=\"dataframe\">\n",
       "<caption>A data.frame: 6 × 2</caption>\n",
       "<thead>\n",
       "\t<tr><th></th><th scope=col>y</th><th scope=col>x</th></tr>\n",
       "\t<tr><th></th><th scope=col>&lt;dbl&gt;</th><th scope=col>&lt;dbl&gt;</th></tr>\n",
       "</thead>\n",
       "<tbody>\n",
       "\t<tr><th scope=row>1</th><td>18.90</td><td>3910</td></tr>\n",
       "\t<tr><th scope=row>2</th><td>17.00</td><td>3860</td></tr>\n",
       "\t<tr><th scope=row>3</th><td>20.00</td><td>3510</td></tr>\n",
       "\t<tr><th scope=row>4</th><td>18.25</td><td>3890</td></tr>\n",
       "\t<tr><th scope=row>5</th><td>20.07</td><td>3365</td></tr>\n",
       "\t<tr><th scope=row>6</th><td>11.20</td><td>4215</td></tr>\n",
       "</tbody>\n",
       "</table>\n"
      ],
      "text/latex": [
       "A data.frame: 6 × 2\n",
       "\\begin{tabular}{r|ll}\n",
       "  & y & x\\\\\n",
       "  & <dbl> & <dbl>\\\\\n",
       "\\hline\n",
       "\t1 & 18.90 & 3910\\\\\n",
       "\t2 & 17.00 & 3860\\\\\n",
       "\t3 & 20.00 & 3510\\\\\n",
       "\t4 & 18.25 & 3890\\\\\n",
       "\t5 & 20.07 & 3365\\\\\n",
       "\t6 & 11.20 & 4215\\\\\n",
       "\\end{tabular}\n"
      ],
      "text/markdown": [
       "\n",
       "A data.frame: 6 × 2\n",
       "\n",
       "| <!--/--> | y &lt;dbl&gt; | x &lt;dbl&gt; |\n",
       "|---|---|---|\n",
       "| 1 | 18.90 | 3910 |\n",
       "| 2 | 17.00 | 3860 |\n",
       "| 3 | 20.00 | 3510 |\n",
       "| 4 | 18.25 | 3890 |\n",
       "| 5 | 20.07 | 3365 |\n",
       "| 6 | 11.20 | 4215 |\n",
       "\n"
      ],
      "text/plain": [
       "  y     x   \n",
       "1 18.90 3910\n",
       "2 17.00 3860\n",
       "3 20.00 3510\n",
       "4 18.25 3890\n",
       "5 20.07 3365\n",
       "6 11.20 4215"
      ]
     },
     "metadata": {},
     "output_type": "display_data"
    }
   ],
   "source": [
    "df <- data.frame(y=dt$y, x=dt$x10)\n",
    "\n",
    "head(df)"
   ]
  },
  {
   "cell_type": "code",
   "execution_count": 29,
   "id": "611b292e",
   "metadata": {},
   "outputs": [
    {
     "name": "stdout",
     "output_type": "stream",
     "text": [
      "\n",
      "Call:\n",
      "lm(formula = y ~ x, data = df)\n",
      "\n",
      "Coefficients:\n",
      "(Intercept)            x  \n",
      "  40.852431    -0.005752  \n",
      "\n"
     ]
    }
   ],
   "source": [
    "Mileage.lm_2 <- lm(y ~ x, data=df)\n",
    "print(Mileage.lm_2)"
   ]
  },
  {
   "cell_type": "code",
   "execution_count": 30,
   "id": "9aa16695",
   "metadata": {},
   "outputs": [
    {
     "data": {
      "text/plain": [
       "\n",
       "Call:\n",
       "lm(formula = y ~ x, data = df)\n",
       "\n",
       "Residuals:\n",
       "    Min      1Q  Median      3Q     Max \n",
       "-5.4093 -2.0352 -0.6714  3.0807  7.2026 \n",
       "\n",
       "Coefficients:\n",
       "              Estimate Std. Error t value Pr(>|t|)    \n",
       "(Intercept) 40.8524315  2.2789916  17.926  < 2e-16 ***\n",
       "x           -0.0057516  0.0006149  -9.353 2.12e-10 ***\n",
       "---\n",
       "Signif. codes:  0 ‘***’ 0.001 ‘**’ 0.01 ‘*’ 0.05 ‘.’ 0.1 ‘ ’ 1\n",
       "\n",
       "Residual standard error: 3.246 on 30 degrees of freedom\n",
       "Multiple R-squared:  0.7446,\tAdjusted R-squared:  0.7361 \n",
       "F-statistic: 87.48 on 1 and 30 DF,  p-value: 2.121e-10\n"
      ]
     },
     "metadata": {},
     "output_type": "display_data"
    }
   ],
   "source": [
    "summary(Mileage.lm_2)"
   ]
  },
  {
   "cell_type": "markdown",
   "id": "fc0cc96d",
   "metadata": {},
   "source": [
    "### b"
   ]
  },
  {
   "cell_type": "code",
   "execution_count": 31,
   "id": "25ae0e42",
   "metadata": {},
   "outputs": [
    {
     "data": {
      "text/html": [
       "<table class=\"dataframe\">\n",
       "<caption>A anova: 2 × 5</caption>\n",
       "<thead>\n",
       "\t<tr><th></th><th scope=col>Df</th><th scope=col>Sum Sq</th><th scope=col>Mean Sq</th><th scope=col>F value</th><th scope=col>Pr(&gt;F)</th></tr>\n",
       "\t<tr><th></th><th scope=col>&lt;int&gt;</th><th scope=col>&lt;dbl&gt;</th><th scope=col>&lt;dbl&gt;</th><th scope=col>&lt;dbl&gt;</th><th scope=col>&lt;dbl&gt;</th></tr>\n",
       "</thead>\n",
       "<tbody>\n",
       "\t<tr><th scope=row>x</th><td> 1</td><td>921.5279</td><td>921.52790</td><td>87.48235</td><td>2.120672e-10</td></tr>\n",
       "\t<tr><th scope=row>Residuals</th><td>30</td><td>316.0162</td><td> 10.53387</td><td>      NA</td><td>          NA</td></tr>\n",
       "</tbody>\n",
       "</table>\n"
      ],
      "text/latex": [
       "A anova: 2 × 5\n",
       "\\begin{tabular}{r|lllll}\n",
       "  & Df & Sum Sq & Mean Sq & F value & Pr(>F)\\\\\n",
       "  & <int> & <dbl> & <dbl> & <dbl> & <dbl>\\\\\n",
       "\\hline\n",
       "\tx &  1 & 921.5279 & 921.52790 & 87.48235 & 2.120672e-10\\\\\n",
       "\tResiduals & 30 & 316.0162 &  10.53387 &       NA &           NA\\\\\n",
       "\\end{tabular}\n"
      ],
      "text/markdown": [
       "\n",
       "A anova: 2 × 5\n",
       "\n",
       "| <!--/--> | Df &lt;int&gt; | Sum Sq &lt;dbl&gt; | Mean Sq &lt;dbl&gt; | F value &lt;dbl&gt; | Pr(&gt;F) &lt;dbl&gt; |\n",
       "|---|---|---|---|---|---|\n",
       "| x |  1 | 921.5279 | 921.52790 | 87.48235 | 2.120672e-10 |\n",
       "| Residuals | 30 | 316.0162 |  10.53387 |       NA |           NA |\n",
       "\n"
      ],
      "text/plain": [
       "          Df Sum Sq   Mean Sq   F value  Pr(>F)      \n",
       "x          1 921.5279 921.52790 87.48235 2.120672e-10\n",
       "Residuals 30 316.0162  10.53387       NA           NA"
      ]
     },
     "metadata": {},
     "output_type": "display_data"
    }
   ],
   "source": [
    "anova(Mileage.lm_2)"
   ]
  },
  {
   "cell_type": "markdown",
   "id": "3cf52fba",
   "metadata": {},
   "source": [
    "### c"
   ]
  },
  {
   "cell_type": "code",
   "execution_count": 32,
   "id": "70b54fc0",
   "metadata": {},
   "outputs": [
    {
     "data": {
      "text/html": [
       "0.744642484210057"
      ],
      "text/latex": [
       "0.744642484210057"
      ],
      "text/markdown": [
       "0.744642484210057"
      ],
      "text/plain": [
       "[1] 0.7446425"
      ]
     },
     "metadata": {},
     "output_type": "display_data"
    }
   ],
   "source": [
    "summary(Mileage.lm_2)$r.squared"
   ]
  },
  {
   "cell_type": "markdown",
   "id": "51c462de",
   "metadata": {},
   "source": [
    "I would conclude that the first model, that which determines the relationship between cubic inches vs Mileage"
   ]
  },
  {
   "cell_type": "markdown",
   "id": "e3109f5f",
   "metadata": {},
   "source": [
    "## 2.6"
   ]
  },
  {
   "cell_type": "code",
   "execution_count": 33,
   "id": "097c1d97",
   "metadata": {},
   "outputs": [
    {
     "data": {
      "text/html": [
       "<table class=\"dataframe\">\n",
       "<caption>A data.frame: 6 × 2</caption>\n",
       "<thead>\n",
       "\t<tr><th></th><th scope=col>y</th><th scope=col>x</th></tr>\n",
       "\t<tr><th></th><th scope=col>&lt;dbl&gt;</th><th scope=col>&lt;dbl&gt;</th></tr>\n",
       "</thead>\n",
       "<tbody>\n",
       "\t<tr><th scope=row>1</th><td>29.5</td><td>5.0208</td></tr>\n",
       "\t<tr><th scope=row>2</th><td>27.9</td><td>4.5429</td></tr>\n",
       "\t<tr><th scope=row>3</th><td>25.9</td><td>4.5573</td></tr>\n",
       "\t<tr><th scope=row>4</th><td>29.9</td><td>5.0597</td></tr>\n",
       "\t<tr><th scope=row>5</th><td>29.9</td><td>3.8910</td></tr>\n",
       "\t<tr><th scope=row>6</th><td>30.9</td><td>5.8980</td></tr>\n",
       "</tbody>\n",
       "</table>\n"
      ],
      "text/latex": [
       "A data.frame: 6 × 2\n",
       "\\begin{tabular}{r|ll}\n",
       "  & y & x\\\\\n",
       "  & <dbl> & <dbl>\\\\\n",
       "\\hline\n",
       "\t1 & 29.5 & 5.0208\\\\\n",
       "\t2 & 27.9 & 4.5429\\\\\n",
       "\t3 & 25.9 & 4.5573\\\\\n",
       "\t4 & 29.9 & 5.0597\\\\\n",
       "\t5 & 29.9 & 3.8910\\\\\n",
       "\t6 & 30.9 & 5.8980\\\\\n",
       "\\end{tabular}\n"
      ],
      "text/markdown": [
       "\n",
       "A data.frame: 6 × 2\n",
       "\n",
       "| <!--/--> | y &lt;dbl&gt; | x &lt;dbl&gt; |\n",
       "|---|---|---|\n",
       "| 1 | 29.5 | 5.0208 |\n",
       "| 2 | 27.9 | 4.5429 |\n",
       "| 3 | 25.9 | 4.5573 |\n",
       "| 4 | 29.9 | 5.0597 |\n",
       "| 5 | 29.9 | 3.8910 |\n",
       "| 6 | 30.9 | 5.8980 |\n",
       "\n"
      ],
      "text/plain": [
       "  y    x     \n",
       "1 29.5 5.0208\n",
       "2 27.9 4.5429\n",
       "3 25.9 4.5573\n",
       "4 29.9 5.0597\n",
       "5 29.9 3.8910\n",
       "6 30.9 5.8980"
      ]
     },
     "metadata": {},
     "output_type": "display_data"
    }
   ],
   "source": [
    "dt <- read_excel('../linear_regression_5e_data_sets/Appendices/data-table-B4.XLS')\n",
    "\n",
    "df <- data.frame(y=dt$y, x=dt$x1)\n",
    "\n",
    "head(df)"
   ]
  },
  {
   "cell_type": "markdown",
   "id": "5c6b515e",
   "metadata": {},
   "source": [
    "### a"
   ]
  },
  {
   "cell_type": "code",
   "execution_count": 34,
   "id": "d0060b17",
   "metadata": {},
   "outputs": [
    {
     "name": "stdout",
     "output_type": "stream",
     "text": [
      "\n",
      "Call:\n",
      "lm(formula = y ~ x, data = df)\n",
      "\n",
      "Coefficients:\n",
      "(Intercept)            x  \n",
      "     13.320        3.324  \n",
      "\n"
     ]
    }
   ],
   "source": [
    "House.lm <- lm(y ~ x, data=df)\n",
    "print(House.lm)"
   ]
  },
  {
   "cell_type": "markdown",
   "id": "4bdf38ed",
   "metadata": {},
   "source": [
    "### b"
   ]
  },
  {
   "cell_type": "code",
   "execution_count": 35,
   "id": "03403086",
   "metadata": {},
   "outputs": [
    {
     "data": {
      "text/plain": [
       "\n",
       "Call:\n",
       "lm(formula = y ~ x, data = df)\n",
       "\n",
       "Residuals:\n",
       "    Min      1Q  Median      3Q     Max \n",
       "-3.8343 -2.3157 -0.3669  1.9787  6.3168 \n",
       "\n",
       "Coefficients:\n",
       "            Estimate Std. Error t value Pr(>|t|)    \n",
       "(Intercept)  13.3202     2.5717   5.179 3.42e-05 ***\n",
       "x             3.3244     0.3903   8.518 2.05e-08 ***\n",
       "---\n",
       "Signif. codes:  0 ‘***’ 0.001 ‘**’ 0.01 ‘*’ 0.05 ‘.’ 0.1 ‘ ’ 1\n",
       "\n",
       "Residual standard error: 2.961 on 22 degrees of freedom\n",
       "Multiple R-squared:  0.7673,\tAdjusted R-squared:  0.7568 \n",
       "F-statistic: 72.56 on 1 and 22 DF,  p-value: 2.051e-08\n"
      ]
     },
     "metadata": {},
     "output_type": "display_data"
    }
   ],
   "source": [
    "summary(House.lm)"
   ]
  },
  {
   "cell_type": "code",
   "execution_count": 36,
   "id": "54d2083e",
   "metadata": {},
   "outputs": [
    {
     "data": {
      "text/html": [
       "<table class=\"dataframe\">\n",
       "<caption>A anova: 2 × 5</caption>\n",
       "<thead>\n",
       "\t<tr><th></th><th scope=col>Df</th><th scope=col>Sum Sq</th><th scope=col>Mean Sq</th><th scope=col>F value</th><th scope=col>Pr(&gt;F)</th></tr>\n",
       "\t<tr><th></th><th scope=col>&lt;int&gt;</th><th scope=col>&lt;dbl&gt;</th><th scope=col>&lt;dbl&gt;</th><th scope=col>&lt;dbl&gt;</th><th scope=col>&lt;dbl&gt;</th></tr>\n",
       "</thead>\n",
       "<tbody>\n",
       "\t<tr><th scope=row>x</th><td> 1</td><td>636.1557</td><td>636.155685</td><td>72.5563</td><td>2.051257e-08</td></tr>\n",
       "\t<tr><th scope=row>Residuals</th><td>22</td><td>192.8906</td><td>  8.767753</td><td>     NA</td><td>          NA</td></tr>\n",
       "</tbody>\n",
       "</table>\n"
      ],
      "text/latex": [
       "A anova: 2 × 5\n",
       "\\begin{tabular}{r|lllll}\n",
       "  & Df & Sum Sq & Mean Sq & F value & Pr(>F)\\\\\n",
       "  & <int> & <dbl> & <dbl> & <dbl> & <dbl>\\\\\n",
       "\\hline\n",
       "\tx &  1 & 636.1557 & 636.155685 & 72.5563 & 2.051257e-08\\\\\n",
       "\tResiduals & 22 & 192.8906 &   8.767753 &      NA &           NA\\\\\n",
       "\\end{tabular}\n"
      ],
      "text/markdown": [
       "\n",
       "A anova: 2 × 5\n",
       "\n",
       "| <!--/--> | Df &lt;int&gt; | Sum Sq &lt;dbl&gt; | Mean Sq &lt;dbl&gt; | F value &lt;dbl&gt; | Pr(&gt;F) &lt;dbl&gt; |\n",
       "|---|---|---|---|---|---|\n",
       "| x |  1 | 636.1557 | 636.155685 | 72.5563 | 2.051257e-08 |\n",
       "| Residuals | 22 | 192.8906 |   8.767753 |      NA |           NA |\n",
       "\n"
      ],
      "text/plain": [
       "          Df Sum Sq   Mean Sq    F value Pr(>F)      \n",
       "x          1 636.1557 636.155685 72.5563 2.051257e-08\n",
       "Residuals 22 192.8906   8.767753      NA           NA"
      ]
     },
     "metadata": {},
     "output_type": "display_data"
    }
   ],
   "source": [
    "anova(House.lm)"
   ]
  },
  {
   "cell_type": "markdown",
   "id": "979bb991",
   "metadata": {},
   "source": [
    "### c"
   ]
  },
  {
   "cell_type": "code",
   "execution_count": 37,
   "id": "ead97966",
   "metadata": {},
   "outputs": [
    {
     "data": {
      "text/html": [
       "0.767334373753201"
      ],
      "text/latex": [
       "0.767334373753201"
      ],
      "text/markdown": [
       "0.767334373753201"
      ],
      "text/plain": [
       "[1] 0.7673344"
      ]
     },
     "metadata": {},
     "output_type": "display_data"
    }
   ],
   "source": [
    "summary(House.lm)$r.squared"
   ]
  },
  {
   "cell_type": "markdown",
   "id": "d963c6ad",
   "metadata": {},
   "source": [
    "### d"
   ]
  },
  {
   "cell_type": "code",
   "execution_count": 38,
   "id": "f68a288d",
   "metadata": {},
   "outputs": [
    {
     "data": {
      "text/html": [
       "<table class=\"dataframe\">\n",
       "<caption>A matrix: 2 × 2 of type dbl</caption>\n",
       "<thead>\n",
       "\t<tr><th></th><th scope=col>2.5 %</th><th scope=col>97.5 %</th></tr>\n",
       "</thead>\n",
       "<tbody>\n",
       "\t<tr><th scope=row>(Intercept)</th><td>7.986755</td><td>18.653604</td></tr>\n",
       "\t<tr><th scope=row>x</th><td>2.514988</td><td> 4.133754</td></tr>\n",
       "</tbody>\n",
       "</table>\n"
      ],
      "text/latex": [
       "A matrix: 2 × 2 of type dbl\n",
       "\\begin{tabular}{r|ll}\n",
       "  & 2.5 \\% & 97.5 \\%\\\\\n",
       "\\hline\n",
       "\t(Intercept) & 7.986755 & 18.653604\\\\\n",
       "\tx & 2.514988 &  4.133754\\\\\n",
       "\\end{tabular}\n"
      ],
      "text/markdown": [
       "\n",
       "A matrix: 2 × 2 of type dbl\n",
       "\n",
       "| <!--/--> | 2.5 % | 97.5 % |\n",
       "|---|---|---|\n",
       "| (Intercept) | 7.986755 | 18.653604 |\n",
       "| x | 2.514988 |  4.133754 |\n",
       "\n"
      ],
      "text/plain": [
       "            2.5 %    97.5 %   \n",
       "(Intercept) 7.986755 18.653604\n",
       "x           2.514988  4.133754"
      ]
     },
     "metadata": {},
     "output_type": "display_data"
    }
   ],
   "source": [
    "confint(House.lm, level=0.95)"
   ]
  },
  {
   "cell_type": "markdown",
   "id": "7d9e04c0",
   "metadata": {},
   "source": [
    "### e"
   ]
  },
  {
   "cell_type": "code",
   "execution_count": 39,
   "id": "75b216e7",
   "metadata": {},
   "outputs": [
    {
     "name": "stdout",
     "output_type": "stream",
     "text": [
      "       fit      lwr      upr\n",
      "1 15.81346 11.06792 20.55899\n"
     ]
    }
   ],
   "source": [
    "pred <- predict(House.lm, data.frame(x = c(.75)), interval=\"confidence\", level=0.95)\n",
    "print(pred)"
   ]
  },
  {
   "cell_type": "markdown",
   "id": "bf8ddfe0",
   "metadata": {},
   "source": [
    "## 2.7"
   ]
  },
  {
   "cell_type": "code",
   "execution_count": 48,
   "id": "9fcf931a",
   "metadata": {},
   "outputs": [
    {
     "data": {
      "text/html": [
       "<table class=\"dataframe\">\n",
       "<caption>A data.frame: 6 × 2</caption>\n",
       "<thead>\n",
       "\t<tr><th></th><th scope=col>hydro</th><th scope=col>purity</th></tr>\n",
       "\t<tr><th></th><th scope=col>&lt;dbl&gt;</th><th scope=col>&lt;dbl&gt;</th></tr>\n",
       "</thead>\n",
       "<tbody>\n",
       "\t<tr><th scope=row>1</th><td>1.02</td><td>86.91</td></tr>\n",
       "\t<tr><th scope=row>2</th><td>1.11</td><td>89.85</td></tr>\n",
       "\t<tr><th scope=row>3</th><td>1.43</td><td>90.28</td></tr>\n",
       "\t<tr><th scope=row>4</th><td>1.11</td><td>86.34</td></tr>\n",
       "\t<tr><th scope=row>5</th><td>1.01</td><td>92.58</td></tr>\n",
       "\t<tr><th scope=row>6</th><td>0.95</td><td>87.33</td></tr>\n",
       "</tbody>\n",
       "</table>\n"
      ],
      "text/latex": [
       "A data.frame: 6 × 2\n",
       "\\begin{tabular}{r|ll}\n",
       "  & hydro & purity\\\\\n",
       "  & <dbl> & <dbl>\\\\\n",
       "\\hline\n",
       "\t1 & 1.02 & 86.91\\\\\n",
       "\t2 & 1.11 & 89.85\\\\\n",
       "\t3 & 1.43 & 90.28\\\\\n",
       "\t4 & 1.11 & 86.34\\\\\n",
       "\t5 & 1.01 & 92.58\\\\\n",
       "\t6 & 0.95 & 87.33\\\\\n",
       "\\end{tabular}\n"
      ],
      "text/markdown": [
       "\n",
       "A data.frame: 6 × 2\n",
       "\n",
       "| <!--/--> | hydro &lt;dbl&gt; | purity &lt;dbl&gt; |\n",
       "|---|---|---|\n",
       "| 1 | 1.02 | 86.91 |\n",
       "| 2 | 1.11 | 89.85 |\n",
       "| 3 | 1.43 | 90.28 |\n",
       "| 4 | 1.11 | 86.34 |\n",
       "| 5 | 1.01 | 92.58 |\n",
       "| 6 | 0.95 | 87.33 |\n",
       "\n"
      ],
      "text/plain": [
       "  hydro purity\n",
       "1 1.02  86.91 \n",
       "2 1.11  89.85 \n",
       "3 1.43  90.28 \n",
       "4 1.11  86.34 \n",
       "5 1.01  92.58 \n",
       "6 0.95  87.33 "
      ]
     },
     "metadata": {},
     "output_type": "display_data"
    }
   ],
   "source": [
    "hydro_vec <- c(1.02,1.11,1.43,1.11,1.01,0.95,1.11,0.87,1.43,1.02,\n",
    "               1.46,1.55,1.55,1.55,1.4,1.15,1.01,0.99,0.95,0.98)\n",
    "purity_vec <- c(86.91,89.85,90.28,86.34,92.58,87.33,86.29,91.86,\n",
    "                95.61,89.86,96.73,99.42,98.66,96.07,93.65,87.31,95,96.85,85.2,90.56)\n",
    "Oxygen.df <- data.frame(hydro=hydro_vec, purity=purity_vec)\n",
    "head(Oxygen.df)"
   ]
  },
  {
   "cell_type": "markdown",
   "id": "e31b54dc",
   "metadata": {},
   "source": [
    "### a"
   ]
  },
  {
   "cell_type": "code",
   "execution_count": 49,
   "id": "dde058e3",
   "metadata": {},
   "outputs": [
    {
     "name": "stdout",
     "output_type": "stream",
     "text": [
      "\n",
      "Call:\n",
      "lm(formula = purity ~ hydro, data = Oxygen.df)\n",
      "\n",
      "Coefficients:\n",
      "(Intercept)        hydro  \n",
      "      77.86        11.80  \n",
      "\n"
     ]
    }
   ],
   "source": [
    "Oxygen.lm <- lm(purity ~ hydro, data=Oxygen.df)\n",
    "print(Oxygen.lm)"
   ]
  },
  {
   "cell_type": "code",
   "execution_count": 50,
   "id": "5b4fe293",
   "metadata": {},
   "outputs": [
    {
     "data": {
      "image/png": "[encoded data removed]",
      "text/plain": [
       "plot without title"
      ]
     },
     "metadata": {
      "image/png": {
       "height": 420,
       "width": 420
      }
     },
     "output_type": "display_data"
    }
   ],
   "source": [
    "plot(x=Oxygen.df$hydro, y=Oxygen.df$purity)\n",
    "abline(Oxygen.lm)"
   ]
  },
  {
   "cell_type": "markdown",
   "id": "7ab0245b",
   "metadata": {},
   "source": [
    "### b"
   ]
  },
  {
   "cell_type": "code",
   "execution_count": 51,
   "id": "6b7d8e7d",
   "metadata": {},
   "outputs": [
    {
     "data": {
      "text/plain": [
       "\n",
       "Call:\n",
       "lm(formula = purity ~ hydro, data = Oxygen.df)\n",
       "\n",
       "Residuals:\n",
       "    Min      1Q  Median      3Q     Max \n",
       "-4.6724 -3.2113 -0.0626  2.5783  7.3037 \n",
       "\n",
       "Coefficients:\n",
       "            Estimate Std. Error t value Pr(>|t|)    \n",
       "(Intercept)   77.863      4.199  18.544 3.54e-13 ***\n",
       "hydro         11.801      3.485   3.386  0.00329 ** \n",
       "---\n",
       "Signif. codes:  0 ‘***’ 0.001 ‘**’ 0.01 ‘*’ 0.05 ‘.’ 0.1 ‘ ’ 1\n",
       "\n",
       "Residual standard error: 3.597 on 18 degrees of freedom\n",
       "Multiple R-squared:  0.3891,\tAdjusted R-squared:  0.3552 \n",
       "F-statistic: 11.47 on 1 and 18 DF,  p-value: 0.003291\n"
      ]
     },
     "metadata": {},
     "output_type": "display_data"
    }
   ],
   "source": [
    "summary(Oxygen.lm)"
   ]
  },
  {
   "cell_type": "markdown",
   "id": "8941db43",
   "metadata": {},
   "source": [
    "### c"
   ]
  },
  {
   "cell_type": "code",
   "execution_count": 52,
   "id": "165a2d0d",
   "metadata": {},
   "outputs": [
    {
     "data": {
      "text/html": [
       "0.389122405808525"
      ],
      "text/latex": [
       "0.389122405808525"
      ],
      "text/markdown": [
       "0.389122405808525"
      ],
      "text/plain": [
       "[1] 0.3891224"
      ]
     },
     "metadata": {},
     "output_type": "display_data"
    }
   ],
   "source": [
    "summary(Oxygen.lm)$r.squared"
   ]
  },
  {
   "cell_type": "markdown",
   "id": "cc72863e",
   "metadata": {},
   "source": [
    "### d"
   ]
  },
  {
   "cell_type": "code",
   "execution_count": 53,
   "id": "3d5b1970",
   "metadata": {},
   "outputs": [
    {
     "data": {
      "text/html": [
       "<table class=\"dataframe\">\n",
       "<caption>A matrix: 2 × 2 of type dbl</caption>\n",
       "<thead>\n",
       "\t<tr><th></th><th scope=col>2.5 %</th><th scope=col>97.5 %</th></tr>\n",
       "</thead>\n",
       "<tbody>\n",
       "\t<tr><th scope=row>(Intercept)</th><td>69.041747</td><td>86.68482</td></tr>\n",
       "\t<tr><th scope=row>hydro</th><td> 4.479066</td><td>19.12299</td></tr>\n",
       "</tbody>\n",
       "</table>\n"
      ],
      "text/latex": [
       "A matrix: 2 × 2 of type dbl\n",
       "\\begin{tabular}{r|ll}\n",
       "  & 2.5 \\% & 97.5 \\%\\\\\n",
       "\\hline\n",
       "\t(Intercept) & 69.041747 & 86.68482\\\\\n",
       "\thydro &  4.479066 & 19.12299\\\\\n",
       "\\end{tabular}\n"
      ],
      "text/markdown": [
       "\n",
       "A matrix: 2 × 2 of type dbl\n",
       "\n",
       "| <!--/--> | 2.5 % | 97.5 % |\n",
       "|---|---|---|\n",
       "| (Intercept) | 69.041747 | 86.68482 |\n",
       "| hydro |  4.479066 | 19.12299 |\n",
       "\n"
      ],
      "text/plain": [
       "            2.5 %     97.5 %  \n",
       "(Intercept) 69.041747 86.68482\n",
       "hydro        4.479066 19.12299"
      ]
     },
     "metadata": {},
     "output_type": "display_data"
    }
   ],
   "source": [
    "confint(Oxygen.lm)"
   ]
  },
  {
   "cell_type": "markdown",
   "id": "76f1c9ff",
   "metadata": {},
   "source": [
    "### e"
   ]
  },
  {
   "cell_type": "code",
   "execution_count": 54,
   "id": "3d100867",
   "metadata": {},
   "outputs": [
    {
     "data": {
      "text/html": [
       "<table class=\"dataframe\">\n",
       "<caption>A matrix: 1 × 3 of type dbl</caption>\n",
       "<thead>\n",
       "\t<tr><th></th><th scope=col>fit</th><th scope=col>lwr</th><th scope=col>upr</th></tr>\n",
       "</thead>\n",
       "<tbody>\n",
       "\t<tr><th scope=row>1</th><td>89.66431</td><td>87.51017</td><td>91.81845</td></tr>\n",
       "</tbody>\n",
       "</table>\n"
      ],
      "text/latex": [
       "A matrix: 1 × 3 of type dbl\n",
       "\\begin{tabular}{r|lll}\n",
       "  & fit & lwr & upr\\\\\n",
       "\\hline\n",
       "\t1 & 89.66431 & 87.51017 & 91.81845\\\\\n",
       "\\end{tabular}\n"
      ],
      "text/markdown": [
       "\n",
       "A matrix: 1 × 3 of type dbl\n",
       "\n",
       "| <!--/--> | fit | lwr | upr |\n",
       "|---|---|---|---|\n",
       "| 1 | 89.66431 | 87.51017 | 91.81845 |\n",
       "\n"
      ],
      "text/plain": [
       "  fit      lwr      upr     \n",
       "1 89.66431 87.51017 91.81845"
      ]
     },
     "metadata": {},
     "output_type": "display_data"
    }
   ],
   "source": [
    "predict(Oxygen.lm, data.frame(hydro=c(1.00)), interval=\"confidence\", level=0.95)"
   ]
  },
  {
   "cell_type": "markdown",
   "id": "4710b5aa",
   "metadata": {},
   "source": [
    "## 2.8"
   ]
  },
  {
   "cell_type": "markdown",
   "id": "a9adf9ad",
   "metadata": {},
   "source": [
    "### a"
   ]
  },
  {
   "cell_type": "code",
   "execution_count": 57,
   "id": "30982c82",
   "metadata": {},
   "outputs": [
    {
     "data": {
      "text/html": [
       "0.62379676643"
      ],
      "text/latex": [
       "0.62379676643"
      ],
      "text/markdown": [
       "0.62379676643"
      ],
      "text/plain": [
       "[1] 0.6237968"
      ]
     },
     "metadata": {},
     "output_type": "display_data"
    }
   ],
   "source": [
    "cor(Oxygen.df$hydro, Oxygen.df$purity)"
   ]
  },
  {
   "cell_type": "markdown",
   "id": "91f8da1e",
   "metadata": {},
   "source": [
    "### b"
   ]
  },
  {
   "cell_type": "code",
   "execution_count": 58,
   "id": "10fe964d",
   "metadata": {},
   "outputs": [
    {
     "data": {
      "text/plain": [
       "\n",
       "\tPearson's product-moment correlation\n",
       "\n",
       "data:  Oxygen.df$hydro and Oxygen.df$purity\n",
       "t = 3.3861, df = 18, p-value = 0.003291\n",
       "alternative hypothesis: true correlation is not equal to 0\n",
       "95 percent confidence interval:\n",
       " 0.2503961 0.8356439\n",
       "sample estimates:\n",
       "      cor \n",
       "0.6237968 \n"
      ]
     },
     "metadata": {},
     "output_type": "display_data"
    }
   ],
   "source": [
    "cor.test(Oxygen.df$hydro, Oxygen.df$purity)"
   ]
  },
  {
   "cell_type": "markdown",
   "id": "8a5435a8",
   "metadata": {},
   "source": [
    "### c"
   ]
  },
  {
   "cell_type": "code",
   "execution_count": 82,
   "id": "f39f27b8",
   "metadata": {},
   "outputs": [
    {
     "name": "stdout",
     "output_type": "stream",
     "text": [
      "[1] 0.6237968\n"
     ]
    }
   ],
   "source": [
    "# To calculate confidence interval for p to 95%\n",
    "Oxygen.cor <- cor(Oxygen.df$hydro, Oxygen.df$purity)\n",
    "print(Oxygen.cor)"
   ]
  },
  {
   "cell_type": "code",
   "execution_count": 83,
   "id": "ff722921",
   "metadata": {},
   "outputs": [
    {
     "name": "stdout",
     "output_type": "stream",
     "text": [
      "[1] 1.959964\n"
     ]
    }
   ],
   "source": [
    "alpha <- 0.95\n",
    "Z <- qnorm(1-(1 - alpha)/2)\n",
    "print(Z)"
   ]
  },
  {
   "cell_type": "code",
   "execution_count": 84,
   "id": "d2950b04",
   "metadata": {},
   "outputs": [
    {
     "name": "stdout",
     "output_type": "stream",
     "text": [
      "[1] 20\n"
     ]
    }
   ],
   "source": [
    "n <- nrow(Oxygen.df)\n",
    "print(n)"
   ]
  },
  {
   "cell_type": "code",
   "execution_count": 88,
   "id": "c48f6399",
   "metadata": {},
   "outputs": [
    {
     "data": {
      "text/html": [
       "0.835744243619632"
      ],
      "text/latex": [
       "0.835744243619632"
      ],
      "text/markdown": [
       "0.835744243619632"
      ],
      "text/plain": [
       "[1] 0.8357442"
      ]
     },
     "metadata": {},
     "output_type": "display_data"
    }
   ],
   "source": [
    "tanh(atanh(.624) + (Z / sqrt(n - 3)))"
   ]
  },
  {
   "cell_type": "code",
   "execution_count": 89,
   "id": "c606a40e",
   "metadata": {},
   "outputs": [
    {
     "data": {
      "text/html": [
       "0.2507079475118"
      ],
      "text/latex": [
       "0.2507079475118"
      ],
      "text/markdown": [
       "0.2507079475118"
      ],
      "text/plain": [
       "[1] 0.2507079"
      ]
     },
     "metadata": {},
     "output_type": "display_data"
    }
   ],
   "source": [
    "tanh(atanh(.624) - (Z / sqrt(n - 3)))"
   ]
  },
  {
   "cell_type": "markdown",
   "id": "7e909123",
   "metadata": {},
   "source": [
    "## 2.9"
   ]
  },
  {
   "cell_type": "code",
   "execution_count": 91,
   "id": "f1979f24",
   "metadata": {},
   "outputs": [
    {
     "data": {
      "text/html": [
       "<table class=\"dataframe\">\n",
       "<caption>A data.frame: 6 × 2</caption>\n",
       "<thead>\n",
       "\t<tr><th></th><th scope=col>y</th><th scope=col>x</th></tr>\n",
       "\t<tr><th></th><th scope=col>&lt;dbl&gt;</th><th scope=col>&lt;dbl&gt;</th></tr>\n",
       "</thead>\n",
       "<tbody>\n",
       "\t<tr><th scope=row>1</th><td>16.68</td><td>7</td></tr>\n",
       "\t<tr><th scope=row>2</th><td>11.50</td><td>3</td></tr>\n",
       "\t<tr><th scope=row>3</th><td>12.03</td><td>3</td></tr>\n",
       "\t<tr><th scope=row>4</th><td>14.88</td><td>4</td></tr>\n",
       "\t<tr><th scope=row>5</th><td>13.75</td><td>6</td></tr>\n",
       "\t<tr><th scope=row>6</th><td>18.11</td><td>7</td></tr>\n",
       "</tbody>\n",
       "</table>\n"
      ],
      "text/latex": [
       "A data.frame: 6 × 2\n",
       "\\begin{tabular}{r|ll}\n",
       "  & y & x\\\\\n",
       "  & <dbl> & <dbl>\\\\\n",
       "\\hline\n",
       "\t1 & 16.68 & 7\\\\\n",
       "\t2 & 11.50 & 3\\\\\n",
       "\t3 & 12.03 & 3\\\\\n",
       "\t4 & 14.88 & 4\\\\\n",
       "\t5 & 13.75 & 6\\\\\n",
       "\t6 & 18.11 & 7\\\\\n",
       "\\end{tabular}\n"
      ],
      "text/markdown": [
       "\n",
       "A data.frame: 6 × 2\n",
       "\n",
       "| <!--/--> | y &lt;dbl&gt; | x &lt;dbl&gt; |\n",
       "|---|---|---|\n",
       "| 1 | 16.68 | 7 |\n",
       "| 2 | 11.50 | 3 |\n",
       "| 3 | 12.03 | 3 |\n",
       "| 4 | 14.88 | 4 |\n",
       "| 5 | 13.75 | 6 |\n",
       "| 6 | 18.11 | 7 |\n",
       "\n"
      ],
      "text/plain": [
       "  y     x\n",
       "1 16.68 7\n",
       "2 11.50 3\n",
       "3 12.03 3\n",
       "4 14.88 4\n",
       "5 13.75 6\n",
       "6 18.11 7"
      ]
     },
     "metadata": {},
     "output_type": "display_data"
    }
   ],
   "source": [
    "SoftDrink.DataTable <- read_excel('../linear_regression_5e_data_sets/Chapter 2/Examples/data-ex-2-9 (Delivery Time).xls')\n",
    "\n",
    "SoftDrink.df <- data.frame(\n",
    "    y=SoftDrink.DataTable$'Delivery Time, y', \n",
    "    x=SoftDrink.DataTable$'Number of Cases, x')\n",
    "\n",
    "head(SoftDrink.df)"
   ]
  },
  {
   "cell_type": "code",
   "execution_count": 97,
   "id": "1156d5fa",
   "metadata": {},
   "outputs": [
    {
     "data": {
      "text/plain": [
       "\n",
       "Call:\n",
       "lm(formula = y ~ 0 + x, data = SoftDrink.df)\n",
       "\n",
       "Residuals:\n",
       "     Min       1Q   Median       3Q      Max \n",
       "-10.4497  -0.2195   1.7025   4.2573   9.4289 \n",
       "\n",
       "Coefficients:\n",
       "  Estimate Std. Error t value Pr(>|t|)    \n",
       "x  2.41422    0.08297    29.1   <2e-16 ***\n",
       "---\n",
       "Signif. codes:  0 ‘***’ 0.001 ‘**’ 0.01 ‘*’ 0.05 ‘.’ 0.1 ‘ ’ 1\n",
       "\n",
       "Residual standard error: 4.586 on 24 degrees of freedom\n",
       "Multiple R-squared:  0.9724,\tAdjusted R-squared:  0.9713 \n",
       "F-statistic: 846.7 on 1 and 24 DF,  p-value: < 2.2e-16\n"
      ]
     },
     "metadata": {},
     "output_type": "display_data"
    },
    {
     "data": {
      "text/html": [
       "<table class=\"dataframe\">\n",
       "<caption>A anova: 2 × 5</caption>\n",
       "<thead>\n",
       "\t<tr><th></th><th scope=col>Df</th><th scope=col>Sum Sq</th><th scope=col>Mean Sq</th><th scope=col>F value</th><th scope=col>Pr(&gt;F)</th></tr>\n",
       "\t<tr><th></th><th scope=col>&lt;int&gt;</th><th scope=col>&lt;dbl&gt;</th><th scope=col>&lt;dbl&gt;</th><th scope=col>&lt;dbl&gt;</th><th scope=col>&lt;dbl&gt;</th></tr>\n",
       "</thead>\n",
       "<tbody>\n",
       "\t<tr><th scope=row>x</th><td> 1</td><td>17805.9297</td><td>17805.92969</td><td>846.7266</td><td>3.139513e-20</td></tr>\n",
       "\t<tr><th scope=row>Residuals</th><td>24</td><td>  504.6993</td><td>   21.02914</td><td>      NA</td><td>          NA</td></tr>\n",
       "</tbody>\n",
       "</table>\n"
      ],
      "text/latex": [
       "A anova: 2 × 5\n",
       "\\begin{tabular}{r|lllll}\n",
       "  & Df & Sum Sq & Mean Sq & F value & Pr(>F)\\\\\n",
       "  & <int> & <dbl> & <dbl> & <dbl> & <dbl>\\\\\n",
       "\\hline\n",
       "\tx &  1 & 17805.9297 & 17805.92969 & 846.7266 & 3.139513e-20\\\\\n",
       "\tResiduals & 24 &   504.6993 &    21.02914 &       NA &           NA\\\\\n",
       "\\end{tabular}\n"
      ],
      "text/markdown": [
       "\n",
       "A anova: 2 × 5\n",
       "\n",
       "| <!--/--> | Df &lt;int&gt; | Sum Sq &lt;dbl&gt; | Mean Sq &lt;dbl&gt; | F value &lt;dbl&gt; | Pr(&gt;F) &lt;dbl&gt; |\n",
       "|---|---|---|---|---|---|\n",
       "| x |  1 | 17805.9297 | 17805.92969 | 846.7266 | 3.139513e-20 |\n",
       "| Residuals | 24 |   504.6993 |    21.02914 |       NA |           NA |\n",
       "\n"
      ],
      "text/plain": [
       "          Df Sum Sq     Mean Sq     F value  Pr(>F)      \n",
       "x          1 17805.9297 17805.92969 846.7266 3.139513e-20\n",
       "Residuals 24   504.6993    21.02914       NA           NA"
      ]
     },
     "metadata": {},
     "output_type": "display_data"
    }
   ],
   "source": [
    "SoftDrink.lmNoIntercept <- lm(y ~ 0 + x, data=SoftDrink.df)\n",
    "summary(SoftDrink.lmNoIntercept)\n",
    "anova(SoftDrink.lmNoIntercept)"
   ]
  },
  {
   "cell_type": "code",
   "execution_count": 98,
   "id": "23864969",
   "metadata": {},
   "outputs": [
    {
     "data": {
      "text/plain": [
       "\n",
       "Call:\n",
       "lm(formula = y ~ x, data = SoftDrink.df)\n",
       "\n",
       "Residuals:\n",
       "    Min      1Q  Median      3Q     Max \n",
       "-7.5811 -1.8739 -0.3493  2.1807 10.6342 \n",
       "\n",
       "Coefficients:\n",
       "            Estimate Std. Error t value Pr(>|t|)    \n",
       "(Intercept)    3.321      1.371   2.422   0.0237 *  \n",
       "x              2.176      0.124  17.546 8.22e-15 ***\n",
       "---\n",
       "Signif. codes:  0 ‘***’ 0.001 ‘**’ 0.01 ‘*’ 0.05 ‘.’ 0.1 ‘ ’ 1\n",
       "\n",
       "Residual standard error: 4.181 on 23 degrees of freedom\n",
       "Multiple R-squared:  0.9305,\tAdjusted R-squared:  0.9275 \n",
       "F-statistic: 307.8 on 1 and 23 DF,  p-value: 8.22e-15\n"
      ]
     },
     "metadata": {},
     "output_type": "display_data"
    },
    {
     "data": {
      "text/html": [
       "<table class=\"dataframe\">\n",
       "<caption>A anova: 2 × 5</caption>\n",
       "<thead>\n",
       "\t<tr><th></th><th scope=col>Df</th><th scope=col>Sum Sq</th><th scope=col>Mean Sq</th><th scope=col>F value</th><th scope=col>Pr(&gt;F)</th></tr>\n",
       "\t<tr><th></th><th scope=col>&lt;int&gt;</th><th scope=col>&lt;dbl&gt;</th><th scope=col>&lt;dbl&gt;</th><th scope=col>&lt;dbl&gt;</th><th scope=col>&lt;dbl&gt;</th></tr>\n",
       "</thead>\n",
       "<tbody>\n",
       "\t<tr><th scope=row>x</th><td> 1</td><td>5382.4088</td><td>5382.40880</td><td>307.8463</td><td>8.220192e-15</td></tr>\n",
       "\t<tr><th scope=row>Residuals</th><td>23</td><td> 402.1338</td><td>  17.48408</td><td>      NA</td><td>          NA</td></tr>\n",
       "</tbody>\n",
       "</table>\n"
      ],
      "text/latex": [
       "A anova: 2 × 5\n",
       "\\begin{tabular}{r|lllll}\n",
       "  & Df & Sum Sq & Mean Sq & F value & Pr(>F)\\\\\n",
       "  & <int> & <dbl> & <dbl> & <dbl> & <dbl>\\\\\n",
       "\\hline\n",
       "\tx &  1 & 5382.4088 & 5382.40880 & 307.8463 & 8.220192e-15\\\\\n",
       "\tResiduals & 23 &  402.1338 &   17.48408 &       NA &           NA\\\\\n",
       "\\end{tabular}\n"
      ],
      "text/markdown": [
       "\n",
       "A anova: 2 × 5\n",
       "\n",
       "| <!--/--> | Df &lt;int&gt; | Sum Sq &lt;dbl&gt; | Mean Sq &lt;dbl&gt; | F value &lt;dbl&gt; | Pr(&gt;F) &lt;dbl&gt; |\n",
       "|---|---|---|---|---|---|\n",
       "| x |  1 | 5382.4088 | 5382.40880 | 307.8463 | 8.220192e-15 |\n",
       "| Residuals | 23 |  402.1338 |   17.48408 |       NA |           NA |\n",
       "\n"
      ],
      "text/plain": [
       "          Df Sum Sq    Mean Sq    F value  Pr(>F)      \n",
       "x          1 5382.4088 5382.40880 307.8463 8.220192e-15\n",
       "Residuals 23  402.1338   17.48408       NA           NA"
      ]
     },
     "metadata": {},
     "output_type": "display_data"
    }
   ],
   "source": [
    "SoftDrink.lm <- lm(y ~ x, data=SoftDrink.df)\n",
    "summary(SoftDrink.lm)\n",
    "anova(SoftDrink.lm)"
   ]
  },
  {
   "cell_type": "code",
   "execution_count": 103,
   "id": "241475ff",
   "metadata": {},
   "outputs": [],
   "source": [
    "SoftDrink.lm.rsquared <- summary(SoftDrink.lm)$r.squared\n",
    "SoftDrink.lmNoIntercept.rsquared <- summary(SoftDrink.lmNoIntercept)$r.squared"
   ]
  },
  {
   "cell_type": "code",
   "execution_count": 106,
   "id": "9a1e2ca4",
   "metadata": {},
   "outputs": [],
   "source": [
    "SoftDrink.lm.anova <- anova(SoftDrink.lm)\n",
    "SoftDrink.lmNoIntercept.anova <- anova(SoftDrink.lmNoIntercept)\n",
    "SoftDrink.lm.MSres <- SoftDrink.lm.anova['Residuals','Mean Sq']\n",
    "SoftDrink.lmNoIntercept.MSres <- SoftDrink.lmNoIntercept.anova['Residuals','Mean Sq']"
   ]
  },
  {
   "cell_type": "code",
   "execution_count": 105,
   "id": "443700c1",
   "metadata": {},
   "outputs": [
    {
     "data": {
      "text/html": [
       "'R^2 for Intercept Model is: 0.930481'"
      ],
      "text/latex": [
       "'R\\textasciicircum{}2 for Intercept Model is: 0.930481'"
      ],
      "text/markdown": [
       "'R^2 for Intercept Model is: 0.930481'"
      ],
      "text/plain": [
       "[1] \"R^2 for Intercept Model is: 0.930481\""
      ]
     },
     "metadata": {},
     "output_type": "display_data"
    },
    {
     "data": {
      "text/html": [
       "'R^2 for No-Intercept Model is: 0.972437'"
      ],
      "text/latex": [
       "'R\\textasciicircum{}2 for No-Intercept Model is: 0.972437'"
      ],
      "text/markdown": [
       "'R^2 for No-Intercept Model is: 0.972437'"
      ],
      "text/plain": [
       "[1] \"R^2 for No-Intercept Model is: 0.972437\""
      ]
     },
     "metadata": {},
     "output_type": "display_data"
    }
   ],
   "source": [
    "sprintf(\"R^2 for %s is: %f\", \"Intercept Model\", SoftDrink.lm.rsquared)\n",
    "sprintf(\"R^2 for %s is: %f\", \"No-Intercept Model\", SoftDrink.lmNoIntercept.rsquared)"
   ]
  },
  {
   "cell_type": "code",
   "execution_count": 108,
   "id": "f332ace7",
   "metadata": {},
   "outputs": [
    {
     "data": {
      "text/html": [
       "'Mean Squared Residual for Intercept Model is: 17.484078'"
      ],
      "text/latex": [
       "'Mean Squared Residual for Intercept Model is: 17.484078'"
      ],
      "text/markdown": [
       "'Mean Squared Residual for Intercept Model is: 17.484078'"
      ],
      "text/plain": [
       "[1] \"Mean Squared Residual for Intercept Model is: 17.484078\""
      ]
     },
     "metadata": {},
     "output_type": "display_data"
    },
    {
     "data": {
      "text/html": [
       "'Mean Squared Residual for No-Intercept Model is: 21.029138'"
      ],
      "text/latex": [
       "'Mean Squared Residual for No-Intercept Model is: 21.029138'"
      ],
      "text/markdown": [
       "'Mean Squared Residual for No-Intercept Model is: 21.029138'"
      ],
      "text/plain": [
       "[1] \"Mean Squared Residual for No-Intercept Model is: 21.029138\""
      ]
     },
     "metadata": {},
     "output_type": "display_data"
    }
   ],
   "source": [
    "sprintf(\"Mean Squared Residual for %s is: %f\", \"Intercept Model\", SoftDrink.lm.MSres)\n",
    "sprintf(\"Mean Squared Residual for %s is: %f\", \"No-Intercept Model\", SoftDrink.lmNoIntercept.MSres)"
   ]
  },
  {
   "cell_type": "code",
   "execution_count": 109,
   "id": "4bdd8707",
   "metadata": {},
   "outputs": [],
   "source": [
    "# The Mean Squared Residual for the Intercept model is less and therefore the preferred model"
   ]
  },
  {
   "cell_type": "markdown",
   "id": "2e563c51",
   "metadata": {},
   "source": [
    "## 2.10"
   ]
  },
  {
   "cell_type": "markdown",
   "id": "c797620a",
   "metadata": {},
   "source": [
    "### a"
   ]
  },
  {
   "cell_type": "code",
   "execution_count": 170,
   "id": "d5531e8c",
   "metadata": {},
   "outputs": [
    {
     "data": {
      "text/html": [
       "<table class=\"dataframe\">\n",
       "<caption>A data.frame: 6 × 2</caption>\n",
       "<thead>\n",
       "\t<tr><th></th><th scope=col>x</th><th scope=col>y</th></tr>\n",
       "\t<tr><th></th><th scope=col>&lt;dbl&gt;</th><th scope=col>&lt;dbl&gt;</th></tr>\n",
       "</thead>\n",
       "<tbody>\n",
       "\t<tr><th scope=row>1</th><td>165</td><td>130</td></tr>\n",
       "\t<tr><th scope=row>2</th><td>167</td><td>133</td></tr>\n",
       "\t<tr><th scope=row>3</th><td>180</td><td>150</td></tr>\n",
       "\t<tr><th scope=row>4</th><td>155</td><td>128</td></tr>\n",
       "\t<tr><th scope=row>5</th><td>212</td><td>151</td></tr>\n",
       "\t<tr><th scope=row>6</th><td>175</td><td>146</td></tr>\n",
       "</tbody>\n",
       "</table>\n"
      ],
      "text/latex": [
       "A data.frame: 6 × 2\n",
       "\\begin{tabular}{r|ll}\n",
       "  & x & y\\\\\n",
       "  & <dbl> & <dbl>\\\\\n",
       "\\hline\n",
       "\t1 & 165 & 130\\\\\n",
       "\t2 & 167 & 133\\\\\n",
       "\t3 & 180 & 150\\\\\n",
       "\t4 & 155 & 128\\\\\n",
       "\t5 & 212 & 151\\\\\n",
       "\t6 & 175 & 146\\\\\n",
       "\\end{tabular}\n"
      ],
      "text/markdown": [
       "\n",
       "A data.frame: 6 × 2\n",
       "\n",
       "| <!--/--> | x &lt;dbl&gt; | y &lt;dbl&gt; |\n",
       "|---|---|---|\n",
       "| 1 | 165 | 130 |\n",
       "| 2 | 167 | 133 |\n",
       "| 3 | 180 | 150 |\n",
       "| 4 | 155 | 128 |\n",
       "| 5 | 212 | 151 |\n",
       "| 6 | 175 | 146 |\n",
       "\n"
      ],
      "text/plain": [
       "  x   y  \n",
       "1 165 130\n",
       "2 167 133\n",
       "3 180 150\n",
       "4 155 128\n",
       "5 212 151\n",
       "6 175 146"
      ]
     },
     "metadata": {},
     "output_type": "display_data"
    }
   ],
   "source": [
    "BloodPressure.DataTable <- read_excel('../linear_regression_5e_data_sets/Chapter 2/Problems/data-prob-2-10.XLS')\n",
    "\n",
    "BloodPressure.df <- data.frame(\n",
    "    x=BloodPressure.DataTable$'weight', \n",
    "    y=BloodPressure.DataTable$'sys bp')\n",
    "\n",
    "head(BloodPressure.df)"
   ]
  },
  {
   "cell_type": "code",
   "execution_count": 195,
   "id": "5fc996b8",
   "metadata": {},
   "outputs": [],
   "source": [
    "BloodPressure.lm <- lm(y ~ x, data=BloodPressure.df)\n",
    "BloodPressure.lm.summary <- summary(BloodPressure.lm)\n",
    "BloodPressure.lm.anova <- anova(BloodPressure.lm)\n",
    "BloodPressure.lm.MSres <- BloodPressure.lm.anova['Residuals','Mean Sq']\n",
    "BloodPressure.lm.rsquared <- BloodPressure.lm.summary$r.squared"
   ]
  },
  {
   "cell_type": "code",
   "execution_count": 172,
   "id": "d1508398",
   "metadata": {},
   "outputs": [
    {
     "data": {
      "text/plain": [
       "\n",
       "Call:\n",
       "lm(formula = y ~ x, data = BloodPressure.df)\n",
       "\n",
       "Residuals:\n",
       "    Min      1Q  Median      3Q     Max \n",
       "-17.182  -6.485  -2.519   8.926  12.143 \n",
       "\n",
       "Coefficients:\n",
       "            Estimate Std. Error t value Pr(>|t|)    \n",
       "(Intercept) 69.10437   12.91013   5.353 1.71e-05 ***\n",
       "x            0.41942    0.07015   5.979 3.59e-06 ***\n",
       "---\n",
       "Signif. codes:  0 ‘***’ 0.001 ‘**’ 0.01 ‘*’ 0.05 ‘.’ 0.1 ‘ ’ 1\n",
       "\n",
       "Residual standard error: 8.681 on 24 degrees of freedom\n",
       "Multiple R-squared:  0.5983,\tAdjusted R-squared:  0.5815 \n",
       "F-statistic: 35.74 on 1 and 24 DF,  p-value: 3.591e-06\n"
      ]
     },
     "metadata": {},
     "output_type": "display_data"
    }
   ],
   "source": [
    "BloodPressure.lm.summary"
   ]
  },
  {
   "cell_type": "code",
   "execution_count": 173,
   "id": "551bca7e",
   "metadata": {},
   "outputs": [
    {
     "data": {
      "text/html": [
       "<table class=\"dataframe\">\n",
       "<caption>A anova: 2 × 5</caption>\n",
       "<thead>\n",
       "\t<tr><th></th><th scope=col>Df</th><th scope=col>Sum Sq</th><th scope=col>Mean Sq</th><th scope=col>F value</th><th scope=col>Pr(&gt;F)</th></tr>\n",
       "\t<tr><th></th><th scope=col>&lt;int&gt;</th><th scope=col>&lt;dbl&gt;</th><th scope=col>&lt;dbl&gt;</th><th scope=col>&lt;dbl&gt;</th><th scope=col>&lt;dbl&gt;</th></tr>\n",
       "</thead>\n",
       "<tbody>\n",
       "\t<tr><th scope=row>x</th><td> 1</td><td>2693.581</td><td>2693.58122</td><td>35.74418</td><td>3.591105e-06</td></tr>\n",
       "\t<tr><th scope=row>Residuals</th><td>24</td><td>1808.573</td><td>  75.35719</td><td>      NA</td><td>          NA</td></tr>\n",
       "</tbody>\n",
       "</table>\n"
      ],
      "text/latex": [
       "A anova: 2 × 5\n",
       "\\begin{tabular}{r|lllll}\n",
       "  & Df & Sum Sq & Mean Sq & F value & Pr(>F)\\\\\n",
       "  & <int> & <dbl> & <dbl> & <dbl> & <dbl>\\\\\n",
       "\\hline\n",
       "\tx &  1 & 2693.581 & 2693.58122 & 35.74418 & 3.591105e-06\\\\\n",
       "\tResiduals & 24 & 1808.573 &   75.35719 &       NA &           NA\\\\\n",
       "\\end{tabular}\n"
      ],
      "text/markdown": [
       "\n",
       "A anova: 2 × 5\n",
       "\n",
       "| <!--/--> | Df &lt;int&gt; | Sum Sq &lt;dbl&gt; | Mean Sq &lt;dbl&gt; | F value &lt;dbl&gt; | Pr(&gt;F) &lt;dbl&gt; |\n",
       "|---|---|---|---|---|---|\n",
       "| x |  1 | 2693.581 | 2693.58122 | 35.74418 | 3.591105e-06 |\n",
       "| Residuals | 24 | 1808.573 |   75.35719 |       NA |           NA |\n",
       "\n"
      ],
      "text/plain": [
       "          Df Sum Sq   Mean Sq    F value  Pr(>F)      \n",
       "x          1 2693.581 2693.58122 35.74418 3.591105e-06\n",
       "Residuals 24 1808.573   75.35719       NA           NA"
      ]
     },
     "metadata": {},
     "output_type": "display_data"
    }
   ],
   "source": [
    "BloodPressure.lm.anova"
   ]
  },
  {
   "cell_type": "markdown",
   "id": "ad135514",
   "metadata": {},
   "source": [
    "### b"
   ]
  },
  {
   "cell_type": "code",
   "execution_count": 174,
   "id": "89441c92",
   "metadata": {},
   "outputs": [
    {
     "name": "stdout",
     "output_type": "stream",
     "text": [
      "[1] 0.7734903\n"
     ]
    }
   ],
   "source": [
    "BloodPressure.cor <- cor(x = BloodPressure.df$x, y = BloodPressure.df$y)\n",
    "print(BloodPressure.cor)"
   ]
  },
  {
   "cell_type": "markdown",
   "id": "5d5d8d99",
   "metadata": {},
   "source": [
    "### c"
   ]
  },
  {
   "cell_type": "code",
   "execution_count": 175,
   "id": "678b1cd8",
   "metadata": {},
   "outputs": [
    {
     "data": {
      "text/plain": [
       "\n",
       "\tPearson's product-moment correlation\n",
       "\n",
       "data:  BloodPressure.df$x and BloodPressure.df$y\n",
       "t = 5.9786, df = 24, p-value = 3.591e-06\n",
       "alternative hypothesis: true correlation is not equal to 0\n",
       "95 percent confidence interval:\n",
       " 0.5513214 0.8932215\n",
       "sample estimates:\n",
       "      cor \n",
       "0.7734903 \n"
      ]
     },
     "metadata": {},
     "output_type": "display_data"
    }
   ],
   "source": [
    "cor.test(BloodPressure.df$x, BloodPressure.df$y)"
   ]
  },
  {
   "cell_type": "code",
   "execution_count": 176,
   "id": "48c5130c",
   "metadata": {},
   "outputs": [
    {
     "data": {
      "text/html": [
       "FALSE"
      ],
      "text/latex": [
       "FALSE"
      ],
      "text/markdown": [
       "FALSE"
      ],
      "text/plain": [
       "[1] FALSE"
      ]
     },
     "metadata": {},
     "output_type": "display_data"
    }
   ],
   "source": [
    "# Manually calculating t_0\n",
    "BloodPressure.t_0_manual <- (sqrt(BloodPressure.lm.rsquared) * \n",
    "                             sqrt(nrow(BloodPressure.df) - 2)) / sqrt(1 - BloodPressure.lm.rsquared)\n",
    "# Extract the t_0 value from the correlation test\n",
    "BloodPressure.t_0 <- unname(cor.test(BloodPressure.df$x, BloodPressure.df$y)$statistic)\n",
    "# Show equivalency\n",
    "identical(BloodPressure.t_0_manual, BloodPressure.t_0)"
   ]
  },
  {
   "cell_type": "code",
   "execution_count": 186,
   "id": "5cb2651c",
   "metadata": {},
   "outputs": [],
   "source": [
    "t_alpha <- qt(.975, df=nrow(BloodPressure.df))"
   ]
  },
  {
   "cell_type": "markdown",
   "id": "bd40bfcc",
   "metadata": {},
   "source": [
    "Testing for $\\rho=0$ "
   ]
  },
  {
   "cell_type": "code",
   "execution_count": 187,
   "id": "cc8082e3",
   "metadata": {},
   "outputs": [
    {
     "name": "stdout",
     "output_type": "stream",
     "text": [
      "[1] TRUE\n"
     ]
    }
   ],
   "source": [
    "BloodPressure.lm.RejectNull <- (abs(t_0) > t_alpha)\n",
    "print(BloodPressure.lm.RejectNull)"
   ]
  },
  {
   "cell_type": "markdown",
   "id": "84e98c7c",
   "metadata": {},
   "source": [
    "### d"
   ]
  },
  {
   "cell_type": "code",
   "execution_count": 191,
   "id": "c653a79b",
   "metadata": {},
   "outputs": [
    {
     "name": "stdout",
     "output_type": "stream",
     "text": [
      "[1] 1.610495\n"
     ]
    }
   ],
   "source": [
    "rho_0 <- 0.6\n",
    "Z_0 <- (atanh(sqrt(BloodPressure.lm.rsquared)) - atanh(rho_0)) * (nrow(BloodPressure.df) - 3)^(1/2)\n",
    "print(Z_0)"
   ]
  },
  {
   "cell_type": "code",
   "execution_count": 189,
   "id": "f55ca08e",
   "metadata": {},
   "outputs": [
    {
     "name": "stdout",
     "output_type": "stream",
     "text": [
      "[1] 1.959964\n"
     ]
    }
   ],
   "source": [
    "alpha <- 0.95\n",
    "Z_alpha <- qnorm(1-(1 - alpha)/2)\n",
    "print(Z_alpha)"
   ]
  },
  {
   "cell_type": "markdown",
   "id": "8bc2535e",
   "metadata": {},
   "source": [
    "Testing for $\\rho=0.6$ "
   ]
  },
  {
   "cell_type": "code",
   "execution_count": 190,
   "id": "d0e83a4e",
   "metadata": {},
   "outputs": [
    {
     "name": "stdout",
     "output_type": "stream",
     "text": [
      "[1] FALSE\n"
     ]
    }
   ],
   "source": [
    "BloodPressure.lm.RejectNull_2 <- (abs(Z_0) > Z_alpha)\n",
    "print(BloodPressure.lm.RejectNull_2)"
   ]
  },
  {
   "cell_type": "markdown",
   "id": "4e54604b",
   "metadata": {},
   "source": [
    "### e"
   ]
  },
  {
   "cell_type": "code",
   "execution_count": 182,
   "id": "d60eb06e",
   "metadata": {},
   "outputs": [],
   "source": [
    "alpha <- 0.95\n",
    "Z <- qnorm(1-(1 - alpha)/2)"
   ]
  },
  {
   "cell_type": "code",
   "execution_count": 183,
   "id": "823591ae",
   "metadata": {},
   "outputs": [
    {
     "data": {
      "text/html": [
       "0.551321403427661"
      ],
      "text/latex": [
       "0.551321403427661"
      ],
      "text/markdown": [
       "0.551321403427661"
      ],
      "text/plain": [
       "[1] 0.5513214"
      ]
     },
     "metadata": {},
     "output_type": "display_data"
    }
   ],
   "source": [
    "tanh(atanh(BloodPressure.cor) - (Z / sqrt(nrow(BloodPressure.df) - 3)))"
   ]
  },
  {
   "cell_type": "code",
   "execution_count": 184,
   "id": "e439b405",
   "metadata": {},
   "outputs": [
    {
     "data": {
      "text/html": [
       "0.893221496202781"
      ],
      "text/latex": [
       "0.893221496202781"
      ],
      "text/markdown": [
       "0.893221496202781"
      ],
      "text/plain": [
       "[1] 0.8932215"
      ]
     },
     "metadata": {},
     "output_type": "display_data"
    }
   ],
   "source": [
    "tanh(atanh(BloodPressure.cor) + (Z / sqrt(nrow(BloodPressure.df) - 3)))"
   ]
  },
  {
   "cell_type": "code",
   "execution_count": 185,
   "id": "3909e39c",
   "metadata": {},
   "outputs": [
    {
     "data": {
      "text/html": [
       "<style>\n",
       ".list-inline {list-style: none; margin:0; padding: 0}\n",
       ".list-inline>li {display: inline-block}\n",
       ".list-inline>li:not(:last-child)::after {content: \"\\00b7\"; padding: 0 .5ex}\n",
       "</style>\n",
       "<ol class=list-inline><li>0.551321403427661</li><li>0.893221496202781</li></ol>\n"
      ],
      "text/latex": [
       "\\begin{enumerate*}\n",
       "\\item 0.551321403427661\n",
       "\\item 0.893221496202781\n",
       "\\end{enumerate*}\n"
      ],
      "text/markdown": [
       "1. 0.551321403427661\n",
       "2. 0.893221496202781\n",
       "\n",
       "\n"
      ],
      "text/plain": [
       "[1] 0.5513214 0.8932215\n",
       "attr(,\"conf.level\")\n",
       "[1] 0.95"
      ]
     },
     "metadata": {},
     "output_type": "display_data"
    }
   ],
   "source": [
    "cor.test(BloodPressure.df$x, BloodPressure.df$y)$conf.int"
   ]
  },
  {
   "cell_type": "markdown",
   "id": "a645d1bf",
   "metadata": {},
   "source": [
    "## 2.11"
   ]
  },
  {
   "cell_type": "code",
   "execution_count": 196,
   "id": "962e334e",
   "metadata": {},
   "outputs": [],
   "source": [
    "BloodPressure.lmNoIntercept <- lm(y ~ 0 + x, data=BloodPressure.df)\n",
    "BloodPressure.lmNoIntercept.summary <- summary(BloodPressure.lmNoIntercept)\n",
    "BloodPressure.lmNoIntercept.anova <- anova(BloodPressure.lmNoIntercept)\n",
    "BloodPressure.lmNoIntercept.MSres <- BloodPressure.lmNoIntercept.anova['Residuals','Mean Sq']\n",
    "BloodPressure.lmNoIntercept.rsquared <- BloodPressure.lmNoIntercept.summary$r.squared"
   ]
  },
  {
   "cell_type": "code",
   "execution_count": 197,
   "id": "e1f28036",
   "metadata": {},
   "outputs": [
    {
     "data": {
      "text/html": [
       "'R^2 for Intercept Model is: 0.598287'"
      ],
      "text/latex": [
       "'R\\textasciicircum{}2 for Intercept Model is: 0.598287'"
      ],
      "text/markdown": [
       "'R^2 for Intercept Model is: 0.598287'"
      ],
      "text/plain": [
       "[1] \"R^2 for Intercept Model is: 0.598287\""
      ]
     },
     "metadata": {},
     "output_type": "display_data"
    },
    {
     "data": {
      "text/html": [
       "'R^2 for No-Intercept Model is: 0.992861'"
      ],
      "text/latex": [
       "'R\\textasciicircum{}2 for No-Intercept Model is: 0.992861'"
      ],
      "text/markdown": [
       "'R^2 for No-Intercept Model is: 0.992861'"
      ],
      "text/plain": [
       "[1] \"R^2 for No-Intercept Model is: 0.992861\""
      ]
     },
     "metadata": {},
     "output_type": "display_data"
    }
   ],
   "source": [
    "sprintf(\"R^2 for %s is: %f\", \"Intercept Model\", BloodPressure.lm.rsquared)\n",
    "sprintf(\"R^2 for %s is: %f\", \"No-Intercept Model\", BloodPressure.lmNoIntercept.rsquared)"
   ]
  },
  {
   "cell_type": "code",
   "execution_count": 198,
   "id": "79d85350",
   "metadata": {},
   "outputs": [
    {
     "data": {
      "text/html": [
       "'Mean Squared Residual for Intercept Model is: 75.357193'"
      ],
      "text/latex": [
       "'Mean Squared Residual for Intercept Model is: 75.357193'"
      ],
      "text/markdown": [
       "'Mean Squared Residual for Intercept Model is: 75.357193'"
      ],
      "text/plain": [
       "[1] \"Mean Squared Residual for Intercept Model is: 75.357193\""
      ]
     },
     "metadata": {},
     "output_type": "display_data"
    },
    {
     "data": {
      "text/html": [
       "'Mean Squared Residual for No-Intercept Model is: 158.707269'"
      ],
      "text/latex": [
       "'Mean Squared Residual for No-Intercept Model is: 158.707269'"
      ],
      "text/markdown": [
       "'Mean Squared Residual for No-Intercept Model is: 158.707269'"
      ],
      "text/plain": [
       "[1] \"Mean Squared Residual for No-Intercept Model is: 158.707269\""
      ]
     },
     "metadata": {},
     "output_type": "display_data"
    }
   ],
   "source": [
    "sprintf(\"Mean Squared Residual for %s is: %f\", \"Intercept Model\", BloodPressure.lm.MSres)\n",
    "sprintf(\"Mean Squared Residual for %s is: %f\", \"No-Intercept Model\", BloodPressure.lmNoIntercept.MSres)"
   ]
  },
  {
   "cell_type": "code",
   "execution_count": 199,
   "id": "44738cc9",
   "metadata": {},
   "outputs": [
    {
     "data": {
      "text/plain": [
       "\n",
       "Call:\n",
       "lm(formula = y ~ 0 + x, data = BloodPressure.df)\n",
       "\n",
       "Residuals:\n",
       "    Min      1Q  Median      3Q     Max \n",
       "-26.245  -0.902   6.170  10.254  16.838 \n",
       "\n",
       "Coefficients:\n",
       "  Estimate Std. Error t value Pr(>|t|)    \n",
       "x  0.79164    0.01343   58.97   <2e-16 ***\n",
       "---\n",
       "Signif. codes:  0 ‘***’ 0.001 ‘**’ 0.01 ‘*’ 0.05 ‘.’ 0.1 ‘ ’ 1\n",
       "\n",
       "Residual standard error: 12.6 on 25 degrees of freedom\n",
       "Multiple R-squared:  0.9929,\tAdjusted R-squared:  0.9926 \n",
       "F-statistic:  3477 on 1 and 25 DF,  p-value: < 2.2e-16\n"
      ]
     },
     "metadata": {},
     "output_type": "display_data"
    }
   ],
   "source": [
    "BloodPressure.lmNoIntercept.summary"
   ]
  },
  {
   "cell_type": "markdown",
   "id": "25b4b49a",
   "metadata": {},
   "source": [
    "## 2.12"
   ]
  },
  {
   "cell_type": "markdown",
   "id": "9937292c",
   "metadata": {},
   "source": [
    "### a"
   ]
  },
  {
   "cell_type": "code",
   "execution_count": 204,
   "id": "ec3f6165",
   "metadata": {},
   "outputs": [
    {
     "data": {
      "text/html": [
       "<table class=\"dataframe\">\n",
       "<caption>A data.frame: 6 × 2</caption>\n",
       "<thead>\n",
       "\t<tr><th></th><th scope=col>x</th><th scope=col>y</th></tr>\n",
       "\t<tr><th></th><th scope=col>&lt;dbl&gt;</th><th scope=col>&lt;dbl&gt;</th></tr>\n",
       "</thead>\n",
       "<tbody>\n",
       "\t<tr><th scope=row>1</th><td>21</td><td>185.79</td></tr>\n",
       "\t<tr><th scope=row>2</th><td>24</td><td>214.47</td></tr>\n",
       "\t<tr><th scope=row>3</th><td>32</td><td>288.03</td></tr>\n",
       "\t<tr><th scope=row>4</th><td>47</td><td>424.84</td></tr>\n",
       "\t<tr><th scope=row>5</th><td>50</td><td>454.68</td></tr>\n",
       "\t<tr><th scope=row>6</th><td>59</td><td>539.03</td></tr>\n",
       "</tbody>\n",
       "</table>\n"
      ],
      "text/latex": [
       "A data.frame: 6 × 2\n",
       "\\begin{tabular}{r|ll}\n",
       "  & x & y\\\\\n",
       "  & <dbl> & <dbl>\\\\\n",
       "\\hline\n",
       "\t1 & 21 & 185.79\\\\\n",
       "\t2 & 24 & 214.47\\\\\n",
       "\t3 & 32 & 288.03\\\\\n",
       "\t4 & 47 & 424.84\\\\\n",
       "\t5 & 50 & 454.68\\\\\n",
       "\t6 & 59 & 539.03\\\\\n",
       "\\end{tabular}\n"
      ],
      "text/markdown": [
       "\n",
       "A data.frame: 6 × 2\n",
       "\n",
       "| <!--/--> | x &lt;dbl&gt; | y &lt;dbl&gt; |\n",
       "|---|---|---|\n",
       "| 1 | 21 | 185.79 |\n",
       "| 2 | 24 | 214.47 |\n",
       "| 3 | 32 | 288.03 |\n",
       "| 4 | 47 | 424.84 |\n",
       "| 5 | 50 | 454.68 |\n",
       "| 6 | 59 | 539.03 |\n",
       "\n"
      ],
      "text/plain": [
       "  x  y     \n",
       "1 21 185.79\n",
       "2 24 214.47\n",
       "3 32 288.03\n",
       "4 47 424.84\n",
       "5 50 454.68\n",
       "6 59 539.03"
      ]
     },
     "metadata": {},
     "output_type": "display_data"
    }
   ],
   "source": [
    "Steam.DataTable <- read_excel('../linear_regression_5e_data_sets/Chapter 2/Problems/data-prob-2-12.XLS')\n",
    "\n",
    "Steam.df <- data.frame(\n",
    "    x=Steam.DataTable$'temp', \n",
    "    y=Steam.DataTable$'usage')\n",
    "\n",
    "head(Steam.df)"
   ]
  },
  {
   "cell_type": "code",
   "execution_count": 205,
   "id": "6006ae2d",
   "metadata": {},
   "outputs": [],
   "source": [
    "Steam.lm <- lm(y ~ x, data=Steam.df)\n",
    "Steam.lm.summary <- summary(Steam.lm)\n",
    "Steam.lm.anova <- anova(Steam.lm)\n",
    "Steam.lm.MSres <- Steam.lm.anova['Residuals','Mean Sq']\n",
    "Steam.lm.rsquared <- Steam.lm.summary$r.squared"
   ]
  },
  {
   "cell_type": "code",
   "execution_count": 206,
   "id": "52e8d738",
   "metadata": {},
   "outputs": [
    {
     "data": {
      "text/plain": [
       "\n",
       "Call:\n",
       "lm(formula = y ~ x, data = Steam.df)\n",
       "\n",
       "Coefficients:\n",
       "(Intercept)            x  \n",
       "     -6.332        9.208  \n"
      ]
     },
     "metadata": {},
     "output_type": "display_data"
    }
   ],
   "source": [
    "Steam.lm"
   ]
  },
  {
   "cell_type": "code",
   "execution_count": 224,
   "id": "c4532dfc",
   "metadata": {},
   "outputs": [
    {
     "data": {
      "text/html": [
       "<table class=\"dataframe\">\n",
       "<caption>A anova: 2 × 5</caption>\n",
       "<thead>\n",
       "\t<tr><th></th><th scope=col>Df</th><th scope=col>Sum Sq</th><th scope=col>Mean Sq</th><th scope=col>F value</th><th scope=col>Pr(&gt;F)</th></tr>\n",
       "\t<tr><th></th><th scope=col>&lt;int&gt;</th><th scope=col>&lt;dbl&gt;</th><th scope=col>&lt;dbl&gt;</th><th scope=col>&lt;dbl&gt;</th><th scope=col>&lt;dbl&gt;</th></tr>\n",
       "</thead>\n",
       "<tbody>\n",
       "\t<tr><th scope=row>x</th><td> 1</td><td>280589.5653</td><td>280589.56527</td><td>74122.78</td><td>1.099192e-20</td></tr>\n",
       "\t<tr><th scope=row>Residuals</th><td>10</td><td>    37.8547</td><td>     3.78547</td><td>      NA</td><td>          NA</td></tr>\n",
       "</tbody>\n",
       "</table>\n"
      ],
      "text/latex": [
       "A anova: 2 × 5\n",
       "\\begin{tabular}{r|lllll}\n",
       "  & Df & Sum Sq & Mean Sq & F value & Pr(>F)\\\\\n",
       "  & <int> & <dbl> & <dbl> & <dbl> & <dbl>\\\\\n",
       "\\hline\n",
       "\tx &  1 & 280589.5653 & 280589.56527 & 74122.78 & 1.099192e-20\\\\\n",
       "\tResiduals & 10 &     37.8547 &      3.78547 &       NA &           NA\\\\\n",
       "\\end{tabular}\n"
      ],
      "text/markdown": [
       "\n",
       "A anova: 2 × 5\n",
       "\n",
       "| <!--/--> | Df &lt;int&gt; | Sum Sq &lt;dbl&gt; | Mean Sq &lt;dbl&gt; | F value &lt;dbl&gt; | Pr(&gt;F) &lt;dbl&gt; |\n",
       "|---|---|---|---|---|---|\n",
       "| x |  1 | 280589.5653 | 280589.56527 | 74122.78 | 1.099192e-20 |\n",
       "| Residuals | 10 |     37.8547 |      3.78547 |       NA |           NA |\n",
       "\n"
      ],
      "text/plain": [
       "          Df Sum Sq      Mean Sq      F value  Pr(>F)      \n",
       "x          1 280589.5653 280589.56527 74122.78 1.099192e-20\n",
       "Residuals 10     37.8547      3.78547       NA           NA"
      ]
     },
     "metadata": {},
     "output_type": "display_data"
    }
   ],
   "source": [
    "Steam.lm.anova"
   ]
  },
  {
   "cell_type": "markdown",
   "id": "58b87365",
   "metadata": {},
   "source": [
    "### b"
   ]
  },
  {
   "cell_type": "code",
   "execution_count": 239,
   "id": "4a38a8c7",
   "metadata": {},
   "outputs": [
    {
     "name": "stdout",
     "output_type": "stream",
     "text": [
      "[1] TRUE\n"
     ]
    }
   ],
   "source": [
    "Steam.t_0 <- Steam.lm.summary$coefficients['x','t value']\n",
    "Steam.t_alpha <- qt(.975, df=nrow(Steam.df))\n",
    "Steam.t_RejectNull <- (abs(Steam.t_0) > Steam.t_alpha)\n",
    "print(Steam.t_RejectNull)"
   ]
  },
  {
   "cell_type": "code",
   "execution_count": 241,
   "id": "4fcd162f",
   "metadata": {},
   "outputs": [
    {
     "name": "stdout",
     "output_type": "stream",
     "text": [
      "[1] 74122.78\n"
     ]
    }
   ],
   "source": [
    "Steam.F_value <- Steam.lm.anova['x','F value']\n",
    "print(Steam.F_value)"
   ]
  },
  {
   "cell_type": "markdown",
   "id": "0f2f0ea2",
   "metadata": {},
   "source": [
    "### c"
   ]
  },
  {
   "cell_type": "markdown",
   "id": "447e67e1",
   "metadata": {},
   "source": [
    "Yes, the estimate in close.\n",
    "\n",
    "The slope of the linear model is 9.2 (* 1000). So this would mean for an average increase in temparature of 1 degree,\n",
    "to have an increase in steam usage by nearly 10,000 pounds."
   ]
  },
  {
   "cell_type": "markdown",
   "id": "beb1d64c",
   "metadata": {},
   "source": [
    "### d"
   ]
  },
  {
   "cell_type": "code",
   "execution_count": 221,
   "id": "ca4c77ea",
   "metadata": {},
   "outputs": [
    {
     "data": {
      "text/html": [
       "<table class=\"dataframe\">\n",
       "<caption>A matrix: 1 × 3 of type dbl</caption>\n",
       "<thead>\n",
       "\t<tr><th></th><th scope=col>fit</th><th scope=col>lwr</th><th scope=col>upr</th></tr>\n",
       "</thead>\n",
       "<tbody>\n",
       "\t<tr><th scope=row>1</th><td>527.759</td><td>521.2237</td><td>534.2944</td></tr>\n",
       "</tbody>\n",
       "</table>\n"
      ],
      "text/latex": [
       "A matrix: 1 × 3 of type dbl\n",
       "\\begin{tabular}{r|lll}\n",
       "  & fit & lwr & upr\\\\\n",
       "\\hline\n",
       "\t1 & 527.759 & 521.2237 & 534.2944\\\\\n",
       "\\end{tabular}\n"
      ],
      "text/markdown": [
       "\n",
       "A matrix: 1 × 3 of type dbl\n",
       "\n",
       "| <!--/--> | fit | lwr | upr |\n",
       "|---|---|---|---|\n",
       "| 1 | 527.759 | 521.2237 | 534.2944 |\n",
       "\n"
      ],
      "text/plain": [
       "  fit     lwr      upr     \n",
       "1 527.759 521.2237 534.2944"
      ]
     },
     "metadata": {},
     "output_type": "display_data"
    }
   ],
   "source": [
    "predict(Steam.lm, data.frame(x=c(58)), interval=\"predict\", level=0.99)"
   ]
  },
  {
   "cell_type": "markdown",
   "id": "13ca45d4",
   "metadata": {},
   "source": [
    "## 2.13\n"
   ]
  },
  {
   "cell_type": "markdown",
   "id": "68e541c9",
   "metadata": {},
   "source": [
    "### a"
   ]
  },
  {
   "cell_type": "code",
   "execution_count": 242,
   "id": "9f20d12d",
   "metadata": {},
   "outputs": [
    {
     "data": {
      "text/html": [
       "<table class=\"dataframe\">\n",
       "<caption>A data.frame: 6 × 2</caption>\n",
       "<thead>\n",
       "\t<tr><th></th><th scope=col>x</th><th scope=col>y</th></tr>\n",
       "\t<tr><th></th><th scope=col>&lt;dbl&gt;</th><th scope=col>&lt;dbl&gt;</th></tr>\n",
       "</thead>\n",
       "<tbody>\n",
       "\t<tr><th scope=row>1</th><td>16.7</td><td> 91</td></tr>\n",
       "\t<tr><th scope=row>2</th><td>17.1</td><td>105</td></tr>\n",
       "\t<tr><th scope=row>3</th><td>18.2</td><td> 10</td></tr>\n",
       "\t<tr><th scope=row>4</th><td>18.1</td><td> 10</td></tr>\n",
       "\t<tr><th scope=row>5</th><td>17.2</td><td>  8</td></tr>\n",
       "\t<tr><th scope=row>6</th><td>18.2</td><td> 91</td></tr>\n",
       "</tbody>\n",
       "</table>\n"
      ],
      "text/latex": [
       "A data.frame: 6 × 2\n",
       "\\begin{tabular}{r|ll}\n",
       "  & x & y\\\\\n",
       "  & <dbl> & <dbl>\\\\\n",
       "\\hline\n",
       "\t1 & 16.7 &  91\\\\\n",
       "\t2 & 17.1 & 105\\\\\n",
       "\t3 & 18.2 &  10\\\\\n",
       "\t4 & 18.1 &  10\\\\\n",
       "\t5 & 17.2 &   8\\\\\n",
       "\t6 & 18.2 &  91\\\\\n",
       "\\end{tabular}\n"
      ],
      "text/markdown": [
       "\n",
       "A data.frame: 6 × 2\n",
       "\n",
       "| <!--/--> | x &lt;dbl&gt; | y &lt;dbl&gt; |\n",
       "|---|---|---|\n",
       "| 1 | 16.7 |  91 |\n",
       "| 2 | 17.1 | 105 |\n",
       "| 3 | 18.2 |  10 |\n",
       "| 4 | 18.1 |  10 |\n",
       "| 5 | 17.2 |   8 |\n",
       "| 6 | 18.2 |  91 |\n",
       "\n"
      ],
      "text/plain": [
       "  x    y  \n",
       "1 16.7  91\n",
       "2 17.1 105\n",
       "3 18.2  10\n",
       "4 18.1  10\n",
       "5 17.2   8\n",
       "6 18.2  91"
      ]
     },
     "metadata": {},
     "output_type": "display_data"
    }
   ],
   "source": [
    "Ozone.DataTable <- read_excel('../linear_regression_5e_data_sets/Chapter 2/Problems/data-prob-2-13.XLS')\n",
    "\n",
    "Ozone.df <- data.frame(\n",
    "    x=Ozone.DataTable$'index', \n",
    "    y=Ozone.DataTable$'days')\n",
    "\n",
    "head(Ozone.df)"
   ]
  },
  {
   "cell_type": "code",
   "execution_count": 245,
   "id": "43b04c9d",
   "metadata": {},
   "outputs": [
    {
     "data": {
      "image/png": "[encoded data removed]",
      "text/plain": [
       "plot without title"
      ]
     },
     "metadata": {
      "image/png": {
       "height": 420,
       "width": 420
      }
     },
     "output_type": "display_data"
    }
   ],
   "source": [
    "plot(x=Ozone.df$x, y=Ozone.df$y,xlab=\"Days\",ylab=\"Index\")"
   ]
  },
  {
   "cell_type": "markdown",
   "id": "129235e5",
   "metadata": {},
   "source": [
    "### b"
   ]
  },
  {
   "cell_type": "code",
   "execution_count": 251,
   "id": "75942718",
   "metadata": {},
   "outputs": [
    {
     "name": "stdout",
     "output_type": "stream",
     "text": [
      "              Estimate Std. Error    t value  Pr(>|t|)\n",
      "(Intercept) 183.596159  214.35905  0.8564890 0.4061492\n",
      "x            -7.403743   12.35126 -0.5994323 0.5584615\n"
     ]
    }
   ],
   "source": [
    "Ozone.lm <- lm(y ~ x, data=Ozone.df)\n",
    "Ozone.lm.summary <- summary(Ozone.lm)\n",
    "Ozone.lm.anova <- anova(Ozone.lm)\n",
    "Ozone.lm.MSres <- Ozone.lm.anova['Residuals','Mean Sq']\n",
    "Ozone.lm.rsquared <- Ozone.lm.summary$r.squared\n",
    "print(Ozone.lm.summary$coefficients)"
   ]
  },
  {
   "cell_type": "code",
   "execution_count": 250,
   "id": "41c59dc4",
   "metadata": {},
   "outputs": [
    {
     "data": {
      "image/png": "[encoded data removed]",
      "text/plain": [
       "plot without title"
      ]
     },
     "metadata": {
      "image/png": {
       "height": 420,
       "width": 420
      }
     },
     "output_type": "display_data"
    }
   ],
   "source": [
    "plot(x=Ozone.df$x, y=Ozone.df$y,xlab=\"Days\",ylab=\"Index\")\n",
    "abline(Ozone.lm)"
   ]
  },
  {
   "cell_type": "markdown",
   "id": "4aa72fff",
   "metadata": {},
   "source": [
    "### c"
   ]
  },
  {
   "cell_type": "code",
   "execution_count": 252,
   "id": "75948b4f",
   "metadata": {},
   "outputs": [
    {
     "name": "stdout",
     "output_type": "stream",
     "text": [
      "[1] FALSE\n"
     ]
    }
   ],
   "source": [
    "Ozone.t_0 <- Ozone.lm.summary$coefficients['x','t value']\n",
    "Ozone.t_alpha <- qt(.975, df=nrow(Ozone.df))\n",
    "Ozone.t_RejectNull <- (abs(Ozone.t_0) > Ozone.t_alpha)\n",
    "print(Ozone.t_RejectNull)"
   ]
  },
  {
   "cell_type": "code",
   "execution_count": 253,
   "id": "4dc4dc6f",
   "metadata": {},
   "outputs": [
    {
     "name": "stdout",
     "output_type": "stream",
     "text": [
      "[1] 0.3593191\n"
     ]
    }
   ],
   "source": [
    "Ozone.F_value <- Ozone.lm.anova['x','F value']\n",
    "print(Ozone.F_value)"
   ]
  },
  {
   "cell_type": "markdown",
   "id": "59e15847",
   "metadata": {},
   "source": [
    "### d"
   ]
  },
  {
   "cell_type": "code",
   "execution_count": 266,
   "id": "0e2617a8",
   "metadata": {},
   "outputs": [],
   "source": [
    "plot_bands <- function(DataFrame, LinearModel){\n",
    "    #get predicted y values using regression equation\n",
    "    newx <- seq(min(DataFrame$x), max(DataFrame$x), length.out=100)\n",
    "\n",
    "    #calculate the confidence interval values\n",
    "    conf <- predict(LinearModel, newdata = data.frame(x=newx), interval = 'confidence', level=0.95)\n",
    "\n",
    "    #calculate the prediction interval values\n",
    "    pred <- predict(LinearModel, newdata = data.frame(x=newx), interval = 'predict', level=0.95)\n",
    "\n",
    "    #create plot of x vs. y, but don't display individual points (type='n') \n",
    "    ########### Add flexibility to this plot function..\n",
    "    plot(y ~ x, data = DataFrame, type='n')\n",
    "    #############\n",
    "\n",
    "    #add polygon: Confidence Interval Upper -> Prediction Interval Upper\n",
    "    polygon(c(rev(newx), newx), c(rev(conf[ ,3]), pred[ ,3]), col = 'pink', border = NA)\n",
    "\n",
    "    #add polygon: Predicted Values -> Confidence Interval Upper\n",
    "    polygon(c(rev(newx), newx), c(rev(conf[ ,3]), conf[ ,1]), col = 'gray85', border = NA)\n",
    "\n",
    "    #add polygon: Predicted Values -> Confidence Interval Lower\n",
    "    polygon(c(rev(newx), newx), c(rev(conf[ ,2]), pred[ ,2]), col = 'pink', border = NA)\n",
    "\n",
    "    #add polygon: Confidence Interval Lower -> Prediction Interval Lower\n",
    "    polygon(c(rev(newx), newx), c(rev(conf[ ,2]), conf[ ,1]), col = 'gray85', border = NA)\n",
    "\n",
    "    #add line: Regression\n",
    "    abline(LinearModel, lwd=1.5)\n",
    "\n",
    "    #add line: Confidence Interval Upper\n",
    "    lines(newx, conf[ ,3], lty = 'dashed', col = 'gray5', lwd=1.5)\n",
    "    #add line: Confidence Interval Lower\n",
    "    lines(newx, conf[ ,2], lty = 'dashed', col = 'gray5', lwd=1.5)\n",
    "\n",
    "    #add line: Prediction Interval Upper\n",
    "    lines(newx, pred[ ,3], lty = 'dashed', col = 'red4', lwd=1.5)\n",
    "    #add line: Prediction Interval Upper\n",
    "    lines(newx, pred[ ,2], lty = 'dashed', col = 'red4', lwd=1.5)\n",
    "}"
   ]
  },
  {
   "cell_type": "code",
   "execution_count": 267,
   "id": "5595cc22",
   "metadata": {},
   "outputs": [
    {
     "data": {
      "image/png": "[encoded data removed]",
      "text/plain": [
       "plot without title"
      ]
     },
     "metadata": {
      "image/png": {
       "height": 420,
       "width": 420
      }
     },
     "output_type": "display_data"
    }
   ],
   "source": [
    "plot_bands(Ozone.df, Ozone.lm)"
   ]
  },
  {
   "cell_type": "markdown",
   "id": "25f8c536",
   "metadata": {},
   "source": [
    "## 2.14"
   ]
  },
  {
   "cell_type": "code",
   "execution_count": null,
   "id": "35e474fa",
   "metadata": {},
   "outputs": [],
   "source": []
  },
  {
   "cell_type": "markdown",
   "id": "f049e6a8",
   "metadata": {},
   "source": [
    "### a"
   ]
  },
  {
   "cell_type": "markdown",
   "id": "3f178667",
   "metadata": {},
   "source": [
    "### b"
   ]
  },
  {
   "cell_type": "markdown",
   "id": "02e803f9",
   "metadata": {},
   "source": [
    "### c"
   ]
  },
  {
   "cell_type": "markdown",
   "id": "e8338a26",
   "metadata": {},
   "source": [
    "### d"
   ]
  },
  {
   "cell_type": "markdown",
   "id": "4662403a",
   "metadata": {},
   "source": [
    "## 2.15"
   ]
  },
  {
   "cell_type": "markdown",
   "id": "8fc6b07d",
   "metadata": {},
   "source": [
    "### a"
   ]
  },
  {
   "cell_type": "markdown",
   "id": "b59e40c5",
   "metadata": {},
   "source": [
    "### b"
   ]
  },
  {
   "cell_type": "markdown",
   "id": "1b138775",
   "metadata": {},
   "source": [
    "### c"
   ]
  },
  {
   "cell_type": "code",
   "execution_count": null,
   "id": "9d90780a",
   "metadata": {},
   "outputs": [],
   "source": []
  }
 ],
 "metadata": {
  "kernelspec": {
   "display_name": "R",
   "language": "R",
   "name": "ir"
  },
  "language_info": {
   "codemirror_mode": "r",
   "file_extension": ".r",
   "mimetype": "text/x-r-source",
   "name": "R",
   "pygments_lexer": "r",
   "version": "3.6.3"
  }
 },
 "nbformat": 4,
 "nbformat_minor": 5
}
