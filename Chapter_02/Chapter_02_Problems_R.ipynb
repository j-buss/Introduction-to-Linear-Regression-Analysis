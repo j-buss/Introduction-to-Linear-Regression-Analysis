{
 "cells": [
  {
   "cell_type": "markdown",
   "id": "6dc2ea8d",
   "metadata": {},
   "source": [
    "# Chapter 2 Problems - R"
   ]
  },
  {
   "cell_type": "code",
   "execution_count": 1,
   "id": "ccff5d98",
   "metadata": {},
   "outputs": [],
   "source": [
    "#### Sytem may require the following: \n",
    "# sudo apt install libcurl4-openssl-dev\n",
    "# sudo apt install libxml2-dev\n",
    "\n",
    "#### Only need to run the folloing installs once\n",
    "# install.packages(c(\"ggplot2\", \"ggpubr\", \"tidyverse\", \"broom\", \"AICcmodavg\"))"
   ]
  },
  {
   "cell_type": "markdown",
   "id": "1395c5d3",
   "metadata": {},
   "source": [
    "## Load Libraries"
   ]
  },
  {
   "cell_type": "code",
   "execution_count": 2,
   "id": "75fa0838",
   "metadata": {},
   "outputs": [],
   "source": [
    "suppressMessages(library(readxl))\n",
    "suppressMessages(library(ggplot2))\n",
    "suppressMessages(library(ggpubr))\n",
    "suppressMessages(library(tidyverse))\n",
    "suppressMessages(library(broom))\n",
    "suppressMessages(library(AICcmodavg))"
   ]
  },
  {
   "cell_type": "markdown",
   "id": "b4240d0d",
   "metadata": {},
   "source": [
    "## 2.1"
   ]
  },
  {
   "cell_type": "code",
   "execution_count": 3,
   "id": "c6a177e8",
   "metadata": {},
   "outputs": [
    {
     "data": {
      "text/html": [
       "<table class=\"dataframe\">\n",
       "<caption>A data.frame: 6 × 2</caption>\n",
       "<thead>\n",
       "\t<tr><th></th><th scope=col>y</th><th scope=col>x</th></tr>\n",
       "\t<tr><th></th><th scope=col>&lt;dbl&gt;</th><th scope=col>&lt;dbl&gt;</th></tr>\n",
       "</thead>\n",
       "<tbody>\n",
       "\t<tr><th scope=row>1</th><td>10</td><td>2205</td></tr>\n",
       "\t<tr><th scope=row>2</th><td>11</td><td>2096</td></tr>\n",
       "\t<tr><th scope=row>3</th><td>11</td><td>1847</td></tr>\n",
       "\t<tr><th scope=row>4</th><td>13</td><td>1903</td></tr>\n",
       "\t<tr><th scope=row>5</th><td>10</td><td>1457</td></tr>\n",
       "\t<tr><th scope=row>6</th><td>11</td><td>1848</td></tr>\n",
       "</tbody>\n",
       "</table>\n"
      ],
      "text/latex": [
       "A data.frame: 6 × 2\n",
       "\\begin{tabular}{r|ll}\n",
       "  & y & x\\\\\n",
       "  & <dbl> & <dbl>\\\\\n",
       "\\hline\n",
       "\t1 & 10 & 2205\\\\\n",
       "\t2 & 11 & 2096\\\\\n",
       "\t3 & 11 & 1847\\\\\n",
       "\t4 & 13 & 1903\\\\\n",
       "\t5 & 10 & 1457\\\\\n",
       "\t6 & 11 & 1848\\\\\n",
       "\\end{tabular}\n"
      ],
      "text/markdown": [
       "\n",
       "A data.frame: 6 × 2\n",
       "\n",
       "| <!--/--> | y &lt;dbl&gt; | x &lt;dbl&gt; |\n",
       "|---|---|---|\n",
       "| 1 | 10 | 2205 |\n",
       "| 2 | 11 | 2096 |\n",
       "| 3 | 11 | 1847 |\n",
       "| 4 | 13 | 1903 |\n",
       "| 5 | 10 | 1457 |\n",
       "| 6 | 11 | 1848 |\n",
       "\n"
      ],
      "text/plain": [
       "  y  x   \n",
       "1 10 2205\n",
       "2 11 2096\n",
       "3 11 1847\n",
       "4 13 1903\n",
       "5 10 1457\n",
       "6 11 1848"
      ]
     },
     "metadata": {},
     "output_type": "display_data"
    }
   ],
   "source": [
    "dataTableB1 <- read_excel('../linear_regression_5e_data_sets/Appendices/data-table-B1.XLS')\n",
    "\n",
    "df <- data.frame(y=dataTableB1$y, x=dataTableB1$x8)\n",
    "\n",
    "head(df)"
   ]
  },
  {
   "cell_type": "code",
   "execution_count": 4,
   "id": "854c08c2",
   "metadata": {},
   "outputs": [
    {
     "data": {
      "text/plain": [
       "       y                x       \n",
       " Min.   : 0.000   Min.   :1457  \n",
       " 1st Qu.: 4.000   1st Qu.:1848  \n",
       " Median : 6.500   Median :2050  \n",
       " Mean   : 6.964   Mean   :2110  \n",
       " 3rd Qu.:10.000   3rd Qu.:2320  \n",
       " Max.   :13.000   Max.   :2876  "
      ]
     },
     "metadata": {},
     "output_type": "display_data"
    }
   ],
   "source": [
    "summary(df)"
   ]
  },
  {
   "cell_type": "code",
   "execution_count": 5,
   "id": "e7de1b71",
   "metadata": {},
   "outputs": [
    {
     "data": {
      "text/html": [
       "-0.738027303892383"
      ],
      "text/latex": [
       "-0.738027303892383"
      ],
      "text/markdown": [
       "-0.738027303892383"
      ],
      "text/plain": [
       "[1] -0.7380273"
      ]
     },
     "metadata": {},
     "output_type": "display_data"
    }
   ],
   "source": [
    "cor(df$x, df$y)"
   ]
  },
  {
   "cell_type": "code",
   "execution_count": 7,
   "id": "7d1ec840",
   "metadata": {},
   "outputs": [
    {
     "data": {
      "image/png": "[encoded data removed]",
      "text/plain": [
       "Plot with title “wins ~ opponent rushing yards”"
      ]
     },
     "metadata": {
      "image/png": {
       "height": 420,
       "width": 420
      }
     },
     "output_type": "display_data"
    }
   ],
   "source": [
    "plot(x=df$x, y=df$y, main=\"wins ~ opponent rushing yards\")\n",
    "abline(Football.lm)"
   ]
  },
  {
   "cell_type": "code",
   "execution_count": 8,
   "id": "d0a866b4",
   "metadata": {},
   "outputs": [
    {
     "data": {
      "text/plain": [
       "\n",
       "Call:\n",
       "lm(formula = y ~ x, data = df)\n",
       "\n",
       "Residuals:\n",
       "   Min     1Q Median     3Q    Max \n",
       "-3.804 -1.591 -0.647  2.032  4.580 \n",
       "\n",
       "Coefficients:\n",
       "             Estimate Std. Error t value Pr(>|t|)    \n",
       "(Intercept) 21.788251   2.696233   8.081 1.46e-08 ***\n",
       "x           -0.007025   0.001260  -5.577 7.38e-06 ***\n",
       "---\n",
       "Signif. codes:  0 ‘***’ 0.001 ‘**’ 0.01 ‘*’ 0.05 ‘.’ 0.1 ‘ ’ 1\n",
       "\n",
       "Residual standard error: 2.393 on 26 degrees of freedom\n",
       "Multiple R-squared:  0.5447,\tAdjusted R-squared:  0.5272 \n",
       "F-statistic:  31.1 on 1 and 26 DF,  p-value: 7.381e-06\n"
      ]
     },
     "metadata": {},
     "output_type": "display_data"
    }
   ],
   "source": [
    "summary(Football.lm)"
   ]
  },
  {
   "cell_type": "markdown",
   "id": "16792a1a",
   "metadata": {},
   "source": [
    "### a"
   ]
  },
  {
   "cell_type": "code",
   "execution_count": 6,
   "id": "0d76c96a",
   "metadata": {},
   "outputs": [
    {
     "name": "stdout",
     "output_type": "stream",
     "text": [
      "\n",
      "Call:\n",
      "lm(formula = y ~ x, data = df)\n",
      "\n",
      "Coefficients:\n",
      "(Intercept)            x  \n",
      "  21.788251    -0.007025  \n",
      "\n"
     ]
    }
   ],
   "source": [
    "Football.lm <- lm(y ~ x, data=df)  # build linear regression model on full data\n",
    "print(Football.lm)"
   ]
  },
  {
   "cell_type": "markdown",
   "id": "90d19043",
   "metadata": {},
   "source": [
    "### b"
   ]
  },
  {
   "cell_type": "code",
   "execution_count": 9,
   "id": "c4a606b6",
   "metadata": {},
   "outputs": [
    {
     "data": {
      "text/html": [
       "<table class=\"dataframe\">\n",
       "<caption>A anova: 2 × 5</caption>\n",
       "<thead>\n",
       "\t<tr><th></th><th scope=col>Df</th><th scope=col>Sum Sq</th><th scope=col>Mean Sq</th><th scope=col>F value</th><th scope=col>Pr(&gt;F)</th></tr>\n",
       "\t<tr><th></th><th scope=col>&lt;int&gt;</th><th scope=col>&lt;dbl&gt;</th><th scope=col>&lt;dbl&gt;</th><th scope=col>&lt;dbl&gt;</th><th scope=col>&lt;dbl&gt;</th></tr>\n",
       "</thead>\n",
       "<tbody>\n",
       "\t<tr><th scope=row>x</th><td> 1</td><td>178.0923</td><td>178.092314</td><td>31.10324</td><td>7.380709e-06</td></tr>\n",
       "\t<tr><th scope=row>Residuals</th><td>26</td><td>148.8720</td><td>  5.725845</td><td>      NA</td><td>          NA</td></tr>\n",
       "</tbody>\n",
       "</table>\n"
      ],
      "text/latex": [
       "A anova: 2 × 5\n",
       "\\begin{tabular}{r|lllll}\n",
       "  & Df & Sum Sq & Mean Sq & F value & Pr(>F)\\\\\n",
       "  & <int> & <dbl> & <dbl> & <dbl> & <dbl>\\\\\n",
       "\\hline\n",
       "\tx &  1 & 178.0923 & 178.092314 & 31.10324 & 7.380709e-06\\\\\n",
       "\tResiduals & 26 & 148.8720 &   5.725845 &       NA &           NA\\\\\n",
       "\\end{tabular}\n"
      ],
      "text/markdown": [
       "\n",
       "A anova: 2 × 5\n",
       "\n",
       "| <!--/--> | Df &lt;int&gt; | Sum Sq &lt;dbl&gt; | Mean Sq &lt;dbl&gt; | F value &lt;dbl&gt; | Pr(&gt;F) &lt;dbl&gt; |\n",
       "|---|---|---|---|---|---|\n",
       "| x |  1 | 178.0923 | 178.092314 | 31.10324 | 7.380709e-06 |\n",
       "| Residuals | 26 | 148.8720 |   5.725845 |       NA |           NA |\n",
       "\n"
      ],
      "text/plain": [
       "          Df Sum Sq   Mean Sq    F value  Pr(>F)      \n",
       "x          1 178.0923 178.092314 31.10324 7.380709e-06\n",
       "Residuals 26 148.8720   5.725845       NA           NA"
      ]
     },
     "metadata": {},
     "output_type": "display_data"
    }
   ],
   "source": [
    "anova(Football.lm)"
   ]
  },
  {
   "cell_type": "markdown",
   "id": "08832168",
   "metadata": {},
   "source": [
    "### c"
   ]
  },
  {
   "cell_type": "code",
   "execution_count": 10,
   "id": "99c3cb4e",
   "metadata": {},
   "outputs": [
    {
     "data": {
      "text/html": [
       "<table class=\"dataframe\">\n",
       "<caption>A matrix: 2 × 2 of type dbl</caption>\n",
       "<thead>\n",
       "\t<tr><th></th><th scope=col>2.5 %</th><th scope=col>97.5 %</th></tr>\n",
       "</thead>\n",
       "<tbody>\n",
       "\t<tr><th scope=row>(Intercept)</th><td>16.246064040</td><td>27.330437725</td></tr>\n",
       "\t<tr><th scope=row>x</th><td>-0.009614347</td><td>-0.004435854</td></tr>\n",
       "</tbody>\n",
       "</table>\n"
      ],
      "text/latex": [
       "A matrix: 2 × 2 of type dbl\n",
       "\\begin{tabular}{r|ll}\n",
       "  & 2.5 \\% & 97.5 \\%\\\\\n",
       "\\hline\n",
       "\t(Intercept) & 16.246064040 & 27.330437725\\\\\n",
       "\tx & -0.009614347 & -0.004435854\\\\\n",
       "\\end{tabular}\n"
      ],
      "text/markdown": [
       "\n",
       "A matrix: 2 × 2 of type dbl\n",
       "\n",
       "| <!--/--> | 2.5 % | 97.5 % |\n",
       "|---|---|---|\n",
       "| (Intercept) | 16.246064040 | 27.330437725 |\n",
       "| x | -0.009614347 | -0.004435854 |\n",
       "\n"
      ],
      "text/plain": [
       "            2.5 %        97.5 %      \n",
       "(Intercept) 16.246064040 27.330437725\n",
       "x           -0.009614347 -0.004435854"
      ]
     },
     "metadata": {},
     "output_type": "display_data"
    }
   ],
   "source": [
    " confint(Football.lm, level=0.95)"
   ]
  },
  {
   "cell_type": "markdown",
   "id": "7734d745",
   "metadata": {},
   "source": [
    "### d"
   ]
  },
  {
   "cell_type": "code",
   "execution_count": 11,
   "id": "df457cb1",
   "metadata": {},
   "outputs": [
    {
     "data": {
      "text/html": [
       "0.544684301290661"
      ],
      "text/latex": [
       "0.544684301290661"
      ],
      "text/markdown": [
       "0.544684301290661"
      ],
      "text/plain": [
       "[1] 0.5446843"
      ]
     },
     "metadata": {},
     "output_type": "display_data"
    }
   ],
   "source": [
    "summary(Football.lm)$r.squared"
   ]
  },
  {
   "cell_type": "markdown",
   "id": "78b444a0",
   "metadata": {},
   "source": [
    "### e"
   ]
  },
  {
   "cell_type": "code",
   "execution_count": 14,
   "id": "845c2463",
   "metadata": {},
   "outputs": [
    {
     "name": "stdout",
     "output_type": "stream",
     "text": [
      "      fit      lwr      upr\n",
      "1 7.73805 6.765753 8.710348\n"
     ]
    }
   ],
   "source": [
    "pred<-predict(Football.lm, data.frame(x = c(2000)), interval=\"confidence\", level=0.95)\n",
    "print(pred)"
   ]
  },
  {
   "cell_type": "markdown",
   "id": "396d9904",
   "metadata": {},
   "source": [
    "### Extras"
   ]
  },
  {
   "cell_type": "code",
   "execution_count": 15,
   "id": "24b707ff",
   "metadata": {},
   "outputs": [
    {
     "data": {
      "image/png": "[encoded data removed]",
      "text/plain": [
       "plot without title"
      ]
     },
     "metadata": {
      "image/png": {
       "height": 420,
       "width": 420
      }
     },
     "output_type": "display_data"
    }
   ],
   "source": [
    "#get predicted y values using regression equation\n",
    "newx <- seq(min(df$x), max(df$x), length.out=100)\n",
    "\n",
    "#calculate the confidence interval values\n",
    "conf <- predict(Football.lm, newdata = data.frame(x=newx), interval = 'confidence', level=0.95)\n",
    "\n",
    "#calculate the prediction interval values\n",
    "pred <- predict(Football.lm, newdata = data.frame(x=newx), interval = 'predict', level=0.95)\n",
    "\n",
    "#create plot of x vs. y, but don't display individual points (type='n') \n",
    "plot(y ~ x, data = df, type='n')\n",
    "\n",
    "#add polygon: Confidence Interval Upper -> Prediction Interval Upper\n",
    "polygon(c(rev(newx), newx), c(rev(conf[ ,3]), pred[ ,3]), col = 'pink', border = NA)\n",
    "\n",
    "#add polygon: Predicted Values -> Confidence Interval Upper\n",
    "polygon(c(rev(newx), newx), c(rev(conf[ ,3]), conf[ ,1]), col = 'gray85', border = NA)\n",
    "\n",
    "#add polygon: Predicted Values -> Confidence Interval Lower\n",
    "polygon(c(rev(newx), newx), c(rev(conf[ ,2]), pred[ ,2]), col = 'pink', border = NA)\n",
    "\n",
    "#add polygon: Confidence Interval Lower -> Prediction Interval Lower\n",
    "polygon(c(rev(newx), newx), c(rev(conf[ ,2]), conf[ ,1]), col = 'gray85', border = NA)\n",
    "\n",
    "#add line: Regression\n",
    "abline(Football.lm, lwd=1.5)\n",
    "\n",
    "#add line: Confidence Interval Upper\n",
    "lines(newx, conf[ ,3], lty = 'dashed', col = 'gray5', lwd=1.5)\n",
    "#add line: Confidence Interval Lower\n",
    "lines(newx, conf[ ,2], lty = 'dashed', col = 'gray5', lwd=1.5)\n",
    "\n",
    "#add line: Prediction Interval Upper\n",
    "lines(newx, pred[ ,3], lty = 'dashed', col = 'red4', lwd=1.5)\n",
    "#add line: Prediction Interval Upper\n",
    "lines(newx, pred[ ,2], lty = 'dashed', col = 'red4', lwd=1.5)\n",
    "\n"
   ]
  },
  {
   "cell_type": "markdown",
   "id": "f950381f",
   "metadata": {},
   "source": [
    "## 2.2"
   ]
  },
  {
   "cell_type": "code",
   "execution_count": 16,
   "id": "b1658b2e",
   "metadata": {},
   "outputs": [
    {
     "name": "stdout",
     "output_type": "stream",
     "text": [
      "      fit      lwr      upr\n",
      "1 9.14307 4.936392 13.34975\n"
     ]
    }
   ],
   "source": [
    "# Point Estimate\n",
    "pred<-predict(Football.lm, data.frame(x = c(1800)), interval=\"predict\", level=0.90)\n",
    "print(pred)"
   ]
  },
  {
   "cell_type": "markdown",
   "id": "036c8f52",
   "metadata": {},
   "source": [
    "## 2.3"
   ]
  },
  {
   "cell_type": "code",
   "execution_count": 26,
   "id": "4c34e779",
   "metadata": {},
   "outputs": [
    {
     "data": {
      "text/html": [
       "<table class=\"dataframe\">\n",
       "<caption>A data.frame: 6 × 2</caption>\n",
       "<thead>\n",
       "\t<tr><th></th><th scope=col>y</th><th scope=col>x</th></tr>\n",
       "\t<tr><th></th><th scope=col>&lt;dbl&gt;</th><th scope=col>&lt;dbl&gt;</th></tr>\n",
       "</thead>\n",
       "<tbody>\n",
       "\t<tr><th scope=row>1</th><td>271.8</td><td>16.66</td></tr>\n",
       "\t<tr><th scope=row>2</th><td>264.0</td><td>16.46</td></tr>\n",
       "\t<tr><th scope=row>3</th><td>238.8</td><td>17.66</td></tr>\n",
       "\t<tr><th scope=row>4</th><td>230.7</td><td>17.50</td></tr>\n",
       "\t<tr><th scope=row>5</th><td>251.6</td><td>16.40</td></tr>\n",
       "\t<tr><th scope=row>6</th><td>257.9</td><td>16.28</td></tr>\n",
       "</tbody>\n",
       "</table>\n"
      ],
      "text/latex": [
       "A data.frame: 6 × 2\n",
       "\\begin{tabular}{r|ll}\n",
       "  & y & x\\\\\n",
       "  & <dbl> & <dbl>\\\\\n",
       "\\hline\n",
       "\t1 & 271.8 & 16.66\\\\\n",
       "\t2 & 264.0 & 16.46\\\\\n",
       "\t3 & 238.8 & 17.66\\\\\n",
       "\t4 & 230.7 & 17.50\\\\\n",
       "\t5 & 251.6 & 16.40\\\\\n",
       "\t6 & 257.9 & 16.28\\\\\n",
       "\\end{tabular}\n"
      ],
      "text/markdown": [
       "\n",
       "A data.frame: 6 × 2\n",
       "\n",
       "| <!--/--> | y &lt;dbl&gt; | x &lt;dbl&gt; |\n",
       "|---|---|---|\n",
       "| 1 | 271.8 | 16.66 |\n",
       "| 2 | 264.0 | 16.46 |\n",
       "| 3 | 238.8 | 17.66 |\n",
       "| 4 | 230.7 | 17.50 |\n",
       "| 5 | 251.6 | 16.40 |\n",
       "| 6 | 257.9 | 16.28 |\n",
       "\n"
      ],
      "text/plain": [
       "  y     x    \n",
       "1 271.8 16.66\n",
       "2 264.0 16.46\n",
       "3 238.8 17.66\n",
       "4 230.7 17.50\n",
       "5 251.6 16.40\n",
       "6 257.9 16.28"
      ]
     },
     "metadata": {},
     "output_type": "display_data"
    }
   ],
   "source": [
    "dt <- read_excel('../linear_regression_5e_data_sets/Appendices/data-table-B2.XLS')\n",
    "\n",
    "df <- data.frame(y=dt$y, x=dt$x4)\n",
    "\n",
    "head(df)"
   ]
  },
  {
   "cell_type": "markdown",
   "id": "ff4e5bcb",
   "metadata": {},
   "source": [
    "### a"
   ]
  },
  {
   "cell_type": "code",
   "execution_count": 27,
   "id": "757e62bc",
   "metadata": {},
   "outputs": [
    {
     "name": "stdout",
     "output_type": "stream",
     "text": [
      "\n",
      "Call:\n",
      "lm(formula = y ~ x, data = df)\n",
      "\n",
      "Coefficients:\n",
      "(Intercept)            x  \n",
      "      607.1        -21.4  \n",
      "\n"
     ]
    }
   ],
   "source": [
    "Solar.lm <- lm(y ~ x, data=df)\n",
    "print(Solar.lm)"
   ]
  },
  {
   "cell_type": "markdown",
   "id": "c7e3a3c1",
   "metadata": {},
   "source": [
    "### b"
   ]
  },
  {
   "cell_type": "code",
   "execution_count": 28,
   "id": "9b02f878",
   "metadata": {},
   "outputs": [
    {
     "data": {
      "text/html": [
       "<table class=\"dataframe\">\n",
       "<caption>A anova: 2 × 5</caption>\n",
       "<thead>\n",
       "\t<tr><th></th><th scope=col>Df</th><th scope=col>Sum Sq</th><th scope=col>Mean Sq</th><th scope=col>F value</th><th scope=col>Pr(&gt;F)</th></tr>\n",
       "\t<tr><th></th><th scope=col>&lt;int&gt;</th><th scope=col>&lt;dbl&gt;</th><th scope=col>&lt;dbl&gt;</th><th scope=col>&lt;dbl&gt;</th><th scope=col>&lt;dbl&gt;</th></tr>\n",
       "</thead>\n",
       "<tbody>\n",
       "\t<tr><th scope=row>x</th><td> 1</td><td>10578.685</td><td>10578.685</td><td>69.60944</td><td>5.935009e-09</td></tr>\n",
       "\t<tr><th scope=row>Residuals</th><td>27</td><td> 4103.244</td><td>  151.972</td><td>      NA</td><td>          NA</td></tr>\n",
       "</tbody>\n",
       "</table>\n"
      ],
      "text/latex": [
       "A anova: 2 × 5\n",
       "\\begin{tabular}{r|lllll}\n",
       "  & Df & Sum Sq & Mean Sq & F value & Pr(>F)\\\\\n",
       "  & <int> & <dbl> & <dbl> & <dbl> & <dbl>\\\\\n",
       "\\hline\n",
       "\tx &  1 & 10578.685 & 10578.685 & 69.60944 & 5.935009e-09\\\\\n",
       "\tResiduals & 27 &  4103.244 &   151.972 &       NA &           NA\\\\\n",
       "\\end{tabular}\n"
      ],
      "text/markdown": [
       "\n",
       "A anova: 2 × 5\n",
       "\n",
       "| <!--/--> | Df &lt;int&gt; | Sum Sq &lt;dbl&gt; | Mean Sq &lt;dbl&gt; | F value &lt;dbl&gt; | Pr(&gt;F) &lt;dbl&gt; |\n",
       "|---|---|---|---|---|---|\n",
       "| x |  1 | 10578.685 | 10578.685 | 69.60944 | 5.935009e-09 |\n",
       "| Residuals | 27 |  4103.244 |   151.972 |       NA |           NA |\n",
       "\n"
      ],
      "text/plain": [
       "          Df Sum Sq    Mean Sq   F value  Pr(>F)      \n",
       "x          1 10578.685 10578.685 69.60944 5.935009e-09\n",
       "Residuals 27  4103.244   151.972       NA           NA"
      ]
     },
     "metadata": {},
     "output_type": "display_data"
    }
   ],
   "source": [
    "anova(Solar.lm)"
   ]
  },
  {
   "cell_type": "markdown",
   "id": "ac318a97",
   "metadata": {},
   "source": [
    "### c"
   ]
  },
  {
   "cell_type": "code",
   "execution_count": 30,
   "id": "d82be1f6",
   "metadata": {},
   "outputs": [
    {
     "data": {
      "text/html": [
       "<table class=\"dataframe\">\n",
       "<caption>A matrix: 2 × 2 of type dbl</caption>\n",
       "<thead>\n",
       "\t<tr><th></th><th scope=col>0.5 %</th><th scope=col>99.5 %</th></tr>\n",
       "</thead>\n",
       "<tbody>\n",
       "\t<tr><th scope=row>(Intercept)</th><td>488.22411</td><td>725.98242</td></tr>\n",
       "\t<tr><th scope=row>x</th><td>-28.50995</td><td>-14.29497</td></tr>\n",
       "</tbody>\n",
       "</table>\n"
      ],
      "text/latex": [
       "A matrix: 2 × 2 of type dbl\n",
       "\\begin{tabular}{r|ll}\n",
       "  & 0.5 \\% & 99.5 \\%\\\\\n",
       "\\hline\n",
       "\t(Intercept) & 488.22411 & 725.98242\\\\\n",
       "\tx & -28.50995 & -14.29497\\\\\n",
       "\\end{tabular}\n"
      ],
      "text/markdown": [
       "\n",
       "A matrix: 2 × 2 of type dbl\n",
       "\n",
       "| <!--/--> | 0.5 % | 99.5 % |\n",
       "|---|---|---|\n",
       "| (Intercept) | 488.22411 | 725.98242 |\n",
       "| x | -28.50995 | -14.29497 |\n",
       "\n"
      ],
      "text/plain": [
       "            0.5 %     99.5 %   \n",
       "(Intercept) 488.22411 725.98242\n",
       "x           -28.50995 -14.29497"
      ]
     },
     "metadata": {},
     "output_type": "display_data"
    }
   ],
   "source": [
    "confint(Solar.lm, level=0.99)"
   ]
  },
  {
   "cell_type": "markdown",
   "id": "27038cce",
   "metadata": {},
   "source": [
    "### d"
   ]
  },
  {
   "cell_type": "code",
   "execution_count": 31,
   "id": "269c58f1",
   "metadata": {},
   "outputs": [
    {
     "data": {
      "text/html": [
       "0.72052419640671"
      ],
      "text/latex": [
       "0.72052419640671"
      ],
      "text/markdown": [
       "0.72052419640671"
      ],
      "text/plain": [
       "[1] 0.7205242"
      ]
     },
     "metadata": {},
     "output_type": "display_data"
    }
   ],
   "source": [
    "summary(Solar.lm)$r.squared"
   ]
  },
  {
   "cell_type": "markdown",
   "id": "db304eec",
   "metadata": {},
   "source": [
    "### e"
   ]
  },
  {
   "cell_type": "code",
   "execution_count": 32,
   "id": "b694fe4e",
   "metadata": {},
   "outputs": [
    {
     "name": "stdout",
     "output_type": "stream",
     "text": [
      "       fit      lwr      upr\n",
      "1 253.9627 249.1468 258.7787\n"
     ]
    }
   ],
   "source": [
    "pred<-predict(Solar.lm, data.frame(x = c(16.5)), interval=\"confidence\", level=0.95)\n",
    "print(pred)"
   ]
  },
  {
   "cell_type": "markdown",
   "id": "505ec94d",
   "metadata": {},
   "source": [
    "## 2.4"
   ]
  },
  {
   "cell_type": "code",
   "execution_count": 39,
   "id": "a504545e",
   "metadata": {
    "scrolled": true
   },
   "outputs": [
    {
     "name": "stderr",
     "output_type": "stream",
     "text": [
      "Warning message:\n",
      "“Unknown or uninitialised column: `y`.”\n",
      "Warning message:\n",
      "“Unknown or uninitialised column: `x1`.”\n"
     ]
    },
    {
     "data": {
      "text/html": [],
      "text/latex": [],
      "text/markdown": [],
      "text/plain": [
       "<0 x 0 matrix>"
      ]
     },
     "metadata": {},
     "output_type": "display_data"
    }
   ],
   "source": [
    "dt <- read_excel('../linear_regression_5e_data_sets/Appendices/data-table-B3.XLS')\n",
    "\n",
    "df <- data.frame(y=dt$y, x=dt$x1)\n",
    "\n",
    "head(df)"
   ]
  },
  {
   "cell_type": "code",
   "execution_count": 43,
   "id": "60cfaea9",
   "metadata": {},
   "outputs": [],
   "source": [
    "dt <- read_excel('../linear_regression_5e_data_sets/Appendices/data-table-B3.XLS')"
   ]
  },
  {
   "cell_type": "code",
   "execution_count": 44,
   "id": "316dada5",
   "metadata": {},
   "outputs": [
    {
     "name": "stdout",
     "output_type": "stream",
     "text": [
      "\u001b[90m# A tibble: 0 x 0\u001b[39m\n"
     ]
    }
   ],
   "source": [
    "print(dt)"
   ]
  },
  {
   "cell_type": "markdown",
   "id": "e84edb9d",
   "metadata": {},
   "source": [
    "### a"
   ]
  },
  {
   "cell_type": "code",
   "execution_count": null,
   "id": "0a31dc3c",
   "metadata": {},
   "outputs": [],
   "source": []
  },
  {
   "cell_type": "code",
   "execution_count": 34,
   "id": "71abfb70",
   "metadata": {},
   "outputs": [
    {
     "ename": "ERROR",
     "evalue": "Error in eval(expr, envir, enclos): object 'b' not found\n",
     "output_type": "error",
     "traceback": [
      "Error in eval(expr, envir, enclos): object 'b' not found\nTraceback:\n"
     ]
    }
   ],
   "source": [
    "b"
   ]
  },
  {
   "cell_type": "code",
   "execution_count": 35,
   "id": "d042c939",
   "metadata": {},
   "outputs": [
    {
     "data": {
      "text/html": [
       "<pre class=language-r><code>.Primitive(\"c\")</code></pre>"
      ],
      "text/latex": [
       "\\begin{minted}{r}\n",
       ".Primitive(\"c\")\n",
       "\\end{minted}"
      ],
      "text/markdown": [
       "```r\n",
       ".Primitive(\"c\")\n",
       "```"
      ],
      "text/plain": [
       "function (...)  .Primitive(\"c\")"
      ]
     },
     "metadata": {},
     "output_type": "display_data"
    }
   ],
   "source": [
    "c"
   ]
  },
  {
   "cell_type": "code",
   "execution_count": 36,
   "id": "e059d51e",
   "metadata": {},
   "outputs": [
    {
     "ename": "ERROR",
     "evalue": "Error in eval(expr, envir, enclos): object 'd' not found\n",
     "output_type": "error",
     "traceback": [
      "Error in eval(expr, envir, enclos): object 'd' not found\nTraceback:\n"
     ]
    }
   ],
   "source": [
    "d"
   ]
  },
  {
   "cell_type": "code",
   "execution_count": 37,
   "id": "82937b8d",
   "metadata": {},
   "outputs": [
    {
     "ename": "ERROR",
     "evalue": "Error in eval(expr, envir, enclos): object 'e' not found\n",
     "output_type": "error",
     "traceback": [
      "Error in eval(expr, envir, enclos): object 'e' not found\nTraceback:\n"
     ]
    }
   ],
   "source": [
    "e"
   ]
  },
  {
   "cell_type": "code",
   "execution_count": 38,
   "id": "41c1bdbd",
   "metadata": {},
   "outputs": [
    {
     "ename": "ERROR",
     "evalue": "Error in eval(expr, envir, enclos): object 'f' not found\n",
     "output_type": "error",
     "traceback": [
      "Error in eval(expr, envir, enclos): object 'f' not found\nTraceback:\n"
     ]
    }
   ],
   "source": [
    "f"
   ]
  },
  {
   "cell_type": "code",
   "execution_count": null,
   "id": "35a14e64",
   "metadata": {},
   "outputs": [],
   "source": []
  }
 ],
 "metadata": {
  "kernelspec": {
   "display_name": "R",
   "language": "R",
   "name": "ir"
  },
  "language_info": {
   "codemirror_mode": "r",
   "file_extension": ".r",
   "mimetype": "text/x-r-source",
   "name": "R",
   "pygments_lexer": "r",
   "version": "3.6.3"
  }
 },
 "nbformat": 4,
 "nbformat_minor": 5
}
