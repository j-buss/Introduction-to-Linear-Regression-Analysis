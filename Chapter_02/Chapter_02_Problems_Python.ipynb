{
 "cells": [
  {
   "cell_type": "markdown",
   "id": "9483f932",
   "metadata": {},
   "source": [
    "# Chapter 2 Problems - Python"
   ]
  },
  {
   "cell_type": "markdown",
   "id": "703e5c7c",
   "metadata": {},
   "source": [
    "## Load Libraries"
   ]
  },
  {
   "cell_type": "code",
   "execution_count": 15,
   "id": "b125cc08",
   "metadata": {},
   "outputs": [],
   "source": [
    "#### Install the libraries - Only needs to be done once\n",
    "# !pip3 install numpy\n",
    "# !pip3 install pandas\n",
    "# !pip3 install statsmodels\n",
    "# !pip3 install xlrd"
   ]
  },
  {
   "cell_type": "markdown",
   "id": "202abba0",
   "metadata": {},
   "source": [
    "## 2.1"
   ]
  },
  {
   "cell_type": "code",
   "execution_count": 21,
   "id": "e129362f",
   "metadata": {},
   "outputs": [],
   "source": [
    "import numpy as np\n",
    "import pandas as pd\n",
    "import statsmodels.api as sm\n",
    "import xlrd\n",
    "import os"
   ]
  },
  {
   "cell_type": "code",
   "execution_count": 23,
   "id": "9ddcd096",
   "metadata": {},
   "outputs": [],
   "source": [
    "wb = xlrd.open_workbook('../linear_regression_5e_data_sets/Appendices/data-table-B1.XLS', logfile=open(os.devnull, 'w'))\n",
    "df = pd.read_excel(wb, engine='xlrd')"
   ]
  },
  {
   "cell_type": "code",
   "execution_count": 26,
   "id": "2a94d306",
   "metadata": {},
   "outputs": [],
   "source": [
    "df = df[['y','x8']]\n",
    "df = df.rename(columns={'x8':'x'})\n",
    "y = df['y'].to_numpy()\n",
    "x = df['x'].to_numpy()"
   ]
  },
  {
   "cell_type": "code",
   "execution_count": 32,
   "id": "ac1e53a4",
   "metadata": {},
   "outputs": [],
   "source": [
    "x = sm.add_constant(x)"
   ]
  },
  {
   "cell_type": "code",
   "execution_count": 58,
   "id": "85ffcf97",
   "metadata": {},
   "outputs": [],
   "source": [
    "model = sm.OLS(y, x)\n",
    "results = model.fit()"
   ]
  },
  {
   "cell_type": "code",
   "execution_count": 60,
   "id": "7c0a9816",
   "metadata": {},
   "outputs": [
    {
     "name": "stdout",
     "output_type": "stream",
     "text": [
      "                            OLS Regression Results                            \n",
      "==============================================================================\n",
      "Dep. Variable:                      y   R-squared:                       0.545\n",
      "Model:                            OLS   Adj. R-squared:                  0.527\n",
      "Method:                 Least Squares   F-statistic:                     31.10\n",
      "Date:                Sat, 24 Jul 2021   Prob (F-statistic):           7.38e-06\n",
      "Time:                        11:29:36   Log-Likelihood:                -63.123\n",
      "No. Observations:                  28   AIC:                             130.2\n",
      "Df Residuals:                      26   BIC:                             132.9\n",
      "Df Model:                           1                                         \n",
      "Covariance Type:            nonrobust                                         \n",
      "==============================================================================\n",
      "                 coef    std err          t      P>|t|      [0.025      0.975]\n",
      "------------------------------------------------------------------------------\n",
      "const         21.7883      2.696      8.081      0.000      16.246      27.330\n",
      "x1            -0.0070      0.001     -5.577      0.000      -0.010      -0.004\n",
      "==============================================================================\n",
      "Omnibus:                        2.076   Durbin-Watson:                   1.566\n",
      "Prob(Omnibus):                  0.354   Jarque-Bera (JB):                1.402\n",
      "Skew:                           0.305   Prob(JB):                        0.496\n",
      "Kurtosis:                       2.089   Cond. No.                     1.28e+04\n",
      "==============================================================================\n",
      "\n",
      "Notes:\n",
      "[1] Standard Errors assume that the covariance matrix of the errors is correctly specified.\n",
      "[2] The condition number is large, 1.28e+04. This might indicate that there are\n",
      "strong multicollinearity or other numerical problems.\n"
     ]
    }
   ],
   "source": [
    "print(results.summary())"
   ]
  },
  {
   "cell_type": "code",
   "execution_count": 37,
   "id": "7b3a07ef",
   "metadata": {},
   "outputs": [
    {
     "data": {
      "text/plain": [
       "['HC0_se',\n",
       " 'HC1_se',\n",
       " 'HC2_se',\n",
       " 'HC3_se',\n",
       " '_HCCM',\n",
       " '__class__',\n",
       " '__delattr__',\n",
       " '__dict__',\n",
       " '__dir__',\n",
       " '__doc__',\n",
       " '__eq__',\n",
       " '__format__',\n",
       " '__ge__',\n",
       " '__getattribute__',\n",
       " '__gt__',\n",
       " '__hash__',\n",
       " '__init__',\n",
       " '__init_subclass__',\n",
       " '__le__',\n",
       " '__lt__',\n",
       " '__module__',\n",
       " '__ne__',\n",
       " '__new__',\n",
       " '__reduce__',\n",
       " '__reduce_ex__',\n",
       " '__repr__',\n",
       " '__setattr__',\n",
       " '__sizeof__',\n",
       " '__str__',\n",
       " '__subclasshook__',\n",
       " '__weakref__',\n",
       " '_abat_diagonal',\n",
       " '_cache',\n",
       " '_data_attr',\n",
       " '_data_in_cache',\n",
       " '_get_robustcov_results',\n",
       " '_is_nested',\n",
       " '_use_t',\n",
       " '_wexog_singular_values',\n",
       " 'aic',\n",
       " 'bic',\n",
       " 'bse',\n",
       " 'centered_tss',\n",
       " 'compare_f_test',\n",
       " 'compare_lm_test',\n",
       " 'compare_lr_test',\n",
       " 'condition_number',\n",
       " 'conf_int',\n",
       " 'conf_int_el',\n",
       " 'cov_HC0',\n",
       " 'cov_HC1',\n",
       " 'cov_HC2',\n",
       " 'cov_HC3',\n",
       " 'cov_kwds',\n",
       " 'cov_params',\n",
       " 'cov_type',\n",
       " 'df_model',\n",
       " 'df_resid',\n",
       " 'diagn',\n",
       " 'eigenvals',\n",
       " 'el_test',\n",
       " 'ess',\n",
       " 'f_pvalue',\n",
       " 'f_test',\n",
       " 'fittedvalues',\n",
       " 'fvalue',\n",
       " 'get_influence',\n",
       " 'get_prediction',\n",
       " 'get_robustcov_results',\n",
       " 'initialize',\n",
       " 'k_constant',\n",
       " 'llf',\n",
       " 'load',\n",
       " 'model',\n",
       " 'mse_model',\n",
       " 'mse_resid',\n",
       " 'mse_total',\n",
       " 'nobs',\n",
       " 'normalized_cov_params',\n",
       " 'outlier_test',\n",
       " 'params',\n",
       " 'predict',\n",
       " 'pvalues',\n",
       " 'remove_data',\n",
       " 'resid',\n",
       " 'resid_pearson',\n",
       " 'rsquared',\n",
       " 'rsquared_adj',\n",
       " 'save',\n",
       " 'scale',\n",
       " 'ssr',\n",
       " 'summary',\n",
       " 'summary2',\n",
       " 't_test',\n",
       " 't_test_pairwise',\n",
       " 'tvalues',\n",
       " 'uncentered_tss',\n",
       " 'use_t',\n",
       " 'wald_test',\n",
       " 'wald_test_terms',\n",
       " 'wresid']"
      ]
     },
     "execution_count": 37,
     "metadata": {},
     "output_type": "execute_result"
    }
   ],
   "source": [
    "dir(results)"
   ]
  },
  {
   "cell_type": "code",
   "execution_count": 38,
   "id": "417beb33",
   "metadata": {},
   "outputs": [
    {
     "data": {
      "text/plain": [
       "5.725845084730775"
      ]
     },
     "execution_count": 38,
     "metadata": {},
     "output_type": "execute_result"
    }
   ],
   "source": [
    "results.mse_resid"
   ]
  },
  {
   "cell_type": "code",
   "execution_count": 39,
   "id": "36862257",
   "metadata": {},
   "outputs": [
    {
     "data": {
      "text/plain": [
       "178.09231351128557"
      ]
     },
     "execution_count": 39,
     "metadata": {},
     "output_type": "execute_result"
    }
   ],
   "source": [
    "results.mse_model"
   ]
  },
  {
   "cell_type": "code",
   "execution_count": 40,
   "id": "2435b65d",
   "metadata": {},
   "outputs": [
    {
     "data": {
      "text/plain": [
       "148.87197220300015"
      ]
     },
     "execution_count": 40,
     "metadata": {},
     "output_type": "execute_result"
    }
   ],
   "source": [
    "results.ssr"
   ]
  },
  {
   "cell_type": "code",
   "execution_count": 42,
   "id": "2abf1faf",
   "metadata": {},
   "outputs": [
    {
     "data": {
      "text/plain": [
       "178.09231351128557"
      ]
     },
     "execution_count": 42,
     "metadata": {},
     "output_type": "execute_result"
    }
   ],
   "source": [
    "results.ess"
   ]
  },
  {
   "cell_type": "code",
   "execution_count": 43,
   "id": "ae081814",
   "metadata": {},
   "outputs": [
    {
     "data": {
      "text/plain": [
       "array([ 2.17882509e+01, -7.02510028e-03])"
      ]
     },
     "execution_count": 43,
     "metadata": {},
     "output_type": "execute_result"
    }
   ],
   "source": [
    "# Equation\n",
    "results.params\n",
    "# Clean Up Printing..."
   ]
  },
  {
   "cell_type": "code",
   "execution_count": 63,
   "id": "0e0d20e3",
   "metadata": {},
   "outputs": [
    {
     "data": {
      "text/plain": [
       "<bound method RegressionResults.conf_int of <statsmodels.regression.linear_model.RegressionResultsWrapper object at 0x784c8599ff60>>"
      ]
     },
     "execution_count": 63,
     "metadata": {},
     "output_type": "execute_result"
    }
   ],
   "source": [
    "results.conf_int"
   ]
  },
  {
   "cell_type": "code",
   "execution_count": 53,
   "id": "a52a5f46",
   "metadata": {},
   "outputs": [],
   "source": [
    "# Calculate a new value\n",
    "newx = 2000\n",
    "predictions = results.get_prediction([1,newx])"
   ]
  },
  {
   "cell_type": "code",
   "execution_count": 56,
   "id": "e2629e4f",
   "metadata": {},
   "outputs": [
    {
     "data": {
      "text/html": [
       "<div>\n",
       "<style scoped>\n",
       "    .dataframe tbody tr th:only-of-type {\n",
       "        vertical-align: middle;\n",
       "    }\n",
       "\n",
       "    .dataframe tbody tr th {\n",
       "        vertical-align: top;\n",
       "    }\n",
       "\n",
       "    .dataframe thead th {\n",
       "        text-align: right;\n",
       "    }\n",
       "</style>\n",
       "<table border=\"1\" class=\"dataframe\">\n",
       "  <thead>\n",
       "    <tr style=\"text-align: right;\">\n",
       "      <th></th>\n",
       "      <th>mean</th>\n",
       "      <th>mean_se</th>\n",
       "      <th>mean_ci_lower</th>\n",
       "      <th>mean_ci_upper</th>\n",
       "      <th>obs_ci_lower</th>\n",
       "      <th>obs_ci_upper</th>\n",
       "    </tr>\n",
       "  </thead>\n",
       "  <tbody>\n",
       "    <tr>\n",
       "      <th>0</th>\n",
       "      <td>7.73805</td>\n",
       "      <td>0.473015</td>\n",
       "      <td>6.765753</td>\n",
       "      <td>8.710348</td>\n",
       "      <td>2.724248</td>\n",
       "      <td>12.751852</td>\n",
       "    </tr>\n",
       "  </tbody>\n",
       "</table>\n",
       "</div>"
      ],
      "text/plain": [
       "      mean   mean_se  mean_ci_lower  mean_ci_upper  obs_ci_lower  obs_ci_upper\n",
       "0  7.73805  0.473015       6.765753       8.710348      2.724248     12.751852"
      ]
     },
     "execution_count": 56,
     "metadata": {},
     "output_type": "execute_result"
    }
   ],
   "source": [
    "# \n",
    "predictions.summary_frame(.05)"
   ]
  },
  {
   "cell_type": "code",
   "execution_count": 72,
   "id": "3ad3b548",
   "metadata": {},
   "outputs": [
    {
     "data": {
      "text/plain": [
       "array([-0.00961435, -0.00443585])"
      ]
     },
     "execution_count": 72,
     "metadata": {},
     "output_type": "execute_result"
    }
   ],
   "source": [
    "results.conf_int(alpha=0.05)[1]"
   ]
  },
  {
   "cell_type": "code",
   "execution_count": 75,
   "id": "af7f782b",
   "metadata": {},
   "outputs": [
    {
     "data": {
      "text/plain": [
       "2876.0"
      ]
     },
     "execution_count": 75,
     "metadata": {},
     "output_type": "execute_result"
    }
   ],
   "source": [
    "np.max(x)"
   ]
  },
  {
   "cell_type": "code",
   "execution_count": 81,
   "id": "4be52b68",
   "metadata": {},
   "outputs": [
    {
     "name": "stdout",
     "output_type": "stream",
     "text": [
      "2876.0\n"
     ]
    }
   ],
   "source": [
    "print(np.max(x[:,1]))"
   ]
  },
  {
   "cell_type": "code",
   "execution_count": 82,
   "id": "46e56127",
   "metadata": {},
   "outputs": [
    {
     "name": "stdout",
     "output_type": "stream",
     "text": [
      "1457.0\n"
     ]
    }
   ],
   "source": [
    "print(np.min(x[:,1]))"
   ]
  },
  {
   "cell_type": "code",
   "execution_count": 91,
   "id": "99978f82",
   "metadata": {},
   "outputs": [],
   "source": [
    "min_x = np.min(x[:,1])\n",
    "max_x = np.max(x[:,1])\n",
    "interval_x = np.arange(min_x,max_x,(max_x - min_x)/100)"
   ]
  },
  {
   "cell_type": "code",
   "execution_count": 93,
   "id": "ad932867",
   "metadata": {},
   "outputs": [
    {
     "data": {
      "text/plain": [
       "array([1457.  , 1471.19, 1485.38, 1499.57, 1513.76, 1527.95, 1542.14,\n",
       "       1556.33, 1570.52, 1584.71, 1598.9 , 1613.09, 1627.28, 1641.47,\n",
       "       1655.66, 1669.85, 1684.04, 1698.23, 1712.42, 1726.61, 1740.8 ,\n",
       "       1754.99, 1769.18, 1783.37, 1797.56, 1811.75, 1825.94, 1840.13,\n",
       "       1854.32, 1868.51, 1882.7 , 1896.89, 1911.08, 1925.27, 1939.46,\n",
       "       1953.65, 1967.84, 1982.03, 1996.22, 2010.41, 2024.6 , 2038.79,\n",
       "       2052.98, 2067.17, 2081.36, 2095.55, 2109.74, 2123.93, 2138.12,\n",
       "       2152.31, 2166.5 , 2180.69, 2194.88, 2209.07, 2223.26, 2237.45,\n",
       "       2251.64, 2265.83, 2280.02, 2294.21, 2308.4 , 2322.59, 2336.78,\n",
       "       2350.97, 2365.16, 2379.35, 2393.54, 2407.73, 2421.92, 2436.11,\n",
       "       2450.3 , 2464.49, 2478.68, 2492.87, 2507.06, 2521.25, 2535.44,\n",
       "       2549.63, 2563.82, 2578.01, 2592.2 , 2606.39, 2620.58, 2634.77,\n",
       "       2648.96, 2663.15, 2677.34, 2691.53, 2705.72, 2719.91, 2734.1 ,\n",
       "       2748.29, 2762.48, 2776.67, 2790.86, 2805.05, 2819.24, 2833.43,\n",
       "       2847.62, 2861.81])"
      ]
     },
     "execution_count": 93,
     "metadata": {},
     "output_type": "execute_result"
    }
   ],
   "source": [
    "interval_x"
   ]
  },
  {
   "cell_type": "code",
   "execution_count": 94,
   "id": "89e18c33",
   "metadata": {},
   "outputs": [],
   "source": [
    "interval_x = sm.add_constant(interval_x)"
   ]
  },
  {
   "cell_type": "code",
   "execution_count": 96,
   "id": "faa55001",
   "metadata": {},
   "outputs": [],
   "source": [
    "predictions = results.get_prediction(interval_x)"
   ]
  },
  {
   "cell_type": "code",
   "execution_count": 99,
   "id": "3624daf7",
   "metadata": {},
   "outputs": [
    {
     "data": {
      "text/html": [
       "<div>\n",
       "<style scoped>\n",
       "    .dataframe tbody tr th:only-of-type {\n",
       "        vertical-align: middle;\n",
       "    }\n",
       "\n",
       "    .dataframe tbody tr th {\n",
       "        vertical-align: top;\n",
       "    }\n",
       "\n",
       "    .dataframe thead th {\n",
       "        text-align: right;\n",
       "    }\n",
       "</style>\n",
       "<table border=\"1\" class=\"dataframe\">\n",
       "  <thead>\n",
       "    <tr style=\"text-align: right;\">\n",
       "      <th></th>\n",
       "      <th>mean</th>\n",
       "      <th>mean_se</th>\n",
       "      <th>mean_ci_lower</th>\n",
       "      <th>mean_ci_upper</th>\n",
       "      <th>obs_ci_lower</th>\n",
       "      <th>obs_ci_upper</th>\n",
       "    </tr>\n",
       "  </thead>\n",
       "  <tbody>\n",
       "    <tr>\n",
       "      <th>0</th>\n",
       "      <td>11.552680</td>\n",
       "      <td>0.938819</td>\n",
       "      <td>9.622910</td>\n",
       "      <td>13.482450</td>\n",
       "      <td>6.269039</td>\n",
       "      <td>16.836321</td>\n",
       "    </tr>\n",
       "    <tr>\n",
       "      <th>1</th>\n",
       "      <td>11.452994</td>\n",
       "      <td>0.923195</td>\n",
       "      <td>9.555339</td>\n",
       "      <td>13.350648</td>\n",
       "      <td>6.180998</td>\n",
       "      <td>16.724989</td>\n",
       "    </tr>\n",
       "    <tr>\n",
       "      <th>2</th>\n",
       "      <td>11.353307</td>\n",
       "      <td>0.907654</td>\n",
       "      <td>9.487598</td>\n",
       "      <td>13.219017</td>\n",
       "      <td>6.092726</td>\n",
       "      <td>16.613889</td>\n",
       "    </tr>\n",
       "    <tr>\n",
       "      <th>3</th>\n",
       "      <td>11.253621</td>\n",
       "      <td>0.892200</td>\n",
       "      <td>9.419677</td>\n",
       "      <td>13.087565</td>\n",
       "      <td>6.004221</td>\n",
       "      <td>16.503021</td>\n",
       "    </tr>\n",
       "    <tr>\n",
       "      <th>4</th>\n",
       "      <td>11.153935</td>\n",
       "      <td>0.876839</td>\n",
       "      <td>9.351567</td>\n",
       "      <td>12.956303</td>\n",
       "      <td>5.915483</td>\n",
       "      <td>16.392387</td>\n",
       "    </tr>\n",
       "    <tr>\n",
       "      <th>...</th>\n",
       "      <td>...</td>\n",
       "      <td>...</td>\n",
       "      <td>...</td>\n",
       "      <td>...</td>\n",
       "      <td>...</td>\n",
       "      <td>...</td>\n",
       "    </tr>\n",
       "    <tr>\n",
       "      <th>95</th>\n",
       "      <td>2.082493</td>\n",
       "      <td>0.985248</td>\n",
       "      <td>0.057287</td>\n",
       "      <td>4.107700</td>\n",
       "      <td>-3.236746</td>\n",
       "      <td>7.401733</td>\n",
       "    </tr>\n",
       "    <tr>\n",
       "      <th>96</th>\n",
       "      <td>1.982807</td>\n",
       "      <td>1.001162</td>\n",
       "      <td>-0.075111</td>\n",
       "      <td>4.040725</td>\n",
       "      <td>-3.348973</td>\n",
       "      <td>7.314587</td>\n",
       "    </tr>\n",
       "    <tr>\n",
       "      <th>97</th>\n",
       "      <td>1.883121</td>\n",
       "      <td>1.017141</td>\n",
       "      <td>-0.207643</td>\n",
       "      <td>3.973885</td>\n",
       "      <td>-3.461422</td>\n",
       "      <td>7.227664</td>\n",
       "    </tr>\n",
       "    <tr>\n",
       "      <th>98</th>\n",
       "      <td>1.783435</td>\n",
       "      <td>1.033183</td>\n",
       "      <td>-0.340302</td>\n",
       "      <td>3.907172</td>\n",
       "      <td>-3.574093</td>\n",
       "      <td>7.140963</td>\n",
       "    </tr>\n",
       "    <tr>\n",
       "      <th>99</th>\n",
       "      <td>1.683749</td>\n",
       "      <td>1.049283</td>\n",
       "      <td>-0.473084</td>\n",
       "      <td>3.840581</td>\n",
       "      <td>-3.686984</td>\n",
       "      <td>7.054482</td>\n",
       "    </tr>\n",
       "  </tbody>\n",
       "</table>\n",
       "<p>100 rows × 6 columns</p>\n",
       "</div>"
      ],
      "text/plain": [
       "         mean   mean_se  mean_ci_lower  mean_ci_upper  obs_ci_lower  \\\n",
       "0   11.552680  0.938819       9.622910      13.482450      6.269039   \n",
       "1   11.452994  0.923195       9.555339      13.350648      6.180998   \n",
       "2   11.353307  0.907654       9.487598      13.219017      6.092726   \n",
       "3   11.253621  0.892200       9.419677      13.087565      6.004221   \n",
       "4   11.153935  0.876839       9.351567      12.956303      5.915483   \n",
       "..        ...       ...            ...            ...           ...   \n",
       "95   2.082493  0.985248       0.057287       4.107700     -3.236746   \n",
       "96   1.982807  1.001162      -0.075111       4.040725     -3.348973   \n",
       "97   1.883121  1.017141      -0.207643       3.973885     -3.461422   \n",
       "98   1.783435  1.033183      -0.340302       3.907172     -3.574093   \n",
       "99   1.683749  1.049283      -0.473084       3.840581     -3.686984   \n",
       "\n",
       "    obs_ci_upper  \n",
       "0      16.836321  \n",
       "1      16.724989  \n",
       "2      16.613889  \n",
       "3      16.503021  \n",
       "4      16.392387  \n",
       "..           ...  \n",
       "95      7.401733  \n",
       "96      7.314587  \n",
       "97      7.227664  \n",
       "98      7.140963  \n",
       "99      7.054482  \n",
       "\n",
       "[100 rows x 6 columns]"
      ]
     },
     "execution_count": 99,
     "metadata": {},
     "output_type": "execute_result"
    }
   ],
   "source": [
    "predictions.summary_frame(0.05)"
   ]
  },
  {
   "cell_type": "code",
   "execution_count": null,
   "id": "62bb8914",
   "metadata": {},
   "outputs": [],
   "source": []
  }
 ],
 "metadata": {
  "kernelspec": {
   "display_name": "Python 3",
   "language": "python",
   "name": "python3"
  },
  "language_info": {
   "codemirror_mode": {
    "name": "ipython",
    "version": 3
   },
   "file_extension": ".py",
   "mimetype": "text/x-python",
   "name": "python",
   "nbconvert_exporter": "python",
   "pygments_lexer": "ipython3",
   "version": "3.7.3"
  }
 },
 "nbformat": 4,
 "nbformat_minor": 5
}
