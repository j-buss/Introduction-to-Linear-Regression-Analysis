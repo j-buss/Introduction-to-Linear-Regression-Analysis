{
 "cells": [
  {
   "cell_type": "markdown",
   "id": "9483f932",
   "metadata": {},
   "source": [
    "# Chapter 2 Problems - Python"
   ]
  },
  {
   "cell_type": "markdown",
   "id": "703e5c7c",
   "metadata": {},
   "source": [
    "## Load Libraries"
   ]
  },
  {
   "cell_type": "code",
   "execution_count": 27,
   "id": "b125cc08",
   "metadata": {},
   "outputs": [
    {
     "name": "stdout",
     "output_type": "stream",
     "text": [
      "Collecting matplotlib\n",
      "\u001b[?25l  Downloading https://files.pythonhosted.org/packages/24/33/5568d443ba438d95d4db635dd69958056f087e57e1026bee56f959d53f9d/matplotlib-3.4.2-cp37-cp37m-manylinux1_x86_64.whl (10.3MB)\n",
      "\u001b[K    100% |████████████████████████████████| 10.3MB 151kB/s eta 0:00:01\n",
      "\u001b[?25hRequirement already satisfied: pyparsing>=2.2.1 in /home/jeremyfbuss/.local/lib/python3.7/site-packages (from matplotlib) (2.4.7)\n",
      "Collecting kiwisolver>=1.0.1 (from matplotlib)\n",
      "\u001b[?25l  Downloading https://files.pythonhosted.org/packages/d2/46/231de802ade4225b76b96cffe419cf3ce52bbe92e3b092cf12db7d11c207/kiwisolver-1.3.1-cp37-cp37m-manylinux1_x86_64.whl (1.1MB)\n",
      "\u001b[K    100% |████████████████████████████████| 1.1MB 1.2MB/s ta 0:00:011\n",
      "\u001b[?25hRequirement already satisfied: numpy>=1.16 in /home/jeremyfbuss/.local/lib/python3.7/site-packages (from matplotlib) (1.21.1)\n",
      "Collecting pillow>=6.2.0 (from matplotlib)\n",
      "\u001b[?25l  Downloading https://files.pythonhosted.org/packages/8e/7a/b047f6f80fdb02c0cca1d3761d71e9800bcf6d4874b71c9e6548ec59e156/Pillow-8.3.1-cp37-cp37m-manylinux_2_5_x86_64.manylinux1_x86_64.whl (3.0MB)\n",
      "\u001b[K    100% |████████████████████████████████| 3.0MB 495kB/s eta 0:00:01\n",
      "\u001b[?25hRequirement already satisfied: python-dateutil>=2.7 in /home/jeremyfbuss/.local/lib/python3.7/site-packages (from matplotlib) (2.8.1)\n",
      "Collecting cycler>=0.10 (from matplotlib)\n",
      "  Downloading https://files.pythonhosted.org/packages/f7/d2/e07d3ebb2bd7af696440ce7e754c59dd546ffe1bbe732c8ab68b9c834e61/cycler-0.10.0-py2.py3-none-any.whl\n",
      "Requirement already satisfied: six>=1.5 in /usr/lib/python3/dist-packages (from python-dateutil>=2.7->matplotlib) (1.12.0)\n",
      "Installing collected packages: kiwisolver, pillow, cycler, matplotlib\n",
      "Successfully installed cycler-0.10.0 kiwisolver-1.3.1 matplotlib-3.4.2 pillow-8.3.1\n"
     ]
    }
   ],
   "source": [
    "#### Install the libraries - Only needs to be done once\n",
    "# !pip3 install numpy\n",
    "# !pip3 install pandas\n",
    "# !pip3 install statsmodels\n",
    "# !pip3 install xlrd\n",
    "!pip3 install matplotlib"
   ]
  },
  {
   "cell_type": "markdown",
   "id": "202abba0",
   "metadata": {},
   "source": [
    "## 2.1"
   ]
  },
  {
   "cell_type": "code",
   "execution_count": 31,
   "id": "e129362f",
   "metadata": {},
   "outputs": [],
   "source": [
    "import numpy as np\n",
    "import pandas as pd\n",
    "import statsmodels.api as sm\n",
    "import xlrd\n",
    "import os"
   ]
  },
  {
   "cell_type": "code",
   "execution_count": 32,
   "id": "9ddcd096",
   "metadata": {},
   "outputs": [],
   "source": [
    "wb = xlrd.open_workbook('../linear_regression_5e_data_sets/Appendices/data-table-B1.XLS', logfile=open(os.devnull, 'w'))\n",
    "df = pd.read_excel(wb, engine='xlrd')"
   ]
  },
  {
   "cell_type": "code",
   "execution_count": 33,
   "id": "2a94d306",
   "metadata": {},
   "outputs": [],
   "source": [
    "df = df[['y','x8']]\n",
    "df = df.rename(columns={'x8':'x'})\n",
    "y = df['y'].to_numpy()\n",
    "x = df['x'].to_numpy()"
   ]
  },
  {
   "cell_type": "code",
   "execution_count": 5,
   "id": "ac1e53a4",
   "metadata": {},
   "outputs": [],
   "source": [
    "x = sm.add_constant(x)"
   ]
  },
  {
   "cell_type": "code",
   "execution_count": 6,
   "id": "85ffcf97",
   "metadata": {},
   "outputs": [],
   "source": [
    "model = sm.OLS(y, x)\n",
    "results = model.fit()"
   ]
  },
  {
   "cell_type": "code",
   "execution_count": 7,
   "id": "7c0a9816",
   "metadata": {},
   "outputs": [
    {
     "name": "stdout",
     "output_type": "stream",
     "text": [
      "                            OLS Regression Results                            \n",
      "==============================================================================\n",
      "Dep. Variable:                      y   R-squared:                       0.545\n",
      "Model:                            OLS   Adj. R-squared:                  0.527\n",
      "Method:                 Least Squares   F-statistic:                     31.10\n",
      "Date:                Sat, 24 Jul 2021   Prob (F-statistic):           7.38e-06\n",
      "Time:                        19:33:21   Log-Likelihood:                -63.123\n",
      "No. Observations:                  28   AIC:                             130.2\n",
      "Df Residuals:                      26   BIC:                             132.9\n",
      "Df Model:                           1                                         \n",
      "Covariance Type:            nonrobust                                         \n",
      "==============================================================================\n",
      "                 coef    std err          t      P>|t|      [0.025      0.975]\n",
      "------------------------------------------------------------------------------\n",
      "const         21.7883      2.696      8.081      0.000      16.246      27.330\n",
      "x1            -0.0070      0.001     -5.577      0.000      -0.010      -0.004\n",
      "==============================================================================\n",
      "Omnibus:                        2.076   Durbin-Watson:                   1.566\n",
      "Prob(Omnibus):                  0.354   Jarque-Bera (JB):                1.402\n",
      "Skew:                           0.305   Prob(JB):                        0.496\n",
      "Kurtosis:                       2.089   Cond. No.                     1.28e+04\n",
      "==============================================================================\n",
      "\n",
      "Notes:\n",
      "[1] Standard Errors assume that the covariance matrix of the errors is correctly specified.\n",
      "[2] The condition number is large, 1.28e+04. This might indicate that there are\n",
      "strong multicollinearity or other numerical problems.\n"
     ]
    }
   ],
   "source": [
    "print(results.summary())"
   ]
  },
  {
   "cell_type": "code",
   "execution_count": 8,
   "id": "417beb33",
   "metadata": {},
   "outputs": [
    {
     "data": {
      "text/plain": [
       "5.725845084730775"
      ]
     },
     "execution_count": 8,
     "metadata": {},
     "output_type": "execute_result"
    }
   ],
   "source": [
    "results.mse_resid"
   ]
  },
  {
   "cell_type": "code",
   "execution_count": null,
   "id": "52ce8215",
   "metadata": {},
   "outputs": [],
   "source": []
  },
  {
   "cell_type": "code",
   "execution_count": 9,
   "id": "36862257",
   "metadata": {},
   "outputs": [
    {
     "data": {
      "text/plain": [
       "178.09231351128557"
      ]
     },
     "execution_count": 9,
     "metadata": {},
     "output_type": "execute_result"
    }
   ],
   "source": [
    "results.mse_model"
   ]
  },
  {
   "cell_type": "code",
   "execution_count": 10,
   "id": "2435b65d",
   "metadata": {},
   "outputs": [
    {
     "data": {
      "text/plain": [
       "148.87197220300015"
      ]
     },
     "execution_count": 10,
     "metadata": {},
     "output_type": "execute_result"
    }
   ],
   "source": [
    "results.ssr"
   ]
  },
  {
   "cell_type": "code",
   "execution_count": 11,
   "id": "2abf1faf",
   "metadata": {},
   "outputs": [
    {
     "data": {
      "text/plain": [
       "178.09231351128557"
      ]
     },
     "execution_count": 11,
     "metadata": {},
     "output_type": "execute_result"
    }
   ],
   "source": [
    "results.ess"
   ]
  },
  {
   "cell_type": "code",
   "execution_count": 12,
   "id": "ae081814",
   "metadata": {},
   "outputs": [
    {
     "data": {
      "text/plain": [
       "array([ 2.17882509e+01, -7.02510028e-03])"
      ]
     },
     "execution_count": 12,
     "metadata": {},
     "output_type": "execute_result"
    }
   ],
   "source": [
    "# Equation\n",
    "results.params\n",
    "# Clean Up Printing..."
   ]
  },
  {
   "cell_type": "code",
   "execution_count": 13,
   "id": "0e0d20e3",
   "metadata": {},
   "outputs": [
    {
     "data": {
      "text/plain": [
       "<bound method RegressionResults.conf_int of <statsmodels.regression.linear_model.RegressionResultsWrapper object at 0x78b20236a208>>"
      ]
     },
     "execution_count": 13,
     "metadata": {},
     "output_type": "execute_result"
    }
   ],
   "source": [
    "results.conf_int"
   ]
  },
  {
   "cell_type": "code",
   "execution_count": 14,
   "id": "a52a5f46",
   "metadata": {},
   "outputs": [],
   "source": [
    "# Calculate a new value\n",
    "newx = 2000\n",
    "predictions = results.get_prediction([1,newx])"
   ]
  },
  {
   "cell_type": "code",
   "execution_count": 15,
   "id": "e2629e4f",
   "metadata": {},
   "outputs": [
    {
     "data": {
      "text/html": [
       "<div>\n",
       "<style scoped>\n",
       "    .dataframe tbody tr th:only-of-type {\n",
       "        vertical-align: middle;\n",
       "    }\n",
       "\n",
       "    .dataframe tbody tr th {\n",
       "        vertical-align: top;\n",
       "    }\n",
       "\n",
       "    .dataframe thead th {\n",
       "        text-align: right;\n",
       "    }\n",
       "</style>\n",
       "<table border=\"1\" class=\"dataframe\">\n",
       "  <thead>\n",
       "    <tr style=\"text-align: right;\">\n",
       "      <th></th>\n",
       "      <th>mean</th>\n",
       "      <th>mean_se</th>\n",
       "      <th>mean_ci_lower</th>\n",
       "      <th>mean_ci_upper</th>\n",
       "      <th>obs_ci_lower</th>\n",
       "      <th>obs_ci_upper</th>\n",
       "    </tr>\n",
       "  </thead>\n",
       "  <tbody>\n",
       "    <tr>\n",
       "      <th>0</th>\n",
       "      <td>7.73805</td>\n",
       "      <td>0.473015</td>\n",
       "      <td>6.765753</td>\n",
       "      <td>8.710348</td>\n",
       "      <td>2.724248</td>\n",
       "      <td>12.751852</td>\n",
       "    </tr>\n",
       "  </tbody>\n",
       "</table>\n",
       "</div>"
      ],
      "text/plain": [
       "      mean   mean_se  mean_ci_lower  mean_ci_upper  obs_ci_lower  obs_ci_upper\n",
       "0  7.73805  0.473015       6.765753       8.710348      2.724248     12.751852"
      ]
     },
     "execution_count": 15,
     "metadata": {},
     "output_type": "execute_result"
    }
   ],
   "source": [
    "# \n",
    "predictions.summary_frame(.05)"
   ]
  },
  {
   "cell_type": "code",
   "execution_count": 16,
   "id": "3ad3b548",
   "metadata": {},
   "outputs": [
    {
     "data": {
      "text/plain": [
       "array([-0.00961435, -0.00443585])"
      ]
     },
     "execution_count": 16,
     "metadata": {},
     "output_type": "execute_result"
    }
   ],
   "source": [
    "results.conf_int(alpha=0.05)[1]"
   ]
  },
  {
   "cell_type": "code",
   "execution_count": 17,
   "id": "af7f782b",
   "metadata": {},
   "outputs": [
    {
     "data": {
      "text/plain": [
       "2876.0"
      ]
     },
     "execution_count": 17,
     "metadata": {},
     "output_type": "execute_result"
    }
   ],
   "source": [
    "np.max(x)"
   ]
  },
  {
   "cell_type": "code",
   "execution_count": 18,
   "id": "4be52b68",
   "metadata": {},
   "outputs": [
    {
     "name": "stdout",
     "output_type": "stream",
     "text": [
      "2876.0\n"
     ]
    }
   ],
   "source": [
    "print(np.max(x[:,1]))"
   ]
  },
  {
   "cell_type": "code",
   "execution_count": 19,
   "id": "46e56127",
   "metadata": {},
   "outputs": [
    {
     "name": "stdout",
     "output_type": "stream",
     "text": [
      "1457.0\n"
     ]
    }
   ],
   "source": [
    "print(np.min(x[:,1]))"
   ]
  },
  {
   "cell_type": "code",
   "execution_count": 20,
   "id": "99978f82",
   "metadata": {},
   "outputs": [],
   "source": [
    "min_x = np.min(x[:,1])\n",
    "max_x = np.max(x[:,1])\n",
    "interval_x = np.arange(min_x,max_x,(max_x - min_x)/100)"
   ]
  },
  {
   "cell_type": "code",
   "execution_count": 21,
   "id": "ad932867",
   "metadata": {},
   "outputs": [
    {
     "data": {
      "text/plain": [
       "array([1457.  , 1471.19, 1485.38, 1499.57, 1513.76, 1527.95, 1542.14,\n",
       "       1556.33, 1570.52, 1584.71, 1598.9 , 1613.09, 1627.28, 1641.47,\n",
       "       1655.66, 1669.85, 1684.04, 1698.23, 1712.42, 1726.61, 1740.8 ,\n",
       "       1754.99, 1769.18, 1783.37, 1797.56, 1811.75, 1825.94, 1840.13,\n",
       "       1854.32, 1868.51, 1882.7 , 1896.89, 1911.08, 1925.27, 1939.46,\n",
       "       1953.65, 1967.84, 1982.03, 1996.22, 2010.41, 2024.6 , 2038.79,\n",
       "       2052.98, 2067.17, 2081.36, 2095.55, 2109.74, 2123.93, 2138.12,\n",
       "       2152.31, 2166.5 , 2180.69, 2194.88, 2209.07, 2223.26, 2237.45,\n",
       "       2251.64, 2265.83, 2280.02, 2294.21, 2308.4 , 2322.59, 2336.78,\n",
       "       2350.97, 2365.16, 2379.35, 2393.54, 2407.73, 2421.92, 2436.11,\n",
       "       2450.3 , 2464.49, 2478.68, 2492.87, 2507.06, 2521.25, 2535.44,\n",
       "       2549.63, 2563.82, 2578.01, 2592.2 , 2606.39, 2620.58, 2634.77,\n",
       "       2648.96, 2663.15, 2677.34, 2691.53, 2705.72, 2719.91, 2734.1 ,\n",
       "       2748.29, 2762.48, 2776.67, 2790.86, 2805.05, 2819.24, 2833.43,\n",
       "       2847.62, 2861.81])"
      ]
     },
     "execution_count": 21,
     "metadata": {},
     "output_type": "execute_result"
    }
   ],
   "source": [
    "interval_x"
   ]
  },
  {
   "cell_type": "code",
   "execution_count": 22,
   "id": "89e18c33",
   "metadata": {},
   "outputs": [],
   "source": [
    "interval_x = sm.add_constant(interval_x)"
   ]
  },
  {
   "cell_type": "code",
   "execution_count": 23,
   "id": "faa55001",
   "metadata": {},
   "outputs": [],
   "source": [
    "predictions = results.get_prediction(interval_x)"
   ]
  },
  {
   "cell_type": "code",
   "execution_count": 51,
   "id": "3624daf7",
   "metadata": {},
   "outputs": [
    {
     "data": {
      "text/plain": [
       "0     9.622910\n",
       "1     9.555339\n",
       "2     9.487598\n",
       "3     9.419677\n",
       "4     9.351567\n",
       "        ...   \n",
       "95    0.057287\n",
       "96   -0.075111\n",
       "97   -0.207643\n",
       "98   -0.340302\n",
       "99   -0.473084\n",
       "Name: mean_ci_lower, Length: 100, dtype: float64"
      ]
     },
     "execution_count": 51,
     "metadata": {},
     "output_type": "execute_result"
    }
   ],
   "source": [
    "predictions.summary_frame(0.05)['mean_ci_lower']"
   ]
  },
  {
   "cell_type": "code",
   "execution_count": 56,
   "id": "62bb8914",
   "metadata": {},
   "outputs": [
    {
     "data": {
      "image/png": "[encoded data removed]",
      "text/plain": [
       "<Figure size 432x288 with 1 Axes>"
      ]
     },
     "metadata": {
      "needs_background": "light"
     },
     "output_type": "display_data"
    }
   ],
   "source": [
    "from matplotlib import pyplot as plt\n",
    "import numpy as np\n",
    "# Create the data set\n",
    "#x = np.arange(0, 10, 0.05)\n",
    "#y = np.sin(x)\n",
    "# Define the confidence interval\n",
    "#ci = 0.1 * np.std(y) / np.mean(y)\n",
    "# Plot the sinus function\n",
    "plt.plot(x, y, 'o')\n",
    "\n",
    "\n",
    "\n",
    "plt.plot(x, results.params[1]*x + results.params[0])\n",
    "\n",
    "plt.plot(interval_x,predictions.summary_frame(0.05)['mean_ci_lower'])\n",
    "#plt.plot(interval_x,predictions.summary_frame(0.05)['mean_ci_upper'])\n",
    "#plt.plot()\n",
    "\n",
    "# Plot the confidence interval\n",
    "#plt.fill_between(x, (y-ci), (y+ci), color='blue', alpha=0.1)\n",
    "#plt.fill_between(results.params[1]*x + results.params[0], predictions.summary_frame(0.05)['mean_ci_lower'], color='blue')\n",
    "plt.show()"
   ]
  },
  {
   "cell_type": "code",
   "execution_count": 58,
   "id": "06e31828",
   "metadata": {},
   "outputs": [
    {
     "ename": "ValueError",
     "evalue": "x and y must be the same size",
     "output_type": "error",
     "traceback": [
      "\u001b[0;31m---------------------------------------------------------------------------\u001b[0m",
      "\u001b[0;31mValueError\u001b[0m                                Traceback (most recent call last)",
      "\u001b[0;32m<ipython-input-58-7039bc8a5e5b>\u001b[0m in \u001b[0;36m<module>\u001b[0;34m\u001b[0m\n\u001b[1;32m      2\u001b[0m \u001b[0;34m\u001b[0m\u001b[0m\n\u001b[1;32m      3\u001b[0m \u001b[0mfig\u001b[0m\u001b[0;34m,\u001b[0m \u001b[0max\u001b[0m \u001b[0;34m=\u001b[0m \u001b[0mplt\u001b[0m\u001b[0;34m.\u001b[0m\u001b[0msubplots\u001b[0m\u001b[0;34m(\u001b[0m\u001b[0mfigsize\u001b[0m\u001b[0;34m=\u001b[0m\u001b[0;34m(\u001b[0m\u001b[0;36m8\u001b[0m\u001b[0;34m,\u001b[0m \u001b[0;36m4\u001b[0m\u001b[0;34m)\u001b[0m\u001b[0;34m)\u001b[0m\u001b[0;34m\u001b[0m\u001b[0;34m\u001b[0m\u001b[0m\n\u001b[0;32m----> 4\u001b[0;31m \u001b[0max\u001b[0m\u001b[0;34m.\u001b[0m\u001b[0mscatter\u001b[0m\u001b[0;34m(\u001b[0m\u001b[0mx\u001b[0m\u001b[0;34m,\u001b[0m \u001b[0my\u001b[0m\u001b[0;34m,\u001b[0m \u001b[0malpha\u001b[0m\u001b[0;34m=\u001b[0m\u001b[0;36m0.5\u001b[0m\u001b[0;34m,\u001b[0m \u001b[0mcolor\u001b[0m\u001b[0;34m=\u001b[0m\u001b[0;34m'orchid'\u001b[0m\u001b[0;34m)\u001b[0m\u001b[0;34m\u001b[0m\u001b[0;34m\u001b[0m\u001b[0m\n\u001b[0m\u001b[1;32m      5\u001b[0m \u001b[0mfig\u001b[0m\u001b[0;34m.\u001b[0m\u001b[0msuptitle\u001b[0m\u001b[0;34m(\u001b[0m\u001b[0;34m'Example Scatter Plot'\u001b[0m\u001b[0;34m)\u001b[0m\u001b[0;34m\u001b[0m\u001b[0;34m\u001b[0m\u001b[0m\n\u001b[1;32m      6\u001b[0m \u001b[0mfig\u001b[0m\u001b[0;34m.\u001b[0m\u001b[0mtight_layout\u001b[0m\u001b[0;34m(\u001b[0m\u001b[0mpad\u001b[0m\u001b[0;34m=\u001b[0m\u001b[0;36m2\u001b[0m\u001b[0;34m)\u001b[0m\u001b[0;34m;\u001b[0m\u001b[0;34m\u001b[0m\u001b[0;34m\u001b[0m\u001b[0m\n",
      "\u001b[0;32m~/.local/lib/python3.7/site-packages/matplotlib/__init__.py\u001b[0m in \u001b[0;36minner\u001b[0;34m(ax, data, *args, **kwargs)\u001b[0m\n\u001b[1;32m   1359\u001b[0m     \u001b[0;32mdef\u001b[0m \u001b[0minner\u001b[0m\u001b[0;34m(\u001b[0m\u001b[0max\u001b[0m\u001b[0;34m,\u001b[0m \u001b[0;34m*\u001b[0m\u001b[0margs\u001b[0m\u001b[0;34m,\u001b[0m \u001b[0mdata\u001b[0m\u001b[0;34m=\u001b[0m\u001b[0;32mNone\u001b[0m\u001b[0;34m,\u001b[0m \u001b[0;34m**\u001b[0m\u001b[0mkwargs\u001b[0m\u001b[0;34m)\u001b[0m\u001b[0;34m:\u001b[0m\u001b[0;34m\u001b[0m\u001b[0;34m\u001b[0m\u001b[0m\n\u001b[1;32m   1360\u001b[0m         \u001b[0;32mif\u001b[0m \u001b[0mdata\u001b[0m \u001b[0;32mis\u001b[0m \u001b[0;32mNone\u001b[0m\u001b[0;34m:\u001b[0m\u001b[0;34m\u001b[0m\u001b[0;34m\u001b[0m\u001b[0m\n\u001b[0;32m-> 1361\u001b[0;31m             \u001b[0;32mreturn\u001b[0m \u001b[0mfunc\u001b[0m\u001b[0;34m(\u001b[0m\u001b[0max\u001b[0m\u001b[0;34m,\u001b[0m \u001b[0;34m*\u001b[0m\u001b[0mmap\u001b[0m\u001b[0;34m(\u001b[0m\u001b[0msanitize_sequence\u001b[0m\u001b[0;34m,\u001b[0m \u001b[0margs\u001b[0m\u001b[0;34m)\u001b[0m\u001b[0;34m,\u001b[0m \u001b[0;34m**\u001b[0m\u001b[0mkwargs\u001b[0m\u001b[0;34m)\u001b[0m\u001b[0;34m\u001b[0m\u001b[0;34m\u001b[0m\u001b[0m\n\u001b[0m\u001b[1;32m   1362\u001b[0m \u001b[0;34m\u001b[0m\u001b[0m\n\u001b[1;32m   1363\u001b[0m         \u001b[0mbound\u001b[0m \u001b[0;34m=\u001b[0m \u001b[0mnew_sig\u001b[0m\u001b[0;34m.\u001b[0m\u001b[0mbind\u001b[0m\u001b[0;34m(\u001b[0m\u001b[0max\u001b[0m\u001b[0;34m,\u001b[0m \u001b[0;34m*\u001b[0m\u001b[0margs\u001b[0m\u001b[0;34m,\u001b[0m \u001b[0;34m**\u001b[0m\u001b[0mkwargs\u001b[0m\u001b[0;34m)\u001b[0m\u001b[0;34m\u001b[0m\u001b[0;34m\u001b[0m\u001b[0m\n",
      "\u001b[0;32m~/.local/lib/python3.7/site-packages/matplotlib/axes/_axes.py\u001b[0m in \u001b[0;36mscatter\u001b[0;34m(self, x, y, s, c, marker, cmap, norm, vmin, vmax, alpha, linewidths, edgecolors, plotnonfinite, **kwargs)\u001b[0m\n\u001b[1;32m   4496\u001b[0m         \u001b[0my\u001b[0m \u001b[0;34m=\u001b[0m \u001b[0mnp\u001b[0m\u001b[0;34m.\u001b[0m\u001b[0mma\u001b[0m\u001b[0;34m.\u001b[0m\u001b[0mravel\u001b[0m\u001b[0;34m(\u001b[0m\u001b[0my\u001b[0m\u001b[0;34m)\u001b[0m\u001b[0;34m\u001b[0m\u001b[0;34m\u001b[0m\u001b[0m\n\u001b[1;32m   4497\u001b[0m         \u001b[0;32mif\u001b[0m \u001b[0mx\u001b[0m\u001b[0;34m.\u001b[0m\u001b[0msize\u001b[0m \u001b[0;34m!=\u001b[0m \u001b[0my\u001b[0m\u001b[0;34m.\u001b[0m\u001b[0msize\u001b[0m\u001b[0;34m:\u001b[0m\u001b[0;34m\u001b[0m\u001b[0;34m\u001b[0m\u001b[0m\n\u001b[0;32m-> 4498\u001b[0;31m             \u001b[0;32mraise\u001b[0m \u001b[0mValueError\u001b[0m\u001b[0;34m(\u001b[0m\u001b[0;34m\"x and y must be the same size\"\u001b[0m\u001b[0;34m)\u001b[0m\u001b[0;34m\u001b[0m\u001b[0;34m\u001b[0m\u001b[0m\n\u001b[0m\u001b[1;32m   4499\u001b[0m \u001b[0;34m\u001b[0m\u001b[0m\n\u001b[1;32m   4500\u001b[0m         \u001b[0;32mif\u001b[0m \u001b[0ms\u001b[0m \u001b[0;32mis\u001b[0m \u001b[0;32mNone\u001b[0m\u001b[0;34m:\u001b[0m\u001b[0;34m\u001b[0m\u001b[0;34m\u001b[0m\u001b[0m\n",
      "\u001b[0;31mValueError\u001b[0m: x and y must be the same size"
     ]
    },
    {
     "data": {
      "image/png": "[encoded data removed]",
      "text/plain": [
       "<Figure size 576x288 with 1 Axes>"
      ]
     },
     "metadata": {
      "needs_background": "light"
     },
     "output_type": "display_data"
    }
   ],
   "source": [
    "import matplotlib.pyplot as plt\n",
    "\n",
    "fig, ax = plt.subplots(figsize=(8, 4))\n",
    "ax.scatter(x, y, alpha=0.5, color='orchid')\n",
    "fig.suptitle('Example Scatter Plot')\n",
    "fig.tight_layout(pad=2); \n",
    "ax.grid(True)\n",
    "fig.savefig('filename1.png', dpi=125)"
   ]
  },
  {
   "cell_type": "code",
   "execution_count": 57,
   "id": "af2d4a50",
   "metadata": {},
   "outputs": [
    {
     "ename": "NameError",
     "evalue": "name 'ax' is not defined",
     "output_type": "error",
     "traceback": [
      "\u001b[0;31m---------------------------------------------------------------------------\u001b[0m",
      "\u001b[0;31mNameError\u001b[0m                                 Traceback (most recent call last)",
      "\u001b[0;32m<ipython-input-57-64f6f8e3206d>\u001b[0m in \u001b[0;36m<module>\u001b[0;34m\u001b[0m\n\u001b[1;32m      8\u001b[0m \u001b[0mx_pred2\u001b[0m \u001b[0;34m=\u001b[0m \u001b[0msm\u001b[0m\u001b[0;34m.\u001b[0m\u001b[0madd_constant\u001b[0m\u001b[0;34m(\u001b[0m\u001b[0mx_pred\u001b[0m\u001b[0;34m)\u001b[0m\u001b[0;34m\u001b[0m\u001b[0;34m\u001b[0m\u001b[0m\n\u001b[1;32m      9\u001b[0m \u001b[0my_pred\u001b[0m \u001b[0;34m=\u001b[0m \u001b[0mfitted\u001b[0m\u001b[0;34m.\u001b[0m\u001b[0mpredict\u001b[0m\u001b[0;34m(\u001b[0m\u001b[0mx_pred2\u001b[0m\u001b[0;34m)\u001b[0m\u001b[0;34m\u001b[0m\u001b[0;34m\u001b[0m\u001b[0m\n\u001b[0;32m---> 10\u001b[0;31m \u001b[0max\u001b[0m\u001b[0;34m.\u001b[0m\u001b[0mplot\u001b[0m\u001b[0;34m(\u001b[0m\u001b[0mx_pred\u001b[0m\u001b[0;34m,\u001b[0m \u001b[0my_pred\u001b[0m\u001b[0;34m,\u001b[0m \u001b[0;34m'-'\u001b[0m\u001b[0;34m,\u001b[0m \u001b[0mcolor\u001b[0m\u001b[0;34m=\u001b[0m\u001b[0;34m'darkorchid'\u001b[0m\u001b[0;34m,\u001b[0m \u001b[0mlinewidth\u001b[0m\u001b[0;34m=\u001b[0m\u001b[0;36m2\u001b[0m\u001b[0;34m)\u001b[0m\u001b[0;34m\u001b[0m\u001b[0;34m\u001b[0m\u001b[0m\n\u001b[0m",
      "\u001b[0;31mNameError\u001b[0m: name 'ax' is not defined"
     ]
    }
   ],
   "source": [
    " import statsmodels.api as sm\n",
    "\n",
    "x = sm.add_constant(x) # constant intercept term\n",
    "# Model: y ~ x + c\n",
    "model = sm.OLS(y, x)\n",
    "fitted = model.fit()\n",
    "x_pred = np.linspace(x.min(), x.max(), 50)\n",
    "x_pred2 = sm.add_constant(x_pred)\n",
    "y_pred = fitted.predict(x_pred2)\n",
    "ax.plot(x_pred, y_pred, '-', color='darkorchid', linewidth=2)"
   ]
  },
  {
   "cell_type": "code",
   "execution_count": null,
   "id": "e82858a8",
   "metadata": {},
   "outputs": [],
   "source": []
  }
 ],
 "metadata": {
  "kernelspec": {
   "display_name": "Python 3",
   "language": "python",
   "name": "python3"
  },
  "language_info": {
   "codemirror_mode": {
    "name": "ipython",
    "version": 3
   },
   "file_extension": ".py",
   "mimetype": "text/x-python",
   "name": "python",
   "nbconvert_exporter": "python",
   "pygments_lexer": "ipython3",
   "version": "3.7.3"
  }
 },
 "nbformat": 4,
 "nbformat_minor": 5
}
