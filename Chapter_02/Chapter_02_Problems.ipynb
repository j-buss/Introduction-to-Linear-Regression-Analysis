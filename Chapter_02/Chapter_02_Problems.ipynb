{
 "cells": [
  {
   "cell_type": "markdown",
   "id": "6dc2ea8d",
   "metadata": {},
   "source": [
    "## Chapter 2 Problems"
   ]
  },
  {
   "cell_type": "code",
   "execution_count": 2,
   "id": "ccff5d98",
   "metadata": {},
   "outputs": [
    {
     "name": "stderr",
     "output_type": "stream",
     "text": [
      "Installing packages into ‘/home/jeremyfbuss/R/x86_64-pc-linux-gnu-library/3.6’\n",
      "(as ‘lib’ is unspecified)\n",
      "\n",
      "also installing the dependencies ‘matrixStats’, ‘zip’, ‘numDeriv’, ‘SparseM’, ‘MatrixModels’, ‘conquer’, ‘openxlsx’, ‘carData’, ‘abind’, ‘pbkrtest’, ‘quantreg’, ‘maptools’, ‘rio’, ‘lme4’, ‘sp’, ‘corrplot’, ‘car’, ‘gargle’, ‘curl’, ‘raster’, ‘TMB’, ‘RcppArmadillo’, ‘ggrepel’, ‘ggsci’, ‘cowplot’, ‘ggsignif’, ‘gridExtra’, ‘polynom’, ‘rstatix’, ‘googledrive’, ‘googlesheets4’, ‘httr’, ‘rvest’, ‘xml2’, ‘unmarked’, ‘VGAM’, ‘xtable’\n",
      "\n",
      "\n",
      "Warning message in install.packages(c(\"ggplot2\", \"ggpubr\", \"tidyverse\", \"broom\", :\n",
      "“installation of package ‘curl’ had non-zero exit status”\n",
      "Warning message in install.packages(c(\"ggplot2\", \"ggpubr\", \"tidyverse\", \"broom\", :\n",
      "“installation of package ‘xml2’ had non-zero exit status”\n",
      "Warning message in install.packages(c(\"ggplot2\", \"ggpubr\", \"tidyverse\", \"broom\", :\n",
      "“installation of package ‘httr’ had non-zero exit status”\n",
      "Warning message in install.packages(c(\"ggplot2\", \"ggpubr\", \"tidyverse\", \"broom\", :\n",
      "“installation of package ‘rio’ had non-zero exit status”\n",
      "Warning message in install.packages(c(\"ggplot2\", \"ggpubr\", \"tidyverse\", \"broom\", :\n",
      "“installation of package ‘gargle’ had non-zero exit status”\n",
      "Warning message in install.packages(c(\"ggplot2\", \"ggpubr\", \"tidyverse\", \"broom\", :\n",
      "“installation of package ‘rvest’ had non-zero exit status”\n",
      "Warning message in install.packages(c(\"ggplot2\", \"ggpubr\", \"tidyverse\", \"broom\", :\n",
      "“installation of package ‘car’ had non-zero exit status”\n",
      "Warning message in install.packages(c(\"ggplot2\", \"ggpubr\", \"tidyverse\", \"broom\", :\n",
      "“installation of package ‘googledrive’ had non-zero exit status”\n",
      "Warning message in install.packages(c(\"ggplot2\", \"ggpubr\", \"tidyverse\", \"broom\", :\n",
      "“installation of package ‘rstatix’ had non-zero exit status”\n",
      "Warning message in install.packages(c(\"ggplot2\", \"ggpubr\", \"tidyverse\", \"broom\", :\n",
      "“installation of package ‘googlesheets4’ had non-zero exit status”\n",
      "Warning message in install.packages(c(\"ggplot2\", \"ggpubr\", \"tidyverse\", \"broom\", :\n",
      "“installation of package ‘ggpubr’ had non-zero exit status”\n",
      "Warning message in install.packages(c(\"ggplot2\", \"ggpubr\", \"tidyverse\", \"broom\", :\n",
      "“installation of package ‘tidyverse’ had non-zero exit status”\n"
     ]
    }
   ],
   "source": [
    "install.packages(c(\"ggplot2\", \"ggpubr\", \"tidyverse\", \"broom\", \"AICcmodavg\"))"
   ]
  },
  {
   "cell_type": "markdown",
   "id": "b4240d0d",
   "metadata": {},
   "source": [
    "### 2.1"
   ]
  },
  {
   "cell_type": "code",
   "execution_count": 1,
   "id": "75fa0838",
   "metadata": {},
   "outputs": [],
   "source": [
    "library(readxl)\n",
    "library(ggplot2)\n",
    "library(ggpubr)\n",
    "library(tidyverse)\n",
    "library(broom)\n",
    "library(AICcmodavg)"
   ]
  },
  {
   "cell_type": "code",
   "execution_count": 30,
   "id": "c6a177e8",
   "metadata": {},
   "outputs": [],
   "source": [
    "data_B1 <- read_excel('../linear_regression_5e_data_sets/Appendices/data-table-B1.XLS')"
   ]
  },
  {
   "cell_type": "code",
   "execution_count": 31,
   "id": "c3a2febf",
   "metadata": {},
   "outputs": [
    {
     "data": {
      "text/html": [
       "<table class=\"dataframe\">\n",
       "<caption>A tibble: 6 × 10</caption>\n",
       "<thead>\n",
       "\t<tr><th scope=col>y</th><th scope=col>x1</th><th scope=col>x2</th><th scope=col>x3</th><th scope=col>x4</th><th scope=col>x5</th><th scope=col>x6</th><th scope=col>x7</th><th scope=col>x8</th><th scope=col>x9</th></tr>\n",
       "\t<tr><th scope=col>&lt;dbl&gt;</th><th scope=col>&lt;dbl&gt;</th><th scope=col>&lt;dbl&gt;</th><th scope=col>&lt;dbl&gt;</th><th scope=col>&lt;dbl&gt;</th><th scope=col>&lt;dbl&gt;</th><th scope=col>&lt;dbl&gt;</th><th scope=col>&lt;dbl&gt;</th><th scope=col>&lt;dbl&gt;</th><th scope=col>&lt;dbl&gt;</th></tr>\n",
       "</thead>\n",
       "<tbody>\n",
       "\t<tr><td>10</td><td>2113</td><td>1985</td><td>38.9</td><td>64.7</td><td> 4</td><td>868</td><td>59.7</td><td>2205</td><td>1917</td></tr>\n",
       "\t<tr><td>11</td><td>2003</td><td>2855</td><td>38.8</td><td>61.3</td><td> 3</td><td>615</td><td>55.0</td><td>2096</td><td>1575</td></tr>\n",
       "\t<tr><td>11</td><td>2957</td><td>1737</td><td>40.1</td><td>60.0</td><td>14</td><td>914</td><td>65.6</td><td>1847</td><td>2175</td></tr>\n",
       "\t<tr><td>13</td><td>2285</td><td>2905</td><td>41.6</td><td>45.3</td><td>-4</td><td>957</td><td>61.4</td><td>1903</td><td>2476</td></tr>\n",
       "\t<tr><td>10</td><td>2971</td><td>1666</td><td>39.2</td><td>53.8</td><td>15</td><td>836</td><td>66.1</td><td>1457</td><td>1866</td></tr>\n",
       "\t<tr><td>11</td><td>2309</td><td>2927</td><td>39.7</td><td>74.1</td><td> 8</td><td>786</td><td>61.0</td><td>1848</td><td>2339</td></tr>\n",
       "</tbody>\n",
       "</table>\n"
      ],
      "text/latex": [
       "A tibble: 6 × 10\n",
       "\\begin{tabular}{llllllllll}\n",
       " y & x1 & x2 & x3 & x4 & x5 & x6 & x7 & x8 & x9\\\\\n",
       " <dbl> & <dbl> & <dbl> & <dbl> & <dbl> & <dbl> & <dbl> & <dbl> & <dbl> & <dbl>\\\\\n",
       "\\hline\n",
       "\t 10 & 2113 & 1985 & 38.9 & 64.7 &  4 & 868 & 59.7 & 2205 & 1917\\\\\n",
       "\t 11 & 2003 & 2855 & 38.8 & 61.3 &  3 & 615 & 55.0 & 2096 & 1575\\\\\n",
       "\t 11 & 2957 & 1737 & 40.1 & 60.0 & 14 & 914 & 65.6 & 1847 & 2175\\\\\n",
       "\t 13 & 2285 & 2905 & 41.6 & 45.3 & -4 & 957 & 61.4 & 1903 & 2476\\\\\n",
       "\t 10 & 2971 & 1666 & 39.2 & 53.8 & 15 & 836 & 66.1 & 1457 & 1866\\\\\n",
       "\t 11 & 2309 & 2927 & 39.7 & 74.1 &  8 & 786 & 61.0 & 1848 & 2339\\\\\n",
       "\\end{tabular}\n"
      ],
      "text/markdown": [
       "\n",
       "A tibble: 6 × 10\n",
       "\n",
       "| y &lt;dbl&gt; | x1 &lt;dbl&gt; | x2 &lt;dbl&gt; | x3 &lt;dbl&gt; | x4 &lt;dbl&gt; | x5 &lt;dbl&gt; | x6 &lt;dbl&gt; | x7 &lt;dbl&gt; | x8 &lt;dbl&gt; | x9 &lt;dbl&gt; |\n",
       "|---|---|---|---|---|---|---|---|---|---|\n",
       "| 10 | 2113 | 1985 | 38.9 | 64.7 |  4 | 868 | 59.7 | 2205 | 1917 |\n",
       "| 11 | 2003 | 2855 | 38.8 | 61.3 |  3 | 615 | 55.0 | 2096 | 1575 |\n",
       "| 11 | 2957 | 1737 | 40.1 | 60.0 | 14 | 914 | 65.6 | 1847 | 2175 |\n",
       "| 13 | 2285 | 2905 | 41.6 | 45.3 | -4 | 957 | 61.4 | 1903 | 2476 |\n",
       "| 10 | 2971 | 1666 | 39.2 | 53.8 | 15 | 836 | 66.1 | 1457 | 1866 |\n",
       "| 11 | 2309 | 2927 | 39.7 | 74.1 |  8 | 786 | 61.0 | 1848 | 2339 |\n",
       "\n"
      ],
      "text/plain": [
       "  y  x1   x2   x3   x4   x5 x6  x7   x8   x9  \n",
       "1 10 2113 1985 38.9 64.7  4 868 59.7 2205 1917\n",
       "2 11 2003 2855 38.8 61.3  3 615 55.0 2096 1575\n",
       "3 11 2957 1737 40.1 60.0 14 914 65.6 1847 2175\n",
       "4 13 2285 2905 41.6 45.3 -4 957 61.4 1903 2476\n",
       "5 10 2971 1666 39.2 53.8 15 836 66.1 1457 1866\n",
       "6 11 2309 2927 39.7 74.1  8 786 61.0 1848 2339"
      ]
     },
     "metadata": {},
     "output_type": "display_data"
    }
   ],
   "source": [
    "head(data_B1)"
   ]
  },
  {
   "cell_type": "code",
   "execution_count": null,
   "id": "854c08c2",
   "metadata": {},
   "outputs": [],
   "source": [
    "summary(data_B1)"
   ]
  },
  {
   "cell_type": "code",
   "execution_count": 34,
   "id": "7d1ec840",
   "metadata": {},
   "outputs": [
    {
     "data": {
      "image/png": "[encoded data removed]",
      "text/plain": [
       "Plot with title “wins ~ opponent rushing yards”"
      ]
     },
     "metadata": {
      "image/png": {
       "height": 420,
       "width": 420
      }
     },
     "output_type": "display_data"
    }
   ],
   "source": [
    "plot(x=data_B1$x8, y=data_B1$y, main=\"wins ~ opponent rushing yards\")  # scatterplot"
   ]
  },
  {
   "cell_type": "code",
   "execution_count": 35,
   "id": "e7de1b71",
   "metadata": {},
   "outputs": [
    {
     "data": {
      "text/html": [
       "-0.738027303892383"
      ],
      "text/latex": [
       "-0.738027303892383"
      ],
      "text/markdown": [
       "-0.738027303892383"
      ],
      "text/plain": [
       "[1] -0.7380273"
      ]
     },
     "metadata": {},
     "output_type": "display_data"
    }
   ],
   "source": [
    "cor(data_B1$x8, data_B1$y)"
   ]
  },
  {
   "cell_type": "code",
   "execution_count": 36,
   "id": "0d76c96a",
   "metadata": {},
   "outputs": [
    {
     "name": "stdout",
     "output_type": "stream",
     "text": [
      "\n",
      "Call:\n",
      "lm(formula = y ~ x8, data = my_file)\n",
      "\n",
      "Coefficients:\n",
      "(Intercept)           x8  \n",
      "  21.788251    -0.007025  \n",
      "\n"
     ]
    }
   ],
   "source": [
    "linearMod <- lm(y ~ x8, data=data_B1)  # build linear regression model on full data\n",
    "print(linearMod)"
   ]
  },
  {
   "cell_type": "code",
   "execution_count": 37,
   "id": "d0a866b4",
   "metadata": {},
   "outputs": [
    {
     "data": {
      "text/plain": [
       "\n",
       "Call:\n",
       "lm(formula = y ~ x8, data = my_file)\n",
       "\n",
       "Residuals:\n",
       "   Min     1Q Median     3Q    Max \n",
       "-3.804 -1.591 -0.647  2.032  4.580 \n",
       "\n",
       "Coefficients:\n",
       "             Estimate Std. Error t value Pr(>|t|)    \n",
       "(Intercept) 21.788251   2.696233   8.081 1.46e-08 ***\n",
       "x8          -0.007025   0.001260  -5.577 7.38e-06 ***\n",
       "---\n",
       "Signif. codes:  0 ‘***’ 0.001 ‘**’ 0.01 ‘*’ 0.05 ‘.’ 0.1 ‘ ’ 1\n",
       "\n",
       "Residual standard error: 2.393 on 26 degrees of freedom\n",
       "Multiple R-squared:  0.5447,\tAdjusted R-squared:  0.5272 \n",
       "F-statistic:  31.1 on 1 and 26 DF,  p-value: 7.381e-06\n"
      ]
     },
     "metadata": {},
     "output_type": "display_data"
    }
   ],
   "source": [
    "summary(linearMod)"
   ]
  },
  {
   "cell_type": "code",
   "execution_count": null,
   "id": "c4a606b6",
   "metadata": {},
   "outputs": [],
   "source": [
    "one.way <- aov(y ~ x8, data = data_B1)\n",
    "\n",
    "summary(one.way)"
   ]
  }
 ],
 "metadata": {
  "kernelspec": {
   "display_name": "R",
   "language": "R",
   "name": "ir"
  },
  "language_info": {
   "codemirror_mode": "r",
   "file_extension": ".r",
   "mimetype": "text/x-r-source",
   "name": "R",
   "pygments_lexer": "r",
   "version": "3.6.3"
  }
 },
 "nbformat": 4,
 "nbformat_minor": 5
}
