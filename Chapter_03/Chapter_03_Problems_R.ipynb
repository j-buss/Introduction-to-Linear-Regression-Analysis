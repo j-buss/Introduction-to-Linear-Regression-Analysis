{
 "cells": [
  {
   "cell_type": "markdown",
   "id": "6dc2ea8d",
   "metadata": {},
   "source": [
    "# Chapter 3 Problems - R"
   ]
  },
  {
   "cell_type": "code",
   "execution_count": 1,
   "id": "ccff5d98",
   "metadata": {},
   "outputs": [],
   "source": [
    "#### Sytem may require the following: \n",
    "# sudo apt install libcurl4-openssl-dev\n",
    "# sudo apt install libxml2-dev\n",
    "\n",
    "#### Only need to run the folloing installs once\n",
    "# install.packages(c(\"ggplot2\", \"ggpubr\", \"tidyverse\", \"broom\", \"AICcmodavg\"))"
   ]
  },
  {
   "cell_type": "markdown",
   "id": "1395c5d3",
   "metadata": {},
   "source": [
    "## Load Libraries"
   ]
  },
  {
   "cell_type": "code",
   "execution_count": 1,
   "id": "75fa0838",
   "metadata": {},
   "outputs": [],
   "source": [
    "suppressMessages(library(readxl))\n",
    "suppressMessages(library(ggplot2))\n",
    "suppressMessages(library(ggpubr))\n",
    "suppressMessages(library(tidyverse))\n",
    "suppressMessages(library(broom))\n",
    "suppressMessages(library(AICcmodavg))"
   ]
  },
  {
   "cell_type": "markdown",
   "id": "b4240d0d",
   "metadata": {},
   "source": [
    "## 3.1"
   ]
  },
  {
   "cell_type": "code",
   "execution_count": 2,
   "id": "4be0d76b",
   "metadata": {},
   "outputs": [
    {
     "data": {
      "text/html": [
       "<table class=\"dataframe\">\n",
       "<caption>A data.frame: 6 × 4</caption>\n",
       "<thead>\n",
       "\t<tr><th></th><th scope=col>OppRush</th><th scope=col>PassYRDs</th><th scope=col>PercRushPlays</th><th scope=col>GamesWon</th></tr>\n",
       "\t<tr><th></th><th scope=col>&lt;dbl&gt;</th><th scope=col>&lt;dbl&gt;</th><th scope=col>&lt;dbl&gt;</th><th scope=col>&lt;dbl&gt;</th></tr>\n",
       "</thead>\n",
       "<tbody>\n",
       "\t<tr><th scope=row>1</th><td>2205</td><td>1985</td><td>59.7</td><td>10</td></tr>\n",
       "\t<tr><th scope=row>2</th><td>2096</td><td>2855</td><td>55.0</td><td>11</td></tr>\n",
       "\t<tr><th scope=row>3</th><td>1847</td><td>1737</td><td>65.6</td><td>11</td></tr>\n",
       "\t<tr><th scope=row>4</th><td>1903</td><td>2905</td><td>61.4</td><td>13</td></tr>\n",
       "\t<tr><th scope=row>5</th><td>1457</td><td>1666</td><td>66.1</td><td>10</td></tr>\n",
       "\t<tr><th scope=row>6</th><td>1848</td><td>2927</td><td>61.0</td><td>11</td></tr>\n",
       "</tbody>\n",
       "</table>\n"
      ],
      "text/latex": [
       "A data.frame: 6 × 4\n",
       "\\begin{tabular}{r|llll}\n",
       "  & OppRush & PassYRDs & PercRushPlays & GamesWon\\\\\n",
       "  & <dbl> & <dbl> & <dbl> & <dbl>\\\\\n",
       "\\hline\n",
       "\t1 & 2205 & 1985 & 59.7 & 10\\\\\n",
       "\t2 & 2096 & 2855 & 55.0 & 11\\\\\n",
       "\t3 & 1847 & 1737 & 65.6 & 11\\\\\n",
       "\t4 & 1903 & 2905 & 61.4 & 13\\\\\n",
       "\t5 & 1457 & 1666 & 66.1 & 10\\\\\n",
       "\t6 & 1848 & 2927 & 61.0 & 11\\\\\n",
       "\\end{tabular}\n"
      ],
      "text/markdown": [
       "\n",
       "A data.frame: 6 × 4\n",
       "\n",
       "| <!--/--> | OppRush &lt;dbl&gt; | PassYRDs &lt;dbl&gt; | PercRushPlays &lt;dbl&gt; | GamesWon &lt;dbl&gt; |\n",
       "|---|---|---|---|---|\n",
       "| 1 | 2205 | 1985 | 59.7 | 10 |\n",
       "| 2 | 2096 | 2855 | 55.0 | 11 |\n",
       "| 3 | 1847 | 1737 | 65.6 | 11 |\n",
       "| 4 | 1903 | 2905 | 61.4 | 13 |\n",
       "| 5 | 1457 | 1666 | 66.1 | 10 |\n",
       "| 6 | 1848 | 2927 | 61.0 | 11 |\n",
       "\n"
      ],
      "text/plain": [
       "  OppRush PassYRDs PercRushPlays GamesWon\n",
       "1 2205    1985     59.7          10      \n",
       "2 2096    2855     55.0          11      \n",
       "3 1847    1737     65.6          11      \n",
       "4 1903    2905     61.4          13      \n",
       "5 1457    1666     66.1          10      \n",
       "6 1848    2927     61.0          11      "
      ]
     },
     "metadata": {},
     "output_type": "display_data"
    }
   ],
   "source": [
    "Football.DataTable <- read_excel('../linear_regression_5e_data_sets/Appendices/data-table-B1.XLS')\n",
    "\n",
    "Football.df <- data.frame(\n",
    "    OppRush=Football.DataTable$'x8', \n",
    "    PassYRDs=Football.DataTable$'x2',\n",
    "    PercRushPlays=Football.DataTable$'x7',\n",
    "    GamesWon=Football.DataTable$'y'\n",
    ")\n",
    "\n",
    "head(Football.df)"
   ]
  },
  {
   "cell_type": "code",
   "execution_count": 32,
   "id": "7d1ec840",
   "metadata": {},
   "outputs": [
    {
     "data": {
      "image/png": "[encoded data removed]",
      "text/plain": [
       "plot without title"
      ]
     },
     "metadata": {
      "image/png": {
       "height": 420,
       "width": 420
      }
     },
     "output_type": "display_data"
    }
   ],
   "source": [
    "pairs(Football.df[,1:4], pch=19, lower.panel = NULL)"
   ]
  },
  {
   "cell_type": "markdown",
   "id": "7efdf2bf",
   "metadata": {},
   "source": [
    "### a"
   ]
  },
  {
   "cell_type": "code",
   "execution_count": 5,
   "id": "fbc7ba71",
   "metadata": {},
   "outputs": [
    {
     "name": "stdout",
     "output_type": "stream",
     "text": [
      "                  Estimate   Std. Error   t value     Pr(>|t|)\n",
      "(Intercept)   -1.808372059 7.9008594002 -0.228883 8.208990e-01\n",
      "PassYRDs       0.003598070 0.0006949986  5.177090 2.655723e-05\n",
      "PercRushPlays  0.193960210 0.0882334488  2.198262 3.781516e-02\n",
      "OppRush       -0.004815494 0.0012769683 -3.771036 9.377699e-04\n"
     ]
    }
   ],
   "source": [
    "Football.lm <- lm(GamesWon ~ PassYRDs + PercRushPlays + OppRush, data=Football.df)\n",
    "Football.lm.summary <- summary(Football.lm)\n",
    "Football.lm.anova <- anova(Football.lm)\n",
    "Football.lm.MSres <- Football.lm.anova['Residuals','Mean Sq']\n",
    "Football.lm.rsquared <- Football.lm.summary$r.squared\n",
    "print(Football.lm.summary$coefficients)"
   ]
  },
  {
   "cell_type": "markdown",
   "id": "2436939a",
   "metadata": {},
   "source": [
    "### b"
   ]
  },
  {
   "cell_type": "code",
   "execution_count": 6,
   "id": "16a1cd74",
   "metadata": {},
   "outputs": [
    {
     "data": {
      "text/html": [
       "0.786306923310954"
      ],
      "text/latex": [
       "0.786306923310954"
      ],
      "text/markdown": [
       "0.786306923310954"
      ],
      "text/plain": [
       "[1] 0.7863069"
      ]
     },
     "metadata": {},
     "output_type": "display_data"
    }
   ],
   "source": [
    "Football.lm.rsquared"
   ]
  },
  {
   "cell_type": "code",
   "execution_count": 7,
   "id": "aa87ce35",
   "metadata": {},
   "outputs": [
    {
     "data": {
      "text/html": [
       "<table class=\"dataframe\">\n",
       "<caption>A anova: 4 × 5</caption>\n",
       "<thead>\n",
       "\t<tr><th></th><th scope=col>Df</th><th scope=col>Sum Sq</th><th scope=col>Mean Sq</th><th scope=col>F value</th><th scope=col>Pr(&gt;F)</th></tr>\n",
       "\t<tr><th></th><th scope=col>&lt;int&gt;</th><th scope=col>&lt;dbl&gt;</th><th scope=col>&lt;dbl&gt;</th><th scope=col>&lt;dbl&gt;</th><th scope=col>&lt;dbl&gt;</th></tr>\n",
       "</thead>\n",
       "<tbody>\n",
       "\t<tr><th scope=row>PassYRDs</th><td> 1</td><td> 76.19340</td><td> 76.19340</td><td>26.17205</td><td>3.100132e-05</td></tr>\n",
       "\t<tr><th scope=row>PercRushPlays</th><td> 1</td><td>139.50082</td><td>139.50082</td><td>47.91784</td><td>3.697874e-07</td></tr>\n",
       "\t<tr><th scope=row>OppRush</th><td> 1</td><td> 41.40006</td><td> 41.40006</td><td>14.22072</td><td>9.377699e-04</td></tr>\n",
       "\t<tr><th scope=row>Residuals</th><td>24</td><td> 69.87000</td><td>  2.91125</td><td>      NA</td><td>          NA</td></tr>\n",
       "</tbody>\n",
       "</table>\n"
      ],
      "text/latex": [
       "A anova: 4 × 5\n",
       "\\begin{tabular}{r|lllll}\n",
       "  & Df & Sum Sq & Mean Sq & F value & Pr(>F)\\\\\n",
       "  & <int> & <dbl> & <dbl> & <dbl> & <dbl>\\\\\n",
       "\\hline\n",
       "\tPassYRDs &  1 &  76.19340 &  76.19340 & 26.17205 & 3.100132e-05\\\\\n",
       "\tPercRushPlays &  1 & 139.50082 & 139.50082 & 47.91784 & 3.697874e-07\\\\\n",
       "\tOppRush &  1 &  41.40006 &  41.40006 & 14.22072 & 9.377699e-04\\\\\n",
       "\tResiduals & 24 &  69.87000 &   2.91125 &       NA &           NA\\\\\n",
       "\\end{tabular}\n"
      ],
      "text/markdown": [
       "\n",
       "A anova: 4 × 5\n",
       "\n",
       "| <!--/--> | Df &lt;int&gt; | Sum Sq &lt;dbl&gt; | Mean Sq &lt;dbl&gt; | F value &lt;dbl&gt; | Pr(&gt;F) &lt;dbl&gt; |\n",
       "|---|---|---|---|---|---|\n",
       "| PassYRDs |  1 |  76.19340 |  76.19340 | 26.17205 | 3.100132e-05 |\n",
       "| PercRushPlays |  1 | 139.50082 | 139.50082 | 47.91784 | 3.697874e-07 |\n",
       "| OppRush |  1 |  41.40006 |  41.40006 | 14.22072 | 9.377699e-04 |\n",
       "| Residuals | 24 |  69.87000 |   2.91125 |       NA |           NA |\n",
       "\n"
      ],
      "text/plain": [
       "              Df Sum Sq    Mean Sq   F value  Pr(>F)      \n",
       "PassYRDs       1  76.19340  76.19340 26.17205 3.100132e-05\n",
       "PercRushPlays  1 139.50082 139.50082 47.91784 3.697874e-07\n",
       "OppRush        1  41.40006  41.40006 14.22072 9.377699e-04\n",
       "Residuals     24  69.87000   2.91125       NA           NA"
      ]
     },
     "metadata": {},
     "output_type": "display_data"
    }
   ],
   "source": [
    "Football.lm.anova"
   ]
  },
  {
   "cell_type": "code",
   "execution_count": 30,
   "id": "4fa4c4c4",
   "metadata": {},
   "outputs": [
    {
     "name": "stdout",
     "output_type": "stream",
     "text": [
      "[1] 257.0943\n"
     ]
    }
   ],
   "source": [
    "# The Sum of Squares for the regression\n",
    "Football.lm.SSr <- sum(Football.lm.anova[,'Sum Sq']) - Football.lm.anova['Residuals','Sum Sq']\n",
    "print(Football.lm.SSr)"
   ]
  },
  {
   "cell_type": "code",
   "execution_count": 29,
   "id": "f2cf608d",
   "metadata": {},
   "outputs": [
    {
     "data": {
      "text/plain": [
       "\n",
       "Call:\n",
       "lm(formula = GamesWon ~ PassYRDs + PercRushPlays + OppRush, data = Football.df)\n",
       "\n",
       "Residuals:\n",
       "    Min      1Q  Median      3Q     Max \n",
       "-3.0370 -0.7129 -0.2043  1.1101  3.7049 \n",
       "\n",
       "Coefficients:\n",
       "               Estimate Std. Error t value Pr(>|t|)    \n",
       "(Intercept)   -1.808372   7.900859  -0.229 0.820899    \n",
       "PassYRDs       0.003598   0.000695   5.177 2.66e-05 ***\n",
       "PercRushPlays  0.193960   0.088233   2.198 0.037815 *  \n",
       "OppRush       -0.004816   0.001277  -3.771 0.000938 ***\n",
       "---\n",
       "Signif. codes:  0 ‘***’ 0.001 ‘**’ 0.01 ‘*’ 0.05 ‘.’ 0.1 ‘ ’ 1\n",
       "\n",
       "Residual standard error: 1.706 on 24 degrees of freedom\n",
       "Multiple R-squared:  0.7863,\tAdjusted R-squared:  0.7596 \n",
       "F-statistic: 29.44 on 3 and 24 DF,  p-value: 3.273e-08\n"
      ]
     },
     "metadata": {},
     "output_type": "display_data"
    }
   ],
   "source": [
    "Football.lm.summary"
   ]
  },
  {
   "cell_type": "markdown",
   "id": "c199dc7c",
   "metadata": {},
   "source": [
    "### c"
   ]
  },
  {
   "cell_type": "code",
   "execution_count": 14,
   "id": "330ea2dd",
   "metadata": {},
   "outputs": [
    {
     "data": {
      "text/html": [
       "<table class=\"dataframe\">\n",
       "<caption>A matrix: 4 × 2 of type dbl</caption>\n",
       "<thead>\n",
       "\t<tr><th></th><th scope=col>t value</th><th scope=col>Pr(&gt;|t|)</th></tr>\n",
       "</thead>\n",
       "<tbody>\n",
       "\t<tr><th scope=row>(Intercept)</th><td>-0.228883</td><td>8.208990e-01</td></tr>\n",
       "\t<tr><th scope=row>PassYRDs</th><td> 5.177090</td><td>2.655723e-05</td></tr>\n",
       "\t<tr><th scope=row>PercRushPlays</th><td> 2.198262</td><td>3.781516e-02</td></tr>\n",
       "\t<tr><th scope=row>OppRush</th><td>-3.771036</td><td>9.377699e-04</td></tr>\n",
       "</tbody>\n",
       "</table>\n"
      ],
      "text/latex": [
       "A matrix: 4 × 2 of type dbl\n",
       "\\begin{tabular}{r|ll}\n",
       "  & t value & Pr(>\\textbar{}t\\textbar{})\\\\\n",
       "\\hline\n",
       "\t(Intercept) & -0.228883 & 8.208990e-01\\\\\n",
       "\tPassYRDs &  5.177090 & 2.655723e-05\\\\\n",
       "\tPercRushPlays &  2.198262 & 3.781516e-02\\\\\n",
       "\tOppRush & -3.771036 & 9.377699e-04\\\\\n",
       "\\end{tabular}\n"
      ],
      "text/markdown": [
       "\n",
       "A matrix: 4 × 2 of type dbl\n",
       "\n",
       "| <!--/--> | t value | Pr(&gt;|t|) |\n",
       "|---|---|---|\n",
       "| (Intercept) | -0.228883 | 8.208990e-01 |\n",
       "| PassYRDs |  5.177090 | 2.655723e-05 |\n",
       "| PercRushPlays |  2.198262 | 3.781516e-02 |\n",
       "| OppRush | -3.771036 | 9.377699e-04 |\n",
       "\n"
      ],
      "text/plain": [
       "              t value   Pr(>|t|)    \n",
       "(Intercept)   -0.228883 8.208990e-01\n",
       "PassYRDs       5.177090 2.655723e-05\n",
       "PercRushPlays  2.198262 3.781516e-02\n",
       "OppRush       -3.771036 9.377699e-04"
      ]
     },
     "metadata": {},
     "output_type": "display_data"
    }
   ],
   "source": [
    "Football.lm.summary$coefficients[,c(3,4)]"
   ]
  },
  {
   "cell_type": "markdown",
   "id": "7b9db679",
   "metadata": {},
   "source": [
    "Passing Yards, Percentage Rushing Plays and Opponent rushing yards are related to Games Won. It appears as the Percentage Rushing Plays is the weakest indicator of the three."
   ]
  },
  {
   "cell_type": "markdown",
   "id": "3cba31a3",
   "metadata": {},
   "source": [
    "### d"
   ]
  },
  {
   "cell_type": "code",
   "execution_count": 16,
   "id": "128ad0b1",
   "metadata": {},
   "outputs": [
    {
     "data": {
      "text/html": [
       "0.786306923310954"
      ],
      "text/latex": [
       "0.786306923310954"
      ],
      "text/markdown": [
       "0.786306923310954"
      ],
      "text/plain": [
       "[1] 0.7863069"
      ]
     },
     "metadata": {},
     "output_type": "display_data"
    }
   ],
   "source": [
    "Football.lm.rsquared"
   ]
  },
  {
   "cell_type": "code",
   "execution_count": 19,
   "id": "98267180",
   "metadata": {},
   "outputs": [
    {
     "data": {
      "text/html": [
       "0.759595288724823"
      ],
      "text/latex": [
       "0.759595288724823"
      ],
      "text/markdown": [
       "0.759595288724823"
      ],
      "text/plain": [
       "[1] 0.7595953"
      ]
     },
     "metadata": {},
     "output_type": "display_data"
    }
   ],
   "source": [
    "Football.lm.summary$adj.r.squared"
   ]
  },
  {
   "cell_type": "markdown",
   "id": "608693b1",
   "metadata": {},
   "source": [
    "### e"
   ]
  },
  {
   "cell_type": "code",
   "execution_count": 22,
   "id": "5d2148d3",
   "metadata": {},
   "outputs": [
    {
     "name": "stdout",
     "output_type": "stream",
     "text": [
      "                Estimate   Std. Error   t value     Pr(>|t|)\n",
      "(Intercept) 14.712674988 2.6175265761  5.620831 7.549064e-06\n",
      "PassYRDs     0.003111132 0.0007074454  4.397699 1.775241e-04\n",
      "OppRush     -0.006808275 0.0009658426 -7.049053 2.177139e-07\n"
     ]
    }
   ],
   "source": [
    "# Create a reduced model removing PercRushPlays\n",
    "Football.lm.Reduced <- lm(GamesWon ~ PassYRDs + OppRush, data=Football.df)\n",
    "Football.lm.Reduced.summary <- summary(Football.lm.Reduced)\n",
    "Football.lm.Reduced.anova <- anova(Football.lm.Reduced)\n",
    "Football.lm.Reduced.MSres <- Football.lm.Reduced.anova['Residuals','Mean Sq']\n",
    "Football.lm.Reduced.rsquared <- Football.lm.Reduced.summary$r.squared\n",
    "print(Football.lm.Reduced.summary$coefficients)"
   ]
  },
  {
   "cell_type": "code",
   "execution_count": 23,
   "id": "c6a177e8",
   "metadata": {},
   "outputs": [
    {
     "data": {
      "text/html": [
       "0.743280228105065"
      ],
      "text/latex": [
       "0.743280228105065"
      ],
      "text/markdown": [
       "0.743280228105065"
      ],
      "text/plain": [
       "[1] 0.7432802"
      ]
     },
     "metadata": {},
     "output_type": "display_data"
    }
   ],
   "source": [
    "Football.lm.Reduced.rsquared"
   ]
  },
  {
   "cell_type": "code",
   "execution_count": 24,
   "id": "22fb9b32",
   "metadata": {},
   "outputs": [
    {
     "data": {
      "text/html": [
       "<table class=\"dataframe\">\n",
       "<caption>A anova: 3 × 5</caption>\n",
       "<thead>\n",
       "\t<tr><th></th><th scope=col>Df</th><th scope=col>Sum Sq</th><th scope=col>Mean Sq</th><th scope=col>F value</th><th scope=col>Pr(&gt;F)</th></tr>\n",
       "\t<tr><th></th><th scope=col>&lt;int&gt;</th><th scope=col>&lt;dbl&gt;</th><th scope=col>&lt;dbl&gt;</th><th scope=col>&lt;dbl&gt;</th><th scope=col>&lt;dbl&gt;</th></tr>\n",
       "</thead>\n",
       "<tbody>\n",
       "\t<tr><th scope=row>PassYRDs</th><td> 1</td><td> 76.1934</td><td> 76.193400</td><td>22.69330</td><td>6.872982e-05</td></tr>\n",
       "\t<tr><th scope=row>OppRush</th><td> 1</td><td>166.8327</td><td>166.832689</td><td>49.68914</td><td>2.177139e-07</td></tr>\n",
       "\t<tr><th scope=row>Residuals</th><td>25</td><td> 83.9382</td><td>  3.357528</td><td>      NA</td><td>          NA</td></tr>\n",
       "</tbody>\n",
       "</table>\n"
      ],
      "text/latex": [
       "A anova: 3 × 5\n",
       "\\begin{tabular}{r|lllll}\n",
       "  & Df & Sum Sq & Mean Sq & F value & Pr(>F)\\\\\n",
       "  & <int> & <dbl> & <dbl> & <dbl> & <dbl>\\\\\n",
       "\\hline\n",
       "\tPassYRDs &  1 &  76.1934 &  76.193400 & 22.69330 & 6.872982e-05\\\\\n",
       "\tOppRush &  1 & 166.8327 & 166.832689 & 49.68914 & 2.177139e-07\\\\\n",
       "\tResiduals & 25 &  83.9382 &   3.357528 &       NA &           NA\\\\\n",
       "\\end{tabular}\n"
      ],
      "text/markdown": [
       "\n",
       "A anova: 3 × 5\n",
       "\n",
       "| <!--/--> | Df &lt;int&gt; | Sum Sq &lt;dbl&gt; | Mean Sq &lt;dbl&gt; | F value &lt;dbl&gt; | Pr(&gt;F) &lt;dbl&gt; |\n",
       "|---|---|---|---|---|---|\n",
       "| PassYRDs |  1 |  76.1934 |  76.193400 | 22.69330 | 6.872982e-05 |\n",
       "| OppRush |  1 | 166.8327 | 166.832689 | 49.68914 | 2.177139e-07 |\n",
       "| Residuals | 25 |  83.9382 |   3.357528 |       NA |           NA |\n",
       "\n"
      ],
      "text/plain": [
       "          Df Sum Sq   Mean Sq    F value  Pr(>F)      \n",
       "PassYRDs   1  76.1934  76.193400 22.69330 6.872982e-05\n",
       "OppRush    1 166.8327 166.832689 49.68914 2.177139e-07\n",
       "Residuals 25  83.9382   3.357528       NA           NA"
      ]
     },
     "metadata": {},
     "output_type": "display_data"
    }
   ],
   "source": [
    "Football.lm.Reduced.anova"
   ]
  },
  {
   "cell_type": "code",
   "execution_count": 31,
   "id": "6a35a43e",
   "metadata": {},
   "outputs": [
    {
     "name": "stdout",
     "output_type": "stream",
     "text": [
      "[1] 243.0261\n"
     ]
    }
   ],
   "source": [
    "# The Sum of Squares for the regression\n",
    "Football.lm.Reduced.SSr <- sum(Football.lm.Reduced.anova[,'Sum Sq']) - \n",
    "    Football.lm.Reduced.anova['Residuals','Sum Sq']\n",
    "print(Football.lm.Reduced.SSr)"
   ]
  },
  {
   "cell_type": "code",
   "execution_count": 46,
   "id": "d0a866b4",
   "metadata": {},
   "outputs": [
    {
     "name": "stdout",
     "output_type": "stream",
     "text": [
      "[1] 4.832354\n",
      "[1] 4.832354\n"
     ]
    },
    {
     "data": {
      "text/html": [
       "-1.33226762955019e-14"
      ],
      "text/latex": [
       "-1.33226762955019e-14"
      ],
      "text/markdown": [
       "-1.33226762955019e-14"
      ],
      "text/plain": [
       "[1] -1.332268e-14"
      ]
     },
     "metadata": {},
     "output_type": "display_data"
    },
    {
     "data": {
      "text/html": [
       "TRUE"
      ],
      "text/latex": [
       "TRUE"
      ],
      "text/markdown": [
       "TRUE"
      ],
      "text/plain": [
       "[1] TRUE"
      ]
     },
     "metadata": {},
     "output_type": "display_data"
    }
   ],
   "source": [
    "# The t-value of 2.19, found in the summary of the Linear Model, when squared equals: 4.832354\n",
    "tvalueSquared <- Football.lm.summary$coefficients['PercRushPlays','t value']^2\n",
    "print(tvalueSquared)\n",
    "\n",
    "# When we run both the \"full\" model, and the \"Reduced\" model without the PercRushPlays\n",
    "#   we can find the different between Sum of Squares Regression term and divide by \n",
    "#   the Mean Square Residuals from the full model\n",
    "SSrModelComp <- (Football.lm.SSr - Football.lm.Reduced.SSr) / Football.lm.anova['Residuals','Mean Sq']\n",
    "print(SSrModelComp)\n",
    "\n",
    "# Note that there is a very small difference in these terms due to rounding and representation,\n",
    "#   as such they faile the \"identical\" check, but they are equal\n",
    "SSrModelComp - tvalueSquared\n",
    "#identical(SSrModelComp, tvalueSquared)\n",
    "all.equal(SSrModelComp, tvalueSquared)"
   ]
  },
  {
   "cell_type": "markdown",
   "id": "09222816",
   "metadata": {},
   "source": [
    "## 3.2"
   ]
  },
  {
   "cell_type": "code",
   "execution_count": 53,
   "id": "055daadd",
   "metadata": {},
   "outputs": [],
   "source": [
    "Football.lm.predictedCor <- cor(unname(predict(Football.lm)),Football.df$GamesWon)"
   ]
  },
  {
   "cell_type": "code",
   "execution_count": 60,
   "id": "b2bb986b",
   "metadata": {},
   "outputs": [
    {
     "data": {
      "text/html": [
       "-1.11022302462516e-16"
      ],
      "text/latex": [
       "-1.11022302462516e-16"
      ],
      "text/markdown": [
       "-1.11022302462516e-16"
      ],
      "text/plain": [
       "[1] -1.110223e-16"
      ]
     },
     "metadata": {},
     "output_type": "display_data"
    },
    {
     "data": {
      "text/html": [
       "TRUE"
      ],
      "text/latex": [
       "TRUE"
      ],
      "text/markdown": [
       "TRUE"
      ],
      "text/plain": [
       "[1] TRUE"
      ]
     },
     "metadata": {},
     "output_type": "display_data"
    },
    {
     "data": {
      "text/html": [
       "FALSE"
      ],
      "text/latex": [
       "FALSE"
      ],
      "text/markdown": [
       "FALSE"
      ],
      "text/plain": [
       "[1] FALSE"
      ]
     },
     "metadata": {},
     "output_type": "display_data"
    }
   ],
   "source": [
    "# Small variation in values so they fail the \"identical\" test, but they are equal\n",
    "Football.lm.predictedCor^2 - Football.lm.rsquared\n",
    "all.equal(Football.lm.predictedCor^2,Football.lm.rsquared)\n",
    "identical(Football.lm.predictedCor^2,Football.lm.rsquared)\n"
   ]
  },
  {
   "cell_type": "markdown",
   "id": "977d9d07",
   "metadata": {},
   "source": [
    "## 3.3"
   ]
  },
  {
   "cell_type": "markdown",
   "id": "a758d7fc",
   "metadata": {},
   "source": [
    "### a"
   ]
  },
  {
   "cell_type": "code",
   "execution_count": 70,
   "id": "bc25d7f1",
   "metadata": {},
   "outputs": [
    {
     "data": {
      "text/html": [
       "<style>\n",
       ".dl-inline {width: auto; margin:0; padding: 0}\n",
       ".dl-inline>dt, .dl-inline>dd {float: none; width: auto; display: inline-block}\n",
       ".dl-inline>dt::after {content: \":\\0020\"; padding-right: .5ex}\n",
       ".dl-inline>dt:not(:first-of-type) {padding-left: .5ex}\n",
       "</style><dl class=dl-inline><dt>2.5 %</dt><dd>0.011855321567687</dd><dt>97.5 %</dt><dd>0.37606509759876</dd></dl>\n"
      ],
      "text/latex": [
       "\\begin{description*}\n",
       "\\item[2.5 \\textbackslash{}\\%] 0.011855321567687\n",
       "\\item[97.5 \\textbackslash{}\\%] 0.37606509759876\n",
       "\\end{description*}\n"
      ],
      "text/markdown": [
       "2.5 %\n",
       ":   0.01185532156768797.5 %\n",
       ":   0.37606509759876\n",
       "\n"
      ],
      "text/plain": [
       "     2.5 %     97.5 % \n",
       "0.01185532 0.37606510 "
      ]
     },
     "metadata": {},
     "output_type": "display_data"
    }
   ],
   "source": [
    "confint(Football.lm, level=0.95)['PercRushPlays',]"
   ]
  },
  {
   "cell_type": "code",
   "execution_count": 109,
   "id": "f275af77",
   "metadata": {},
   "outputs": [
    {
     "name": "stdout",
     "output_type": "stream",
     "text": [
      "[1] 0.1939602\n",
      "[1] 2.063899\n",
      "[1] 2.91125\n"
     ]
    }
   ],
   "source": [
    "#Manually\n",
    "beta_j <- Football.lm.summary$coefficients['PercRushPlays','Estimate']\n",
    "print(beta_j)\n",
    "t_alpha <- qt(.975, df=(nrow(Football.df)-4))\n",
    "print(t_alpha)\n",
    "variance <- Football.lm.anova['Residual','Mean Sq']\n",
    "print(variance)"
   ]
  },
  {
   "cell_type": "code",
   "execution_count": 110,
   "id": "90e55f05",
   "metadata": {},
   "outputs": [
    {
     "data": {
      "text/html": [
       "28"
      ],
      "text/latex": [
       "28"
      ],
      "text/markdown": [
       "28"
      ],
      "text/plain": [
       "[1] 28"
      ]
     },
     "metadata": {},
     "output_type": "display_data"
    }
   ],
   "source": [
    "nrow(Football.df)"
   ]
  },
  {
   "cell_type": "code",
   "execution_count": 111,
   "id": "41e08b5d",
   "metadata": {},
   "outputs": [],
   "source": [
    "Xdf <- subset(Football.df, select = -c(GamesWon))"
   ]
  },
  {
   "cell_type": "code",
   "execution_count": 112,
   "id": "decc271a",
   "metadata": {},
   "outputs": [],
   "source": [
    "XMatrix <- as.matrix(cbind(1,Xdf))"
   ]
  },
  {
   "cell_type": "code",
   "execution_count": 113,
   "id": "4898a913",
   "metadata": {},
   "outputs": [],
   "source": [
    "C_jj <- solve(t(XMatrix) %*% XMatrix)[4,4]"
   ]
  },
  {
   "cell_type": "code",
   "execution_count": 114,
   "id": "53d9cdb8",
   "metadata": {},
   "outputs": [
    {
     "data": {
      "text/html": [
       "0.376065097598779"
      ],
      "text/latex": [
       "0.376065097598779"
      ],
      "text/markdown": [
       "0.376065097598779"
      ],
      "text/plain": [
       "[1] 0.3760651"
      ]
     },
     "metadata": {},
     "output_type": "display_data"
    }
   ],
   "source": [
    "beta_j + t_alpha * sqrt(variance * C_jj)"
   ]
  },
  {
   "cell_type": "code",
   "execution_count": 115,
   "id": "4a5c76a2",
   "metadata": {},
   "outputs": [
    {
     "data": {
      "text/html": [
       "0.0118553215676673"
      ],
      "text/latex": [
       "0.0118553215676673"
      ],
      "text/markdown": [
       "0.0118553215676673"
      ],
      "text/plain": [
       "[1] 0.01185532"
      ]
     },
     "metadata": {},
     "output_type": "display_data"
    }
   ],
   "source": [
    "beta_j - t_alpha * sqrt(variance * C_jj)"
   ]
  },
  {
   "cell_type": "code",
   "execution_count": 91,
   "id": "bc179f65",
   "metadata": {},
   "outputs": [
    {
     "data": {
      "text/html": [
       "0.193960209583223"
      ],
      "text/latex": [
       "0.193960209583223"
      ],
      "text/markdown": [
       "0.193960209583223"
      ],
      "text/plain": [
       "[1] 0.1939602"
      ]
     },
     "metadata": {},
     "output_type": "display_data"
    }
   ],
   "source": [
    "Football.lm.summary$coefficients['PercRushPlays','Estimate']"
   ]
  },
  {
   "cell_type": "markdown",
   "id": "52dd6fbd",
   "metadata": {},
   "source": [
    "### b"
   ]
  },
  {
   "cell_type": "code",
   "execution_count": 67,
   "id": "db8826f8",
   "metadata": {},
   "outputs": [
    {
     "data": {
      "text/html": [
       "<table class=\"dataframe\">\n",
       "<caption>A matrix: 1 × 3 of type dbl</caption>\n",
       "<thead>\n",
       "\t<tr><th></th><th scope=col>fit</th><th scope=col>lwr</th><th scope=col>upr</th></tr>\n",
       "</thead>\n",
       "<tbody>\n",
       "\t<tr><th scope=row>1</th><td>7.216424</td><td>6.436203</td><td>7.996645</td></tr>\n",
       "</tbody>\n",
       "</table>\n"
      ],
      "text/latex": [
       "A matrix: 1 × 3 of type dbl\n",
       "\\begin{tabular}{r|lll}\n",
       "  & fit & lwr & upr\\\\\n",
       "\\hline\n",
       "\t1 & 7.216424 & 6.436203 & 7.996645\\\\\n",
       "\\end{tabular}\n"
      ],
      "text/markdown": [
       "\n",
       "A matrix: 1 × 3 of type dbl\n",
       "\n",
       "| <!--/--> | fit | lwr | upr |\n",
       "|---|---|---|---|\n",
       "| 1 | 7.216424 | 6.436203 | 7.996645 |\n",
       "\n"
      ],
      "text/plain": [
       "  fit      lwr      upr     \n",
       "1 7.216424 6.436203 7.996645"
      ]
     },
     "metadata": {},
     "output_type": "display_data"
    }
   ],
   "source": [
    "predict(Football.lm, \n",
    "        data.frame(PassYRDs=c(2300), PercRushPlays=c(56.0), OppRush=c(2100)),\n",
    "        interval='confidence', \n",
    "        level=0.95)"
   ]
  },
  {
   "cell_type": "code",
   "execution_count": null,
   "id": "e7c5fba5",
   "metadata": {},
   "outputs": [],
   "source": [
    "#Mannually\n"
   ]
  }
 ],
 "metadata": {
  "kernelspec": {
   "display_name": "R",
   "language": "R",
   "name": "ir"
  },
  "language_info": {
   "codemirror_mode": "r",
   "file_extension": ".r",
   "mimetype": "text/x-r-source",
   "name": "R",
   "pygments_lexer": "r",
   "version": "3.6.3"
  }
 },
 "nbformat": 4,
 "nbformat_minor": 5
}
