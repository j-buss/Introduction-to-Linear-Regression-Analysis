{
 "cells": [
  {
   "cell_type": "markdown",
   "id": "6dc2ea8d",
   "metadata": {},
   "source": [
    "# Chapter 3 Examples - R"
   ]
  },
  {
   "cell_type": "code",
   "execution_count": 1,
   "id": "ccff5d98",
   "metadata": {},
   "outputs": [],
   "source": [
    "#### Sytem may require the following: \n",
    "# sudo apt install libcurl4-openssl-dev\n",
    "# sudo apt install libxml2-dev\n",
    "\n",
    "#### Only need to run the folloing installs once\n",
    "# install.packages(c(\"ggplot2\", \"ggpubr\", \"tidyverse\", \"broom\", \"AICcmodavg\"))"
   ]
  },
  {
   "cell_type": "markdown",
   "id": "1395c5d3",
   "metadata": {},
   "source": [
    "## Load Libraries"
   ]
  },
  {
   "cell_type": "code",
   "execution_count": 33,
   "id": "75fa0838",
   "metadata": {},
   "outputs": [],
   "source": [
    "library(readxl)\n",
    "library(ggplot2)\n",
    "library(ggpubr)\n",
    "library(tidyverse)\n",
    "library(broom)\n",
    "library(AICcmodavg)"
   ]
  },
  {
   "cell_type": "markdown",
   "id": "b4240d0d",
   "metadata": {},
   "source": [
    "## 3.1"
   ]
  },
  {
   "cell_type": "code",
   "execution_count": 34,
   "id": "c6a177e8",
   "metadata": {},
   "outputs": [],
   "source": [
    "dataTable <- read_excel('../linear_regression_5e_data_sets/Chapter 3/Examples/data-ex-3-1 (Delivery Time).xls')"
   ]
  },
  {
   "cell_type": "code",
   "execution_count": 35,
   "id": "22fb9b32",
   "metadata": {},
   "outputs": [],
   "source": [
    "df <- data.frame(dataTable$`Delivery Time, y`, dataTable$`Number of Cases, x1`, dataTable$`Distance, x2 (ft)`)"
   ]
  },
  {
   "cell_type": "code",
   "execution_count": 36,
   "id": "235a14ba",
   "metadata": {},
   "outputs": [],
   "source": [
    "colnames(df) <- c(\"DeliveryTime\", \"NumberCases\", \"Distance\")"
   ]
  },
  {
   "cell_type": "code",
   "execution_count": 37,
   "id": "c3a2febf",
   "metadata": {},
   "outputs": [
    {
     "data": {
      "text/html": [
       "<table class=\"dataframe\">\n",
       "<caption>A data.frame: 6 × 3</caption>\n",
       "<thead>\n",
       "\t<tr><th></th><th scope=col>DeliveryTime</th><th scope=col>NumberCases</th><th scope=col>Distance</th></tr>\n",
       "\t<tr><th></th><th scope=col>&lt;dbl&gt;</th><th scope=col>&lt;dbl&gt;</th><th scope=col>&lt;dbl&gt;</th></tr>\n",
       "</thead>\n",
       "<tbody>\n",
       "\t<tr><th scope=row>1</th><td>16.68</td><td>7</td><td>560</td></tr>\n",
       "\t<tr><th scope=row>2</th><td>11.50</td><td>3</td><td>220</td></tr>\n",
       "\t<tr><th scope=row>3</th><td>12.03</td><td>3</td><td>340</td></tr>\n",
       "\t<tr><th scope=row>4</th><td>14.88</td><td>4</td><td> 80</td></tr>\n",
       "\t<tr><th scope=row>5</th><td>13.75</td><td>6</td><td>150</td></tr>\n",
       "\t<tr><th scope=row>6</th><td>18.11</td><td>7</td><td>330</td></tr>\n",
       "</tbody>\n",
       "</table>\n"
      ],
      "text/latex": [
       "A data.frame: 6 × 3\n",
       "\\begin{tabular}{r|lll}\n",
       "  & DeliveryTime & NumberCases & Distance\\\\\n",
       "  & <dbl> & <dbl> & <dbl>\\\\\n",
       "\\hline\n",
       "\t1 & 16.68 & 7 & 560\\\\\n",
       "\t2 & 11.50 & 3 & 220\\\\\n",
       "\t3 & 12.03 & 3 & 340\\\\\n",
       "\t4 & 14.88 & 4 &  80\\\\\n",
       "\t5 & 13.75 & 6 & 150\\\\\n",
       "\t6 & 18.11 & 7 & 330\\\\\n",
       "\\end{tabular}\n"
      ],
      "text/markdown": [
       "\n",
       "A data.frame: 6 × 3\n",
       "\n",
       "| <!--/--> | DeliveryTime &lt;dbl&gt; | NumberCases &lt;dbl&gt; | Distance &lt;dbl&gt; |\n",
       "|---|---|---|---|\n",
       "| 1 | 16.68 | 7 | 560 |\n",
       "| 2 | 11.50 | 3 | 220 |\n",
       "| 3 | 12.03 | 3 | 340 |\n",
       "| 4 | 14.88 | 4 |  80 |\n",
       "| 5 | 13.75 | 6 | 150 |\n",
       "| 6 | 18.11 | 7 | 330 |\n",
       "\n"
      ],
      "text/plain": [
       "  DeliveryTime NumberCases Distance\n",
       "1 16.68        7           560     \n",
       "2 11.50        3           220     \n",
       "3 12.03        3           340     \n",
       "4 14.88        4            80     \n",
       "5 13.75        6           150     \n",
       "6 18.11        7           330     "
      ]
     },
     "metadata": {},
     "output_type": "display_data"
    }
   ],
   "source": [
    "head(df)"
   ]
  },
  {
   "cell_type": "code",
   "execution_count": 38,
   "id": "854c08c2",
   "metadata": {},
   "outputs": [
    {
     "data": {
      "text/plain": [
       "  DeliveryTime    NumberCases       Distance     \n",
       " Min.   : 8.00   Min.   : 2.00   Min.   :  36.0  \n",
       " 1st Qu.:13.75   1st Qu.: 4.00   1st Qu.: 150.0  \n",
       " Median :18.11   Median : 7.00   Median : 330.0  \n",
       " Mean   :22.38   Mean   : 8.76   Mean   : 409.3  \n",
       " 3rd Qu.:21.50   3rd Qu.:10.00   3rd Qu.: 605.0  \n",
       " Max.   :79.24   Max.   :30.00   Max.   :1460.0  "
      ]
     },
     "metadata": {},
     "output_type": "display_data"
    }
   ],
   "source": [
    "summary(df)"
   ]
  },
  {
   "cell_type": "code",
   "execution_count": 39,
   "id": "0d76c96a",
   "metadata": {},
   "outputs": [
    {
     "name": "stdout",
     "output_type": "stream",
     "text": [
      "\n",
      "Call:\n",
      "lm(formula = DeliveryTime ~ NumberCases + Distance, data = df)\n",
      "\n",
      "Coefficients:\n",
      "(Intercept)  NumberCases     Distance  \n",
      "    2.34123      1.61591      0.01438  \n",
      "\n"
     ]
    }
   ],
   "source": [
    "linearMod <- lm(DeliveryTime ~ NumberCases + Distance, data=df)  # build linear regression model on full data\n",
    "print(linearMod)"
   ]
  },
  {
   "cell_type": "code",
   "execution_count": 40,
   "id": "7d1ec840",
   "metadata": {},
   "outputs": [
    {
     "data": {
      "image/png": "[encoded data removed]",
      "text/plain": [
       "plot without title"
      ]
     },
     "metadata": {
      "image/png": {
       "height": 420,
       "width": 420
      }
     },
     "output_type": "display_data"
    }
   ],
   "source": [
    "pairs(df[,1:3], pch=19, lower.panel = NULL)"
   ]
  },
  {
   "cell_type": "code",
   "execution_count": 110,
   "id": "173dd4da",
   "metadata": {},
   "outputs": [
    {
     "data": {
      "text/plain": [
       "\n",
       "Call:\n",
       "lm(formula = DeliveryTime ~ NumberCases + Distance, data = df)\n",
       "\n",
       "Residuals:\n",
       "    Min      1Q  Median      3Q     Max \n",
       "-5.7880 -0.6629  0.4364  1.1566  7.4197 \n",
       "\n",
       "Coefficients:\n",
       "            Estimate Std. Error t value Pr(>|t|)    \n",
       "(Intercept) 2.341231   1.096730   2.135 0.044170 *  \n",
       "NumberCases 1.615907   0.170735   9.464 3.25e-09 ***\n",
       "Distance    0.014385   0.003613   3.981 0.000631 ***\n",
       "---\n",
       "Signif. codes:  0 ‘***’ 0.001 ‘**’ 0.01 ‘*’ 0.05 ‘.’ 0.1 ‘ ’ 1\n",
       "\n",
       "Residual standard error: 3.259 on 22 degrees of freedom\n",
       "Multiple R-squared:  0.9596,\tAdjusted R-squared:  0.9559 \n",
       "F-statistic: 261.2 on 2 and 22 DF,  p-value: 4.687e-16\n"
      ]
     },
     "metadata": {},
     "output_type": "display_data"
    }
   ],
   "source": [
    "summary(linearMod)"
   ]
  },
  {
   "cell_type": "code",
   "execution_count": 42,
   "id": "c4a606b6",
   "metadata": {},
   "outputs": [
    {
     "data": {
      "text/plain": [
       "            Df Sum Sq Mean Sq F value   Pr(>F)    \n",
       "NumberCases  1   5382    5382  506.62  < 2e-16 ***\n",
       "Distance     1    168     168   15.85 0.000631 ***\n",
       "Residuals   22    234      11                     \n",
       "---\n",
       "Signif. codes:  0 ‘***’ 0.001 ‘**’ 0.01 ‘*’ 0.05 ‘.’ 0.1 ‘ ’ 1"
      ]
     },
     "metadata": {},
     "output_type": "display_data"
    }
   ],
   "source": [
    "one.way <- aov(DeliveryTime ~ NumberCases + Distance, data = df)\n",
    "summary(one.way)"
   ]
  },
  {
   "cell_type": "code",
   "execution_count": 85,
   "id": "92c5189f",
   "metadata": {},
   "outputs": [
    {
     "data": {
      "text/html": [
       "<table class=\"dataframe\">\n",
       "<caption>A anova: 3 × 5</caption>\n",
       "<thead>\n",
       "\t<tr><th></th><th scope=col>Df</th><th scope=col>Sum Sq</th><th scope=col>Mean Sq</th><th scope=col>F value</th><th scope=col>Pr(&gt;F)</th></tr>\n",
       "\t<tr><th></th><th scope=col>&lt;int&gt;</th><th scope=col>&lt;dbl&gt;</th><th scope=col>&lt;dbl&gt;</th><th scope=col>&lt;dbl&gt;</th><th scope=col>&lt;dbl&gt;</th></tr>\n",
       "</thead>\n",
       "<tbody>\n",
       "\t<tr><th scope=row>NumberCases</th><td> 1</td><td>5382.4088</td><td>5382.40880</td><td>506.61936</td><td>1.112549e-16</td></tr>\n",
       "\t<tr><th scope=row>Distance</th><td> 1</td><td> 168.4021</td><td> 168.40213</td><td> 15.85085</td><td>6.312469e-04</td></tr>\n",
       "\t<tr><th scope=row>Residuals</th><td>22</td><td> 233.7317</td><td>  10.62417</td><td>       NA</td><td>          NA</td></tr>\n",
       "</tbody>\n",
       "</table>\n"
      ],
      "text/latex": [
       "A anova: 3 × 5\n",
       "\\begin{tabular}{r|lllll}\n",
       "  & Df & Sum Sq & Mean Sq & F value & Pr(>F)\\\\\n",
       "  & <int> & <dbl> & <dbl> & <dbl> & <dbl>\\\\\n",
       "\\hline\n",
       "\tNumberCases &  1 & 5382.4088 & 5382.40880 & 506.61936 & 1.112549e-16\\\\\n",
       "\tDistance &  1 &  168.4021 &  168.40213 &  15.85085 & 6.312469e-04\\\\\n",
       "\tResiduals & 22 &  233.7317 &   10.62417 &        NA &           NA\\\\\n",
       "\\end{tabular}\n"
      ],
      "text/markdown": [
       "\n",
       "A anova: 3 × 5\n",
       "\n",
       "| <!--/--> | Df &lt;int&gt; | Sum Sq &lt;dbl&gt; | Mean Sq &lt;dbl&gt; | F value &lt;dbl&gt; | Pr(&gt;F) &lt;dbl&gt; |\n",
       "|---|---|---|---|---|---|\n",
       "| NumberCases |  1 | 5382.4088 | 5382.40880 | 506.61936 | 1.112549e-16 |\n",
       "| Distance |  1 |  168.4021 |  168.40213 |  15.85085 | 6.312469e-04 |\n",
       "| Residuals | 22 |  233.7317 |   10.62417 |        NA |           NA |\n",
       "\n"
      ],
      "text/plain": [
       "            Df Sum Sq    Mean Sq    F value   Pr(>F)      \n",
       "NumberCases  1 5382.4088 5382.40880 506.61936 1.112549e-16\n",
       "Distance     1  168.4021  168.40213  15.85085 6.312469e-04\n",
       "Residuals   22  233.7317   10.62417        NA           NA"
      ]
     },
     "metadata": {},
     "output_type": "display_data"
    }
   ],
   "source": [
    "anova(linearMod)"
   ]
  },
  {
   "cell_type": "markdown",
   "id": "c85bf9a2",
   "metadata": {},
   "source": [
    "## 3.2"
   ]
  },
  {
   "cell_type": "code",
   "execution_count": 84,
   "id": "845c2463",
   "metadata": {},
   "outputs": [
    {
     "data": {
      "text/html": [
       "10.6241671554797"
      ],
      "text/latex": [
       "10.6241671554797"
      ],
      "text/markdown": [
       "10.6241671554797"
      ],
      "text/plain": [
       "[1] 10.62417"
      ]
     },
     "metadata": {},
     "output_type": "display_data"
    }
   ],
   "source": [
    "anova(linearMod)[[3]][3]"
   ]
  },
  {
   "cell_type": "markdown",
   "id": "f950381f",
   "metadata": {},
   "source": [
    "## 3.3"
   ]
  },
  {
   "cell_type": "code",
   "execution_count": 111,
   "id": "b1658b2e",
   "metadata": {},
   "outputs": [
    {
     "data": {
      "text/html": [
       "261.235108660564"
      ],
      "text/latex": [
       "261.235108660564"
      ],
      "text/markdown": [
       "261.235108660564"
      ],
      "text/plain": [
       "[1] 261.2351"
      ]
     },
     "metadata": {},
     "output_type": "display_data"
    }
   ],
   "source": [
    "x <- summary(linearMod)\n",
    "x$fstatistic[[1]]"
   ]
  },
  {
   "cell_type": "markdown",
   "id": "75697a9e",
   "metadata": {},
   "source": [
    "## 3.4"
   ]
  },
  {
   "cell_type": "code",
   "execution_count": 112,
   "id": "fefc52bd",
   "metadata": {},
   "outputs": [
    {
     "data": {
      "text/plain": [
       "\n",
       "Call:\n",
       "lm(formula = DeliveryTime ~ NumberCases + Distance, data = df)\n",
       "\n",
       "Residuals:\n",
       "    Min      1Q  Median      3Q     Max \n",
       "-5.7880 -0.6629  0.4364  1.1566  7.4197 \n",
       "\n",
       "Coefficients:\n",
       "            Estimate Std. Error t value Pr(>|t|)    \n",
       "(Intercept) 2.341231   1.096730   2.135 0.044170 *  \n",
       "NumberCases 1.615907   0.170735   9.464 3.25e-09 ***\n",
       "Distance    0.014385   0.003613   3.981 0.000631 ***\n",
       "---\n",
       "Signif. codes:  0 ‘***’ 0.001 ‘**’ 0.01 ‘*’ 0.05 ‘.’ 0.1 ‘ ’ 1\n",
       "\n",
       "Residual standard error: 3.259 on 22 degrees of freedom\n",
       "Multiple R-squared:  0.9596,\tAdjusted R-squared:  0.9559 \n",
       "F-statistic: 261.2 on 2 and 22 DF,  p-value: 4.687e-16\n"
      ]
     },
     "metadata": {},
     "output_type": "display_data"
    }
   ],
   "source": [
    "summary(linearMod)"
   ]
  },
  {
   "cell_type": "code",
   "execution_count": 116,
   "id": "dda29dec",
   "metadata": {},
   "outputs": [
    {
     "data": {
      "text/html": [
       "<style>\n",
       ".list-inline {list-style: none; margin:0; padding: 0}\n",
       ".list-inline>li {display: inline-block}\n",
       ".list-inline>li:not(:last-child)::after {content: \"\\00b7\"; padding: 0 .5ex}\n",
       "</style>\n",
       "<ol class=list-inline><li>'call'</li><li>'terms'</li><li>'residuals'</li><li>'coefficients'</li><li>'aliased'</li><li>'sigma'</li><li>'df'</li><li>'r.squared'</li><li>'adj.r.squared'</li><li>'fstatistic'</li><li>'cov.unscaled'</li></ol>\n"
      ],
      "text/latex": [
       "\\begin{enumerate*}\n",
       "\\item 'call'\n",
       "\\item 'terms'\n",
       "\\item 'residuals'\n",
       "\\item 'coefficients'\n",
       "\\item 'aliased'\n",
       "\\item 'sigma'\n",
       "\\item 'df'\n",
       "\\item 'r.squared'\n",
       "\\item 'adj.r.squared'\n",
       "\\item 'fstatistic'\n",
       "\\item 'cov.unscaled'\n",
       "\\end{enumerate*}\n"
      ],
      "text/markdown": [
       "1. 'call'\n",
       "2. 'terms'\n",
       "3. 'residuals'\n",
       "4. 'coefficients'\n",
       "5. 'aliased'\n",
       "6. 'sigma'\n",
       "7. 'df'\n",
       "8. 'r.squared'\n",
       "9. 'adj.r.squared'\n",
       "10. 'fstatistic'\n",
       "11. 'cov.unscaled'\n",
       "\n",
       "\n"
      ],
      "text/plain": [
       " [1] \"call\"          \"terms\"         \"residuals\"     \"coefficients\" \n",
       " [5] \"aliased\"       \"sigma\"         \"df\"            \"r.squared\"    \n",
       " [9] \"adj.r.squared\" \"fstatistic\"    \"cov.unscaled\" "
      ]
     },
     "metadata": {},
     "output_type": "display_data"
    }
   ],
   "source": [
    "names(x)"
   ]
  },
  {
   "cell_type": "code",
   "execution_count": 131,
   "id": "b3811c09",
   "metadata": {},
   "outputs": [
    {
     "data": {
      "text/html": [
       "3.98131313674308"
      ],
      "text/latex": [
       "3.98131313674308"
      ],
      "text/markdown": [
       "3.98131313674308"
      ],
      "text/plain": [
       "[1] 3.981313"
      ]
     },
     "metadata": {},
     "output_type": "display_data"
    }
   ],
   "source": [
    "coef(x)[,'t value'][[3]]"
   ]
  },
  {
   "cell_type": "markdown",
   "id": "ccf914cf",
   "metadata": {},
   "source": [
    "## 3.8"
   ]
  },
  {
   "cell_type": "code",
   "execution_count": 136,
   "id": "a7e517bd",
   "metadata": {},
   "outputs": [
    {
     "data": {
      "text/html": [
       "<table class=\"dataframe\">\n",
       "<caption>A matrix: 3 × 2 of type dbl</caption>\n",
       "<thead>\n",
       "\t<tr><th></th><th scope=col>2.5 %</th><th scope=col>97.5 %</th></tr>\n",
       "</thead>\n",
       "<tbody>\n",
       "\t<tr><th scope=row>(Intercept)</th><td>0.066751987</td><td>4.61571030</td></tr>\n",
       "\t<tr><th scope=row>NumberCases</th><td>1.261824662</td><td>1.96998976</td></tr>\n",
       "\t<tr><th scope=row>Distance</th><td>0.006891745</td><td>0.02187791</td></tr>\n",
       "</tbody>\n",
       "</table>\n"
      ],
      "text/latex": [
       "A matrix: 3 × 2 of type dbl\n",
       "\\begin{tabular}{r|ll}\n",
       "  & 2.5 \\% & 97.5 \\%\\\\\n",
       "\\hline\n",
       "\t(Intercept) & 0.066751987 & 4.61571030\\\\\n",
       "\tNumberCases & 1.261824662 & 1.96998976\\\\\n",
       "\tDistance & 0.006891745 & 0.02187791\\\\\n",
       "\\end{tabular}\n"
      ],
      "text/markdown": [
       "\n",
       "A matrix: 3 × 2 of type dbl\n",
       "\n",
       "| <!--/--> | 2.5 % | 97.5 % |\n",
       "|---|---|---|\n",
       "| (Intercept) | 0.066751987 | 4.61571030 |\n",
       "| NumberCases | 1.261824662 | 1.96998976 |\n",
       "| Distance | 0.006891745 | 0.02187791 |\n",
       "\n"
      ],
      "text/plain": [
       "            2.5 %       97.5 %    \n",
       "(Intercept) 0.066751987 4.61571030\n",
       "NumberCases 1.261824662 1.96998976\n",
       "Distance    0.006891745 0.02187791"
      ]
     },
     "metadata": {},
     "output_type": "display_data"
    }
   ],
   "source": [
    " confint(linearMod, level=0.95)"
   ]
  },
  {
   "cell_type": "markdown",
   "id": "d5c39ea7",
   "metadata": {},
   "source": [
    "## 3.9"
   ]
  },
  {
   "cell_type": "code",
   "execution_count": null,
   "id": "8cf98bfb",
   "metadata": {},
   "outputs": [],
   "source": [
    "x = 1, 8, 275"
   ]
  },
  {
   "cell_type": "code",
   "execution_count": 137,
   "id": "1167591d",
   "metadata": {},
   "outputs": [
    {
     "ename": "ERROR",
     "evalue": "Error in eval(predvars, data, env): object 'NumberCases' not found\n",
     "output_type": "error",
     "traceback": [
      "Error in eval(predvars, data, env): object 'NumberCases' not found\nTraceback:\n",
      "1. predict(linearMod, data.frame(x = c(1, 8, 275)), interval = \"predict\", \n .     level = 0.95)",
      "2. predict.lm(linearMod, data.frame(x = c(1, 8, 275)), interval = \"predict\", \n .     level = 0.95)",
      "3. model.frame(Terms, newdata, na.action = na.action, xlev = object$xlevels)",
      "4. model.frame.default(Terms, newdata, na.action = na.action, xlev = object$xlevels)",
      "5. eval(predvars, data, env)",
      "6. eval(predvars, data, env)"
     ]
    }
   ],
   "source": [
    "pred<-predict(linearMod, data.frame(x = c(1, 8, 275)), interval=\"predict\", level=0.95)\n",
    "print(pred)"
   ]
  },
  {
   "cell_type": "code",
   "execution_count": 138,
   "id": "99dbeff2",
   "metadata": {},
   "outputs": [],
   "source": [
    "newX = c(1,8,275)"
   ]
  },
  {
   "cell_type": "code",
   "execution_count": 140,
   "id": "2f9cdda7",
   "metadata": {},
   "outputs": [
    {
     "data": {
      "text/html": [
       "'double'"
      ],
      "text/latex": [
       "'double'"
      ],
      "text/markdown": [
       "'double'"
      ],
      "text/plain": [
       "[1] \"double\""
      ]
     },
     "metadata": {},
     "output_type": "display_data"
    }
   ],
   "source": [
    "typeof(newX)"
   ]
  },
  {
   "cell_type": "code",
   "execution_count": 149,
   "id": "f08a90d0",
   "metadata": {},
   "outputs": [],
   "source": [
    "new <- data.frame(cnst = 1,NumberCases = 8,Distance = 275)"
   ]
  },
  {
   "cell_type": "code",
   "execution_count": 150,
   "id": "e7802a8f",
   "metadata": {},
   "outputs": [
    {
     "data": {
      "text/html": [
       "<table class=\"dataframe\">\n",
       "<caption>A data.frame: 1 × 3</caption>\n",
       "<thead>\n",
       "\t<tr><th scope=col>cnst</th><th scope=col>NumberCases</th><th scope=col>Distance</th></tr>\n",
       "\t<tr><th scope=col>&lt;dbl&gt;</th><th scope=col>&lt;dbl&gt;</th><th scope=col>&lt;dbl&gt;</th></tr>\n",
       "</thead>\n",
       "<tbody>\n",
       "\t<tr><td>1</td><td>8</td><td>275</td></tr>\n",
       "</tbody>\n",
       "</table>\n"
      ],
      "text/latex": [
       "A data.frame: 1 × 3\n",
       "\\begin{tabular}{lll}\n",
       " cnst & NumberCases & Distance\\\\\n",
       " <dbl> & <dbl> & <dbl>\\\\\n",
       "\\hline\n",
       "\t 1 & 8 & 275\\\\\n",
       "\\end{tabular}\n"
      ],
      "text/markdown": [
       "\n",
       "A data.frame: 1 × 3\n",
       "\n",
       "| cnst &lt;dbl&gt; | NumberCases &lt;dbl&gt; | Distance &lt;dbl&gt; |\n",
       "|---|---|---|\n",
       "| 1 | 8 | 275 |\n",
       "\n"
      ],
      "text/plain": [
       "  cnst NumberCases Distance\n",
       "1 1    8           275     "
      ]
     },
     "metadata": {},
     "output_type": "display_data"
    }
   ],
   "source": [
    "new"
   ]
  },
  {
   "cell_type": "code",
   "execution_count": 152,
   "id": "0453285a",
   "metadata": {},
   "outputs": [
    {
     "name": "stdout",
     "output_type": "stream",
     "text": [
      "       fit     lwr      upr\n",
      "1 19.22432 17.6539 20.79474\n"
     ]
    }
   ],
   "source": [
    "pred<-predict(linearMod, new, interval=\"conf\", level=0.95)\n",
    "print(pred)"
   ]
  },
  {
   "cell_type": "markdown",
   "id": "cb9541bd",
   "metadata": {},
   "source": [
    "## 3.12"
   ]
  },
  {
   "cell_type": "code",
   "execution_count": 153,
   "id": "78cb02d4",
   "metadata": {},
   "outputs": [
    {
     "name": "stdout",
     "output_type": "stream",
     "text": [
      "       fit      lwr      upr\n",
      "1 19.22432 12.28456 26.16407\n"
     ]
    }
   ],
   "source": [
    "pred<-predict(linearMod, new, interval=\"predict\", level=0.95)\n",
    "print(pred)"
   ]
  },
  {
   "cell_type": "markdown",
   "id": "2ff356d9",
   "metadata": {},
   "source": [
    "## Patient Satisfaction Data"
   ]
  },
  {
   "cell_type": "code",
   "execution_count": 154,
   "id": "17b0d6bc",
   "metadata": {},
   "outputs": [],
   "source": [
    "dataTable <- read_excel('../linear_regression_5e_data_sets/Appendices/data-table-B17.xls')"
   ]
  },
  {
   "cell_type": "code",
   "execution_count": 155,
   "id": "397afa92",
   "metadata": {},
   "outputs": [
    {
     "data": {
      "text/html": [
       "<table class=\"dataframe\">\n",
       "<caption>A tibble: 25 × 5</caption>\n",
       "<thead>\n",
       "\t<tr><th scope=col>Satisfaction</th><th scope=col>Age</th><th scope=col>Severity</th><th scope=col>Surgical-Medical</th><th scope=col>Anxiety</th></tr>\n",
       "\t<tr><th scope=col>&lt;dbl&gt;</th><th scope=col>&lt;dbl&gt;</th><th scope=col>&lt;dbl&gt;</th><th scope=col>&lt;dbl&gt;</th><th scope=col>&lt;dbl&gt;</th></tr>\n",
       "</thead>\n",
       "<tbody>\n",
       "\t<tr><td> 68</td><td>55</td><td>50</td><td>0</td><td>2.1</td></tr>\n",
       "\t<tr><td> 77</td><td>46</td><td>24</td><td>1</td><td>2.8</td></tr>\n",
       "\t<tr><td> 96</td><td>30</td><td>46</td><td>1</td><td>3.3</td></tr>\n",
       "\t<tr><td> 80</td><td>35</td><td>48</td><td>1</td><td>4.5</td></tr>\n",
       "\t<tr><td> 43</td><td>59</td><td>58</td><td>0</td><td>2.0</td></tr>\n",
       "\t<tr><td> 44</td><td>61</td><td>60</td><td>0</td><td>5.1</td></tr>\n",
       "\t<tr><td> 26</td><td>74</td><td>65</td><td>1</td><td>5.5</td></tr>\n",
       "\t<tr><td> 88</td><td>38</td><td>42</td><td>1</td><td>3.2</td></tr>\n",
       "\t<tr><td> 75</td><td>27</td><td>42</td><td>0</td><td>3.1</td></tr>\n",
       "\t<tr><td> 57</td><td>51</td><td>50</td><td>1</td><td>2.4</td></tr>\n",
       "\t<tr><td> 56</td><td>53</td><td>38</td><td>1</td><td>2.2</td></tr>\n",
       "\t<tr><td> 88</td><td>41</td><td>30</td><td>0</td><td>2.1</td></tr>\n",
       "\t<tr><td> 88</td><td>37</td><td>31</td><td>0</td><td>1.9</td></tr>\n",
       "\t<tr><td>102</td><td>24</td><td>34</td><td>0</td><td>3.1</td></tr>\n",
       "\t<tr><td> 88</td><td>42</td><td>30</td><td>0</td><td>3.0</td></tr>\n",
       "\t<tr><td> 70</td><td>50</td><td>48</td><td>1</td><td>4.2</td></tr>\n",
       "\t<tr><td> 82</td><td>58</td><td>61</td><td>1</td><td>4.6</td></tr>\n",
       "\t<tr><td> 43</td><td>60</td><td>71</td><td>1</td><td>5.3</td></tr>\n",
       "\t<tr><td> 46</td><td>62</td><td>62</td><td>0</td><td>7.2</td></tr>\n",
       "\t<tr><td> 56</td><td>68</td><td>38</td><td>0</td><td>7.8</td></tr>\n",
       "\t<tr><td> 59</td><td>70</td><td>41</td><td>1</td><td>7.0</td></tr>\n",
       "\t<tr><td> 26</td><td>79</td><td>66</td><td>1</td><td>6.2</td></tr>\n",
       "\t<tr><td> 52</td><td>63</td><td>31</td><td>1</td><td>4.1</td></tr>\n",
       "\t<tr><td> 83</td><td>39</td><td>42</td><td>0</td><td>3.5</td></tr>\n",
       "\t<tr><td> 75</td><td>49</td><td>40</td><td>1</td><td>2.1</td></tr>\n",
       "</tbody>\n",
       "</table>\n"
      ],
      "text/latex": [
       "A tibble: 25 × 5\n",
       "\\begin{tabular}{lllll}\n",
       " Satisfaction & Age & Severity & Surgical-Medical & Anxiety\\\\\n",
       " <dbl> & <dbl> & <dbl> & <dbl> & <dbl>\\\\\n",
       "\\hline\n",
       "\t  68 & 55 & 50 & 0 & 2.1\\\\\n",
       "\t  77 & 46 & 24 & 1 & 2.8\\\\\n",
       "\t  96 & 30 & 46 & 1 & 3.3\\\\\n",
       "\t  80 & 35 & 48 & 1 & 4.5\\\\\n",
       "\t  43 & 59 & 58 & 0 & 2.0\\\\\n",
       "\t  44 & 61 & 60 & 0 & 5.1\\\\\n",
       "\t  26 & 74 & 65 & 1 & 5.5\\\\\n",
       "\t  88 & 38 & 42 & 1 & 3.2\\\\\n",
       "\t  75 & 27 & 42 & 0 & 3.1\\\\\n",
       "\t  57 & 51 & 50 & 1 & 2.4\\\\\n",
       "\t  56 & 53 & 38 & 1 & 2.2\\\\\n",
       "\t  88 & 41 & 30 & 0 & 2.1\\\\\n",
       "\t  88 & 37 & 31 & 0 & 1.9\\\\\n",
       "\t 102 & 24 & 34 & 0 & 3.1\\\\\n",
       "\t  88 & 42 & 30 & 0 & 3.0\\\\\n",
       "\t  70 & 50 & 48 & 1 & 4.2\\\\\n",
       "\t  82 & 58 & 61 & 1 & 4.6\\\\\n",
       "\t  43 & 60 & 71 & 1 & 5.3\\\\\n",
       "\t  46 & 62 & 62 & 0 & 7.2\\\\\n",
       "\t  56 & 68 & 38 & 0 & 7.8\\\\\n",
       "\t  59 & 70 & 41 & 1 & 7.0\\\\\n",
       "\t  26 & 79 & 66 & 1 & 6.2\\\\\n",
       "\t  52 & 63 & 31 & 1 & 4.1\\\\\n",
       "\t  83 & 39 & 42 & 0 & 3.5\\\\\n",
       "\t  75 & 49 & 40 & 1 & 2.1\\\\\n",
       "\\end{tabular}\n"
      ],
      "text/markdown": [
       "\n",
       "A tibble: 25 × 5\n",
       "\n",
       "| Satisfaction &lt;dbl&gt; | Age &lt;dbl&gt; | Severity &lt;dbl&gt; | Surgical-Medical &lt;dbl&gt; | Anxiety &lt;dbl&gt; |\n",
       "|---|---|---|---|---|\n",
       "|  68 | 55 | 50 | 0 | 2.1 |\n",
       "|  77 | 46 | 24 | 1 | 2.8 |\n",
       "|  96 | 30 | 46 | 1 | 3.3 |\n",
       "|  80 | 35 | 48 | 1 | 4.5 |\n",
       "|  43 | 59 | 58 | 0 | 2.0 |\n",
       "|  44 | 61 | 60 | 0 | 5.1 |\n",
       "|  26 | 74 | 65 | 1 | 5.5 |\n",
       "|  88 | 38 | 42 | 1 | 3.2 |\n",
       "|  75 | 27 | 42 | 0 | 3.1 |\n",
       "|  57 | 51 | 50 | 1 | 2.4 |\n",
       "|  56 | 53 | 38 | 1 | 2.2 |\n",
       "|  88 | 41 | 30 | 0 | 2.1 |\n",
       "|  88 | 37 | 31 | 0 | 1.9 |\n",
       "| 102 | 24 | 34 | 0 | 3.1 |\n",
       "|  88 | 42 | 30 | 0 | 3.0 |\n",
       "|  70 | 50 | 48 | 1 | 4.2 |\n",
       "|  82 | 58 | 61 | 1 | 4.6 |\n",
       "|  43 | 60 | 71 | 1 | 5.3 |\n",
       "|  46 | 62 | 62 | 0 | 7.2 |\n",
       "|  56 | 68 | 38 | 0 | 7.8 |\n",
       "|  59 | 70 | 41 | 1 | 7.0 |\n",
       "|  26 | 79 | 66 | 1 | 6.2 |\n",
       "|  52 | 63 | 31 | 1 | 4.1 |\n",
       "|  83 | 39 | 42 | 0 | 3.5 |\n",
       "|  75 | 49 | 40 | 1 | 2.1 |\n",
       "\n"
      ],
      "text/plain": [
       "   Satisfaction Age Severity Surgical-Medical Anxiety\n",
       "1   68          55  50       0                2.1    \n",
       "2   77          46  24       1                2.8    \n",
       "3   96          30  46       1                3.3    \n",
       "4   80          35  48       1                4.5    \n",
       "5   43          59  58       0                2.0    \n",
       "6   44          61  60       0                5.1    \n",
       "7   26          74  65       1                5.5    \n",
       "8   88          38  42       1                3.2    \n",
       "9   75          27  42       0                3.1    \n",
       "10  57          51  50       1                2.4    \n",
       "11  56          53  38       1                2.2    \n",
       "12  88          41  30       0                2.1    \n",
       "13  88          37  31       0                1.9    \n",
       "14 102          24  34       0                3.1    \n",
       "15  88          42  30       0                3.0    \n",
       "16  70          50  48       1                4.2    \n",
       "17  82          58  61       1                4.6    \n",
       "18  43          60  71       1                5.3    \n",
       "19  46          62  62       0                7.2    \n",
       "20  56          68  38       0                7.8    \n",
       "21  59          70  41       1                7.0    \n",
       "22  26          79  66       1                6.2    \n",
       "23  52          63  31       1                4.1    \n",
       "24  83          39  42       0                3.5    \n",
       "25  75          49  40       1                2.1    "
      ]
     },
     "metadata": {},
     "output_type": "display_data"
    }
   ],
   "source": [
    "dataTable"
   ]
  },
  {
   "cell_type": "code",
   "execution_count": null,
   "id": "fd8cf935",
   "metadata": {},
   "outputs": [],
   "source": [
    "df <- data.frame(dataTable$`Delivery Time, y`, dataTable$`Number of Cases, x1`, dataTable$`Distance, x2 (ft)`)"
   ]
  }
 ],
 "metadata": {
  "kernelspec": {
   "display_name": "R",
   "language": "R",
   "name": "ir"
  },
  "language_info": {
   "codemirror_mode": "r",
   "file_extension": ".r",
   "mimetype": "text/x-r-source",
   "name": "R",
   "pygments_lexer": "r",
   "version": "3.6.3"
  }
 },
 "nbformat": 4,
 "nbformat_minor": 5
}
