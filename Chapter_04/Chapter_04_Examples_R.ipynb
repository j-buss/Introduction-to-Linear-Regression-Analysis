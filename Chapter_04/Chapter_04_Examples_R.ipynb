{
 "cells": [
  {
   "cell_type": "markdown",
   "id": "6dc2ea8d",
   "metadata": {},
   "source": [
    "# Chapter 4 Examples - R"
   ]
  },
  {
   "cell_type": "code",
   "execution_count": 17,
   "id": "ccff5d98",
   "metadata": {},
   "outputs": [
    {
     "name": "stderr",
     "output_type": "stream",
     "text": [
      "Installing package into ‘/home/jeremyfbuss/R/x86_64-pc-linux-gnu-library/3.6’\n",
      "(as ‘lib’ is unspecified)\n",
      "\n",
      "also installing the dependencies ‘lazyeval’, ‘htmlwidgets’, ‘crosstalk’, ‘DEoptimR’, ‘minpack.lm’, ‘rgl’, ‘robustbase’\n",
      "\n",
      "\n"
     ]
    }
   ],
   "source": [
    "#### Sytem may require the following: \n",
    "# sudo apt install libcurl4-openssl-dev\n",
    "# sudo apt install libxml2-dev\n",
    "\n",
    "#### Only need to run the folloing installs once\n",
    "# install.packages(c(\"ggplot2\", \"ggpubr\", \"tidyverse\", \"broom\", \"AICcmodavg\", \"ellipse\", \"asbio\", \"QuantPsyc\"))\n",
    "install.packages('qpcR')"
   ]
  },
  {
   "cell_type": "markdown",
   "id": "1395c5d3",
   "metadata": {},
   "source": [
    "## Load Libraries"
   ]
  },
  {
   "cell_type": "code",
   "execution_count": 18,
   "id": "75fa0838",
   "metadata": {},
   "outputs": [
    {
     "name": "stderr",
     "output_type": "stream",
     "text": [
      "Loading required package: minpack.lm\n",
      "\n",
      "Loading required package: rgl\n",
      "\n",
      "This build of rgl does not include OpenGL functions.  Use\n",
      " rglwidget() to display results, e.g. via options(rgl.printRglwidget = TRUE).\n",
      "\n",
      "Loading required package: robustbase\n",
      "\n",
      "Loading required package: Matrix\n",
      "\n"
     ]
    }
   ],
   "source": [
    "suppressMessages(library(readxl))\n",
    "library(qpcR)\n",
    "#suppressMessages(library(ggplot2))\n",
    "#suppressMessages(library(ggpubr))\n",
    "#suppressMessages(library(tidyverse))\n",
    "#suppressMessages(library(broom))\n",
    "#suppressMessages(library(AICcmodavg))\n",
    "#suppressMessages(library(ellipse))\n",
    "#suppressMessages(library(asbio))\n",
    "#suppressMessages(library(QuantPsyc))"
   ]
  },
  {
   "cell_type": "code",
   "execution_count": null,
   "id": "33d5fa01",
   "metadata": {},
   "outputs": [],
   "source": []
  },
  {
   "cell_type": "markdown",
   "id": "b4240d0d",
   "metadata": {},
   "source": [
    "## 4.1"
   ]
  },
  {
   "cell_type": "code",
   "execution_count": 3,
   "id": "c6a177e8",
   "metadata": {},
   "outputs": [
    {
     "data": {
      "text/html": [
       "<table class=\"dataframe\">\n",
       "<caption>A data.frame: 6 × 3</caption>\n",
       "<thead>\n",
       "\t<tr><th></th><th scope=col>DeliveryTime</th><th scope=col>NumberCases</th><th scope=col>Distance</th></tr>\n",
       "\t<tr><th></th><th scope=col>&lt;dbl&gt;</th><th scope=col>&lt;dbl&gt;</th><th scope=col>&lt;dbl&gt;</th></tr>\n",
       "</thead>\n",
       "<tbody>\n",
       "\t<tr><th scope=row>1</th><td>16.68</td><td>7</td><td>560</td></tr>\n",
       "\t<tr><th scope=row>2</th><td>11.50</td><td>3</td><td>220</td></tr>\n",
       "\t<tr><th scope=row>3</th><td>12.03</td><td>3</td><td>340</td></tr>\n",
       "\t<tr><th scope=row>4</th><td>14.88</td><td>4</td><td> 80</td></tr>\n",
       "\t<tr><th scope=row>5</th><td>13.75</td><td>6</td><td>150</td></tr>\n",
       "\t<tr><th scope=row>6</th><td>18.11</td><td>7</td><td>330</td></tr>\n",
       "</tbody>\n",
       "</table>\n"
      ],
      "text/latex": [
       "A data.frame: 6 × 3\n",
       "\\begin{tabular}{r|lll}\n",
       "  & DeliveryTime & NumberCases & Distance\\\\\n",
       "  & <dbl> & <dbl> & <dbl>\\\\\n",
       "\\hline\n",
       "\t1 & 16.68 & 7 & 560\\\\\n",
       "\t2 & 11.50 & 3 & 220\\\\\n",
       "\t3 & 12.03 & 3 & 340\\\\\n",
       "\t4 & 14.88 & 4 &  80\\\\\n",
       "\t5 & 13.75 & 6 & 150\\\\\n",
       "\t6 & 18.11 & 7 & 330\\\\\n",
       "\\end{tabular}\n"
      ],
      "text/markdown": [
       "\n",
       "A data.frame: 6 × 3\n",
       "\n",
       "| <!--/--> | DeliveryTime &lt;dbl&gt; | NumberCases &lt;dbl&gt; | Distance &lt;dbl&gt; |\n",
       "|---|---|---|---|\n",
       "| 1 | 16.68 | 7 | 560 |\n",
       "| 2 | 11.50 | 3 | 220 |\n",
       "| 3 | 12.03 | 3 | 340 |\n",
       "| 4 | 14.88 | 4 |  80 |\n",
       "| 5 | 13.75 | 6 | 150 |\n",
       "| 6 | 18.11 | 7 | 330 |\n",
       "\n"
      ],
      "text/plain": [
       "  DeliveryTime NumberCases Distance\n",
       "1 16.68        7           560     \n",
       "2 11.50        3           220     \n",
       "3 12.03        3           340     \n",
       "4 14.88        4            80     \n",
       "5 13.75        6           150     \n",
       "6 18.11        7           330     "
      ]
     },
     "metadata": {},
     "output_type": "display_data"
    }
   ],
   "source": [
    "Delivery.table <- read_excel(\n",
    "    '../linear_regression_5e_data_sets/Chapter 3/Examples/data-ex-3-1 (Delivery Time).xls')\n",
    "\n",
    "Delivery.df <- data.frame(Delivery.table$`Delivery Time, y`, \n",
    "                              Delivery.table$`Number of Cases, x1`, \n",
    "                              Delivery.table$`Distance, x2 (ft)`)\n",
    "\n",
    "colnames(Delivery.df) <- c(\"DeliveryTime\", \"NumberCases\", \"Distance\")\n",
    "\n",
    "head(Delivery.df)"
   ]
  },
  {
   "cell_type": "code",
   "execution_count": 4,
   "id": "854c08c2",
   "metadata": {},
   "outputs": [
    {
     "data": {
      "text/plain": [
       "  DeliveryTime    NumberCases       Distance     \n",
       " Min.   : 8.00   Min.   : 2.00   Min.   :  36.0  \n",
       " 1st Qu.:13.75   1st Qu.: 4.00   1st Qu.: 150.0  \n",
       " Median :18.11   Median : 7.00   Median : 330.0  \n",
       " Mean   :22.38   Mean   : 8.76   Mean   : 409.3  \n",
       " 3rd Qu.:21.50   3rd Qu.:10.00   3rd Qu.: 605.0  \n",
       " Max.   :79.24   Max.   :30.00   Max.   :1460.0  "
      ]
     },
     "metadata": {},
     "output_type": "display_data"
    }
   ],
   "source": [
    "summary(Delivery.df)"
   ]
  },
  {
   "cell_type": "code",
   "execution_count": 5,
   "id": "0d76c96a",
   "metadata": {},
   "outputs": [
    {
     "name": "stdout",
     "output_type": "stream",
     "text": [
      "\n",
      "Call:\n",
      "lm(formula = DeliveryTime ~ NumberCases + Distance, data = Delivery.df)\n",
      "\n",
      "Coefficients:\n",
      "(Intercept)  NumberCases     Distance  \n",
      "    2.34123      1.61591      0.01438  \n",
      "\n"
     ]
    }
   ],
   "source": [
    "Delivery.lm <- lm(\n",
    "    DeliveryTime ~ NumberCases + Distance, \n",
    "    data=Delivery.df)  \n",
    "\n",
    "print(Delivery.lm)"
   ]
  },
  {
   "cell_type": "code",
   "execution_count": 12,
   "id": "d83243c0",
   "metadata": {},
   "outputs": [
    {
     "data": {
      "text/plain": [
       "\n",
       "Call:\n",
       "lm(formula = DeliveryTime ~ NumberCases + Distance, data = Delivery.df)\n",
       "\n",
       "Residuals:\n",
       "    Min      1Q  Median      3Q     Max \n",
       "-5.7880 -0.6629  0.4364  1.1566  7.4197 \n",
       "\n",
       "Coefficients:\n",
       "            Estimate Std. Error t value Pr(>|t|)    \n",
       "(Intercept) 2.341231   1.096730   2.135 0.044170 *  \n",
       "NumberCases 1.615907   0.170735   9.464 3.25e-09 ***\n",
       "Distance    0.014385   0.003613   3.981 0.000631 ***\n",
       "---\n",
       "Signif. codes:  0 ‘***’ 0.001 ‘**’ 0.01 ‘*’ 0.05 ‘.’ 0.1 ‘ ’ 1\n",
       "\n",
       "Residual standard error: 3.259 on 22 degrees of freedom\n",
       "Multiple R-squared:  0.9596,\tAdjusted R-squared:  0.9559 \n",
       "F-statistic: 261.2 on 2 and 22 DF,  p-value: 4.687e-16\n"
      ]
     },
     "metadata": {},
     "output_type": "display_data"
    }
   ],
   "source": [
    "summary(Delivery.lm)"
   ]
  },
  {
   "cell_type": "code",
   "execution_count": 13,
   "id": "6e220fd2",
   "metadata": {},
   "outputs": [
    {
     "data": {
      "text/html": [
       "<table class=\"dataframe\">\n",
       "<caption>A anova: 3 × 5</caption>\n",
       "<thead>\n",
       "\t<tr><th></th><th scope=col>Df</th><th scope=col>Sum Sq</th><th scope=col>Mean Sq</th><th scope=col>F value</th><th scope=col>Pr(&gt;F)</th></tr>\n",
       "\t<tr><th></th><th scope=col>&lt;int&gt;</th><th scope=col>&lt;dbl&gt;</th><th scope=col>&lt;dbl&gt;</th><th scope=col>&lt;dbl&gt;</th><th scope=col>&lt;dbl&gt;</th></tr>\n",
       "</thead>\n",
       "<tbody>\n",
       "\t<tr><th scope=row>NumberCases</th><td> 1</td><td>5382.4088</td><td>5382.40880</td><td>506.61936</td><td>1.112549e-16</td></tr>\n",
       "\t<tr><th scope=row>Distance</th><td> 1</td><td> 168.4021</td><td> 168.40213</td><td> 15.85085</td><td>6.312469e-04</td></tr>\n",
       "\t<tr><th scope=row>Residuals</th><td>22</td><td> 233.7317</td><td>  10.62417</td><td>       NA</td><td>          NA</td></tr>\n",
       "</tbody>\n",
       "</table>\n"
      ],
      "text/latex": [
       "A anova: 3 × 5\n",
       "\\begin{tabular}{r|lllll}\n",
       "  & Df & Sum Sq & Mean Sq & F value & Pr(>F)\\\\\n",
       "  & <int> & <dbl> & <dbl> & <dbl> & <dbl>\\\\\n",
       "\\hline\n",
       "\tNumberCases &  1 & 5382.4088 & 5382.40880 & 506.61936 & 1.112549e-16\\\\\n",
       "\tDistance &  1 &  168.4021 &  168.40213 &  15.85085 & 6.312469e-04\\\\\n",
       "\tResiduals & 22 &  233.7317 &   10.62417 &        NA &           NA\\\\\n",
       "\\end{tabular}\n"
      ],
      "text/markdown": [
       "\n",
       "A anova: 3 × 5\n",
       "\n",
       "| <!--/--> | Df &lt;int&gt; | Sum Sq &lt;dbl&gt; | Mean Sq &lt;dbl&gt; | F value &lt;dbl&gt; | Pr(&gt;F) &lt;dbl&gt; |\n",
       "|---|---|---|---|---|---|\n",
       "| NumberCases |  1 | 5382.4088 | 5382.40880 | 506.61936 | 1.112549e-16 |\n",
       "| Distance |  1 |  168.4021 |  168.40213 |  15.85085 | 6.312469e-04 |\n",
       "| Residuals | 22 |  233.7317 |   10.62417 |        NA |           NA |\n",
       "\n"
      ],
      "text/plain": [
       "            Df Sum Sq    Mean Sq    F value   Pr(>F)      \n",
       "NumberCases  1 5382.4088 5382.40880 506.61936 1.112549e-16\n",
       "Distance     1  168.4021  168.40213  15.85085 6.312469e-04\n",
       "Residuals   22  233.7317   10.62417        NA           NA"
      ]
     },
     "metadata": {},
     "output_type": "display_data"
    }
   ],
   "source": [
    "anova(Delivery.lm)"
   ]
  },
  {
   "cell_type": "code",
   "execution_count": 46,
   "id": "1ef95b44",
   "metadata": {},
   "outputs": [],
   "source": [
    "Delivery.res <- resid(Delivery.lm)\n",
    "Delivery.stdres <- rstandard(Delivery.lm)\n",
    "Delivery.studres <- rstudent(Delivery.lm)\n",
    "Delivery.pressres <- PRESS(Delivery.lm, verbose = FALSE)$residuals\n",
    "Delivery.pressres_sq <- Delivery.pressres ^ 2\n",
    "Delivery.pressstat <- PRESS(Delivery.lm, verbose = FALSE)$stat\n",
    "Delivery.X <- as.matrix(cbind(1, Delivery.df$NumberCases, Delivery.df$Distance))\n",
    "Delivery.hmaxdiag <- diag(Delivery.X %*% solve(t(Delivery.X) %*% Delivery.X) %*% t(Delivery.X))"
   ]
  },
  {
   "cell_type": "code",
   "execution_count": 65,
   "id": "d607a2af",
   "metadata": {},
   "outputs": [
    {
     "data": {
      "text/html": [
       "'numeric'"
      ],
      "text/latex": [
       "'numeric'"
      ],
      "text/markdown": [
       "'numeric'"
      ],
      "text/plain": [
       "[1] \"numeric\""
      ]
     },
     "metadata": {},
     "output_type": "display_data"
    }
   ],
   "source": [
    "class(Delivery.res)"
   ]
  },
  {
   "cell_type": "code",
   "execution_count": 56,
   "id": "df870273",
   "metadata": {},
   "outputs": [
    {
     "data": {
      "text/html": [
       "<style>\n",
       ".dl-inline {width: auto; margin:0; padding: 0}\n",
       ".dl-inline>dt, .dl-inline>dd {float: none; width: auto; display: inline-block}\n",
       ".dl-inline>dt::after {content: \":\\0020\"; padding-right: .5ex}\n",
       ".dl-inline>dt:not(:first-of-type) {padding-left: .5ex}\n",
       "</style><dl class=dl-inline><dt>1</dt><dd>-5.02808432256391</dd><dt>2</dt><dd>1.14638544675942</dd><dt>3</dt><dd>-0.0497937039063259</dd><dt>4</dt><dd>4.92435391192693</dd><dt>5</dt><dd>-0.444398347179943</dd><dt>6</dt><dd>-0.28957428378786</dd><dt>7</dt><dd>0.844623545478995</dd><dt>8</dt><dd>1.15660486687791</dd><dt>9</dt><dd>7.41970620342993</dd><dt>10</dt><dd>2.37641291715491</dd><dt>11</dt><dd>2.23749302124263</dd><dt>12</dt><dd>-0.593040896227584</dd><dt>13</dt><dd>1.02700931720601</dd><dt>14</dt><dd>1.06753586108904</dd><dt>15</dt><dd>0.671201796838956</dd><dt>16</dt><dd>-0.662928425590083</dd><dt>17</dt><dd>0.436360340042651</dd><dt>18</dt><dd>3.44862131481067</dd><dt>19</dt><dd>1.7931934777803</dd><dt>20</dt><dd>-5.78796994232157</dd><dt>21</dt><dd>-2.61417892706148</dd><dt>22</dt><dd>-3.68652788802677</dd><dt>23</dt><dd>-4.60756785567214</dd><dt>24</dt><dd>-4.57285350233929</dd><dt>25</dt><dd>-0.212583925961437</dd></dl>\n"
      ],
      "text/latex": [
       "\\begin{description*}\n",
       "\\item[1] -5.02808432256391\n",
       "\\item[2] 1.14638544675942\n",
       "\\item[3] -0.0497937039063259\n",
       "\\item[4] 4.92435391192693\n",
       "\\item[5] -0.444398347179943\n",
       "\\item[6] -0.28957428378786\n",
       "\\item[7] 0.844623545478995\n",
       "\\item[8] 1.15660486687791\n",
       "\\item[9] 7.41970620342993\n",
       "\\item[10] 2.37641291715491\n",
       "\\item[11] 2.23749302124263\n",
       "\\item[12] -0.593040896227584\n",
       "\\item[13] 1.02700931720601\n",
       "\\item[14] 1.06753586108904\n",
       "\\item[15] 0.671201796838956\n",
       "\\item[16] -0.662928425590083\n",
       "\\item[17] 0.436360340042651\n",
       "\\item[18] 3.44862131481067\n",
       "\\item[19] 1.7931934777803\n",
       "\\item[20] -5.78796994232157\n",
       "\\item[21] -2.61417892706148\n",
       "\\item[22] -3.68652788802677\n",
       "\\item[23] -4.60756785567214\n",
       "\\item[24] -4.57285350233929\n",
       "\\item[25] -0.212583925961437\n",
       "\\end{description*}\n"
      ],
      "text/markdown": [
       "1\n",
       ":   -5.028084322563912\n",
       ":   1.146385446759423\n",
       ":   -0.04979370390632594\n",
       ":   4.924353911926935\n",
       ":   -0.4443983471799436\n",
       ":   -0.289574283787867\n",
       ":   0.8446235454789958\n",
       ":   1.156604866877919\n",
       ":   7.4197062034299310\n",
       ":   2.3764129171549111\n",
       ":   2.2374930212426312\n",
       ":   -0.59304089622758413\n",
       ":   1.0270093172060114\n",
       ":   1.0675358610890415\n",
       ":   0.67120179683895616\n",
       ":   -0.66292842559008317\n",
       ":   0.43636034004265118\n",
       ":   3.4486213148106719\n",
       ":   1.793193477780320\n",
       ":   -5.7879699423215721\n",
       ":   -2.6141789270614822\n",
       ":   -3.6865278880267723\n",
       ":   -4.6075678556721424\n",
       ":   -4.5728535023392925\n",
       ":   -0.212583925961437\n",
       "\n"
      ],
      "text/plain": [
       "         1          2          3          4          5          6          7 \n",
       "-5.0280843  1.1463854 -0.0497937  4.9243539 -0.4443983 -0.2895743  0.8446235 \n",
       "         8          9         10         11         12         13         14 \n",
       " 1.1566049  7.4197062  2.3764129  2.2374930 -0.5930409  1.0270093  1.0675359 \n",
       "        15         16         17         18         19         20         21 \n",
       " 0.6712018 -0.6629284  0.4363603  3.4486213  1.7931935 -5.7879699 -2.6141789 \n",
       "        22         23         24         25 \n",
       "-3.6865279 -4.6075679 -4.5728535 -0.2125839 "
      ]
     },
     "metadata": {},
     "output_type": "display_data"
    }
   ],
   "source": [
    "Delivery.res"
   ]
  },
  {
   "cell_type": "code",
   "execution_count": null,
   "id": "40c5616b",
   "metadata": {},
   "outputs": [],
   "source": []
  }
 ],
 "metadata": {
  "kernelspec": {
   "display_name": "R",
   "language": "R",
   "name": "ir"
  },
  "language_info": {
   "codemirror_mode": "r",
   "file_extension": ".r",
   "mimetype": "text/x-r-source",
   "name": "R",
   "pygments_lexer": "r",
   "version": "3.6.3"
  }
 },
 "nbformat": 4,
 "nbformat_minor": 5
}
