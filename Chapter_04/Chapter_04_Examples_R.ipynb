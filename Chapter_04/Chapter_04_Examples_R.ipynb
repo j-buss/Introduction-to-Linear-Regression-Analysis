{
 "cells": [
  {
   "cell_type": "markdown",
   "id": "6dc2ea8d",
   "metadata": {},
   "source": [
    "# Chapter 4 Examples - R"
   ]
  },
  {
   "cell_type": "code",
   "execution_count": 1,
   "id": "ccff5d98",
   "metadata": {},
   "outputs": [
    {
     "name": "stderr",
     "output_type": "stream",
     "text": [
      "Installing package into ‘/home/jeremyfbuss/R/x86_64-pc-linux-gnu-library/3.6’\n",
      "(as ‘lib’ is unspecified)\n",
      "\n"
     ]
    }
   ],
   "source": [
    "#### Sytem may require the following: \n",
    "# sudo apt install libcurl4-openssl-dev\n",
    "# sudo apt install libxml2-dev\n",
    "\n",
    "#### Only need to run the folloing installs once\n",
    "# install.packages(c(\"ggplot2\", \"ggpubr\", \"tidyverse\", \"broom\", \n",
    "#                    \"AICcmodavg\", \"ellipse\", \"asbio\", \"QuantPsyc\", \n",
    "#                    \"qpcR\"))\n",
    "install.packages(\"qqplotr\")"
   ]
  },
  {
   "cell_type": "markdown",
   "id": "1395c5d3",
   "metadata": {},
   "source": [
    "## Load Libraries"
   ]
  },
  {
   "cell_type": "code",
   "execution_count": 2,
   "id": "75fa0838",
   "metadata": {},
   "outputs": [],
   "source": [
    "suppressMessages(library(readxl))\n",
    "suppressMessages(library(qpcR))\n",
    "suppressMessages(library(ggplot2))\n",
    "suppressMessages(library(qqplotr))\n",
    "#suppressMessages(library(ggpubr))\n",
    "#suppressMessages(library(tidyverse))\n",
    "#suppressMessages(library(broom))\n",
    "#suppressMessages(library(AICcmodavg))\n",
    "#suppressMessages(library(ellipse))\n",
    "#suppressMessages(library(asbio))\n",
    "#suppressMessages(library(QuantPsyc))"
   ]
  },
  {
   "cell_type": "markdown",
   "id": "b4240d0d",
   "metadata": {},
   "source": [
    "## 4.1 - The Delivery Time Data"
   ]
  },
  {
   "cell_type": "code",
   "execution_count": 3,
   "id": "c6a177e8",
   "metadata": {},
   "outputs": [
    {
     "data": {
      "text/html": [
       "<table class=\"dataframe\">\n",
       "<caption>A data.frame: 6 × 3</caption>\n",
       "<thead>\n",
       "\t<tr><th></th><th scope=col>DeliveryTime</th><th scope=col>NumberCases</th><th scope=col>Distance</th></tr>\n",
       "\t<tr><th></th><th scope=col>&lt;dbl&gt;</th><th scope=col>&lt;dbl&gt;</th><th scope=col>&lt;dbl&gt;</th></tr>\n",
       "</thead>\n",
       "<tbody>\n",
       "\t<tr><th scope=row>1</th><td>16.68</td><td>7</td><td>560</td></tr>\n",
       "\t<tr><th scope=row>2</th><td>11.50</td><td>3</td><td>220</td></tr>\n",
       "\t<tr><th scope=row>3</th><td>12.03</td><td>3</td><td>340</td></tr>\n",
       "\t<tr><th scope=row>4</th><td>14.88</td><td>4</td><td> 80</td></tr>\n",
       "\t<tr><th scope=row>5</th><td>13.75</td><td>6</td><td>150</td></tr>\n",
       "\t<tr><th scope=row>6</th><td>18.11</td><td>7</td><td>330</td></tr>\n",
       "</tbody>\n",
       "</table>\n"
      ],
      "text/latex": [
       "A data.frame: 6 × 3\n",
       "\\begin{tabular}{r|lll}\n",
       "  & DeliveryTime & NumberCases & Distance\\\\\n",
       "  & <dbl> & <dbl> & <dbl>\\\\\n",
       "\\hline\n",
       "\t1 & 16.68 & 7 & 560\\\\\n",
       "\t2 & 11.50 & 3 & 220\\\\\n",
       "\t3 & 12.03 & 3 & 340\\\\\n",
       "\t4 & 14.88 & 4 &  80\\\\\n",
       "\t5 & 13.75 & 6 & 150\\\\\n",
       "\t6 & 18.11 & 7 & 330\\\\\n",
       "\\end{tabular}\n"
      ],
      "text/markdown": [
       "\n",
       "A data.frame: 6 × 3\n",
       "\n",
       "| <!--/--> | DeliveryTime &lt;dbl&gt; | NumberCases &lt;dbl&gt; | Distance &lt;dbl&gt; |\n",
       "|---|---|---|---|\n",
       "| 1 | 16.68 | 7 | 560 |\n",
       "| 2 | 11.50 | 3 | 220 |\n",
       "| 3 | 12.03 | 3 | 340 |\n",
       "| 4 | 14.88 | 4 |  80 |\n",
       "| 5 | 13.75 | 6 | 150 |\n",
       "| 6 | 18.11 | 7 | 330 |\n",
       "\n"
      ],
      "text/plain": [
       "  DeliveryTime NumberCases Distance\n",
       "1 16.68        7           560     \n",
       "2 11.50        3           220     \n",
       "3 12.03        3           340     \n",
       "4 14.88        4            80     \n",
       "5 13.75        6           150     \n",
       "6 18.11        7           330     "
      ]
     },
     "metadata": {},
     "output_type": "display_data"
    }
   ],
   "source": [
    "Delivery.table <- read_excel(\n",
    "    '../linear_regression_5e_data_sets/Chapter 3/Examples/data-ex-3-1 (Delivery Time).xls')\n",
    "\n",
    "Delivery.df <- data.frame(Delivery.table$`Delivery Time, y`, \n",
    "                              Delivery.table$`Number of Cases, x1`, \n",
    "                              Delivery.table$`Distance, x2 (ft)`)\n",
    "\n",
    "colnames(Delivery.df) <- c(\"DeliveryTime\", \"NumberCases\", \"Distance\")\n",
    "\n",
    "head(Delivery.df)"
   ]
  },
  {
   "cell_type": "code",
   "execution_count": 4,
   "id": "854c08c2",
   "metadata": {},
   "outputs": [
    {
     "data": {
      "text/plain": [
       "  DeliveryTime    NumberCases       Distance     \n",
       " Min.   : 8.00   Min.   : 2.00   Min.   :  36.0  \n",
       " 1st Qu.:13.75   1st Qu.: 4.00   1st Qu.: 150.0  \n",
       " Median :18.11   Median : 7.00   Median : 330.0  \n",
       " Mean   :22.38   Mean   : 8.76   Mean   : 409.3  \n",
       " 3rd Qu.:21.50   3rd Qu.:10.00   3rd Qu.: 605.0  \n",
       " Max.   :79.24   Max.   :30.00   Max.   :1460.0  "
      ]
     },
     "metadata": {},
     "output_type": "display_data"
    }
   ],
   "source": [
    "summary(Delivery.df)"
   ]
  },
  {
   "cell_type": "code",
   "execution_count": 5,
   "id": "0d76c96a",
   "metadata": {},
   "outputs": [
    {
     "name": "stdout",
     "output_type": "stream",
     "text": [
      "\n",
      "Call:\n",
      "lm(formula = DeliveryTime ~ NumberCases + Distance, data = Delivery.df)\n",
      "\n",
      "Coefficients:\n",
      "(Intercept)  NumberCases     Distance  \n",
      "    2.34123      1.61591      0.01438  \n",
      "\n"
     ]
    }
   ],
   "source": [
    "Delivery.lm <- lm(\n",
    "    DeliveryTime ~ NumberCases + Distance, \n",
    "    data=Delivery.df)  \n",
    "\n",
    "print(Delivery.lm)"
   ]
  },
  {
   "cell_type": "code",
   "execution_count": 6,
   "id": "6be1d6d1",
   "metadata": {},
   "outputs": [
    {
     "data": {
      "text/plain": [
       "\n",
       "Call:\n",
       "lm(formula = DeliveryTime ~ NumberCases + Distance, data = Delivery.df)\n",
       "\n",
       "Residuals:\n",
       "    Min      1Q  Median      3Q     Max \n",
       "-5.7880 -0.6629  0.4364  1.1566  7.4197 \n",
       "\n",
       "Coefficients:\n",
       "            Estimate Std. Error t value Pr(>|t|)    \n",
       "(Intercept) 2.341231   1.096730   2.135 0.044170 *  \n",
       "NumberCases 1.615907   0.170735   9.464 3.25e-09 ***\n",
       "Distance    0.014385   0.003613   3.981 0.000631 ***\n",
       "---\n",
       "Signif. codes:  0 ‘***’ 0.001 ‘**’ 0.01 ‘*’ 0.05 ‘.’ 0.1 ‘ ’ 1\n",
       "\n",
       "Residual standard error: 3.259 on 22 degrees of freedom\n",
       "Multiple R-squared:  0.9596,\tAdjusted R-squared:  0.9559 \n",
       "F-statistic: 261.2 on 2 and 22 DF,  p-value: 4.687e-16\n"
      ]
     },
     "metadata": {},
     "output_type": "display_data"
    }
   ],
   "source": [
    "summary(Delivery.lm)"
   ]
  },
  {
   "cell_type": "code",
   "execution_count": 7,
   "id": "4e8a3037",
   "metadata": {},
   "outputs": [
    {
     "data": {
      "text/html": [
       "<table class=\"dataframe\">\n",
       "<caption>A anova: 3 × 5</caption>\n",
       "<thead>\n",
       "\t<tr><th></th><th scope=col>Df</th><th scope=col>Sum Sq</th><th scope=col>Mean Sq</th><th scope=col>F value</th><th scope=col>Pr(&gt;F)</th></tr>\n",
       "\t<tr><th></th><th scope=col>&lt;int&gt;</th><th scope=col>&lt;dbl&gt;</th><th scope=col>&lt;dbl&gt;</th><th scope=col>&lt;dbl&gt;</th><th scope=col>&lt;dbl&gt;</th></tr>\n",
       "</thead>\n",
       "<tbody>\n",
       "\t<tr><th scope=row>NumberCases</th><td> 1</td><td>5382.4088</td><td>5382.40880</td><td>506.61936</td><td>1.112549e-16</td></tr>\n",
       "\t<tr><th scope=row>Distance</th><td> 1</td><td> 168.4021</td><td> 168.40213</td><td> 15.85085</td><td>6.312469e-04</td></tr>\n",
       "\t<tr><th scope=row>Residuals</th><td>22</td><td> 233.7317</td><td>  10.62417</td><td>       NA</td><td>          NA</td></tr>\n",
       "</tbody>\n",
       "</table>\n"
      ],
      "text/latex": [
       "A anova: 3 × 5\n",
       "\\begin{tabular}{r|lllll}\n",
       "  & Df & Sum Sq & Mean Sq & F value & Pr(>F)\\\\\n",
       "  & <int> & <dbl> & <dbl> & <dbl> & <dbl>\\\\\n",
       "\\hline\n",
       "\tNumberCases &  1 & 5382.4088 & 5382.40880 & 506.61936 & 1.112549e-16\\\\\n",
       "\tDistance &  1 &  168.4021 &  168.40213 &  15.85085 & 6.312469e-04\\\\\n",
       "\tResiduals & 22 &  233.7317 &   10.62417 &        NA &           NA\\\\\n",
       "\\end{tabular}\n"
      ],
      "text/markdown": [
       "\n",
       "A anova: 3 × 5\n",
       "\n",
       "| <!--/--> | Df &lt;int&gt; | Sum Sq &lt;dbl&gt; | Mean Sq &lt;dbl&gt; | F value &lt;dbl&gt; | Pr(&gt;F) &lt;dbl&gt; |\n",
       "|---|---|---|---|---|---|\n",
       "| NumberCases |  1 | 5382.4088 | 5382.40880 | 506.61936 | 1.112549e-16 |\n",
       "| Distance |  1 |  168.4021 |  168.40213 |  15.85085 | 6.312469e-04 |\n",
       "| Residuals | 22 |  233.7317 |   10.62417 |        NA |           NA |\n",
       "\n"
      ],
      "text/plain": [
       "            Df Sum Sq    Mean Sq    F value   Pr(>F)      \n",
       "NumberCases  1 5382.4088 5382.40880 506.61936 1.112549e-16\n",
       "Distance     1  168.4021  168.40213  15.85085 6.312469e-04\n",
       "Residuals   22  233.7317   10.62417        NA           NA"
      ]
     },
     "metadata": {},
     "output_type": "display_data"
    }
   ],
   "source": [
    "anova(Delivery.lm)"
   ]
  },
  {
   "cell_type": "code",
   "execution_count": 8,
   "id": "d2f76e48",
   "metadata": {},
   "outputs": [],
   "source": [
    "Delivery.lm.Mres <- anova(Delivery.lm)[[3]][3]"
   ]
  },
  {
   "cell_type": "markdown",
   "id": "8b0c2453",
   "metadata": {},
   "source": [
    "### Various Residual Derivations (as defined by Montgomer/Peck/Vining)"
   ]
  },
  {
   "cell_type": "code",
   "execution_count": 9,
   "id": "3e6d266d",
   "metadata": {},
   "outputs": [
    {
     "data": {
      "text/html": [
       "TRUE"
      ],
      "text/latex": [
       "TRUE"
      ],
      "text/markdown": [
       "TRUE"
      ],
      "text/plain": [
       "[1] TRUE"
      ]
     },
     "metadata": {},
     "output_type": "display_data"
    }
   ],
   "source": [
    "# Residuals\n",
    "Delivery.Residuals <- resid(Delivery.lm)\n",
    "Delivery.Residuals_2 <- Delivery.lm$residuals\n",
    "\n",
    "# Check equivalency\n",
    "all.equal(Delivery.Residuals, Delivery.Residuals_2)"
   ]
  },
  {
   "cell_type": "code",
   "execution_count": 10,
   "id": "90acabea",
   "metadata": {},
   "outputs": [],
   "source": [
    "# Standardized Residuals\n",
    "Delivery.StandardizedResiduals <- resid(Delivery.lm) / sqrt(anova(Delivery.lm)[[3]][3])\n"
   ]
  },
  {
   "cell_type": "code",
   "execution_count": 11,
   "id": "da9fa452",
   "metadata": {},
   "outputs": [],
   "source": [
    "Delivery.X <- as.matrix(cbind(1,Delivery.df[2:3]))"
   ]
  },
  {
   "cell_type": "code",
   "execution_count": 12,
   "id": "27aee6f0",
   "metadata": {},
   "outputs": [
    {
     "data": {
      "text/html": [
       "TRUE"
      ],
      "text/latex": [
       "TRUE"
      ],
      "text/markdown": [
       "TRUE"
      ],
      "text/plain": [
       "[1] TRUE"
      ]
     },
     "metadata": {},
     "output_type": "display_data"
    }
   ],
   "source": [
    "# Hat Matrix Diagonal\n",
    "Delivery.HatMatrixDiagonals <- diag(Delivery.X %*% solve(t(Delivery.X) %*% Delivery.X) %*% t(Delivery.X))\n",
    "Delivery.HatMatrixDiagonals_2 <- unname(influence(Delivery.lm)$hat)\n",
    "\n",
    "all.equal(Delivery.HatMatrixDiagonals, Delivery.HatMatrixDiagonals_2)"
   ]
  },
  {
   "cell_type": "code",
   "execution_count": 13,
   "id": "edb78e12",
   "metadata": {},
   "outputs": [
    {
     "data": {
      "text/html": [
       "TRUE"
      ],
      "text/latex": [
       "TRUE"
      ],
      "text/markdown": [
       "TRUE"
      ],
      "text/plain": [
       "[1] TRUE"
      ]
     },
     "metadata": {},
     "output_type": "display_data"
    }
   ],
   "source": [
    "# Studentized Residuals\n",
    "Delivery.StudentizedResiduals <- Delivery.Residuals / sqrt(Delivery.lm.Mres * (1 - Delivery.HatMatrixDiagonals))\n",
    "Delivery.StudentizedResiduals_2 <- rstandard(Delivery.lm)\n",
    "\n",
    "# Check equivaliency\n",
    "all.equal(Delivery.StudentizedResiduals, Delivery.StudentizedResiduals_2)"
   ]
  },
  {
   "cell_type": "code",
   "execution_count": 14,
   "id": "c7d45da7",
   "metadata": {},
   "outputs": [
    {
     "data": {
      "text/html": [
       "TRUE"
      ],
      "text/latex": [
       "TRUE"
      ],
      "text/markdown": [
       "TRUE"
      ],
      "text/plain": [
       "[1] TRUE"
      ]
     },
     "metadata": {},
     "output_type": "display_data"
    }
   ],
   "source": [
    "# PRESS Residual\n",
    "Delivery.PRESSResiduals <- unname(Delivery.Residuals / (1 - Delivery.HatMatrixDiagonals))\n",
    "Delivery.PRESSResiduals_2 <- PRESS(Delivery.lm, verbose = FALSE)$residuals\n",
    "\n",
    "all.equal(Delivery.PRESSResiduals, Delivery.PRESSResiduals_2)"
   ]
  },
  {
   "cell_type": "code",
   "execution_count": 15,
   "id": "62b98d73",
   "metadata": {},
   "outputs": [
    {
     "data": {
      "text/html": [
       "TRUE"
      ],
      "text/latex": [
       "TRUE"
      ],
      "text/markdown": [
       "TRUE"
      ],
      "text/plain": [
       "[1] TRUE"
      ]
     },
     "metadata": {},
     "output_type": "display_data"
    }
   ],
   "source": [
    "# R-student Residual\n",
    "Delivery.n = nrow(Delivery.df)\n",
    "Delivery.p = ncol(Delivery.df)\n",
    "S_sub_i_squared = (\n",
    "        (Delivery.n - Delivery.p) * Delivery.lm.Mres - Delivery.Residuals^2 / (1 - Delivery.HatMatrixDiagonals)\n",
    "    ) / (\n",
    "        (Delivery.n - Delivery.p - 1)\n",
    "    )\n",
    "Delivery.RStudentResiduals <- Delivery.Residuals / sqrt(S_sub_i_squared * (1 - Delivery.HatMatrixDiagonals))\n",
    "Delivery.RStudentResiduals_2 <- rstudent(Delivery.lm)\n",
    "\n",
    "all.equal(Delivery.RStudentResiduals, Delivery.RStudentResiduals_2)"
   ]
  },
  {
   "cell_type": "code",
   "execution_count": 16,
   "id": "de2ecc21",
   "metadata": {},
   "outputs": [],
   "source": [
    "# PRESS Residual squared\n",
    "Delivery.PRESSResidualsSqrd <- Delivery.PRESSResiduals^2"
   ]
  },
  {
   "cell_type": "code",
   "execution_count": 17,
   "id": "94dbdcd7",
   "metadata": {},
   "outputs": [],
   "source": [
    "Delivery.Residual_df <- data.frame(\n",
    "    unname(Delivery.Residuals),\n",
    "    unname(Delivery.StandardizedResiduals),\n",
    "    unname(Delivery.StudentizedResiduals),\n",
    "    Delivery.HatMatrixDiagonals,\n",
    "    Delivery.PRESSResiduals,\n",
    "    Delivery.RStudentResiduals,\n",
    "    Delivery.PRESSResidualsSqrd\n",
    ")"
   ]
  },
  {
   "cell_type": "code",
   "execution_count": 18,
   "id": "784549eb",
   "metadata": {},
   "outputs": [],
   "source": [
    "colnames(Delivery.Residual_df) <- c(\n",
    "    \"Residuals\",\n",
    "    \"StandardizedResiduals\",\n",
    "    \"StudentizedResiduals\", \n",
    "    \"HatMatrixDiagonals\", \n",
    "    \"PRESSResiduals\", \n",
    "    \"RStudentResiduals\", \n",
    "    \"PRESSResidualsSqrd\"\n",
    ")"
   ]
  },
  {
   "cell_type": "code",
   "execution_count": 19,
   "id": "5dabde53",
   "metadata": {},
   "outputs": [
    {
     "data": {
      "text/html": [
       "<table class=\"dataframe\">\n",
       "<caption>A data.frame: 6 × 7</caption>\n",
       "<thead>\n",
       "\t<tr><th></th><th scope=col>Residuals</th><th scope=col>StandardizedResiduals</th><th scope=col>StudentizedResiduals</th><th scope=col>HatMatrixDiagonals</th><th scope=col>PRESSResiduals</th><th scope=col>RStudentResiduals</th><th scope=col>PRESSResidualsSqrd</th></tr>\n",
       "\t<tr><th></th><th scope=col>&lt;dbl&gt;</th><th scope=col>&lt;dbl&gt;</th><th scope=col>&lt;dbl&gt;</th><th scope=col>&lt;dbl&gt;</th><th scope=col>&lt;dbl&gt;</th><th scope=col>&lt;dbl&gt;</th><th scope=col>&lt;dbl&gt;</th></tr>\n",
       "</thead>\n",
       "<tbody>\n",
       "\t<tr><th scope=row>1</th><td>-5.0280843</td><td>-1.54260631</td><td>-1.62767993</td><td>0.10180178</td><td>-5.59796734</td><td>-1.69562881</td><td>31.337238364</td></tr>\n",
       "\t<tr><th scope=row>2</th><td> 1.1463854</td><td> 0.35170879</td><td> 0.36484267</td><td>0.07070164</td><td> 1.23360321</td><td> 0.35753764</td><td> 1.521776888</td></tr>\n",
       "\t<tr><th scope=row>3</th><td>-0.0497937</td><td>-0.01527661</td><td>-0.01609165</td><td>0.09873476</td><td>-0.05524867</td><td>-0.01572177</td><td> 0.003052415</td></tr>\n",
       "\t<tr><th scope=row>4</th><td> 4.9243539</td><td> 1.51078203</td><td> 1.57972040</td><td>0.08537479</td><td> 5.38401290</td><td> 1.63916491</td><td>28.987594871</td></tr>\n",
       "\t<tr><th scope=row>5</th><td>-0.4443983</td><td>-0.13634053</td><td>-0.14176094</td><td>0.07501050</td><td>-0.48043610</td><td>-0.13856493</td><td> 0.230818843</td></tr>\n",
       "\t<tr><th scope=row>6</th><td>-0.2895743</td><td>-0.08884082</td><td>-0.09080847</td><td>0.04286693</td><td>-0.30254339</td><td>-0.08873728</td><td> 0.091532503</td></tr>\n",
       "</tbody>\n",
       "</table>\n"
      ],
      "text/latex": [
       "A data.frame: 6 × 7\n",
       "\\begin{tabular}{r|lllllll}\n",
       "  & Residuals & StandardizedResiduals & StudentizedResiduals & HatMatrixDiagonals & PRESSResiduals & RStudentResiduals & PRESSResidualsSqrd\\\\\n",
       "  & <dbl> & <dbl> & <dbl> & <dbl> & <dbl> & <dbl> & <dbl>\\\\\n",
       "\\hline\n",
       "\t1 & -5.0280843 & -1.54260631 & -1.62767993 & 0.10180178 & -5.59796734 & -1.69562881 & 31.337238364\\\\\n",
       "\t2 &  1.1463854 &  0.35170879 &  0.36484267 & 0.07070164 &  1.23360321 &  0.35753764 &  1.521776888\\\\\n",
       "\t3 & -0.0497937 & -0.01527661 & -0.01609165 & 0.09873476 & -0.05524867 & -0.01572177 &  0.003052415\\\\\n",
       "\t4 &  4.9243539 &  1.51078203 &  1.57972040 & 0.08537479 &  5.38401290 &  1.63916491 & 28.987594871\\\\\n",
       "\t5 & -0.4443983 & -0.13634053 & -0.14176094 & 0.07501050 & -0.48043610 & -0.13856493 &  0.230818843\\\\\n",
       "\t6 & -0.2895743 & -0.08884082 & -0.09080847 & 0.04286693 & -0.30254339 & -0.08873728 &  0.091532503\\\\\n",
       "\\end{tabular}\n"
      ],
      "text/markdown": [
       "\n",
       "A data.frame: 6 × 7\n",
       "\n",
       "| <!--/--> | Residuals &lt;dbl&gt; | StandardizedResiduals &lt;dbl&gt; | StudentizedResiduals &lt;dbl&gt; | HatMatrixDiagonals &lt;dbl&gt; | PRESSResiduals &lt;dbl&gt; | RStudentResiduals &lt;dbl&gt; | PRESSResidualsSqrd &lt;dbl&gt; |\n",
       "|---|---|---|---|---|---|---|---|\n",
       "| 1 | -5.0280843 | -1.54260631 | -1.62767993 | 0.10180178 | -5.59796734 | -1.69562881 | 31.337238364 |\n",
       "| 2 |  1.1463854 |  0.35170879 |  0.36484267 | 0.07070164 |  1.23360321 |  0.35753764 |  1.521776888 |\n",
       "| 3 | -0.0497937 | -0.01527661 | -0.01609165 | 0.09873476 | -0.05524867 | -0.01572177 |  0.003052415 |\n",
       "| 4 |  4.9243539 |  1.51078203 |  1.57972040 | 0.08537479 |  5.38401290 |  1.63916491 | 28.987594871 |\n",
       "| 5 | -0.4443983 | -0.13634053 | -0.14176094 | 0.07501050 | -0.48043610 | -0.13856493 |  0.230818843 |\n",
       "| 6 | -0.2895743 | -0.08884082 | -0.09080847 | 0.04286693 | -0.30254339 | -0.08873728 |  0.091532503 |\n",
       "\n"
      ],
      "text/plain": [
       "  Residuals  StandardizedResiduals StudentizedResiduals HatMatrixDiagonals\n",
       "1 -5.0280843 -1.54260631           -1.62767993          0.10180178        \n",
       "2  1.1463854  0.35170879            0.36484267          0.07070164        \n",
       "3 -0.0497937 -0.01527661           -0.01609165          0.09873476        \n",
       "4  4.9243539  1.51078203            1.57972040          0.08537479        \n",
       "5 -0.4443983 -0.13634053           -0.14176094          0.07501050        \n",
       "6 -0.2895743 -0.08884082           -0.09080847          0.04286693        \n",
       "  PRESSResiduals RStudentResiduals PRESSResidualsSqrd\n",
       "1 -5.59796734    -1.69562881       31.337238364      \n",
       "2  1.23360321     0.35753764        1.521776888      \n",
       "3 -0.05524867    -0.01572177        0.003052415      \n",
       "4  5.38401290     1.63916491       28.987594871      \n",
       "5 -0.48043610    -0.13856493        0.230818843      \n",
       "6 -0.30254339    -0.08873728        0.091532503      "
      ]
     },
     "metadata": {},
     "output_type": "display_data"
    }
   ],
   "source": [
    "head(Delivery.Residual_df)"
   ]
  },
  {
   "cell_type": "code",
   "execution_count": 21,
   "id": "483821cb",
   "metadata": {},
   "outputs": [
    {
     "data": {
      "text/html": [
       "TRUE"
      ],
      "text/latex": [
       "TRUE"
      ],
      "text/markdown": [
       "TRUE"
      ],
      "text/plain": [
       "[1] TRUE"
      ]
     },
     "metadata": {},
     "output_type": "display_data"
    }
   ],
   "source": [
    "# PRESS Residual Summary\n",
    "Delivery.PRESSResidualsStat <- PRESS(Delivery.lm, verbose = FALSE)$stat\n",
    "Delivery.PRESSResidualsStat_2 <- sum(Delivery.PRESSResidualsSqrd)\n",
    "\n",
    "all.equal(Delivery.PRESSResidualsStat, Delivery.PRESSResidualsStat_2)"
   ]
  },
  {
   "cell_type": "markdown",
   "id": "bddfa0f1",
   "metadata": {},
   "source": [
    "## 4.2 - The Delivery Time Data"
   ]
  },
  {
   "cell_type": "code",
   "execution_count": 74,
   "id": "e5f738f5",
   "metadata": {},
   "outputs": [
    {
     "data": {
      "image/png": "[encoded data removed]",
      "text/plain": [
       "Plot with title “Delivery Time”"
      ]
     },
     "metadata": {
      "image/png": {
       "height": 420,
       "width": 420
      }
     },
     "output_type": "display_data"
    }
   ],
   "source": [
    "qqnorm(Delivery.RStudentResiduals,\n",
    "       ylab=\"R Student Residuals\",\n",
    "       xlab=\"Normal Scores\",\n",
    "       main=\"Delivery Time\"\n",
    "       , datax=TRUE\n",
    ")\n",
    "qqline(Delivery.RStudentResiduals, distribution=qnorm, datax=TRUE)"
   ]
  },
  {
   "cell_type": "markdown",
   "id": "52a5640d",
   "metadata": {},
   "source": [
    "## 4.3 - The Delivery Time Data"
   ]
  },
  {
   "cell_type": "code",
   "execution_count": 25,
   "id": "0b692f4b",
   "metadata": {},
   "outputs": [
    {
     "data": {
      "image/png": "[encoded data removed]",
      "text/plain": [
       "Plot with title “Versus Fits”"
      ]
     },
     "metadata": {
      "image/png": {
       "height": 420,
       "width": 420
      }
     },
     "output_type": "display_data"
    }
   ],
   "source": [
    "plot(\n",
    "    fitted(Delivery.lm), \n",
    "    Delivery.Residual_df$RStudentResiduals,\n",
    "    xlab=\"Fitted Values\",\n",
    "    ylab=\"Externally Studentized Residual\",\n",
    "    main=\"Versus Fits\"\n",
    ")\n",
    "abline(h=0)"
   ]
  },
  {
   "cell_type": "markdown",
   "id": "c5649d6e",
   "metadata": {},
   "source": [
    "## 4.4 - The Delivery Time Data"
   ]
  },
  {
   "cell_type": "code",
   "execution_count": 26,
   "id": "0440a230",
   "metadata": {},
   "outputs": [
    {
     "data": {
      "image/png": "[encoded data removed]",
      "text/plain": [
       "Plot with title “Residuals Versus Number of Cases”"
      ]
     },
     "metadata": {
      "image/png": {
       "height": 420,
       "width": 420
      }
     },
     "output_type": "display_data"
    }
   ],
   "source": [
    "plot(\n",
    "    Delivery.df$NumberCases, \n",
    "    Delivery.Residual_df$RStudentResiduals,\n",
    "    xlab=\"Number of Cases\",\n",
    "    ylab=\"Externally Studentized Residual\",\n",
    "    main=\"Residuals Versus Number of Cases\"\n",
    ")\n",
    "abline(h=0)"
   ]
  },
  {
   "cell_type": "code",
   "execution_count": 27,
   "id": "bbf76544",
   "metadata": {},
   "outputs": [
    {
     "data": {
      "image/png": "[encoded data removed]",
      "text/plain": [
       "Plot with title “Residuals Versus Distance”"
      ]
     },
     "metadata": {
      "image/png": {
       "height": 420,
       "width": 420
      }
     },
     "output_type": "display_data"
    }
   ],
   "source": [
    "plot(\n",
    "    Delivery.df$Distance, \n",
    "    Delivery.Residual_df$RStudentResiduals,\n",
    "    xlab=\"Distance\",\n",
    "    ylab=\"Externally Studentized Residual\",\n",
    "    main=\"Residuals Versus Distance\"\n",
    ")\n",
    "abline(h=0)"
   ]
  },
  {
   "cell_type": "markdown",
   "id": "9eb24704",
   "metadata": {},
   "source": [
    "## 4.5 - The Delivery Time Data"
   ]
  },
  {
   "cell_type": "code",
   "execution_count": 33,
   "id": "af044ca9",
   "metadata": {},
   "outputs": [],
   "source": [
    "CasesPartialRegressionA.lm <- lm(Delivery.df$DeliveryTime ~ Delivery.df$Distance)\n",
    "CasesPartialRegressionA.Residuals <- resid(CasesPartialRegressionA.lm)\n",
    "CasesPartialRegressionB.lm <- lm(Delivery.df$NumberCases ~ Delivery.df$Distance)\n",
    "CasesPartialRegressionB.Residuals <- resid(CasesPartialRegressionB.lm)"
   ]
  },
  {
   "cell_type": "code",
   "execution_count": 36,
   "id": "89294354",
   "metadata": {},
   "outputs": [
    {
     "data": {
      "image/png": "[encoded data removed]",
      "text/plain": [
       "Plot with title “Partial...”"
      ]
     },
     "metadata": {
      "image/png": {
       "height": 420,
       "width": 420
      }
     },
     "output_type": "display_data"
    }
   ],
   "source": [
    "plot(\n",
    "    CasesPartialRegressionB.Residuals, \n",
    "    CasesPartialRegressionA.Residuals,\n",
    "    xlab=\"Cases\",\n",
    "    ylab=\"Time\",\n",
    "    main=\"Partial...\"\n",
    ")"
   ]
  },
  {
   "cell_type": "code",
   "execution_count": 37,
   "id": "2128224b",
   "metadata": {},
   "outputs": [],
   "source": [
    "DistancePartialRegressionA.lm <- lm(Delivery.df$DeliveryTime ~ Delivery.df$NumberCases)\n",
    "DistancePartialRegressionA.Residuals <- resid(DistancePartialRegressionA.lm)\n",
    "DistancePartialRegressionB.lm <- lm(Delivery.df$Distance ~ Delivery.df$NumberCases)\n",
    "DistancePartialRegressionB.Residuals <- resid(DistancePartialRegressionB.lm)"
   ]
  },
  {
   "cell_type": "code",
   "execution_count": 38,
   "id": "5512f400",
   "metadata": {},
   "outputs": [
    {
     "data": {
      "image/png": "[encoded data removed]",
      "text/plain": [
       "Plot with title “Partial...”"
      ]
     },
     "metadata": {
      "image/png": {
       "height": 420,
       "width": 420
      }
     },
     "output_type": "display_data"
    }
   ],
   "source": [
    "plot(\n",
    "    DistancePartialRegressionB.Residuals, \n",
    "    DistancePartialRegressionA.Residuals,\n",
    "    xlab=\"Distance\",\n",
    "    ylab=\"Time\",\n",
    "    main=\"Partial...\"\n",
    ")"
   ]
  },
  {
   "cell_type": "markdown",
   "id": "0c5224a5",
   "metadata": {},
   "source": [
    "## 4.6 - The Delivery Time Data"
   ]
  },
  {
   "cell_type": "code",
   "execution_count": 40,
   "id": "82089432",
   "metadata": {},
   "outputs": [
    {
     "data": {
      "text/html": [
       "<table class=\"dataframe\">\n",
       "<caption>A data.frame: 25 × 8</caption>\n",
       "<thead>\n",
       "\t<tr><th></th><th scope=col>Residuals</th><th scope=col>StandardizedResiduals</th><th scope=col>StudentizedResiduals</th><th scope=col>HatMatrixDiagonals</th><th scope=col>PRESSResiduals</th><th scope=col>RStudentResiduals</th><th scope=col>PRESSResidualsSqrd</th><th scope=col>fitted</th></tr>\n",
       "\t<tr><th></th><th scope=col>&lt;dbl&gt;</th><th scope=col>&lt;dbl&gt;</th><th scope=col>&lt;dbl&gt;</th><th scope=col>&lt;dbl&gt;</th><th scope=col>&lt;dbl&gt;</th><th scope=col>&lt;dbl&gt;</th><th scope=col>&lt;dbl&gt;</th><th scope=col>&lt;dbl&gt;</th></tr>\n",
       "</thead>\n",
       "<tbody>\n",
       "\t<tr><th scope=row>1</th><td>-5.0280843</td><td>-1.54260631</td><td>-1.62767993</td><td>0.10180178</td><td>-5.59796734</td><td>-1.69562881</td><td>3.133724e+01</td><td>21.708084</td></tr>\n",
       "\t<tr><th scope=row>2</th><td> 1.1463854</td><td> 0.35170879</td><td> 0.36484267</td><td>0.07070164</td><td> 1.23360321</td><td> 0.35753764</td><td>1.521777e+00</td><td>10.353615</td></tr>\n",
       "\t<tr><th scope=row>3</th><td>-0.0497937</td><td>-0.01527661</td><td>-0.01609165</td><td>0.09873476</td><td>-0.05524867</td><td>-0.01572177</td><td>3.052415e-03</td><td>12.079794</td></tr>\n",
       "\t<tr><th scope=row>4</th><td> 4.9243539</td><td> 1.51078203</td><td> 1.57972040</td><td>0.08537479</td><td> 5.38401290</td><td> 1.63916491</td><td>2.898759e+01</td><td> 9.955646</td></tr>\n",
       "\t<tr><th scope=row>5</th><td>-0.4443983</td><td>-0.13634053</td><td>-0.14176094</td><td>0.07501050</td><td>-0.48043610</td><td>-0.13856493</td><td>2.308188e-01</td><td>14.194398</td></tr>\n",
       "\t<tr><th scope=row>6</th><td>-0.2895743</td><td>-0.08884082</td><td>-0.09080847</td><td>0.04286693</td><td>-0.30254339</td><td>-0.08873728</td><td>9.153250e-02</td><td>18.399574</td></tr>\n",
       "\t<tr><th scope=row>7</th><td> 0.8446235</td><td> 0.25912883</td><td> 0.27042496</td><td>0.08179867</td><td> 0.91986749</td><td> 0.26464769</td><td>8.461562e-01</td><td> 7.155376</td></tr>\n",
       "\t<tr><th scope=row>8</th><td> 1.1566049</td><td> 0.35484408</td><td> 0.36672118</td><td>0.06372559</td><td> 1.23532680</td><td> 0.35938983</td><td>1.526032e+00</td><td>16.673395</td></tr>\n",
       "\t<tr><th scope=row>9</th><td> 7.4197062</td><td> 2.27635117</td><td> 3.21376278</td><td>0.49829216</td><td>14.78889824</td><td> 4.31078012</td><td>2.187115e+02</td><td>71.820294</td></tr>\n",
       "\t<tr><th scope=row>10</th><td> 2.3764129</td><td> 0.72907878</td><td> 0.81325432</td><td>0.19629595</td><td> 2.95682585</td><td> 0.80677584</td><td>8.742819e+00</td><td>19.123587</td></tr>\n",
       "\t<tr><th scope=row>11</th><td> 2.2374930</td><td> 0.68645843</td><td> 0.71807970</td><td>0.08613260</td><td> 2.44837821</td><td> 0.70993906</td><td>5.994556e+00</td><td>38.092507</td></tr>\n",
       "\t<tr><th scope=row>12</th><td>-0.5930409</td><td>-0.18194377</td><td>-0.19325733</td><td>0.11365570</td><td>-0.66908638</td><td>-0.18897451</td><td>4.476766e-01</td><td>21.593041</td></tr>\n",
       "\t<tr><th scope=row>13</th><td> 1.0270093</td><td> 0.31508443</td><td> 0.32517935</td><td>0.06112463</td><td> 1.09387183</td><td> 0.31846924</td><td>1.196556e+00</td><td>12.472991</td></tr>\n",
       "\t<tr><th scope=row>14</th><td> 1.0675359</td><td> 0.32751789</td><td> 0.34113547</td><td>0.07824332</td><td> 1.15815364</td><td> 0.33417725</td><td>1.341320e+00</td><td>18.682464</td></tr>\n",
       "\t<tr><th scope=row>15</th><td> 0.6712018</td><td> 0.20592338</td><td> 0.21029137</td><td>0.04111077</td><td> 0.69997845</td><td> 0.20566324</td><td>4.899698e-01</td><td>23.328798</td></tr>\n",
       "\t<tr><th scope=row>16</th><td>-0.6629284</td><td>-0.20338513</td><td>-0.22270023</td><td>0.16594043</td><td>-0.79482144</td><td>-0.21782566</td><td>6.317411e-01</td><td>29.662928</td></tr>\n",
       "\t<tr><th scope=row>17</th><td> 0.4363603</td><td> 0.13387449</td><td> 0.13803929</td><td>0.05943202</td><td> 0.46393280</td><td> 0.13492400</td><td>2.152336e-01</td><td>14.913640</td></tr>\n",
       "\t<tr><th scope=row>18</th><td> 3.4486213</td><td> 1.05803019</td><td> 1.11295196</td><td>0.09626046</td><td> 3.81594602</td><td> 1.11933065</td><td>1.456144e+01</td><td>15.551379</td></tr>\n",
       "\t<tr><th scope=row>19</th><td> 1.7931935</td><td> 0.55014821</td><td> 0.57876634</td><td>0.09644857</td><td> 1.98460588</td><td> 0.56981420</td><td>3.938661e+00</td><td> 7.706807</td></tr>\n",
       "\t<tr><th scope=row>20</th><td>-5.7879699</td><td>-1.77573772</td><td>-1.87354643</td><td>0.10168486</td><td>-6.44313971</td><td>-1.99667657</td><td>4.151405e+01</td><td>40.887970</td></tr>\n",
       "\t<tr><th scope=row>21</th><td>-2.6141789</td><td>-0.80202492</td><td>-0.87784258</td><td>0.16527689</td><td>-3.13179171</td><td>-0.87308697</td><td>9.808119e+00</td><td>20.514179</td></tr>\n",
       "\t<tr><th scope=row>22</th><td>-3.6865279</td><td>-1.13101946</td><td>-1.44999541</td><td>0.39157522</td><td>-6.05913500</td><td>-1.48962473</td><td>3.671312e+01</td><td>56.006528</td></tr>\n",
       "\t<tr><th scope=row>23</th><td>-4.6075679</td><td>-1.41359270</td><td>-1.44368977</td><td>0.04126005</td><td>-4.80585779</td><td>-1.48246718</td><td>2.309627e+01</td><td>23.357568</td></tr>\n",
       "\t<tr><th scope=row>24</th><td>-4.5728535</td><td>-1.40294240</td><td>-1.49605875</td><td>0.12060826</td><td>-5.20001871</td><td>-1.54221512</td><td>2.704019e+01</td><td>24.402854</td></tr>\n",
       "\t<tr><th scope=row>25</th><td>-0.2125839</td><td>-0.06522033</td><td>-0.06750861</td><td>0.06664345</td><td>-0.22776283</td><td>-0.06596332</td><td>5.187591e-02</td><td>10.962584</td></tr>\n",
       "</tbody>\n",
       "</table>\n"
      ],
      "text/latex": [
       "A data.frame: 25 × 8\n",
       "\\begin{tabular}{r|llllllll}\n",
       "  & Residuals & StandardizedResiduals & StudentizedResiduals & HatMatrixDiagonals & PRESSResiduals & RStudentResiduals & PRESSResidualsSqrd & fitted\\\\\n",
       "  & <dbl> & <dbl> & <dbl> & <dbl> & <dbl> & <dbl> & <dbl> & <dbl>\\\\\n",
       "\\hline\n",
       "\t1 & -5.0280843 & -1.54260631 & -1.62767993 & 0.10180178 & -5.59796734 & -1.69562881 & 3.133724e+01 & 21.708084\\\\\n",
       "\t2 &  1.1463854 &  0.35170879 &  0.36484267 & 0.07070164 &  1.23360321 &  0.35753764 & 1.521777e+00 & 10.353615\\\\\n",
       "\t3 & -0.0497937 & -0.01527661 & -0.01609165 & 0.09873476 & -0.05524867 & -0.01572177 & 3.052415e-03 & 12.079794\\\\\n",
       "\t4 &  4.9243539 &  1.51078203 &  1.57972040 & 0.08537479 &  5.38401290 &  1.63916491 & 2.898759e+01 &  9.955646\\\\\n",
       "\t5 & -0.4443983 & -0.13634053 & -0.14176094 & 0.07501050 & -0.48043610 & -0.13856493 & 2.308188e-01 & 14.194398\\\\\n",
       "\t6 & -0.2895743 & -0.08884082 & -0.09080847 & 0.04286693 & -0.30254339 & -0.08873728 & 9.153250e-02 & 18.399574\\\\\n",
       "\t7 &  0.8446235 &  0.25912883 &  0.27042496 & 0.08179867 &  0.91986749 &  0.26464769 & 8.461562e-01 &  7.155376\\\\\n",
       "\t8 &  1.1566049 &  0.35484408 &  0.36672118 & 0.06372559 &  1.23532680 &  0.35938983 & 1.526032e+00 & 16.673395\\\\\n",
       "\t9 &  7.4197062 &  2.27635117 &  3.21376278 & 0.49829216 & 14.78889824 &  4.31078012 & 2.187115e+02 & 71.820294\\\\\n",
       "\t10 &  2.3764129 &  0.72907878 &  0.81325432 & 0.19629595 &  2.95682585 &  0.80677584 & 8.742819e+00 & 19.123587\\\\\n",
       "\t11 &  2.2374930 &  0.68645843 &  0.71807970 & 0.08613260 &  2.44837821 &  0.70993906 & 5.994556e+00 & 38.092507\\\\\n",
       "\t12 & -0.5930409 & -0.18194377 & -0.19325733 & 0.11365570 & -0.66908638 & -0.18897451 & 4.476766e-01 & 21.593041\\\\\n",
       "\t13 &  1.0270093 &  0.31508443 &  0.32517935 & 0.06112463 &  1.09387183 &  0.31846924 & 1.196556e+00 & 12.472991\\\\\n",
       "\t14 &  1.0675359 &  0.32751789 &  0.34113547 & 0.07824332 &  1.15815364 &  0.33417725 & 1.341320e+00 & 18.682464\\\\\n",
       "\t15 &  0.6712018 &  0.20592338 &  0.21029137 & 0.04111077 &  0.69997845 &  0.20566324 & 4.899698e-01 & 23.328798\\\\\n",
       "\t16 & -0.6629284 & -0.20338513 & -0.22270023 & 0.16594043 & -0.79482144 & -0.21782566 & 6.317411e-01 & 29.662928\\\\\n",
       "\t17 &  0.4363603 &  0.13387449 &  0.13803929 & 0.05943202 &  0.46393280 &  0.13492400 & 2.152336e-01 & 14.913640\\\\\n",
       "\t18 &  3.4486213 &  1.05803019 &  1.11295196 & 0.09626046 &  3.81594602 &  1.11933065 & 1.456144e+01 & 15.551379\\\\\n",
       "\t19 &  1.7931935 &  0.55014821 &  0.57876634 & 0.09644857 &  1.98460588 &  0.56981420 & 3.938661e+00 &  7.706807\\\\\n",
       "\t20 & -5.7879699 & -1.77573772 & -1.87354643 & 0.10168486 & -6.44313971 & -1.99667657 & 4.151405e+01 & 40.887970\\\\\n",
       "\t21 & -2.6141789 & -0.80202492 & -0.87784258 & 0.16527689 & -3.13179171 & -0.87308697 & 9.808119e+00 & 20.514179\\\\\n",
       "\t22 & -3.6865279 & -1.13101946 & -1.44999541 & 0.39157522 & -6.05913500 & -1.48962473 & 3.671312e+01 & 56.006528\\\\\n",
       "\t23 & -4.6075679 & -1.41359270 & -1.44368977 & 0.04126005 & -4.80585779 & -1.48246718 & 2.309627e+01 & 23.357568\\\\\n",
       "\t24 & -4.5728535 & -1.40294240 & -1.49605875 & 0.12060826 & -5.20001871 & -1.54221512 & 2.704019e+01 & 24.402854\\\\\n",
       "\t25 & -0.2125839 & -0.06522033 & -0.06750861 & 0.06664345 & -0.22776283 & -0.06596332 & 5.187591e-02 & 10.962584\\\\\n",
       "\\end{tabular}\n"
      ],
      "text/markdown": [
       "\n",
       "A data.frame: 25 × 8\n",
       "\n",
       "| <!--/--> | Residuals &lt;dbl&gt; | StandardizedResiduals &lt;dbl&gt; | StudentizedResiduals &lt;dbl&gt; | HatMatrixDiagonals &lt;dbl&gt; | PRESSResiduals &lt;dbl&gt; | RStudentResiduals &lt;dbl&gt; | PRESSResidualsSqrd &lt;dbl&gt; | fitted &lt;dbl&gt; |\n",
       "|---|---|---|---|---|---|---|---|---|\n",
       "| 1 | -5.0280843 | -1.54260631 | -1.62767993 | 0.10180178 | -5.59796734 | -1.69562881 | 3.133724e+01 | 21.708084 |\n",
       "| 2 |  1.1463854 |  0.35170879 |  0.36484267 | 0.07070164 |  1.23360321 |  0.35753764 | 1.521777e+00 | 10.353615 |\n",
       "| 3 | -0.0497937 | -0.01527661 | -0.01609165 | 0.09873476 | -0.05524867 | -0.01572177 | 3.052415e-03 | 12.079794 |\n",
       "| 4 |  4.9243539 |  1.51078203 |  1.57972040 | 0.08537479 |  5.38401290 |  1.63916491 | 2.898759e+01 |  9.955646 |\n",
       "| 5 | -0.4443983 | -0.13634053 | -0.14176094 | 0.07501050 | -0.48043610 | -0.13856493 | 2.308188e-01 | 14.194398 |\n",
       "| 6 | -0.2895743 | -0.08884082 | -0.09080847 | 0.04286693 | -0.30254339 | -0.08873728 | 9.153250e-02 | 18.399574 |\n",
       "| 7 |  0.8446235 |  0.25912883 |  0.27042496 | 0.08179867 |  0.91986749 |  0.26464769 | 8.461562e-01 |  7.155376 |\n",
       "| 8 |  1.1566049 |  0.35484408 |  0.36672118 | 0.06372559 |  1.23532680 |  0.35938983 | 1.526032e+00 | 16.673395 |\n",
       "| 9 |  7.4197062 |  2.27635117 |  3.21376278 | 0.49829216 | 14.78889824 |  4.31078012 | 2.187115e+02 | 71.820294 |\n",
       "| 10 |  2.3764129 |  0.72907878 |  0.81325432 | 0.19629595 |  2.95682585 |  0.80677584 | 8.742819e+00 | 19.123587 |\n",
       "| 11 |  2.2374930 |  0.68645843 |  0.71807970 | 0.08613260 |  2.44837821 |  0.70993906 | 5.994556e+00 | 38.092507 |\n",
       "| 12 | -0.5930409 | -0.18194377 | -0.19325733 | 0.11365570 | -0.66908638 | -0.18897451 | 4.476766e-01 | 21.593041 |\n",
       "| 13 |  1.0270093 |  0.31508443 |  0.32517935 | 0.06112463 |  1.09387183 |  0.31846924 | 1.196556e+00 | 12.472991 |\n",
       "| 14 |  1.0675359 |  0.32751789 |  0.34113547 | 0.07824332 |  1.15815364 |  0.33417725 | 1.341320e+00 | 18.682464 |\n",
       "| 15 |  0.6712018 |  0.20592338 |  0.21029137 | 0.04111077 |  0.69997845 |  0.20566324 | 4.899698e-01 | 23.328798 |\n",
       "| 16 | -0.6629284 | -0.20338513 | -0.22270023 | 0.16594043 | -0.79482144 | -0.21782566 | 6.317411e-01 | 29.662928 |\n",
       "| 17 |  0.4363603 |  0.13387449 |  0.13803929 | 0.05943202 |  0.46393280 |  0.13492400 | 2.152336e-01 | 14.913640 |\n",
       "| 18 |  3.4486213 |  1.05803019 |  1.11295196 | 0.09626046 |  3.81594602 |  1.11933065 | 1.456144e+01 | 15.551379 |\n",
       "| 19 |  1.7931935 |  0.55014821 |  0.57876634 | 0.09644857 |  1.98460588 |  0.56981420 | 3.938661e+00 |  7.706807 |\n",
       "| 20 | -5.7879699 | -1.77573772 | -1.87354643 | 0.10168486 | -6.44313971 | -1.99667657 | 4.151405e+01 | 40.887970 |\n",
       "| 21 | -2.6141789 | -0.80202492 | -0.87784258 | 0.16527689 | -3.13179171 | -0.87308697 | 9.808119e+00 | 20.514179 |\n",
       "| 22 | -3.6865279 | -1.13101946 | -1.44999541 | 0.39157522 | -6.05913500 | -1.48962473 | 3.671312e+01 | 56.006528 |\n",
       "| 23 | -4.6075679 | -1.41359270 | -1.44368977 | 0.04126005 | -4.80585779 | -1.48246718 | 2.309627e+01 | 23.357568 |\n",
       "| 24 | -4.5728535 | -1.40294240 | -1.49605875 | 0.12060826 | -5.20001871 | -1.54221512 | 2.704019e+01 | 24.402854 |\n",
       "| 25 | -0.2125839 | -0.06522033 | -0.06750861 | 0.06664345 | -0.22776283 | -0.06596332 | 5.187591e-02 | 10.962584 |\n",
       "\n"
      ],
      "text/plain": [
       "   Residuals  StandardizedResiduals StudentizedResiduals HatMatrixDiagonals\n",
       "1  -5.0280843 -1.54260631           -1.62767993          0.10180178        \n",
       "2   1.1463854  0.35170879            0.36484267          0.07070164        \n",
       "3  -0.0497937 -0.01527661           -0.01609165          0.09873476        \n",
       "4   4.9243539  1.51078203            1.57972040          0.08537479        \n",
       "5  -0.4443983 -0.13634053           -0.14176094          0.07501050        \n",
       "6  -0.2895743 -0.08884082           -0.09080847          0.04286693        \n",
       "7   0.8446235  0.25912883            0.27042496          0.08179867        \n",
       "8   1.1566049  0.35484408            0.36672118          0.06372559        \n",
       "9   7.4197062  2.27635117            3.21376278          0.49829216        \n",
       "10  2.3764129  0.72907878            0.81325432          0.19629595        \n",
       "11  2.2374930  0.68645843            0.71807970          0.08613260        \n",
       "12 -0.5930409 -0.18194377           -0.19325733          0.11365570        \n",
       "13  1.0270093  0.31508443            0.32517935          0.06112463        \n",
       "14  1.0675359  0.32751789            0.34113547          0.07824332        \n",
       "15  0.6712018  0.20592338            0.21029137          0.04111077        \n",
       "16 -0.6629284 -0.20338513           -0.22270023          0.16594043        \n",
       "17  0.4363603  0.13387449            0.13803929          0.05943202        \n",
       "18  3.4486213  1.05803019            1.11295196          0.09626046        \n",
       "19  1.7931935  0.55014821            0.57876634          0.09644857        \n",
       "20 -5.7879699 -1.77573772           -1.87354643          0.10168486        \n",
       "21 -2.6141789 -0.80202492           -0.87784258          0.16527689        \n",
       "22 -3.6865279 -1.13101946           -1.44999541          0.39157522        \n",
       "23 -4.6075679 -1.41359270           -1.44368977          0.04126005        \n",
       "24 -4.5728535 -1.40294240           -1.49605875          0.12060826        \n",
       "25 -0.2125839 -0.06522033           -0.06750861          0.06664345        \n",
       "   PRESSResiduals RStudentResiduals PRESSResidualsSqrd fitted   \n",
       "1  -5.59796734    -1.69562881       3.133724e+01       21.708084\n",
       "2   1.23360321     0.35753764       1.521777e+00       10.353615\n",
       "3  -0.05524867    -0.01572177       3.052415e-03       12.079794\n",
       "4   5.38401290     1.63916491       2.898759e+01        9.955646\n",
       "5  -0.48043610    -0.13856493       2.308188e-01       14.194398\n",
       "6  -0.30254339    -0.08873728       9.153250e-02       18.399574\n",
       "7   0.91986749     0.26464769       8.461562e-01        7.155376\n",
       "8   1.23532680     0.35938983       1.526032e+00       16.673395\n",
       "9  14.78889824     4.31078012       2.187115e+02       71.820294\n",
       "10  2.95682585     0.80677584       8.742819e+00       19.123587\n",
       "11  2.44837821     0.70993906       5.994556e+00       38.092507\n",
       "12 -0.66908638    -0.18897451       4.476766e-01       21.593041\n",
       "13  1.09387183     0.31846924       1.196556e+00       12.472991\n",
       "14  1.15815364     0.33417725       1.341320e+00       18.682464\n",
       "15  0.69997845     0.20566324       4.899698e-01       23.328798\n",
       "16 -0.79482144    -0.21782566       6.317411e-01       29.662928\n",
       "17  0.46393280     0.13492400       2.152336e-01       14.913640\n",
       "18  3.81594602     1.11933065       1.456144e+01       15.551379\n",
       "19  1.98460588     0.56981420       3.938661e+00        7.706807\n",
       "20 -6.44313971    -1.99667657       4.151405e+01       40.887970\n",
       "21 -3.13179171    -0.87308697       9.808119e+00       20.514179\n",
       "22 -6.05913500    -1.48962473       3.671312e+01       56.006528\n",
       "23 -4.80585779    -1.48246718       2.309627e+01       23.357568\n",
       "24 -5.20001871    -1.54221512       2.704019e+01       24.402854\n",
       "25 -0.22776283    -0.06596332       5.187591e-02       10.962584"
      ]
     },
     "metadata": {},
     "output_type": "display_data"
    }
   ],
   "source": [
    "Delivery.Residual_df"
   ]
  },
  {
   "cell_type": "code",
   "execution_count": 56,
   "id": "6aa7909e",
   "metadata": {},
   "outputs": [],
   "source": [
    "SS_Total <- sum(anova(Delivery.lm)[[2]])\n",
    "R2_predictions <- 1 - (Delivery.PRESSResidualsStat / SS_Total)"
   ]
  },
  {
   "cell_type": "code",
   "execution_count": 58,
   "id": "475f7e30",
   "metadata": {},
   "outputs": [
    {
     "data": {
      "text/html": [
       "0.920643800824885"
      ],
      "text/latex": [
       "0.920643800824885"
      ],
      "text/markdown": [
       "0.920643800824885"
      ],
      "text/plain": [
       "[1] 0.9206438"
      ]
     },
     "metadata": {},
     "output_type": "display_data"
    }
   ],
   "source": [
    "R2_predictions"
   ]
  },
  {
   "cell_type": "markdown",
   "id": "24d362c4",
   "metadata": {},
   "source": [
    "## 4.7 - Rocket Propellant Data"
   ]
  },
  {
   "cell_type": "code",
   "execution_count": 78,
   "id": "6ad48c46",
   "metadata": {},
   "outputs": [
    {
     "data": {
      "text/html": [
       "<table class=\"dataframe\">\n",
       "<caption>A data.frame: 6 × 2</caption>\n",
       "<thead>\n",
       "\t<tr><th></th><th scope=col>Shear</th><th scope=col>Age</th></tr>\n",
       "\t<tr><th></th><th scope=col>&lt;dbl&gt;</th><th scope=col>&lt;dbl&gt;</th></tr>\n",
       "</thead>\n",
       "<tbody>\n",
       "\t<tr><th scope=row>1</th><td>2158.70</td><td>15.50</td></tr>\n",
       "\t<tr><th scope=row>2</th><td>1678.15</td><td>23.75</td></tr>\n",
       "\t<tr><th scope=row>3</th><td>2316.00</td><td> 8.00</td></tr>\n",
       "\t<tr><th scope=row>4</th><td>2061.30</td><td>17.00</td></tr>\n",
       "\t<tr><th scope=row>5</th><td>2207.50</td><td> 5.50</td></tr>\n",
       "\t<tr><th scope=row>6</th><td>1708.30</td><td>19.00</td></tr>\n",
       "</tbody>\n",
       "</table>\n"
      ],
      "text/latex": [
       "A data.frame: 6 × 2\n",
       "\\begin{tabular}{r|ll}\n",
       "  & Shear & Age\\\\\n",
       "  & <dbl> & <dbl>\\\\\n",
       "\\hline\n",
       "\t1 & 2158.70 & 15.50\\\\\n",
       "\t2 & 1678.15 & 23.75\\\\\n",
       "\t3 & 2316.00 &  8.00\\\\\n",
       "\t4 & 2061.30 & 17.00\\\\\n",
       "\t5 & 2207.50 &  5.50\\\\\n",
       "\t6 & 1708.30 & 19.00\\\\\n",
       "\\end{tabular}\n"
      ],
      "text/markdown": [
       "\n",
       "A data.frame: 6 × 2\n",
       "\n",
       "| <!--/--> | Shear &lt;dbl&gt; | Age &lt;dbl&gt; |\n",
       "|---|---|---|\n",
       "| 1 | 2158.70 | 15.50 |\n",
       "| 2 | 1678.15 | 23.75 |\n",
       "| 3 | 2316.00 |  8.00 |\n",
       "| 4 | 2061.30 | 17.00 |\n",
       "| 5 | 2207.50 |  5.50 |\n",
       "| 6 | 1708.30 | 19.00 |\n",
       "\n"
      ],
      "text/plain": [
       "  Shear   Age  \n",
       "1 2158.70 15.50\n",
       "2 1678.15 23.75\n",
       "3 2316.00  8.00\n",
       "4 2061.30 17.00\n",
       "5 2207.50  5.50\n",
       "6 1708.30 19.00"
      ]
     },
     "metadata": {},
     "output_type": "display_data"
    }
   ],
   "source": [
    "Rocket.table <- read_excel(\n",
    "    '../linear_regression_5e_data_sets/Chapter 2/Examples/data-ex-2-1 (Rocket Prop).xls')\n",
    "\n",
    "Rocket.df <- data.frame(Rocket.table$`Shear Strength, yi (psi)`, \n",
    "                              Rocket.table$`Age of Propellant, xi (weeks)`)\n",
    "\n",
    "colnames(Rocket.df) <- c(\"Shear\", \"Age\")\n",
    "\n",
    "head(Rocket.df)"
   ]
  },
  {
   "cell_type": "code",
   "execution_count": 79,
   "id": "29f00239",
   "metadata": {},
   "outputs": [
    {
     "name": "stdout",
     "output_type": "stream",
     "text": [
      "\n",
      "Call:\n",
      "lm(formula = Shear ~ Age, data = Rocket.df)\n",
      "\n",
      "Coefficients:\n",
      "(Intercept)          Age  \n",
      "    2627.82       -37.15  \n",
      "\n"
     ]
    }
   ],
   "source": [
    "Rocket.lm <- lm(\n",
    "    Shear ~ Age, \n",
    "    data=Rocket.df)  \n",
    "\n",
    "print(Rocket.lm)"
   ]
  },
  {
   "cell_type": "code",
   "execution_count": 81,
   "id": "5bafc8c9",
   "metadata": {},
   "outputs": [
    {
     "data": {
      "text/html": [
       "<table class=\"dataframe\">\n",
       "<caption>A anova: 2 × 5</caption>\n",
       "<thead>\n",
       "\t<tr><th></th><th scope=col>Df</th><th scope=col>Sum Sq</th><th scope=col>Mean Sq</th><th scope=col>F value</th><th scope=col>Pr(&gt;F)</th></tr>\n",
       "\t<tr><th></th><th scope=col>&lt;int&gt;</th><th scope=col>&lt;dbl&gt;</th><th scope=col>&lt;dbl&gt;</th><th scope=col>&lt;dbl&gt;</th><th scope=col>&lt;dbl&gt;</th></tr>\n",
       "</thead>\n",
       "<tbody>\n",
       "\t<tr><th scope=row>Age</th><td> 1</td><td>1527482.7</td><td>1527482.743</td><td>165.3768</td><td>1.643344e-10</td></tr>\n",
       "\t<tr><th scope=row>Residuals</th><td>18</td><td> 166254.9</td><td>   9236.381</td><td>      NA</td><td>          NA</td></tr>\n",
       "</tbody>\n",
       "</table>\n"
      ],
      "text/latex": [
       "A anova: 2 × 5\n",
       "\\begin{tabular}{r|lllll}\n",
       "  & Df & Sum Sq & Mean Sq & F value & Pr(>F)\\\\\n",
       "  & <int> & <dbl> & <dbl> & <dbl> & <dbl>\\\\\n",
       "\\hline\n",
       "\tAge &  1 & 1527482.7 & 1527482.743 & 165.3768 & 1.643344e-10\\\\\n",
       "\tResiduals & 18 &  166254.9 &    9236.381 &       NA &           NA\\\\\n",
       "\\end{tabular}\n"
      ],
      "text/markdown": [
       "\n",
       "A anova: 2 × 5\n",
       "\n",
       "| <!--/--> | Df &lt;int&gt; | Sum Sq &lt;dbl&gt; | Mean Sq &lt;dbl&gt; | F value &lt;dbl&gt; | Pr(&gt;F) &lt;dbl&gt; |\n",
       "|---|---|---|---|---|---|\n",
       "| Age |  1 | 1527482.7 | 1527482.743 | 165.3768 | 1.643344e-10 |\n",
       "| Residuals | 18 |  166254.9 |    9236.381 |       NA |           NA |\n",
       "\n"
      ],
      "text/plain": [
       "          Df Sum Sq    Mean Sq     F value  Pr(>F)      \n",
       "Age        1 1527482.7 1527482.743 165.3768 1.643344e-10\n",
       "Residuals 18  166254.9    9236.381       NA           NA"
      ]
     },
     "metadata": {},
     "output_type": "display_data"
    }
   ],
   "source": [
    "anova(Rocket.lm)"
   ]
  },
  {
   "cell_type": "code",
   "execution_count": 82,
   "id": "e45a19d1",
   "metadata": {},
   "outputs": [],
   "source": [
    "Rocket.RStudentResiduals <- rstudent(Rocket.lm)"
   ]
  },
  {
   "cell_type": "code",
   "execution_count": 87,
   "id": "10a78706",
   "metadata": {},
   "outputs": [
    {
     "data": {
      "text/html": [
       "<style>\n",
       ".dl-inline {width: auto; margin:0; padding: 0}\n",
       ".dl-inline>dt, .dl-inline>dd {float: none; width: auto; display: inline-block}\n",
       ".dl-inline>dt::after {content: \":\\0020\"; padding-right: .5ex}\n",
       ".dl-inline>dt:not(:first-of-type) {padding-left: .5ex}\n",
       "</style><dl class=dl-inline><dt>1</dt><dd>2051.94169935527</dd><dt>2</dt><dd>1745.4245740598</dd><dt>3</dt><dd>2330.59363144205</dd><dt>4</dt><dd>1996.21131293791</dd><dt>5</dt><dd>2423.47760880432</dd><dt>6</dt><dd>1921.9041310481</dd><dt>7</dt><dd>1736.13617632357</dd><dt>8</dt><dd>2534.93838163903</dd><dt>9</dt><dd>2349.17042691451</dd><dt>10</dt><dd>2219.13285860734</dd><dt>11</dt><dd>2144.82567671753</dd><dt>12</dt><dd>2488.4963929579</dd><dt>13</dt><dd>1698.98258537867</dd><dt>14</dt><dd>2265.57484728847</dd><dt>15</dt><dd>1810.44335821338</dd><dt>16</dt><dd>1959.057721993</dd><dt>17</dt><dd>2404.90081333186</dd><dt>18</dt><dd>2163.40247218998</dd><dt>19</dt><dd>2553.51517711149</dd><dt>20</dt><dd>1829.02015368583</dd></dl>\n"
      ],
      "text/latex": [
       "\\begin{description*}\n",
       "\\item[1] 2051.94169935527\n",
       "\\item[2] 1745.4245740598\n",
       "\\item[3] 2330.59363144205\n",
       "\\item[4] 1996.21131293791\n",
       "\\item[5] 2423.47760880432\n",
       "\\item[6] 1921.9041310481\n",
       "\\item[7] 1736.13617632357\n",
       "\\item[8] 2534.93838163903\n",
       "\\item[9] 2349.17042691451\n",
       "\\item[10] 2219.13285860734\n",
       "\\item[11] 2144.82567671753\n",
       "\\item[12] 2488.4963929579\n",
       "\\item[13] 1698.98258537867\n",
       "\\item[14] 2265.57484728847\n",
       "\\item[15] 1810.44335821338\n",
       "\\item[16] 1959.057721993\n",
       "\\item[17] 2404.90081333186\n",
       "\\item[18] 2163.40247218998\n",
       "\\item[19] 2553.51517711149\n",
       "\\item[20] 1829.02015368583\n",
       "\\end{description*}\n"
      ],
      "text/markdown": [
       "1\n",
       ":   2051.941699355272\n",
       ":   1745.42457405983\n",
       ":   2330.593631442054\n",
       ":   1996.211312937915\n",
       ":   2423.477608804326\n",
       ":   1921.90413104817\n",
       ":   1736.136176323578\n",
       ":   2534.938381639039\n",
       ":   2349.1704269145110\n",
       ":   2219.1328586073411\n",
       ":   2144.8256767175312\n",
       ":   2488.496392957913\n",
       ":   1698.9825853786714\n",
       ":   2265.5748472884715\n",
       ":   1810.4433582133816\n",
       ":   1959.05772199317\n",
       ":   2404.9008133318618\n",
       ":   2163.4024721899819\n",
       ":   2553.5151771114920\n",
       ":   1829.02015368583\n",
       "\n"
      ],
      "text/plain": [
       "       1        2        3        4        5        6        7        8 \n",
       "2051.942 1745.425 2330.594 1996.211 2423.478 1921.904 1736.136 2534.938 \n",
       "       9       10       11       12       13       14       15       16 \n",
       "2349.170 2219.133 2144.826 2488.496 1698.983 2265.575 1810.443 1959.058 \n",
       "      17       18       19       20 \n",
       "2404.901 2163.402 2553.515 1829.020 "
      ]
     },
     "metadata": {},
     "output_type": "display_data"
    }
   ],
   "source": [
    "fitted(Rocket.lm)"
   ]
  },
  {
   "cell_type": "code",
   "execution_count": 85,
   "id": "b49fd999",
   "metadata": {},
   "outputs": [
    {
     "data": {
      "text/html": [
       "<style>\n",
       ".dl-inline {width: auto; margin:0; padding: 0}\n",
       ".dl-inline>dt, .dl-inline>dd {float: none; width: auto; display: inline-block}\n",
       ".dl-inline>dt::after {content: \":\\0020\"; padding-right: .5ex}\n",
       ".dl-inline>dt:not(:first-of-type) {padding-left: .5ex}\n",
       "</style><dl class=dl-inline><dt>1</dt><dd>1.15255192601436</dd><dt>2</dt><dd>-0.748842975315376</dd><dt>3</dt><dd>-0.15362536454505</dd><dt>4</dt><dd>0.688988464910561</dd><dt>5</dt><dd>-2.78815213465576</dd><dt>6</dt><dd>-2.68564304866345</dd><dt>7</dt><dd>0.537877200278362</dd><dt>8</dt><dd>0.443666783741834</dd><dt>9</dt><dd>0.0921074753222223</dd><dt>10</dt><dd>0.392553737114625</dd><dt>11</dt><dd>0.211669052944689</dd><dt>12</dt><dd>-0.993910226702458</dd><dt>13</dt><dd>0.920427768905294</dd><dt>14</dt><dd>0.755415607789733</dd><dt>15</dt><dd>-0.489318478602606</dd><dt>16</dt><dd>1.0198228689576</dd><dt>17</dt><dd>0.10122525766618</dd><dt>18</dt><dd>0.38670156258446</dd><dt>19</dt><dd>1.15849440105104</dd><dt>20</dt><dd>-0.823195112416773</dd></dl>\n"
      ],
      "text/latex": [
       "\\begin{description*}\n",
       "\\item[1] 1.15255192601436\n",
       "\\item[2] -0.748842975315376\n",
       "\\item[3] -0.15362536454505\n",
       "\\item[4] 0.688988464910561\n",
       "\\item[5] -2.78815213465576\n",
       "\\item[6] -2.68564304866345\n",
       "\\item[7] 0.537877200278362\n",
       "\\item[8] 0.443666783741834\n",
       "\\item[9] 0.0921074753222223\n",
       "\\item[10] 0.392553737114625\n",
       "\\item[11] 0.211669052944689\n",
       "\\item[12] -0.993910226702458\n",
       "\\item[13] 0.920427768905294\n",
       "\\item[14] 0.755415607789733\n",
       "\\item[15] -0.489318478602606\n",
       "\\item[16] 1.0198228689576\n",
       "\\item[17] 0.10122525766618\n",
       "\\item[18] 0.38670156258446\n",
       "\\item[19] 1.15849440105104\n",
       "\\item[20] -0.823195112416773\n",
       "\\end{description*}\n"
      ],
      "text/markdown": [
       "1\n",
       ":   1.152551926014362\n",
       ":   -0.7488429753153763\n",
       ":   -0.153625364545054\n",
       ":   0.6889884649105615\n",
       ":   -2.788152134655766\n",
       ":   -2.685643048663457\n",
       ":   0.5378772002783628\n",
       ":   0.4436667837418349\n",
       ":   0.092107475322222310\n",
       ":   0.39255373711462511\n",
       ":   0.21166905294468912\n",
       ":   -0.99391022670245813\n",
       ":   0.92042776890529414\n",
       ":   0.75541560778973315\n",
       ":   -0.48931847860260616\n",
       ":   1.019822868957617\n",
       ":   0.1012252576661818\n",
       ":   0.3867015625844619\n",
       ":   1.1584944010510420\n",
       ":   -0.823195112416773\n",
       "\n"
      ],
      "text/plain": [
       "          1           2           3           4           5           6 \n",
       " 1.15255193 -0.74884298 -0.15362536  0.68898846 -2.78815213 -2.68564305 \n",
       "          7           8           9          10          11          12 \n",
       " 0.53787720  0.44366678  0.09210748  0.39255374  0.21166905 -0.99391023 \n",
       "         13          14          15          16          17          18 \n",
       " 0.92042777  0.75541561 -0.48931848  1.01982287  0.10122526  0.38670156 \n",
       "         19          20 \n",
       " 1.15849440 -0.82319511 "
      ]
     },
     "metadata": {},
     "output_type": "display_data"
    }
   ],
   "source": [
    "Rocket.RStudentResiduals"
   ]
  },
  {
   "cell_type": "code",
   "execution_count": 86,
   "id": "928ef150",
   "metadata": {},
   "outputs": [
    {
     "ename": "ERROR",
     "evalue": "Error in unname(Rocket$RStudentResiduals): object 'Rocket' not found\n",
     "output_type": "error",
     "traceback": [
      "Error in unname(Rocket$RStudentResiduals): object 'Rocket' not found\nTraceback:\n",
      "1. plot(fitted(Rocket.lm), unname(Rocket$RStudentResiduals), xlab = \"Fitted Values\", \n .     ylab = \"Externally Studentized Residual\", main = \"Versus Fits\")",
      "2. plot(fitted(Rocket.lm), unname(Rocket$RStudentResiduals), xlab = \"Fitted Values\", \n .     ylab = \"Externally Studentized Residual\", main = \"Versus Fits\")",
      "3. plot.default(fitted(Rocket.lm), unname(Rocket$RStudentResiduals), \n .     xlab = \"Fitted Values\", ylab = \"Externally Studentized Residual\", \n .     main = \"Versus Fits\")",
      "4. xy.coords(x, y, xlabel, ylabel, log)",
      "5. unname(Rocket$RStudentResiduals)"
     ]
    }
   ],
   "source": [
    "plot(\n",
    "    fitted(Rocket.lm), \n",
    "    unname(Rocket$RStudentResiduals),\n",
    "    xlab=\"Fitted Values\",\n",
    "    ylab=\"Externally Studentized Residual\",\n",
    "    main=\"Versus Fits\"\n",
    ")\n",
    "abline(h=0)"
   ]
  },
  {
   "cell_type": "code",
   "execution_count": null,
   "id": "6b5a4f6c",
   "metadata": {},
   "outputs": [],
   "source": []
  }
 ],
 "metadata": {
  "kernelspec": {
   "display_name": "R",
   "language": "R",
   "name": "ir"
  },
  "language_info": {
   "codemirror_mode": "r",
   "file_extension": ".r",
   "mimetype": "text/x-r-source",
   "name": "R",
   "pygments_lexer": "r",
   "version": "3.6.3"
  }
 },
 "nbformat": 4,
 "nbformat_minor": 5
}
