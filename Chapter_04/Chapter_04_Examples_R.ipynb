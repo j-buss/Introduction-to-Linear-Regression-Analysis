{
 "cells": [
  {
   "cell_type": "markdown",
   "id": "6dc2ea8d",
   "metadata": {},
   "source": [
    "# Chapter 4 Examples - R"
   ]
  },
  {
   "cell_type": "code",
   "execution_count": 162,
   "id": "ccff5d98",
   "metadata": {},
   "outputs": [
    {
     "name": "stderr",
     "output_type": "stream",
     "text": [
      "Installing package into ‘/home/jeremyfbuss/R/x86_64-pc-linux-gnu-library/3.6’\n",
      "(as ‘lib’ is unspecified)\n",
      "\n"
     ]
    }
   ],
   "source": [
    "#### Sytem may require the following: \n",
    "# sudo apt install libcurl4-openssl-dev\n",
    "# sudo apt install libxml2-dev\n",
    "\n",
    "#### Only need to run the folloing installs once\n",
    "# install.packages(c(\"ggplot2\", \"ggpubr\", \"tidyverse\", \"broom\", \n",
    "#                    \"AICcmodavg\", \"ellipse\", \"asbio\", \"QuantPsyc\", \n",
    "#                    \"qpcR\"))\n",
    "install.packages(\"qqplotr\")"
   ]
  },
  {
   "cell_type": "markdown",
   "id": "1395c5d3",
   "metadata": {},
   "source": [
    "## Load Libraries"
   ]
  },
  {
   "cell_type": "code",
   "execution_count": 163,
   "id": "75fa0838",
   "metadata": {},
   "outputs": [],
   "source": [
    "suppressMessages(library(readxl))\n",
    "suppressMessages(library(qpcR))\n",
    "suppressMessages(library(ggplot2))\n",
    "suppressMessages(library(qqplotr))\n",
    "#suppressMessages(library(ggpubr))\n",
    "#suppressMessages(library(tidyverse))\n",
    "#suppressMessages(library(broom))\n",
    "#suppressMessages(library(AICcmodavg))\n",
    "#suppressMessages(library(ellipse))\n",
    "#suppressMessages(library(asbio))\n",
    "#suppressMessages(library(QuantPsyc))"
   ]
  },
  {
   "cell_type": "markdown",
   "id": "b4240d0d",
   "metadata": {},
   "source": [
    "## 4.1"
   ]
  },
  {
   "cell_type": "code",
   "execution_count": 111,
   "id": "c6a177e8",
   "metadata": {},
   "outputs": [
    {
     "data": {
      "text/html": [
       "<table class=\"dataframe\">\n",
       "<caption>A data.frame: 6 × 3</caption>\n",
       "<thead>\n",
       "\t<tr><th></th><th scope=col>DeliveryTime</th><th scope=col>NumberCases</th><th scope=col>Distance</th></tr>\n",
       "\t<tr><th></th><th scope=col>&lt;dbl&gt;</th><th scope=col>&lt;dbl&gt;</th><th scope=col>&lt;dbl&gt;</th></tr>\n",
       "</thead>\n",
       "<tbody>\n",
       "\t<tr><th scope=row>1</th><td>16.68</td><td>7</td><td>560</td></tr>\n",
       "\t<tr><th scope=row>2</th><td>11.50</td><td>3</td><td>220</td></tr>\n",
       "\t<tr><th scope=row>3</th><td>12.03</td><td>3</td><td>340</td></tr>\n",
       "\t<tr><th scope=row>4</th><td>14.88</td><td>4</td><td> 80</td></tr>\n",
       "\t<tr><th scope=row>5</th><td>13.75</td><td>6</td><td>150</td></tr>\n",
       "\t<tr><th scope=row>6</th><td>18.11</td><td>7</td><td>330</td></tr>\n",
       "</tbody>\n",
       "</table>\n"
      ],
      "text/latex": [
       "A data.frame: 6 × 3\n",
       "\\begin{tabular}{r|lll}\n",
       "  & DeliveryTime & NumberCases & Distance\\\\\n",
       "  & <dbl> & <dbl> & <dbl>\\\\\n",
       "\\hline\n",
       "\t1 & 16.68 & 7 & 560\\\\\n",
       "\t2 & 11.50 & 3 & 220\\\\\n",
       "\t3 & 12.03 & 3 & 340\\\\\n",
       "\t4 & 14.88 & 4 &  80\\\\\n",
       "\t5 & 13.75 & 6 & 150\\\\\n",
       "\t6 & 18.11 & 7 & 330\\\\\n",
       "\\end{tabular}\n"
      ],
      "text/markdown": [
       "\n",
       "A data.frame: 6 × 3\n",
       "\n",
       "| <!--/--> | DeliveryTime &lt;dbl&gt; | NumberCases &lt;dbl&gt; | Distance &lt;dbl&gt; |\n",
       "|---|---|---|---|\n",
       "| 1 | 16.68 | 7 | 560 |\n",
       "| 2 | 11.50 | 3 | 220 |\n",
       "| 3 | 12.03 | 3 | 340 |\n",
       "| 4 | 14.88 | 4 |  80 |\n",
       "| 5 | 13.75 | 6 | 150 |\n",
       "| 6 | 18.11 | 7 | 330 |\n",
       "\n"
      ],
      "text/plain": [
       "  DeliveryTime NumberCases Distance\n",
       "1 16.68        7           560     \n",
       "2 11.50        3           220     \n",
       "3 12.03        3           340     \n",
       "4 14.88        4            80     \n",
       "5 13.75        6           150     \n",
       "6 18.11        7           330     "
      ]
     },
     "metadata": {},
     "output_type": "display_data"
    }
   ],
   "source": [
    "Delivery.table <- read_excel(\n",
    "    '../linear_regression_5e_data_sets/Chapter 3/Examples/data-ex-3-1 (Delivery Time).xls')\n",
    "\n",
    "Delivery.df <- data.frame(Delivery.table$`Delivery Time, y`, \n",
    "                              Delivery.table$`Number of Cases, x1`, \n",
    "                              Delivery.table$`Distance, x2 (ft)`)\n",
    "\n",
    "colnames(Delivery.df) <- c(\"DeliveryTime\", \"NumberCases\", \"Distance\")\n",
    "\n",
    "head(Delivery.df)"
   ]
  },
  {
   "cell_type": "code",
   "execution_count": 112,
   "id": "854c08c2",
   "metadata": {},
   "outputs": [
    {
     "data": {
      "text/plain": [
       "  DeliveryTime    NumberCases       Distance     \n",
       " Min.   : 8.00   Min.   : 2.00   Min.   :  36.0  \n",
       " 1st Qu.:13.75   1st Qu.: 4.00   1st Qu.: 150.0  \n",
       " Median :18.11   Median : 7.00   Median : 330.0  \n",
       " Mean   :22.38   Mean   : 8.76   Mean   : 409.3  \n",
       " 3rd Qu.:21.50   3rd Qu.:10.00   3rd Qu.: 605.0  \n",
       " Max.   :79.24   Max.   :30.00   Max.   :1460.0  "
      ]
     },
     "metadata": {},
     "output_type": "display_data"
    }
   ],
   "source": [
    "summary(Delivery.df)"
   ]
  },
  {
   "cell_type": "code",
   "execution_count": 113,
   "id": "0d76c96a",
   "metadata": {},
   "outputs": [
    {
     "name": "stdout",
     "output_type": "stream",
     "text": [
      "\n",
      "Call:\n",
      "lm(formula = DeliveryTime ~ NumberCases + Distance, data = Delivery.df)\n",
      "\n",
      "Coefficients:\n",
      "(Intercept)  NumberCases     Distance  \n",
      "    2.34123      1.61591      0.01438  \n",
      "\n"
     ]
    }
   ],
   "source": [
    "Delivery.lm <- lm(\n",
    "    DeliveryTime ~ NumberCases + Distance, \n",
    "    data=Delivery.df)  \n",
    "\n",
    "print(Delivery.lm)"
   ]
  },
  {
   "cell_type": "code",
   "execution_count": 114,
   "id": "6be1d6d1",
   "metadata": {},
   "outputs": [
    {
     "data": {
      "text/plain": [
       "\n",
       "Call:\n",
       "lm(formula = DeliveryTime ~ NumberCases + Distance, data = Delivery.df)\n",
       "\n",
       "Residuals:\n",
       "    Min      1Q  Median      3Q     Max \n",
       "-5.7880 -0.6629  0.4364  1.1566  7.4197 \n",
       "\n",
       "Coefficients:\n",
       "            Estimate Std. Error t value Pr(>|t|)    \n",
       "(Intercept) 2.341231   1.096730   2.135 0.044170 *  \n",
       "NumberCases 1.615907   0.170735   9.464 3.25e-09 ***\n",
       "Distance    0.014385   0.003613   3.981 0.000631 ***\n",
       "---\n",
       "Signif. codes:  0 ‘***’ 0.001 ‘**’ 0.01 ‘*’ 0.05 ‘.’ 0.1 ‘ ’ 1\n",
       "\n",
       "Residual standard error: 3.259 on 22 degrees of freedom\n",
       "Multiple R-squared:  0.9596,\tAdjusted R-squared:  0.9559 \n",
       "F-statistic: 261.2 on 2 and 22 DF,  p-value: 4.687e-16\n"
      ]
     },
     "metadata": {},
     "output_type": "display_data"
    }
   ],
   "source": [
    "summary(Delivery.lm)"
   ]
  },
  {
   "cell_type": "code",
   "execution_count": 115,
   "id": "4e8a3037",
   "metadata": {},
   "outputs": [
    {
     "data": {
      "text/html": [
       "<table class=\"dataframe\">\n",
       "<caption>A anova: 3 × 5</caption>\n",
       "<thead>\n",
       "\t<tr><th></th><th scope=col>Df</th><th scope=col>Sum Sq</th><th scope=col>Mean Sq</th><th scope=col>F value</th><th scope=col>Pr(&gt;F)</th></tr>\n",
       "\t<tr><th></th><th scope=col>&lt;int&gt;</th><th scope=col>&lt;dbl&gt;</th><th scope=col>&lt;dbl&gt;</th><th scope=col>&lt;dbl&gt;</th><th scope=col>&lt;dbl&gt;</th></tr>\n",
       "</thead>\n",
       "<tbody>\n",
       "\t<tr><th scope=row>NumberCases</th><td> 1</td><td>5382.4088</td><td>5382.40880</td><td>506.61936</td><td>1.112549e-16</td></tr>\n",
       "\t<tr><th scope=row>Distance</th><td> 1</td><td> 168.4021</td><td> 168.40213</td><td> 15.85085</td><td>6.312469e-04</td></tr>\n",
       "\t<tr><th scope=row>Residuals</th><td>22</td><td> 233.7317</td><td>  10.62417</td><td>       NA</td><td>          NA</td></tr>\n",
       "</tbody>\n",
       "</table>\n"
      ],
      "text/latex": [
       "A anova: 3 × 5\n",
       "\\begin{tabular}{r|lllll}\n",
       "  & Df & Sum Sq & Mean Sq & F value & Pr(>F)\\\\\n",
       "  & <int> & <dbl> & <dbl> & <dbl> & <dbl>\\\\\n",
       "\\hline\n",
       "\tNumberCases &  1 & 5382.4088 & 5382.40880 & 506.61936 & 1.112549e-16\\\\\n",
       "\tDistance &  1 &  168.4021 &  168.40213 &  15.85085 & 6.312469e-04\\\\\n",
       "\tResiduals & 22 &  233.7317 &   10.62417 &        NA &           NA\\\\\n",
       "\\end{tabular}\n"
      ],
      "text/markdown": [
       "\n",
       "A anova: 3 × 5\n",
       "\n",
       "| <!--/--> | Df &lt;int&gt; | Sum Sq &lt;dbl&gt; | Mean Sq &lt;dbl&gt; | F value &lt;dbl&gt; | Pr(&gt;F) &lt;dbl&gt; |\n",
       "|---|---|---|---|---|---|\n",
       "| NumberCases |  1 | 5382.4088 | 5382.40880 | 506.61936 | 1.112549e-16 |\n",
       "| Distance |  1 |  168.4021 |  168.40213 |  15.85085 | 6.312469e-04 |\n",
       "| Residuals | 22 |  233.7317 |   10.62417 |        NA |           NA |\n",
       "\n"
      ],
      "text/plain": [
       "            Df Sum Sq    Mean Sq    F value   Pr(>F)      \n",
       "NumberCases  1 5382.4088 5382.40880 506.61936 1.112549e-16\n",
       "Distance     1  168.4021  168.40213  15.85085 6.312469e-04\n",
       "Residuals   22  233.7317   10.62417        NA           NA"
      ]
     },
     "metadata": {},
     "output_type": "display_data"
    }
   ],
   "source": [
    "anova(Delivery.lm)"
   ]
  },
  {
   "cell_type": "code",
   "execution_count": 117,
   "id": "d2f76e48",
   "metadata": {},
   "outputs": [],
   "source": [
    "Delivery.lm.Mres <- anova(Delivery.lm)[[3]][3]"
   ]
  },
  {
   "cell_type": "markdown",
   "id": "8b0c2453",
   "metadata": {},
   "source": [
    "### Various Residual Derivations (as defined by Montgomer/Peck/Vining)"
   ]
  },
  {
   "cell_type": "code",
   "execution_count": 118,
   "id": "3e6d266d",
   "metadata": {},
   "outputs": [
    {
     "data": {
      "text/html": [
       "TRUE"
      ],
      "text/latex": [
       "TRUE"
      ],
      "text/markdown": [
       "TRUE"
      ],
      "text/plain": [
       "[1] TRUE"
      ]
     },
     "metadata": {},
     "output_type": "display_data"
    }
   ],
   "source": [
    "# Residuals\n",
    "Delivery.Residuals <- resid(Delivery.lm)\n",
    "Delivery.Residuals_2 <- Delivery.lm$residuals\n",
    "\n",
    "# Check equivalency\n",
    "all.equal(Delivery.Residuals, Delivery.Residuals_2)"
   ]
  },
  {
   "cell_type": "code",
   "execution_count": 119,
   "id": "90acabea",
   "metadata": {},
   "outputs": [],
   "source": [
    "# Standardized Residuals\n",
    "Delivery.StandardizedResiduals <- resid(Delivery.lm) / sqrt(anova(Delivery.lm)[[3]][3])\n"
   ]
  },
  {
   "cell_type": "code",
   "execution_count": 120,
   "id": "edb78e12",
   "metadata": {},
   "outputs": [
    {
     "data": {
      "text/html": [
       "TRUE"
      ],
      "text/latex": [
       "TRUE"
      ],
      "text/markdown": [
       "TRUE"
      ],
      "text/plain": [
       "[1] TRUE"
      ]
     },
     "metadata": {},
     "output_type": "display_data"
    }
   ],
   "source": [
    "# Studentized Residuals\n",
    "Delivery.StudentizedResiduals <- Delivery.Residuals / sqrt(Delivery.lm.Mres * (1 - Delivery.HatMatrixDiagonal))\n",
    "Delivery.StudentizedResiduals_2 <- rstandard(Delivery.lm)\n",
    "\n",
    "# Check equivaliency\n",
    "all.equal(Delivery.StudentizedResiduals, Delivery.StudentizedResiduals_2)"
   ]
  },
  {
   "cell_type": "code",
   "execution_count": 149,
   "id": "27aee6f0",
   "metadata": {},
   "outputs": [
    {
     "data": {
      "text/html": [
       "TRUE"
      ],
      "text/latex": [
       "TRUE"
      ],
      "text/markdown": [
       "TRUE"
      ],
      "text/plain": [
       "[1] TRUE"
      ]
     },
     "metadata": {},
     "output_type": "display_data"
    }
   ],
   "source": [
    "# Hat Matrix Diagonal\n",
    "Delivery.HatMatrixDiagonals <- diag(Delivery.X %*% solve(t(Delivery.X) %*% Delivery.X) %*% t(Delivery.X))\n",
    "Delivery.HatMatrixDiagonals_2 <- unname(influence(Delivery.lm)$hat)\n",
    "\n",
    "all.equal(Delivery.HatMatrixDiagonals, Delivery.HatMatrixDiagonals_2)"
   ]
  },
  {
   "cell_type": "code",
   "execution_count": 150,
   "id": "c7d45da7",
   "metadata": {},
   "outputs": [
    {
     "data": {
      "text/html": [
       "TRUE"
      ],
      "text/latex": [
       "TRUE"
      ],
      "text/markdown": [
       "TRUE"
      ],
      "text/plain": [
       "[1] TRUE"
      ]
     },
     "metadata": {},
     "output_type": "display_data"
    }
   ],
   "source": [
    "# PRESS Residual\n",
    "Delivery.PRESSResiduals <- unname(Delivery.Residuals / (1 - Delivery.HatMatrixDiagonals))\n",
    "Delivery.PRESSResiduals_2 <- PRESS(Delivery.lm, verbose = FALSE)$residuals\n",
    "\n",
    "all.equal(Delivery.PRESSResiduals, Delivery.PRESSResiduals_2)"
   ]
  },
  {
   "cell_type": "code",
   "execution_count": 151,
   "id": "62b98d73",
   "metadata": {},
   "outputs": [],
   "source": [
    "# R-student Residual\n",
    "Delivery.n = nrow(Delivery.df)\n",
    "Delivery.p = ncol(Delivery.df)\n",
    "S_sub_i_squared = (\n",
    "        (Delivery.n - Delivery.p) * Delivery.lm.Mres - Delivery.Residuals^2 / (1 - Delivery.HatMatrixDiagonals)\n",
    "    ) / (\n",
    "        (Delivery.n - Delivery.p - 1)\n",
    "    )\n",
    "Delivery.RStudentResiduals <- Delivery.Residuals / sqrt(S_sub_i_squared * (1 - Delivery.HatMatrixDiagonals))"
   ]
  },
  {
   "cell_type": "code",
   "execution_count": 153,
   "id": "de2ecc21",
   "metadata": {},
   "outputs": [],
   "source": [
    "# PRESS Residual squared\n",
    "Delivery.PRESSResidualsSqrd <- Delivery.PRESSResiduals^2"
   ]
  },
  {
   "cell_type": "code",
   "execution_count": 154,
   "id": "94dbdcd7",
   "metadata": {},
   "outputs": [],
   "source": [
    "Delivery.Residual_df <- data.frame(\n",
    "    unname(Delivery.Residuals),\n",
    "    unname(Delivery.StandardizedResiduals),\n",
    "    unname(Delivery.StudentizedResiduals),\n",
    "    Delivery.HatMatrixDiagonals,\n",
    "    Delivery.PRESSResiduals,\n",
    "    Delivery.RStudentResiduals,\n",
    "    Delivery.PRESSResidualsSqrd\n",
    ")"
   ]
  },
  {
   "cell_type": "code",
   "execution_count": 155,
   "id": "784549eb",
   "metadata": {},
   "outputs": [],
   "source": [
    "colnames(Delivery.Residual_df) <- c(\n",
    "    \"Residuals\",\n",
    "    \"StandardizedResiduals\",\n",
    "    \"StudentizedResiduals\", \n",
    "    \"HatMatrixDiagonals\", \n",
    "    \"PRESSResiduals\", \n",
    "    \"RStudentResiduals\", \n",
    "    \"PRESSResidualsSqrd\"\n",
    ")"
   ]
  },
  {
   "cell_type": "code",
   "execution_count": 156,
   "id": "5dabde53",
   "metadata": {},
   "outputs": [
    {
     "data": {
      "text/html": [
       "<table class=\"dataframe\">\n",
       "<caption>A data.frame: 6 × 7</caption>\n",
       "<thead>\n",
       "\t<tr><th></th><th scope=col>Residuals</th><th scope=col>StandardizedResiduals</th><th scope=col>StudentizedResiduals</th><th scope=col>HatMatrixDiagonals</th><th scope=col>PRESSResiduals</th><th scope=col>RStudentResiduals</th><th scope=col>PRESSResidualsSqrd</th></tr>\n",
       "\t<tr><th></th><th scope=col>&lt;dbl&gt;</th><th scope=col>&lt;dbl&gt;</th><th scope=col>&lt;dbl&gt;</th><th scope=col>&lt;dbl&gt;</th><th scope=col>&lt;dbl&gt;</th><th scope=col>&lt;dbl&gt;</th><th scope=col>&lt;dbl&gt;</th></tr>\n",
       "</thead>\n",
       "<tbody>\n",
       "\t<tr><th scope=row>1</th><td>-5.0280843</td><td>-1.54260631</td><td>-1.62767993</td><td>0.10180178</td><td>-5.59796734</td><td>-1.69562881</td><td>31.337238364</td></tr>\n",
       "\t<tr><th scope=row>2</th><td> 1.1463854</td><td> 0.35170879</td><td> 0.36484267</td><td>0.07070164</td><td> 1.23360321</td><td> 0.35753764</td><td> 1.521776888</td></tr>\n",
       "\t<tr><th scope=row>3</th><td>-0.0497937</td><td>-0.01527661</td><td>-0.01609165</td><td>0.09873476</td><td>-0.05524867</td><td>-0.01572177</td><td> 0.003052415</td></tr>\n",
       "\t<tr><th scope=row>4</th><td> 4.9243539</td><td> 1.51078203</td><td> 1.57972040</td><td>0.08537479</td><td> 5.38401290</td><td> 1.63916491</td><td>28.987594871</td></tr>\n",
       "\t<tr><th scope=row>5</th><td>-0.4443983</td><td>-0.13634053</td><td>-0.14176094</td><td>0.07501050</td><td>-0.48043610</td><td>-0.13856493</td><td> 0.230818843</td></tr>\n",
       "\t<tr><th scope=row>6</th><td>-0.2895743</td><td>-0.08884082</td><td>-0.09080847</td><td>0.04286693</td><td>-0.30254339</td><td>-0.08873728</td><td> 0.091532503</td></tr>\n",
       "</tbody>\n",
       "</table>\n"
      ],
      "text/latex": [
       "A data.frame: 6 × 7\n",
       "\\begin{tabular}{r|lllllll}\n",
       "  & Residuals & StandardizedResiduals & StudentizedResiduals & HatMatrixDiagonals & PRESSResiduals & RStudentResiduals & PRESSResidualsSqrd\\\\\n",
       "  & <dbl> & <dbl> & <dbl> & <dbl> & <dbl> & <dbl> & <dbl>\\\\\n",
       "\\hline\n",
       "\t1 & -5.0280843 & -1.54260631 & -1.62767993 & 0.10180178 & -5.59796734 & -1.69562881 & 31.337238364\\\\\n",
       "\t2 &  1.1463854 &  0.35170879 &  0.36484267 & 0.07070164 &  1.23360321 &  0.35753764 &  1.521776888\\\\\n",
       "\t3 & -0.0497937 & -0.01527661 & -0.01609165 & 0.09873476 & -0.05524867 & -0.01572177 &  0.003052415\\\\\n",
       "\t4 &  4.9243539 &  1.51078203 &  1.57972040 & 0.08537479 &  5.38401290 &  1.63916491 & 28.987594871\\\\\n",
       "\t5 & -0.4443983 & -0.13634053 & -0.14176094 & 0.07501050 & -0.48043610 & -0.13856493 &  0.230818843\\\\\n",
       "\t6 & -0.2895743 & -0.08884082 & -0.09080847 & 0.04286693 & -0.30254339 & -0.08873728 &  0.091532503\\\\\n",
       "\\end{tabular}\n"
      ],
      "text/markdown": [
       "\n",
       "A data.frame: 6 × 7\n",
       "\n",
       "| <!--/--> | Residuals &lt;dbl&gt; | StandardizedResiduals &lt;dbl&gt; | StudentizedResiduals &lt;dbl&gt; | HatMatrixDiagonals &lt;dbl&gt; | PRESSResiduals &lt;dbl&gt; | RStudentResiduals &lt;dbl&gt; | PRESSResidualsSqrd &lt;dbl&gt; |\n",
       "|---|---|---|---|---|---|---|---|\n",
       "| 1 | -5.0280843 | -1.54260631 | -1.62767993 | 0.10180178 | -5.59796734 | -1.69562881 | 31.337238364 |\n",
       "| 2 |  1.1463854 |  0.35170879 |  0.36484267 | 0.07070164 |  1.23360321 |  0.35753764 |  1.521776888 |\n",
       "| 3 | -0.0497937 | -0.01527661 | -0.01609165 | 0.09873476 | -0.05524867 | -0.01572177 |  0.003052415 |\n",
       "| 4 |  4.9243539 |  1.51078203 |  1.57972040 | 0.08537479 |  5.38401290 |  1.63916491 | 28.987594871 |\n",
       "| 5 | -0.4443983 | -0.13634053 | -0.14176094 | 0.07501050 | -0.48043610 | -0.13856493 |  0.230818843 |\n",
       "| 6 | -0.2895743 | -0.08884082 | -0.09080847 | 0.04286693 | -0.30254339 | -0.08873728 |  0.091532503 |\n",
       "\n"
      ],
      "text/plain": [
       "  Residuals  StandardizedResiduals StudentizedResiduals HatMatrixDiagonals\n",
       "1 -5.0280843 -1.54260631           -1.62767993          0.10180178        \n",
       "2  1.1463854  0.35170879            0.36484267          0.07070164        \n",
       "3 -0.0497937 -0.01527661           -0.01609165          0.09873476        \n",
       "4  4.9243539  1.51078203            1.57972040          0.08537479        \n",
       "5 -0.4443983 -0.13634053           -0.14176094          0.07501050        \n",
       "6 -0.2895743 -0.08884082           -0.09080847          0.04286693        \n",
       "  PRESSResiduals RStudentResiduals PRESSResidualsSqrd\n",
       "1 -5.59796734    -1.69562881       31.337238364      \n",
       "2  1.23360321     0.35753764        1.521776888      \n",
       "3 -0.05524867    -0.01572177        0.003052415      \n",
       "4  5.38401290     1.63916491       28.987594871      \n",
       "5 -0.48043610    -0.13856493        0.230818843      \n",
       "6 -0.30254339    -0.08873728        0.091532503      "
      ]
     },
     "metadata": {},
     "output_type": "display_data"
    }
   ],
   "source": [
    "head(Delivery.Residual_df)"
   ]
  },
  {
   "cell_type": "code",
   "execution_count": 157,
   "id": "b25fef35",
   "metadata": {},
   "outputs": [],
   "source": [
    "Delivery.PRESSResidualSummary <- PRESS(Delivery.lm, verbose = FALSE)"
   ]
  },
  {
   "cell_type": "code",
   "execution_count": 158,
   "id": "483821cb",
   "metadata": {},
   "outputs": [
    {
     "data": {
      "text/html": [
       "TRUE"
      ],
      "text/latex": [
       "TRUE"
      ],
      "text/markdown": [
       "TRUE"
      ],
      "text/plain": [
       "[1] TRUE"
      ]
     },
     "metadata": {},
     "output_type": "display_data"
    }
   ],
   "source": [
    "# PRESS Residual Summary\n",
    "Delivery.PRESSResidualSummary <- Delivery.PRESSResidualSummary$stat\n",
    "Delivery.PRESSResidualSummary_2 <- sum(Delivery.PRESSResidualSqrd)\n",
    "\n",
    "all.equal(Delivery.PRESSResidualSummary, Delivery.PRESSResidualSummary_2)"
   ]
  },
  {
   "cell_type": "markdown",
   "id": "bddfa0f1",
   "metadata": {},
   "source": [
    "### 4.2"
   ]
  },
  {
   "cell_type": "code",
   "execution_count": 160,
   "id": "e5f738f5",
   "metadata": {},
   "outputs": [
    {
     "data": {
      "image/png": "[encoded data removed]",
      "text/plain": [
       "Plot with title “Delivery Time”"
      ]
     },
     "metadata": {
      "image/png": {
       "height": 420,
       "width": 420
      }
     },
     "output_type": "display_data"
    }
   ],
   "source": [
    "qqnorm(Delivery.RStudentResiduals,\n",
    "       ylab=\"R Student Residuals\",\n",
    "       xlab=\"Normal Scores\",\n",
    "       main=\"Delivery Time\"\n",
    ")\n",
    "qqline(Delivery.RStudentResiduals)"
   ]
  },
  {
   "cell_type": "code",
   "execution_count": 164,
   "id": "bf607f58",
   "metadata": {},
   "outputs": [
    {
     "ename": "ERROR",
     "evalue": "Error: Mapping should be created with `aes()` or `aes_()`.\n",
     "output_type": "error",
     "traceback": [
      "Error: Mapping should be created with `aes()` or `aes_()`.\nTraceback:\n",
      "1. ggplot(mapping = Delivery.RStudentResiduals)",
      "2. ggplot.default(mapping = Delivery.RStudentResiduals)",
      "3. abort(\"Mapping should be created with `aes()` or `aes_()`.\")",
      "4. signal_abort(cnd)"
     ]
    }
   ],
   "source": [
    "ggplot(mapping = Delivery.RStudentResiduals)"
   ]
  },
  {
   "cell_type": "code",
   "execution_count": 170,
   "id": "68455ddd",
   "metadata": {},
   "outputs": [],
   "source": [
    "P = ecdf(Delivery.RStudentResiduals)"
   ]
  },
  {
   "cell_type": "code",
   "execution_count": 176,
   "id": "4ef86dbe",
   "metadata": {},
   "outputs": [
    {
     "data": {
      "image/png": "[encoded data removed]",
      "text/plain": [
       "Plot with title “ecdf(Delivery.RStudentResiduals)”"
      ]
     },
     "metadata": {
      "image/png": {
       "height": 420,
       "width": 420
      }
     },
     "output_type": "display_data"
    }
   ],
   "source": [
    "plot(P)\n",
    "abline(0,1)"
   ]
  },
  {
   "cell_type": "code",
   "execution_count": 175,
   "id": "9e34d3a4",
   "metadata": {},
   "outputs": [
    {
     "data": {
      "image/png": "[encoded data removed]",
      "text/plain": [
       "plot without title"
      ]
     },
     "metadata": {
      "image/png": {
       "height": 420,
       "width": 420
      }
     },
     "output_type": "display_data"
    }
   ],
   "source": [
    "ggplot(NULL, aes(x=Delivery.RStudentResiduals)) + geom_step(stat=\"ecdf\")"
   ]
  },
  {
   "cell_type": "code",
   "execution_count": null,
   "id": "33d18006",
   "metadata": {},
   "outputs": [],
   "source": []
  }
 ],
 "metadata": {
  "kernelspec": {
   "display_name": "R",
   "language": "R",
   "name": "ir"
  },
  "language_info": {
   "codemirror_mode": "r",
   "file_extension": ".r",
   "mimetype": "text/x-r-source",
   "name": "R",
   "pygments_lexer": "r",
   "version": "3.6.3"
  }
 },
 "nbformat": 4,
 "nbformat_minor": 5
}
