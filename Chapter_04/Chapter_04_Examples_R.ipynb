{
 "cells": [
  {
   "cell_type": "markdown",
   "id": "6dc2ea8d",
   "metadata": {},
   "source": [
    "# Chapter 4 Examples - R"
   ]
  },
  {
   "cell_type": "code",
   "execution_count": 1,
   "id": "ccff5d98",
   "metadata": {},
   "outputs": [
    {
     "name": "stderr",
     "output_type": "stream",
     "text": [
      "Installing package into ‘/home/jeremyfbuss/R/x86_64-pc-linux-gnu-library/3.6’\n",
      "(as ‘lib’ is unspecified)\n",
      "\n"
     ]
    }
   ],
   "source": [
    "#### Sytem may require the following: \n",
    "# sudo apt install libcurl4-openssl-dev\n",
    "# sudo apt install libxml2-dev\n",
    "\n",
    "#### Only need to run the folloing installs once\n",
    "# install.packages(c(\"ggplot2\", \"ggpubr\", \"tidyverse\", \"broom\", \n",
    "#                    \"AICcmodavg\", \"ellipse\", \"asbio\", \"QuantPsyc\", \n",
    "#                    \"qpcR\",\"qqplotr\"))\n",
    "install.packages(\"qqplotr\")"
   ]
  },
  {
   "cell_type": "markdown",
   "id": "1395c5d3",
   "metadata": {},
   "source": [
    "## Load Libraries"
   ]
  },
  {
   "cell_type": "code",
   "execution_count": 2,
   "id": "75fa0838",
   "metadata": {},
   "outputs": [],
   "source": [
    "suppressMessages(library(readxl))\n",
    "suppressMessages(library(qpcR))\n",
    "suppressMessages(library(ggplot2))\n",
    "suppressMessages(library(qqplotr))\n",
    "#suppressMessages(library(ggpubr))\n",
    "#suppressMessages(library(tidyverse))\n",
    "#suppressMessages(library(broom))\n",
    "#suppressMessages(library(AICcmodavg))\n",
    "#suppressMessages(library(ellipse))\n",
    "#suppressMessages(library(asbio))\n",
    "#suppressMessages(library(QuantPsyc))"
   ]
  },
  {
   "cell_type": "markdown",
   "id": "b4240d0d",
   "metadata": {},
   "source": [
    "## 4.1 - The Delivery Time Data"
   ]
  },
  {
   "cell_type": "code",
   "execution_count": 3,
   "id": "c6a177e8",
   "metadata": {},
   "outputs": [
    {
     "data": {
      "text/html": [
       "<table class=\"dataframe\">\n",
       "<caption>A data.frame: 6 × 3</caption>\n",
       "<thead>\n",
       "\t<tr><th></th><th scope=col>DeliveryTime</th><th scope=col>NumberCases</th><th scope=col>Distance</th></tr>\n",
       "\t<tr><th></th><th scope=col>&lt;dbl&gt;</th><th scope=col>&lt;dbl&gt;</th><th scope=col>&lt;dbl&gt;</th></tr>\n",
       "</thead>\n",
       "<tbody>\n",
       "\t<tr><th scope=row>1</th><td>16.68</td><td>7</td><td>560</td></tr>\n",
       "\t<tr><th scope=row>2</th><td>11.50</td><td>3</td><td>220</td></tr>\n",
       "\t<tr><th scope=row>3</th><td>12.03</td><td>3</td><td>340</td></tr>\n",
       "\t<tr><th scope=row>4</th><td>14.88</td><td>4</td><td> 80</td></tr>\n",
       "\t<tr><th scope=row>5</th><td>13.75</td><td>6</td><td>150</td></tr>\n",
       "\t<tr><th scope=row>6</th><td>18.11</td><td>7</td><td>330</td></tr>\n",
       "</tbody>\n",
       "</table>\n"
      ],
      "text/latex": [
       "A data.frame: 6 × 3\n",
       "\\begin{tabular}{r|lll}\n",
       "  & DeliveryTime & NumberCases & Distance\\\\\n",
       "  & <dbl> & <dbl> & <dbl>\\\\\n",
       "\\hline\n",
       "\t1 & 16.68 & 7 & 560\\\\\n",
       "\t2 & 11.50 & 3 & 220\\\\\n",
       "\t3 & 12.03 & 3 & 340\\\\\n",
       "\t4 & 14.88 & 4 &  80\\\\\n",
       "\t5 & 13.75 & 6 & 150\\\\\n",
       "\t6 & 18.11 & 7 & 330\\\\\n",
       "\\end{tabular}\n"
      ],
      "text/markdown": [
       "\n",
       "A data.frame: 6 × 3\n",
       "\n",
       "| <!--/--> | DeliveryTime &lt;dbl&gt; | NumberCases &lt;dbl&gt; | Distance &lt;dbl&gt; |\n",
       "|---|---|---|---|\n",
       "| 1 | 16.68 | 7 | 560 |\n",
       "| 2 | 11.50 | 3 | 220 |\n",
       "| 3 | 12.03 | 3 | 340 |\n",
       "| 4 | 14.88 | 4 |  80 |\n",
       "| 5 | 13.75 | 6 | 150 |\n",
       "| 6 | 18.11 | 7 | 330 |\n",
       "\n"
      ],
      "text/plain": [
       "  DeliveryTime NumberCases Distance\n",
       "1 16.68        7           560     \n",
       "2 11.50        3           220     \n",
       "3 12.03        3           340     \n",
       "4 14.88        4            80     \n",
       "5 13.75        6           150     \n",
       "6 18.11        7           330     "
      ]
     },
     "metadata": {},
     "output_type": "display_data"
    }
   ],
   "source": [
    "Delivery.table <- read_excel(\n",
    "    '../linear_regression_5e_data_sets/Chapter 3/Examples/data-ex-3-1 (Delivery Time).xls')\n",
    "\n",
    "Delivery.df <- data.frame(Delivery.table$`Delivery Time, y`, \n",
    "                              Delivery.table$`Number of Cases, x1`, \n",
    "                              Delivery.table$`Distance, x2 (ft)`)\n",
    "\n",
    "colnames(Delivery.df) <- c(\"DeliveryTime\", \"NumberCases\", \"Distance\")\n",
    "\n",
    "head(Delivery.df)"
   ]
  },
  {
   "cell_type": "code",
   "execution_count": 4,
   "id": "854c08c2",
   "metadata": {},
   "outputs": [
    {
     "data": {
      "text/plain": [
       "  DeliveryTime    NumberCases       Distance     \n",
       " Min.   : 8.00   Min.   : 2.00   Min.   :  36.0  \n",
       " 1st Qu.:13.75   1st Qu.: 4.00   1st Qu.: 150.0  \n",
       " Median :18.11   Median : 7.00   Median : 330.0  \n",
       " Mean   :22.38   Mean   : 8.76   Mean   : 409.3  \n",
       " 3rd Qu.:21.50   3rd Qu.:10.00   3rd Qu.: 605.0  \n",
       " Max.   :79.24   Max.   :30.00   Max.   :1460.0  "
      ]
     },
     "metadata": {},
     "output_type": "display_data"
    }
   ],
   "source": [
    "summary(Delivery.df)"
   ]
  },
  {
   "cell_type": "code",
   "execution_count": 5,
   "id": "0d76c96a",
   "metadata": {},
   "outputs": [
    {
     "name": "stdout",
     "output_type": "stream",
     "text": [
      "\n",
      "Call:\n",
      "lm(formula = DeliveryTime ~ NumberCases + Distance, data = Delivery.df)\n",
      "\n",
      "Coefficients:\n",
      "(Intercept)  NumberCases     Distance  \n",
      "    2.34123      1.61591      0.01438  \n",
      "\n"
     ]
    }
   ],
   "source": [
    "Delivery.lm <- lm(\n",
    "    DeliveryTime ~ NumberCases + Distance, \n",
    "    data=Delivery.df)  \n",
    "\n",
    "print(Delivery.lm)"
   ]
  },
  {
   "cell_type": "code",
   "execution_count": 6,
   "id": "6be1d6d1",
   "metadata": {},
   "outputs": [
    {
     "data": {
      "text/plain": [
       "\n",
       "Call:\n",
       "lm(formula = DeliveryTime ~ NumberCases + Distance, data = Delivery.df)\n",
       "\n",
       "Residuals:\n",
       "    Min      1Q  Median      3Q     Max \n",
       "-5.7880 -0.6629  0.4364  1.1566  7.4197 \n",
       "\n",
       "Coefficients:\n",
       "            Estimate Std. Error t value Pr(>|t|)    \n",
       "(Intercept) 2.341231   1.096730   2.135 0.044170 *  \n",
       "NumberCases 1.615907   0.170735   9.464 3.25e-09 ***\n",
       "Distance    0.014385   0.003613   3.981 0.000631 ***\n",
       "---\n",
       "Signif. codes:  0 ‘***’ 0.001 ‘**’ 0.01 ‘*’ 0.05 ‘.’ 0.1 ‘ ’ 1\n",
       "\n",
       "Residual standard error: 3.259 on 22 degrees of freedom\n",
       "Multiple R-squared:  0.9596,\tAdjusted R-squared:  0.9559 \n",
       "F-statistic: 261.2 on 2 and 22 DF,  p-value: 4.687e-16\n"
      ]
     },
     "metadata": {},
     "output_type": "display_data"
    }
   ],
   "source": [
    "summary(Delivery.lm)"
   ]
  },
  {
   "cell_type": "code",
   "execution_count": 1,
   "id": "4e8a3037",
   "metadata": {},
   "outputs": [
    {
     "ename": "ERROR",
     "evalue": "Error in anova(Delivery.lm): object 'Delivery.lm' not found\n",
     "output_type": "error",
     "traceback": [
      "Error in anova(Delivery.lm): object 'Delivery.lm' not found\nTraceback:\n",
      "1. anova(Delivery.lm)"
     ]
    }
   ],
   "source": [
    "anova(Delivery.lm)"
   ]
  },
  {
   "cell_type": "code",
   "execution_count": 8,
   "id": "d2f76e48",
   "metadata": {},
   "outputs": [],
   "source": [
    "Delivery.lm.Mres <- anova(Delivery.lm)[[3]][3]"
   ]
  },
  {
   "cell_type": "markdown",
   "id": "8b0c2453",
   "metadata": {},
   "source": [
    "### Various Residual Derivations (as defined by Montgomer/Peck/Vining)"
   ]
  },
  {
   "cell_type": "code",
   "execution_count": 9,
   "id": "3e6d266d",
   "metadata": {},
   "outputs": [
    {
     "data": {
      "text/html": [
       "TRUE"
      ],
      "text/latex": [
       "TRUE"
      ],
      "text/markdown": [
       "TRUE"
      ],
      "text/plain": [
       "[1] TRUE"
      ]
     },
     "metadata": {},
     "output_type": "display_data"
    }
   ],
   "source": [
    "# Residuals\n",
    "Delivery.Residuals <- resid(Delivery.lm)\n",
    "Delivery.Residuals_2 <- Delivery.lm$residuals\n",
    "\n",
    "# Check equivalency\n",
    "all.equal(Delivery.Residuals, Delivery.Residuals_2)"
   ]
  },
  {
   "cell_type": "code",
   "execution_count": 10,
   "id": "90acabea",
   "metadata": {},
   "outputs": [],
   "source": [
    "# Standardized Residuals\n",
    "Delivery.StandardizedResiduals <- resid(Delivery.lm) / sqrt(anova(Delivery.lm)[[3]][3])\n"
   ]
  },
  {
   "cell_type": "code",
   "execution_count": 11,
   "id": "da9fa452",
   "metadata": {},
   "outputs": [],
   "source": [
    "Delivery.X <- as.matrix(cbind(1,Delivery.df[2:3]))"
   ]
  },
  {
   "cell_type": "code",
   "execution_count": 12,
   "id": "27aee6f0",
   "metadata": {},
   "outputs": [
    {
     "data": {
      "text/html": [
       "TRUE"
      ],
      "text/latex": [
       "TRUE"
      ],
      "text/markdown": [
       "TRUE"
      ],
      "text/plain": [
       "[1] TRUE"
      ]
     },
     "metadata": {},
     "output_type": "display_data"
    }
   ],
   "source": [
    "# Hat Matrix Diagonal\n",
    "Delivery.HatMatrixDiagonals <- diag(Delivery.X %*% solve(t(Delivery.X) %*% Delivery.X) %*% t(Delivery.X))\n",
    "Delivery.HatMatrixDiagonals_2 <- unname(influence(Delivery.lm)$hat)\n",
    "\n",
    "all.equal(Delivery.HatMatrixDiagonals, Delivery.HatMatrixDiagonals_2)"
   ]
  },
  {
   "cell_type": "code",
   "execution_count": 13,
   "id": "edb78e12",
   "metadata": {},
   "outputs": [
    {
     "data": {
      "text/html": [
       "TRUE"
      ],
      "text/latex": [
       "TRUE"
      ],
      "text/markdown": [
       "TRUE"
      ],
      "text/plain": [
       "[1] TRUE"
      ]
     },
     "metadata": {},
     "output_type": "display_data"
    }
   ],
   "source": [
    "# Studentized Residuals\n",
    "Delivery.StudentizedResiduals <- Delivery.Residuals / sqrt(Delivery.lm.Mres * (1 - Delivery.HatMatrixDiagonals))\n",
    "Delivery.StudentizedResiduals_2 <- rstandard(Delivery.lm)\n",
    "\n",
    "# Check equivaliency\n",
    "all.equal(Delivery.StudentizedResiduals, Delivery.StudentizedResiduals_2)"
   ]
  },
  {
   "cell_type": "code",
   "execution_count": 14,
   "id": "c7d45da7",
   "metadata": {},
   "outputs": [
    {
     "data": {
      "text/html": [
       "TRUE"
      ],
      "text/latex": [
       "TRUE"
      ],
      "text/markdown": [
       "TRUE"
      ],
      "text/plain": [
       "[1] TRUE"
      ]
     },
     "metadata": {},
     "output_type": "display_data"
    }
   ],
   "source": [
    "# PRESS Residual\n",
    "Delivery.PRESSResiduals <- unname(Delivery.Residuals / (1 - Delivery.HatMatrixDiagonals))\n",
    "Delivery.PRESSResiduals_2 <- PRESS(Delivery.lm, verbose = FALSE)$residuals\n",
    "\n",
    "all.equal(Delivery.PRESSResiduals, Delivery.PRESSResiduals_2)"
   ]
  },
  {
   "cell_type": "code",
   "execution_count": 15,
   "id": "62b98d73",
   "metadata": {},
   "outputs": [
    {
     "data": {
      "text/html": [
       "TRUE"
      ],
      "text/latex": [
       "TRUE"
      ],
      "text/markdown": [
       "TRUE"
      ],
      "text/plain": [
       "[1] TRUE"
      ]
     },
     "metadata": {},
     "output_type": "display_data"
    }
   ],
   "source": [
    "# R-student Residual\n",
    "Delivery.n = nrow(Delivery.df)\n",
    "Delivery.p = ncol(Delivery.df)\n",
    "S_sub_i_squared = (\n",
    "        (Delivery.n - Delivery.p) * Delivery.lm.Mres - Delivery.Residuals^2 / (1 - Delivery.HatMatrixDiagonals)\n",
    "    ) / (\n",
    "        (Delivery.n - Delivery.p - 1)\n",
    "    )\n",
    "Delivery.RStudentResiduals <- Delivery.Residuals / sqrt(S_sub_i_squared * (1 - Delivery.HatMatrixDiagonals))\n",
    "Delivery.RStudentResiduals_2 <- rstudent(Delivery.lm)\n",
    "\n",
    "all.equal(Delivery.RStudentResiduals, Delivery.RStudentResiduals_2)"
   ]
  },
  {
   "cell_type": "code",
   "execution_count": 16,
   "id": "de2ecc21",
   "metadata": {},
   "outputs": [],
   "source": [
    "# PRESS Residual squared\n",
    "Delivery.PRESSResidualsSqrd <- Delivery.PRESSResiduals^2"
   ]
  },
  {
   "cell_type": "code",
   "execution_count": 17,
   "id": "94dbdcd7",
   "metadata": {},
   "outputs": [],
   "source": [
    "Delivery.Residual_df <- data.frame(\n",
    "    unname(Delivery.Residuals),\n",
    "    unname(Delivery.StandardizedResiduals),\n",
    "    unname(Delivery.StudentizedResiduals),\n",
    "    Delivery.HatMatrixDiagonals,\n",
    "    Delivery.PRESSResiduals,\n",
    "    Delivery.RStudentResiduals,\n",
    "    Delivery.PRESSResidualsSqrd\n",
    ")"
   ]
  },
  {
   "cell_type": "code",
   "execution_count": 18,
   "id": "784549eb",
   "metadata": {},
   "outputs": [],
   "source": [
    "colnames(Delivery.Residual_df) <- c(\n",
    "    \"Residuals\",\n",
    "    \"StandardizedResiduals\",\n",
    "    \"StudentizedResiduals\", \n",
    "    \"HatMatrixDiagonals\", \n",
    "    \"PRESSResiduals\", \n",
    "    \"RStudentResiduals\", \n",
    "    \"PRESSResidualsSqrd\"\n",
    ")"
   ]
  },
  {
   "cell_type": "code",
   "execution_count": 19,
   "id": "5dabde53",
   "metadata": {},
   "outputs": [
    {
     "data": {
      "text/html": [
       "<table class=\"dataframe\">\n",
       "<caption>A data.frame: 6 × 7</caption>\n",
       "<thead>\n",
       "\t<tr><th></th><th scope=col>Residuals</th><th scope=col>StandardizedResiduals</th><th scope=col>StudentizedResiduals</th><th scope=col>HatMatrixDiagonals</th><th scope=col>PRESSResiduals</th><th scope=col>RStudentResiduals</th><th scope=col>PRESSResidualsSqrd</th></tr>\n",
       "\t<tr><th></th><th scope=col>&lt;dbl&gt;</th><th scope=col>&lt;dbl&gt;</th><th scope=col>&lt;dbl&gt;</th><th scope=col>&lt;dbl&gt;</th><th scope=col>&lt;dbl&gt;</th><th scope=col>&lt;dbl&gt;</th><th scope=col>&lt;dbl&gt;</th></tr>\n",
       "</thead>\n",
       "<tbody>\n",
       "\t<tr><th scope=row>1</th><td>-5.0280843</td><td>-1.54260631</td><td>-1.62767993</td><td>0.10180178</td><td>-5.59796734</td><td>-1.69562881</td><td>31.337238364</td></tr>\n",
       "\t<tr><th scope=row>2</th><td> 1.1463854</td><td> 0.35170879</td><td> 0.36484267</td><td>0.07070164</td><td> 1.23360321</td><td> 0.35753764</td><td> 1.521776888</td></tr>\n",
       "\t<tr><th scope=row>3</th><td>-0.0497937</td><td>-0.01527661</td><td>-0.01609165</td><td>0.09873476</td><td>-0.05524867</td><td>-0.01572177</td><td> 0.003052415</td></tr>\n",
       "\t<tr><th scope=row>4</th><td> 4.9243539</td><td> 1.51078203</td><td> 1.57972040</td><td>0.08537479</td><td> 5.38401290</td><td> 1.63916491</td><td>28.987594871</td></tr>\n",
       "\t<tr><th scope=row>5</th><td>-0.4443983</td><td>-0.13634053</td><td>-0.14176094</td><td>0.07501050</td><td>-0.48043610</td><td>-0.13856493</td><td> 0.230818843</td></tr>\n",
       "\t<tr><th scope=row>6</th><td>-0.2895743</td><td>-0.08884082</td><td>-0.09080847</td><td>0.04286693</td><td>-0.30254339</td><td>-0.08873728</td><td> 0.091532503</td></tr>\n",
       "</tbody>\n",
       "</table>\n"
      ],
      "text/latex": [
       "A data.frame: 6 × 7\n",
       "\\begin{tabular}{r|lllllll}\n",
       "  & Residuals & StandardizedResiduals & StudentizedResiduals & HatMatrixDiagonals & PRESSResiduals & RStudentResiduals & PRESSResidualsSqrd\\\\\n",
       "  & <dbl> & <dbl> & <dbl> & <dbl> & <dbl> & <dbl> & <dbl>\\\\\n",
       "\\hline\n",
       "\t1 & -5.0280843 & -1.54260631 & -1.62767993 & 0.10180178 & -5.59796734 & -1.69562881 & 31.337238364\\\\\n",
       "\t2 &  1.1463854 &  0.35170879 &  0.36484267 & 0.07070164 &  1.23360321 &  0.35753764 &  1.521776888\\\\\n",
       "\t3 & -0.0497937 & -0.01527661 & -0.01609165 & 0.09873476 & -0.05524867 & -0.01572177 &  0.003052415\\\\\n",
       "\t4 &  4.9243539 &  1.51078203 &  1.57972040 & 0.08537479 &  5.38401290 &  1.63916491 & 28.987594871\\\\\n",
       "\t5 & -0.4443983 & -0.13634053 & -0.14176094 & 0.07501050 & -0.48043610 & -0.13856493 &  0.230818843\\\\\n",
       "\t6 & -0.2895743 & -0.08884082 & -0.09080847 & 0.04286693 & -0.30254339 & -0.08873728 &  0.091532503\\\\\n",
       "\\end{tabular}\n"
      ],
      "text/markdown": [
       "\n",
       "A data.frame: 6 × 7\n",
       "\n",
       "| <!--/--> | Residuals &lt;dbl&gt; | StandardizedResiduals &lt;dbl&gt; | StudentizedResiduals &lt;dbl&gt; | HatMatrixDiagonals &lt;dbl&gt; | PRESSResiduals &lt;dbl&gt; | RStudentResiduals &lt;dbl&gt; | PRESSResidualsSqrd &lt;dbl&gt; |\n",
       "|---|---|---|---|---|---|---|---|\n",
       "| 1 | -5.0280843 | -1.54260631 | -1.62767993 | 0.10180178 | -5.59796734 | -1.69562881 | 31.337238364 |\n",
       "| 2 |  1.1463854 |  0.35170879 |  0.36484267 | 0.07070164 |  1.23360321 |  0.35753764 |  1.521776888 |\n",
       "| 3 | -0.0497937 | -0.01527661 | -0.01609165 | 0.09873476 | -0.05524867 | -0.01572177 |  0.003052415 |\n",
       "| 4 |  4.9243539 |  1.51078203 |  1.57972040 | 0.08537479 |  5.38401290 |  1.63916491 | 28.987594871 |\n",
       "| 5 | -0.4443983 | -0.13634053 | -0.14176094 | 0.07501050 | -0.48043610 | -0.13856493 |  0.230818843 |\n",
       "| 6 | -0.2895743 | -0.08884082 | -0.09080847 | 0.04286693 | -0.30254339 | -0.08873728 |  0.091532503 |\n",
       "\n"
      ],
      "text/plain": [
       "  Residuals  StandardizedResiduals StudentizedResiduals HatMatrixDiagonals\n",
       "1 -5.0280843 -1.54260631           -1.62767993          0.10180178        \n",
       "2  1.1463854  0.35170879            0.36484267          0.07070164        \n",
       "3 -0.0497937 -0.01527661           -0.01609165          0.09873476        \n",
       "4  4.9243539  1.51078203            1.57972040          0.08537479        \n",
       "5 -0.4443983 -0.13634053           -0.14176094          0.07501050        \n",
       "6 -0.2895743 -0.08884082           -0.09080847          0.04286693        \n",
       "  PRESSResiduals RStudentResiduals PRESSResidualsSqrd\n",
       "1 -5.59796734    -1.69562881       31.337238364      \n",
       "2  1.23360321     0.35753764        1.521776888      \n",
       "3 -0.05524867    -0.01572177        0.003052415      \n",
       "4  5.38401290     1.63916491       28.987594871      \n",
       "5 -0.48043610    -0.13856493        0.230818843      \n",
       "6 -0.30254339    -0.08873728        0.091532503      "
      ]
     },
     "metadata": {},
     "output_type": "display_data"
    }
   ],
   "source": [
    "head(Delivery.Residual_df)"
   ]
  },
  {
   "cell_type": "code",
   "execution_count": 20,
   "id": "483821cb",
   "metadata": {},
   "outputs": [
    {
     "data": {
      "text/html": [
       "TRUE"
      ],
      "text/latex": [
       "TRUE"
      ],
      "text/markdown": [
       "TRUE"
      ],
      "text/plain": [
       "[1] TRUE"
      ]
     },
     "metadata": {},
     "output_type": "display_data"
    }
   ],
   "source": [
    "# PRESS Residual Summary\n",
    "Delivery.PRESSResidualsStat <- PRESS(Delivery.lm, verbose = FALSE)$stat\n",
    "Delivery.PRESSResidualsStat_2 <- sum(Delivery.PRESSResidualsSqrd)\n",
    "\n",
    "all.equal(Delivery.PRESSResidualsStat, Delivery.PRESSResidualsStat_2)"
   ]
  },
  {
   "cell_type": "markdown",
   "id": "bddfa0f1",
   "metadata": {},
   "source": [
    "## 4.2 - The Delivery Time Data"
   ]
  },
  {
   "cell_type": "code",
   "execution_count": 21,
   "id": "e5f738f5",
   "metadata": {},
   "outputs": [
    {
     "data": {
      "image/png": "[encoded data removed]",
      "text/plain": [
       "Plot with title “Delivery Time”"
      ]
     },
     "metadata": {
      "image/png": {
       "height": 420,
       "width": 420
      }
     },
     "output_type": "display_data"
    }
   ],
   "source": [
    "qqnorm(Delivery.RStudentResiduals,\n",
    "       ylab=\"R Student Residuals\",\n",
    "       xlab=\"Normal Scores\",\n",
    "       main=\"Delivery Time\"\n",
    "       , datax=TRUE\n",
    ")\n",
    "qqline(Delivery.RStudentResiduals, distribution=qnorm, datax=TRUE)"
   ]
  },
  {
   "cell_type": "markdown",
   "id": "52a5640d",
   "metadata": {},
   "source": [
    "## 4.3 - The Delivery Time Data"
   ]
  },
  {
   "cell_type": "code",
   "execution_count": 22,
   "id": "0b692f4b",
   "metadata": {},
   "outputs": [
    {
     "data": {
      "image/png": "[encoded data removed]",
      "text/plain": [
       "Plot with title “Versus Fits”"
      ]
     },
     "metadata": {
      "image/png": {
       "height": 420,
       "width": 420
      }
     },
     "output_type": "display_data"
    }
   ],
   "source": [
    "plot(\n",
    "    fitted(Delivery.lm), \n",
    "    Delivery.Residual_df$RStudentResiduals,\n",
    "    xlab=\"Fitted Values\",\n",
    "    ylab=\"Externally Studentized Residual\",\n",
    "    main=\"Versus Fits\"\n",
    ")\n",
    "abline(h=0)"
   ]
  },
  {
   "cell_type": "markdown",
   "id": "c5649d6e",
   "metadata": {},
   "source": [
    "## 4.4 - The Delivery Time Data"
   ]
  },
  {
   "cell_type": "code",
   "execution_count": 23,
   "id": "0440a230",
   "metadata": {},
   "outputs": [
    {
     "data": {
      "image/png": "[encoded data removed]",
      "text/plain": [
       "Plot with title “Residuals Versus Number of Cases”"
      ]
     },
     "metadata": {
      "image/png": {
       "height": 420,
       "width": 420
      }
     },
     "output_type": "display_data"
    }
   ],
   "source": [
    "plot(\n",
    "    Delivery.df$NumberCases, \n",
    "    Delivery.Residual_df$RStudentResiduals,\n",
    "    xlab=\"Number of Cases\",\n",
    "    ylab=\"Externally Studentized Residual\",\n",
    "    main=\"Residuals Versus Number of Cases\"\n",
    ")\n",
    "abline(h=0)"
   ]
  },
  {
   "cell_type": "code",
   "execution_count": 24,
   "id": "bbf76544",
   "metadata": {},
   "outputs": [
    {
     "data": {
      "image/png": "[encoded data removed]",
      "text/plain": [
       "Plot with title “Residuals Versus Distance”"
      ]
     },
     "metadata": {
      "image/png": {
       "height": 420,
       "width": 420
      }
     },
     "output_type": "display_data"
    }
   ],
   "source": [
    "plot(\n",
    "    Delivery.df$Distance, \n",
    "    Delivery.Residual_df$RStudentResiduals,\n",
    "    xlab=\"Distance\",\n",
    "    ylab=\"Externally Studentized Residual\",\n",
    "    main=\"Residuals Versus Distance\"\n",
    ")\n",
    "abline(h=0)"
   ]
  },
  {
   "cell_type": "markdown",
   "id": "9eb24704",
   "metadata": {},
   "source": [
    "## 4.5 - The Delivery Time Data"
   ]
  },
  {
   "cell_type": "code",
   "execution_count": 25,
   "id": "af044ca9",
   "metadata": {},
   "outputs": [],
   "source": [
    "CasesPartialRegressionA.lm <- lm(Delivery.df$DeliveryTime ~ Delivery.df$Distance)\n",
    "CasesPartialRegressionA.Residuals <- resid(CasesPartialRegressionA.lm)\n",
    "CasesPartialRegressionB.lm <- lm(Delivery.df$NumberCases ~ Delivery.df$Distance)\n",
    "CasesPartialRegressionB.Residuals <- resid(CasesPartialRegressionB.lm)"
   ]
  },
  {
   "cell_type": "code",
   "execution_count": 26,
   "id": "89294354",
   "metadata": {},
   "outputs": [
    {
     "data": {
      "image/png": "[encoded data removed]",
      "text/plain": [
       "Plot with title “Partial...”"
      ]
     },
     "metadata": {
      "image/png": {
       "height": 420,
       "width": 420
      }
     },
     "output_type": "display_data"
    }
   ],
   "source": [
    "plot(\n",
    "    CasesPartialRegressionB.Residuals, \n",
    "    CasesPartialRegressionA.Residuals,\n",
    "    xlab=\"Cases\",\n",
    "    ylab=\"Time\",\n",
    "    main=\"Partial...\"\n",
    ")"
   ]
  },
  {
   "cell_type": "code",
   "execution_count": 27,
   "id": "2128224b",
   "metadata": {},
   "outputs": [],
   "source": [
    "DistancePartialRegressionA.lm <- lm(Delivery.df$DeliveryTime ~ Delivery.df$NumberCases)\n",
    "DistancePartialRegressionA.Residuals <- resid(DistancePartialRegressionA.lm)\n",
    "DistancePartialRegressionB.lm <- lm(Delivery.df$Distance ~ Delivery.df$NumberCases)\n",
    "DistancePartialRegressionB.Residuals <- resid(DistancePartialRegressionB.lm)"
   ]
  },
  {
   "cell_type": "code",
   "execution_count": 28,
   "id": "5512f400",
   "metadata": {},
   "outputs": [
    {
     "data": {
      "image/png": "[encoded data removed]",
      "text/plain": [
       "Plot with title “Partial...”"
      ]
     },
     "metadata": {
      "image/png": {
       "height": 420,
       "width": 420
      }
     },
     "output_type": "display_data"
    }
   ],
   "source": [
    "plot(\n",
    "    DistancePartialRegressionB.Residuals, \n",
    "    DistancePartialRegressionA.Residuals,\n",
    "    xlab=\"Distance\",\n",
    "    ylab=\"Time\",\n",
    "    main=\"Partial...\"\n",
    ")"
   ]
  },
  {
   "cell_type": "markdown",
   "id": "0c5224a5",
   "metadata": {},
   "source": [
    "## 4.6 - The Delivery Time Data"
   ]
  },
  {
   "cell_type": "code",
   "execution_count": 29,
   "id": "82089432",
   "metadata": {},
   "outputs": [
    {
     "data": {
      "text/html": [
       "<table class=\"dataframe\">\n",
       "<caption>A data.frame: 25 × 7</caption>\n",
       "<thead>\n",
       "\t<tr><th></th><th scope=col>Residuals</th><th scope=col>StandardizedResiduals</th><th scope=col>StudentizedResiduals</th><th scope=col>HatMatrixDiagonals</th><th scope=col>PRESSResiduals</th><th scope=col>RStudentResiduals</th><th scope=col>PRESSResidualsSqrd</th></tr>\n",
       "\t<tr><th></th><th scope=col>&lt;dbl&gt;</th><th scope=col>&lt;dbl&gt;</th><th scope=col>&lt;dbl&gt;</th><th scope=col>&lt;dbl&gt;</th><th scope=col>&lt;dbl&gt;</th><th scope=col>&lt;dbl&gt;</th><th scope=col>&lt;dbl&gt;</th></tr>\n",
       "</thead>\n",
       "<tbody>\n",
       "\t<tr><th scope=row>1</th><td>-5.0280843</td><td>-1.54260631</td><td>-1.62767993</td><td>0.10180178</td><td>-5.59796734</td><td>-1.69562881</td><td>3.133724e+01</td></tr>\n",
       "\t<tr><th scope=row>2</th><td> 1.1463854</td><td> 0.35170879</td><td> 0.36484267</td><td>0.07070164</td><td> 1.23360321</td><td> 0.35753764</td><td>1.521777e+00</td></tr>\n",
       "\t<tr><th scope=row>3</th><td>-0.0497937</td><td>-0.01527661</td><td>-0.01609165</td><td>0.09873476</td><td>-0.05524867</td><td>-0.01572177</td><td>3.052415e-03</td></tr>\n",
       "\t<tr><th scope=row>4</th><td> 4.9243539</td><td> 1.51078203</td><td> 1.57972040</td><td>0.08537479</td><td> 5.38401290</td><td> 1.63916491</td><td>2.898759e+01</td></tr>\n",
       "\t<tr><th scope=row>5</th><td>-0.4443983</td><td>-0.13634053</td><td>-0.14176094</td><td>0.07501050</td><td>-0.48043610</td><td>-0.13856493</td><td>2.308188e-01</td></tr>\n",
       "\t<tr><th scope=row>6</th><td>-0.2895743</td><td>-0.08884082</td><td>-0.09080847</td><td>0.04286693</td><td>-0.30254339</td><td>-0.08873728</td><td>9.153250e-02</td></tr>\n",
       "\t<tr><th scope=row>7</th><td> 0.8446235</td><td> 0.25912883</td><td> 0.27042496</td><td>0.08179867</td><td> 0.91986749</td><td> 0.26464769</td><td>8.461562e-01</td></tr>\n",
       "\t<tr><th scope=row>8</th><td> 1.1566049</td><td> 0.35484408</td><td> 0.36672118</td><td>0.06372559</td><td> 1.23532680</td><td> 0.35938983</td><td>1.526032e+00</td></tr>\n",
       "\t<tr><th scope=row>9</th><td> 7.4197062</td><td> 2.27635117</td><td> 3.21376278</td><td>0.49829216</td><td>14.78889824</td><td> 4.31078012</td><td>2.187115e+02</td></tr>\n",
       "\t<tr><th scope=row>10</th><td> 2.3764129</td><td> 0.72907878</td><td> 0.81325432</td><td>0.19629595</td><td> 2.95682585</td><td> 0.80677584</td><td>8.742819e+00</td></tr>\n",
       "\t<tr><th scope=row>11</th><td> 2.2374930</td><td> 0.68645843</td><td> 0.71807970</td><td>0.08613260</td><td> 2.44837821</td><td> 0.70993906</td><td>5.994556e+00</td></tr>\n",
       "\t<tr><th scope=row>12</th><td>-0.5930409</td><td>-0.18194377</td><td>-0.19325733</td><td>0.11365570</td><td>-0.66908638</td><td>-0.18897451</td><td>4.476766e-01</td></tr>\n",
       "\t<tr><th scope=row>13</th><td> 1.0270093</td><td> 0.31508443</td><td> 0.32517935</td><td>0.06112463</td><td> 1.09387183</td><td> 0.31846924</td><td>1.196556e+00</td></tr>\n",
       "\t<tr><th scope=row>14</th><td> 1.0675359</td><td> 0.32751789</td><td> 0.34113547</td><td>0.07824332</td><td> 1.15815364</td><td> 0.33417725</td><td>1.341320e+00</td></tr>\n",
       "\t<tr><th scope=row>15</th><td> 0.6712018</td><td> 0.20592338</td><td> 0.21029137</td><td>0.04111077</td><td> 0.69997845</td><td> 0.20566324</td><td>4.899698e-01</td></tr>\n",
       "\t<tr><th scope=row>16</th><td>-0.6629284</td><td>-0.20338513</td><td>-0.22270023</td><td>0.16594043</td><td>-0.79482144</td><td>-0.21782566</td><td>6.317411e-01</td></tr>\n",
       "\t<tr><th scope=row>17</th><td> 0.4363603</td><td> 0.13387449</td><td> 0.13803929</td><td>0.05943202</td><td> 0.46393280</td><td> 0.13492400</td><td>2.152336e-01</td></tr>\n",
       "\t<tr><th scope=row>18</th><td> 3.4486213</td><td> 1.05803019</td><td> 1.11295196</td><td>0.09626046</td><td> 3.81594602</td><td> 1.11933065</td><td>1.456144e+01</td></tr>\n",
       "\t<tr><th scope=row>19</th><td> 1.7931935</td><td> 0.55014821</td><td> 0.57876634</td><td>0.09644857</td><td> 1.98460588</td><td> 0.56981420</td><td>3.938661e+00</td></tr>\n",
       "\t<tr><th scope=row>20</th><td>-5.7879699</td><td>-1.77573772</td><td>-1.87354643</td><td>0.10168486</td><td>-6.44313971</td><td>-1.99667657</td><td>4.151405e+01</td></tr>\n",
       "\t<tr><th scope=row>21</th><td>-2.6141789</td><td>-0.80202492</td><td>-0.87784258</td><td>0.16527689</td><td>-3.13179171</td><td>-0.87308697</td><td>9.808119e+00</td></tr>\n",
       "\t<tr><th scope=row>22</th><td>-3.6865279</td><td>-1.13101946</td><td>-1.44999541</td><td>0.39157522</td><td>-6.05913500</td><td>-1.48962473</td><td>3.671312e+01</td></tr>\n",
       "\t<tr><th scope=row>23</th><td>-4.6075679</td><td>-1.41359270</td><td>-1.44368977</td><td>0.04126005</td><td>-4.80585779</td><td>-1.48246718</td><td>2.309627e+01</td></tr>\n",
       "\t<tr><th scope=row>24</th><td>-4.5728535</td><td>-1.40294240</td><td>-1.49605875</td><td>0.12060826</td><td>-5.20001871</td><td>-1.54221512</td><td>2.704019e+01</td></tr>\n",
       "\t<tr><th scope=row>25</th><td>-0.2125839</td><td>-0.06522033</td><td>-0.06750861</td><td>0.06664345</td><td>-0.22776283</td><td>-0.06596332</td><td>5.187591e-02</td></tr>\n",
       "</tbody>\n",
       "</table>\n"
      ],
      "text/latex": [
       "A data.frame: 25 × 7\n",
       "\\begin{tabular}{r|lllllll}\n",
       "  & Residuals & StandardizedResiduals & StudentizedResiduals & HatMatrixDiagonals & PRESSResiduals & RStudentResiduals & PRESSResidualsSqrd\\\\\n",
       "  & <dbl> & <dbl> & <dbl> & <dbl> & <dbl> & <dbl> & <dbl>\\\\\n",
       "\\hline\n",
       "\t1 & -5.0280843 & -1.54260631 & -1.62767993 & 0.10180178 & -5.59796734 & -1.69562881 & 3.133724e+01\\\\\n",
       "\t2 &  1.1463854 &  0.35170879 &  0.36484267 & 0.07070164 &  1.23360321 &  0.35753764 & 1.521777e+00\\\\\n",
       "\t3 & -0.0497937 & -0.01527661 & -0.01609165 & 0.09873476 & -0.05524867 & -0.01572177 & 3.052415e-03\\\\\n",
       "\t4 &  4.9243539 &  1.51078203 &  1.57972040 & 0.08537479 &  5.38401290 &  1.63916491 & 2.898759e+01\\\\\n",
       "\t5 & -0.4443983 & -0.13634053 & -0.14176094 & 0.07501050 & -0.48043610 & -0.13856493 & 2.308188e-01\\\\\n",
       "\t6 & -0.2895743 & -0.08884082 & -0.09080847 & 0.04286693 & -0.30254339 & -0.08873728 & 9.153250e-02\\\\\n",
       "\t7 &  0.8446235 &  0.25912883 &  0.27042496 & 0.08179867 &  0.91986749 &  0.26464769 & 8.461562e-01\\\\\n",
       "\t8 &  1.1566049 &  0.35484408 &  0.36672118 & 0.06372559 &  1.23532680 &  0.35938983 & 1.526032e+00\\\\\n",
       "\t9 &  7.4197062 &  2.27635117 &  3.21376278 & 0.49829216 & 14.78889824 &  4.31078012 & 2.187115e+02\\\\\n",
       "\t10 &  2.3764129 &  0.72907878 &  0.81325432 & 0.19629595 &  2.95682585 &  0.80677584 & 8.742819e+00\\\\\n",
       "\t11 &  2.2374930 &  0.68645843 &  0.71807970 & 0.08613260 &  2.44837821 &  0.70993906 & 5.994556e+00\\\\\n",
       "\t12 & -0.5930409 & -0.18194377 & -0.19325733 & 0.11365570 & -0.66908638 & -0.18897451 & 4.476766e-01\\\\\n",
       "\t13 &  1.0270093 &  0.31508443 &  0.32517935 & 0.06112463 &  1.09387183 &  0.31846924 & 1.196556e+00\\\\\n",
       "\t14 &  1.0675359 &  0.32751789 &  0.34113547 & 0.07824332 &  1.15815364 &  0.33417725 & 1.341320e+00\\\\\n",
       "\t15 &  0.6712018 &  0.20592338 &  0.21029137 & 0.04111077 &  0.69997845 &  0.20566324 & 4.899698e-01\\\\\n",
       "\t16 & -0.6629284 & -0.20338513 & -0.22270023 & 0.16594043 & -0.79482144 & -0.21782566 & 6.317411e-01\\\\\n",
       "\t17 &  0.4363603 &  0.13387449 &  0.13803929 & 0.05943202 &  0.46393280 &  0.13492400 & 2.152336e-01\\\\\n",
       "\t18 &  3.4486213 &  1.05803019 &  1.11295196 & 0.09626046 &  3.81594602 &  1.11933065 & 1.456144e+01\\\\\n",
       "\t19 &  1.7931935 &  0.55014821 &  0.57876634 & 0.09644857 &  1.98460588 &  0.56981420 & 3.938661e+00\\\\\n",
       "\t20 & -5.7879699 & -1.77573772 & -1.87354643 & 0.10168486 & -6.44313971 & -1.99667657 & 4.151405e+01\\\\\n",
       "\t21 & -2.6141789 & -0.80202492 & -0.87784258 & 0.16527689 & -3.13179171 & -0.87308697 & 9.808119e+00\\\\\n",
       "\t22 & -3.6865279 & -1.13101946 & -1.44999541 & 0.39157522 & -6.05913500 & -1.48962473 & 3.671312e+01\\\\\n",
       "\t23 & -4.6075679 & -1.41359270 & -1.44368977 & 0.04126005 & -4.80585779 & -1.48246718 & 2.309627e+01\\\\\n",
       "\t24 & -4.5728535 & -1.40294240 & -1.49605875 & 0.12060826 & -5.20001871 & -1.54221512 & 2.704019e+01\\\\\n",
       "\t25 & -0.2125839 & -0.06522033 & -0.06750861 & 0.06664345 & -0.22776283 & -0.06596332 & 5.187591e-02\\\\\n",
       "\\end{tabular}\n"
      ],
      "text/markdown": [
       "\n",
       "A data.frame: 25 × 7\n",
       "\n",
       "| <!--/--> | Residuals &lt;dbl&gt; | StandardizedResiduals &lt;dbl&gt; | StudentizedResiduals &lt;dbl&gt; | HatMatrixDiagonals &lt;dbl&gt; | PRESSResiduals &lt;dbl&gt; | RStudentResiduals &lt;dbl&gt; | PRESSResidualsSqrd &lt;dbl&gt; |\n",
       "|---|---|---|---|---|---|---|---|\n",
       "| 1 | -5.0280843 | -1.54260631 | -1.62767993 | 0.10180178 | -5.59796734 | -1.69562881 | 3.133724e+01 |\n",
       "| 2 |  1.1463854 |  0.35170879 |  0.36484267 | 0.07070164 |  1.23360321 |  0.35753764 | 1.521777e+00 |\n",
       "| 3 | -0.0497937 | -0.01527661 | -0.01609165 | 0.09873476 | -0.05524867 | -0.01572177 | 3.052415e-03 |\n",
       "| 4 |  4.9243539 |  1.51078203 |  1.57972040 | 0.08537479 |  5.38401290 |  1.63916491 | 2.898759e+01 |\n",
       "| 5 | -0.4443983 | -0.13634053 | -0.14176094 | 0.07501050 | -0.48043610 | -0.13856493 | 2.308188e-01 |\n",
       "| 6 | -0.2895743 | -0.08884082 | -0.09080847 | 0.04286693 | -0.30254339 | -0.08873728 | 9.153250e-02 |\n",
       "| 7 |  0.8446235 |  0.25912883 |  0.27042496 | 0.08179867 |  0.91986749 |  0.26464769 | 8.461562e-01 |\n",
       "| 8 |  1.1566049 |  0.35484408 |  0.36672118 | 0.06372559 |  1.23532680 |  0.35938983 | 1.526032e+00 |\n",
       "| 9 |  7.4197062 |  2.27635117 |  3.21376278 | 0.49829216 | 14.78889824 |  4.31078012 | 2.187115e+02 |\n",
       "| 10 |  2.3764129 |  0.72907878 |  0.81325432 | 0.19629595 |  2.95682585 |  0.80677584 | 8.742819e+00 |\n",
       "| 11 |  2.2374930 |  0.68645843 |  0.71807970 | 0.08613260 |  2.44837821 |  0.70993906 | 5.994556e+00 |\n",
       "| 12 | -0.5930409 | -0.18194377 | -0.19325733 | 0.11365570 | -0.66908638 | -0.18897451 | 4.476766e-01 |\n",
       "| 13 |  1.0270093 |  0.31508443 |  0.32517935 | 0.06112463 |  1.09387183 |  0.31846924 | 1.196556e+00 |\n",
       "| 14 |  1.0675359 |  0.32751789 |  0.34113547 | 0.07824332 |  1.15815364 |  0.33417725 | 1.341320e+00 |\n",
       "| 15 |  0.6712018 |  0.20592338 |  0.21029137 | 0.04111077 |  0.69997845 |  0.20566324 | 4.899698e-01 |\n",
       "| 16 | -0.6629284 | -0.20338513 | -0.22270023 | 0.16594043 | -0.79482144 | -0.21782566 | 6.317411e-01 |\n",
       "| 17 |  0.4363603 |  0.13387449 |  0.13803929 | 0.05943202 |  0.46393280 |  0.13492400 | 2.152336e-01 |\n",
       "| 18 |  3.4486213 |  1.05803019 |  1.11295196 | 0.09626046 |  3.81594602 |  1.11933065 | 1.456144e+01 |\n",
       "| 19 |  1.7931935 |  0.55014821 |  0.57876634 | 0.09644857 |  1.98460588 |  0.56981420 | 3.938661e+00 |\n",
       "| 20 | -5.7879699 | -1.77573772 | -1.87354643 | 0.10168486 | -6.44313971 | -1.99667657 | 4.151405e+01 |\n",
       "| 21 | -2.6141789 | -0.80202492 | -0.87784258 | 0.16527689 | -3.13179171 | -0.87308697 | 9.808119e+00 |\n",
       "| 22 | -3.6865279 | -1.13101946 | -1.44999541 | 0.39157522 | -6.05913500 | -1.48962473 | 3.671312e+01 |\n",
       "| 23 | -4.6075679 | -1.41359270 | -1.44368977 | 0.04126005 | -4.80585779 | -1.48246718 | 2.309627e+01 |\n",
       "| 24 | -4.5728535 | -1.40294240 | -1.49605875 | 0.12060826 | -5.20001871 | -1.54221512 | 2.704019e+01 |\n",
       "| 25 | -0.2125839 | -0.06522033 | -0.06750861 | 0.06664345 | -0.22776283 | -0.06596332 | 5.187591e-02 |\n",
       "\n"
      ],
      "text/plain": [
       "   Residuals  StandardizedResiduals StudentizedResiduals HatMatrixDiagonals\n",
       "1  -5.0280843 -1.54260631           -1.62767993          0.10180178        \n",
       "2   1.1463854  0.35170879            0.36484267          0.07070164        \n",
       "3  -0.0497937 -0.01527661           -0.01609165          0.09873476        \n",
       "4   4.9243539  1.51078203            1.57972040          0.08537479        \n",
       "5  -0.4443983 -0.13634053           -0.14176094          0.07501050        \n",
       "6  -0.2895743 -0.08884082           -0.09080847          0.04286693        \n",
       "7   0.8446235  0.25912883            0.27042496          0.08179867        \n",
       "8   1.1566049  0.35484408            0.36672118          0.06372559        \n",
       "9   7.4197062  2.27635117            3.21376278          0.49829216        \n",
       "10  2.3764129  0.72907878            0.81325432          0.19629595        \n",
       "11  2.2374930  0.68645843            0.71807970          0.08613260        \n",
       "12 -0.5930409 -0.18194377           -0.19325733          0.11365570        \n",
       "13  1.0270093  0.31508443            0.32517935          0.06112463        \n",
       "14  1.0675359  0.32751789            0.34113547          0.07824332        \n",
       "15  0.6712018  0.20592338            0.21029137          0.04111077        \n",
       "16 -0.6629284 -0.20338513           -0.22270023          0.16594043        \n",
       "17  0.4363603  0.13387449            0.13803929          0.05943202        \n",
       "18  3.4486213  1.05803019            1.11295196          0.09626046        \n",
       "19  1.7931935  0.55014821            0.57876634          0.09644857        \n",
       "20 -5.7879699 -1.77573772           -1.87354643          0.10168486        \n",
       "21 -2.6141789 -0.80202492           -0.87784258          0.16527689        \n",
       "22 -3.6865279 -1.13101946           -1.44999541          0.39157522        \n",
       "23 -4.6075679 -1.41359270           -1.44368977          0.04126005        \n",
       "24 -4.5728535 -1.40294240           -1.49605875          0.12060826        \n",
       "25 -0.2125839 -0.06522033           -0.06750861          0.06664345        \n",
       "   PRESSResiduals RStudentResiduals PRESSResidualsSqrd\n",
       "1  -5.59796734    -1.69562881       3.133724e+01      \n",
       "2   1.23360321     0.35753764       1.521777e+00      \n",
       "3  -0.05524867    -0.01572177       3.052415e-03      \n",
       "4   5.38401290     1.63916491       2.898759e+01      \n",
       "5  -0.48043610    -0.13856493       2.308188e-01      \n",
       "6  -0.30254339    -0.08873728       9.153250e-02      \n",
       "7   0.91986749     0.26464769       8.461562e-01      \n",
       "8   1.23532680     0.35938983       1.526032e+00      \n",
       "9  14.78889824     4.31078012       2.187115e+02      \n",
       "10  2.95682585     0.80677584       8.742819e+00      \n",
       "11  2.44837821     0.70993906       5.994556e+00      \n",
       "12 -0.66908638    -0.18897451       4.476766e-01      \n",
       "13  1.09387183     0.31846924       1.196556e+00      \n",
       "14  1.15815364     0.33417725       1.341320e+00      \n",
       "15  0.69997845     0.20566324       4.899698e-01      \n",
       "16 -0.79482144    -0.21782566       6.317411e-01      \n",
       "17  0.46393280     0.13492400       2.152336e-01      \n",
       "18  3.81594602     1.11933065       1.456144e+01      \n",
       "19  1.98460588     0.56981420       3.938661e+00      \n",
       "20 -6.44313971    -1.99667657       4.151405e+01      \n",
       "21 -3.13179171    -0.87308697       9.808119e+00      \n",
       "22 -6.05913500    -1.48962473       3.671312e+01      \n",
       "23 -4.80585779    -1.48246718       2.309627e+01      \n",
       "24 -5.20001871    -1.54221512       2.704019e+01      \n",
       "25 -0.22776283    -0.06596332       5.187591e-02      "
      ]
     },
     "metadata": {},
     "output_type": "display_data"
    }
   ],
   "source": [
    "Delivery.Residual_df"
   ]
  },
  {
   "cell_type": "code",
   "execution_count": 30,
   "id": "6aa7909e",
   "metadata": {},
   "outputs": [],
   "source": [
    "SS_Total <- sum(anova(Delivery.lm)[[2]])\n",
    "R2_predictions <- 1 - (Delivery.PRESSResidualsStat / SS_Total)"
   ]
  },
  {
   "cell_type": "code",
   "execution_count": 31,
   "id": "475f7e30",
   "metadata": {},
   "outputs": [
    {
     "data": {
      "text/html": [
       "0.920643800824885"
      ],
      "text/latex": [
       "0.920643800824885"
      ],
      "text/markdown": [
       "0.920643800824885"
      ],
      "text/plain": [
       "[1] 0.9206438"
      ]
     },
     "metadata": {},
     "output_type": "display_data"
    }
   ],
   "source": [
    "R2_predictions"
   ]
  },
  {
   "cell_type": "markdown",
   "id": "24d362c4",
   "metadata": {},
   "source": [
    "## 4.7 - Rocket Propellant Data"
   ]
  },
  {
   "cell_type": "markdown",
   "id": "897da735",
   "metadata": {},
   "source": [
    "### Include all the data"
   ]
  },
  {
   "cell_type": "code",
   "execution_count": 57,
   "id": "6ad48c46",
   "metadata": {},
   "outputs": [],
   "source": [
    "Rocket.table <- read_excel(\n",
    "    '../linear_regression_5e_data_sets/Chapter 2/Examples/data-ex-2-1 (Rocket Prop).xls')\n",
    "\n",
    "Rocket.df <- data.frame(Rocket.table$`Shear Strength, yi (psi)`, \n",
    "                              Rocket.table$`Age of Propellant, xi (weeks)`)\n",
    "\n",
    "colnames(Rocket.df) <- c(\"Shear\", \"Age\")\n",
    "\n",
    "Rocket.lm <- lm(\n",
    "    Shear ~ Age, \n",
    "    data=Rocket.df) \n",
    "\n",
    "Rocket.anova <- anova(Rocket.lm)\n",
    "\n",
    "Rocket.Residual_df <- data.frame(\n",
    "    rstudent(Rocket.lm)\n",
    ")\n",
    "\n",
    "colnames(Rocket.Residual_df) <- c(\n",
    "    \"RStudentResiduals\"\n",
    ")"
   ]
  },
  {
   "cell_type": "code",
   "execution_count": 45,
   "id": "928ef150",
   "metadata": {},
   "outputs": [
    {
     "data": {
      "image/png": "[encoded data removed]",
      "text/plain": [
       "Plot with title “Versus Fits”"
      ]
     },
     "metadata": {
      "image/png": {
       "height": 420,
       "width": 420
      }
     },
     "output_type": "display_data"
    }
   ],
   "source": [
    "plot(\n",
    "    fitted(Rocket.lm), \n",
    "    Rocket.Residual_df$RStudentResiduals,\n",
    "    xlab=\"Fitted Values\",\n",
    "    ylab=\"Externally Studentized Residual\",\n",
    "    main=\"Versus Fits\"\n",
    ")\n",
    "abline(h=0)"
   ]
  },
  {
   "cell_type": "code",
   "execution_count": 48,
   "id": "6b5a4f6c",
   "metadata": {},
   "outputs": [
    {
     "data": {
      "image/png": "[encoded data removed]",
      "text/plain": [
       "Plot with title “Shear”"
      ]
     },
     "metadata": {
      "image/png": {
       "height": 420,
       "width": 420
      }
     },
     "output_type": "display_data"
    }
   ],
   "source": [
    "qqnorm(Rocket.Residual_df$RStudentResiduals,\n",
    "       ylab=\"R Student Residuals\",\n",
    "       xlab=\"Normal Scores\",\n",
    "       main=\"Shear\"\n",
    "       , datax=TRUE\n",
    ")\n",
    "qqline(Rocket.Residual_df$RStudentResiduals, distribution=qnorm, datax=TRUE)"
   ]
  },
  {
   "cell_type": "markdown",
   "id": "137a6c3c",
   "metadata": {},
   "source": [
    "### Remove points 5 and 6"
   ]
  },
  {
   "cell_type": "code",
   "execution_count": 58,
   "id": "c0910cf2",
   "metadata": {},
   "outputs": [],
   "source": [
    "Rocket_2.df <- Rocket.df[-c(5, 6), ]\n",
    "\n",
    "Rocket_2.lm <- lm(\n",
    "    Shear ~ Age, \n",
    "    data=Rocket_2.df) \n",
    "\n",
    "Rocket_2.anova <- anova(Rocket_2.lm)\n",
    "\n",
    "Rocket_2.Residual_df <- data.frame(\n",
    "    rstudent(Rocket_2.lm)\n",
    ")\n",
    "\n",
    "colnames(Rocket_2.Residual_df) <- c(\n",
    "    \"RStudentResiduals\"\n",
    ")"
   ]
  },
  {
   "cell_type": "code",
   "execution_count": 60,
   "id": "b515f658",
   "metadata": {},
   "outputs": [
    {
     "data": {
      "image/png": "[encoded data removed]",
      "text/plain": [
       "Plot with title “Versus Fits”"
      ]
     },
     "metadata": {
      "image/png": {
       "height": 420,
       "width": 420
      }
     },
     "output_type": "display_data"
    }
   ],
   "source": [
    "plot(\n",
    "    fitted(Rocket_2.lm), \n",
    "    Rocket_2.Residual_df$RStudentResiduals,\n",
    "    xlab=\"Fitted Values\",\n",
    "    ylab=\"Externally Studentized Residual\",\n",
    "    main=\"Versus Fits\"\n",
    ")\n",
    "abline(h=0)"
   ]
  },
  {
   "cell_type": "code",
   "execution_count": 61,
   "id": "4442b818",
   "metadata": {},
   "outputs": [
    {
     "data": {
      "image/png": "[encoded data removed]",
      "text/plain": [
       "Plot with title “Shear”"
      ]
     },
     "metadata": {
      "image/png": {
       "height": 420,
       "width": 420
      }
     },
     "output_type": "display_data"
    }
   ],
   "source": [
    "qqnorm(Rocket_2.Residual_df$RStudentResiduals,\n",
    "       ylab=\"R Student Residuals\",\n",
    "       xlab=\"Normal Scores\",\n",
    "       main=\"Shear\"\n",
    "       , datax=TRUE\n",
    ")\n",
    "qqline(Rocket_2.Residual_df$RStudentResiduals, distribution=qnorm, datax=TRUE)"
   ]
  },
  {
   "cell_type": "markdown",
   "id": "9d8ea06b",
   "metadata": {},
   "source": [
    "### Summary information for all data"
   ]
  },
  {
   "cell_type": "code",
   "execution_count": 65,
   "id": "c6b0f97d",
   "metadata": {},
   "outputs": [],
   "source": [
    "Rocket.lm_summary <- summary(Rocket.lm)"
   ]
  },
  {
   "cell_type": "code",
   "execution_count": 70,
   "id": "ad0bcd18",
   "metadata": {},
   "outputs": [
    {
     "data": {
      "text/html": [
       "2627.82235900129"
      ],
      "text/latex": [
       "2627.82235900129"
      ],
      "text/markdown": [
       "2627.82235900129"
      ],
      "text/plain": [
       "[1] 2627.822"
      ]
     },
     "metadata": {},
     "output_type": "display_data"
    }
   ],
   "source": [
    "coef(Rocket.lm_summary)[[1]]"
   ]
  },
  {
   "cell_type": "code",
   "execution_count": 72,
   "id": "94ee5e6a",
   "metadata": {},
   "outputs": [
    {
     "data": {
      "text/html": [
       "-37.1535909449052"
      ],
      "text/latex": [
       "-37.1535909449052"
      ],
      "text/markdown": [
       "-37.1535909449052"
      ],
      "text/plain": [
       "[1] -37.15359"
      ]
     },
     "metadata": {},
     "output_type": "display_data"
    }
   ],
   "source": [
    "coef(Rocket.lm_summary)[[2]]"
   ]
  },
  {
   "cell_type": "code",
   "execution_count": 76,
   "id": "cb4013a7",
   "metadata": {},
   "outputs": [
    {
     "data": {
      "text/html": [
       "0.901841431676304"
      ],
      "text/latex": [
       "0.901841431676304"
      ],
      "text/markdown": [
       "0.901841431676304"
      ],
      "text/plain": [
       "[1] 0.9018414"
      ]
     },
     "metadata": {},
     "output_type": "display_data"
    }
   ],
   "source": [
    "Rocket.lm_summary$r.squared"
   ]
  },
  {
   "cell_type": "code",
   "execution_count": 80,
   "id": "3969c172",
   "metadata": {},
   "outputs": [
    {
     "data": {
      "text/html": [
       "9236.38100372114"
      ],
      "text/latex": [
       "9236.38100372114"
      ],
      "text/markdown": [
       "9236.38100372114"
      ],
      "text/plain": [
       "[1] 9236.381"
      ]
     },
     "metadata": {},
     "output_type": "display_data"
    }
   ],
   "source": [
    "Rocket.anova[[3]][2]"
   ]
  },
  {
   "cell_type": "code",
   "execution_count": 84,
   "id": "9d77f722",
   "metadata": {},
   "outputs": [
    {
     "data": {
      "text/html": [
       "2.88910654892191"
      ],
      "text/latex": [
       "2.88910654892191"
      ],
      "text/markdown": [
       "2.88910654892191"
      ],
      "text/plain": [
       "[1] 2.889107"
      ]
     },
     "metadata": {},
     "output_type": "display_data"
    }
   ],
   "source": [
    "coef(Rocket.lm_summary)[[4]]"
   ]
  },
  {
   "cell_type": "markdown",
   "id": "ca431778",
   "metadata": {},
   "source": [
    "### Summary information for the Data Set removing points 5, 6"
   ]
  },
  {
   "cell_type": "code",
   "execution_count": 85,
   "id": "13b13f70",
   "metadata": {},
   "outputs": [],
   "source": [
    "Rocket_2.lm_summary <- summary(Rocket_2.lm)"
   ]
  },
  {
   "cell_type": "code",
   "execution_count": 86,
   "id": "6dc39c25",
   "metadata": {},
   "outputs": [
    {
     "data": {
      "text/html": [
       "2658.97293976061"
      ],
      "text/latex": [
       "2658.97293976061"
      ],
      "text/markdown": [
       "2658.97293976061"
      ],
      "text/plain": [
       "[1] 2658.973"
      ]
     },
     "metadata": {},
     "output_type": "display_data"
    }
   ],
   "source": [
    "coef(Rocket_2.lm_summary)[[1]]"
   ]
  },
  {
   "cell_type": "code",
   "execution_count": 87,
   "id": "60faa8a4",
   "metadata": {},
   "outputs": [
    {
     "data": {
      "text/html": [
       "-37.6937710224136"
      ],
      "text/latex": [
       "-37.6937710224136"
      ],
      "text/markdown": [
       "-37.6937710224136"
      ],
      "text/plain": [
       "[1] -37.69377"
      ]
     },
     "metadata": {},
     "output_type": "display_data"
    }
   ],
   "source": [
    "coef(Rocket_2.lm_summary)[[2]]"
   ]
  },
  {
   "cell_type": "code",
   "execution_count": 88,
   "id": "f74871c0",
   "metadata": {},
   "outputs": [
    {
     "data": {
      "text/html": [
       "0.957774699902502"
      ],
      "text/latex": [
       "0.957774699902502"
      ],
      "text/markdown": [
       "0.957774699902502"
      ],
      "text/plain": [
       "[1] 0.9577747"
      ]
     },
     "metadata": {},
     "output_type": "display_data"
    }
   ],
   "source": [
    "Rocket_2.lm_summary$r.squared"
   ]
  },
  {
   "cell_type": "code",
   "execution_count": 89,
   "id": "94b785fb",
   "metadata": {},
   "outputs": [
    {
     "data": {
      "text/html": [
       "3964.62885716504"
      ],
      "text/latex": [
       "3964.62885716504"
      ],
      "text/markdown": [
       "3964.62885716504"
      ],
      "text/plain": [
       "[1] 3964.629"
      ]
     },
     "metadata": {},
     "output_type": "display_data"
    }
   ],
   "source": [
    "Rocket_2.anova[[3]][2]"
   ]
  },
  {
   "cell_type": "code",
   "execution_count": 90,
   "id": "c944960e",
   "metadata": {},
   "outputs": [
    {
     "data": {
      "text/html": [
       "1.97862862939013"
      ],
      "text/latex": [
       "1.97862862939013"
      ],
      "text/markdown": [
       "1.97862862939013"
      ],
      "text/plain": [
       "[1] 1.978629"
      ]
     },
     "metadata": {},
     "output_type": "display_data"
    }
   ],
   "source": [
    "coef(Rocket_2.lm_summary)[[4]]"
   ]
  },
  {
   "cell_type": "markdown",
   "id": "41697ea5",
   "metadata": {},
   "source": [
    "## 4.8 - Testing for Lack of Fit"
   ]
  },
  {
   "cell_type": "code",
   "execution_count": 98,
   "id": "c9063d86",
   "metadata": {},
   "outputs": [],
   "source": [
    "LoF.x <- c(1.0, 1.0, 2.0, 3.3, 3.3, 4.0, 4.0, 4.0, 4.7, 5.0, 5.6, 5.6, \n",
    "          5.6, 6.0, 6.0, 6.5, 6.9)\n",
    "LoF.y <- c(10.84, 9.30, 16.35, 22.88, 24.35, 24.56, 25.86, 29.16, 24.59, \n",
    "          22.25, 25.90, 27.20, 25.61, 25.45, 26.56, 21.03, 21.46)\n",
    "LoF.df <- data.frame(LoF.x, LoF.y)\n",
    "colnames(LoF.df) <- c (\"x\",\"y\")"
   ]
  },
  {
   "cell_type": "code",
   "execution_count": 100,
   "id": "1dcfe278",
   "metadata": {},
   "outputs": [],
   "source": [
    "LoF.lm <- lm(y ~ x, data=LoF.df)"
   ]
  },
  {
   "cell_type": "code",
   "execution_count": 101,
   "id": "ae116d61",
   "metadata": {},
   "outputs": [
    {
     "data": {
      "text/plain": [
       "\n",
       "Call:\n",
       "lm(formula = y ~ x, data = LoF.df)\n",
       "\n",
       "Residuals:\n",
       "    Min      1Q  Median      3Q     Max \n",
       "-6.4536 -1.6158  0.5638  2.6358  7.4246 \n",
       "\n",
       "Coefficients:\n",
       "            Estimate Std. Error t value Pr(>|t|)    \n",
       "(Intercept)  13.2139     2.6649   4.959 0.000172 ***\n",
       "x             2.1304     0.5645   3.774 0.001839 ** \n",
       "---\n",
       "Signif. codes:  0 ‘***’ 0.001 ‘**’ 0.01 ‘*’ 0.05 ‘.’ 0.1 ‘ ’ 1\n",
       "\n",
       "Residual standard error: 4.084 on 15 degrees of freedom\n",
       "Multiple R-squared:  0.487,\tAdjusted R-squared:  0.4528 \n",
       "F-statistic: 14.24 on 1 and 15 DF,  p-value: 0.001839\n"
      ]
     },
     "metadata": {},
     "output_type": "display_data"
    }
   ],
   "source": [
    "summary(LoF.lm)"
   ]
  },
  {
   "cell_type": "code",
   "execution_count": 102,
   "id": "48dd4816",
   "metadata": {},
   "outputs": [
    {
     "data": {
      "text/html": [
       "<table class=\"dataframe\">\n",
       "<caption>A anova: 2 × 5</caption>\n",
       "<thead>\n",
       "\t<tr><th></th><th scope=col>Df</th><th scope=col>Sum Sq</th><th scope=col>Mean Sq</th><th scope=col>F value</th><th scope=col>Pr(&gt;F)</th></tr>\n",
       "\t<tr><th></th><th scope=col>&lt;int&gt;</th><th scope=col>&lt;dbl&gt;</th><th scope=col>&lt;dbl&gt;</th><th scope=col>&lt;dbl&gt;</th><th scope=col>&lt;dbl&gt;</th></tr>\n",
       "</thead>\n",
       "<tbody>\n",
       "\t<tr><th scope=row>x</th><td> 1</td><td>237.4788</td><td>237.47877</td><td>14.2411</td><td>0.001839409</td></tr>\n",
       "\t<tr><th scope=row>Residuals</th><td>15</td><td>250.1338</td><td> 16.67559</td><td>     NA</td><td>         NA</td></tr>\n",
       "</tbody>\n",
       "</table>\n"
      ],
      "text/latex": [
       "A anova: 2 × 5\n",
       "\\begin{tabular}{r|lllll}\n",
       "  & Df & Sum Sq & Mean Sq & F value & Pr(>F)\\\\\n",
       "  & <int> & <dbl> & <dbl> & <dbl> & <dbl>\\\\\n",
       "\\hline\n",
       "\tx &  1 & 237.4788 & 237.47877 & 14.2411 & 0.001839409\\\\\n",
       "\tResiduals & 15 & 250.1338 &  16.67559 &      NA &          NA\\\\\n",
       "\\end{tabular}\n"
      ],
      "text/markdown": [
       "\n",
       "A anova: 2 × 5\n",
       "\n",
       "| <!--/--> | Df &lt;int&gt; | Sum Sq &lt;dbl&gt; | Mean Sq &lt;dbl&gt; | F value &lt;dbl&gt; | Pr(&gt;F) &lt;dbl&gt; |\n",
       "|---|---|---|---|---|---|\n",
       "| x |  1 | 237.4788 | 237.47877 | 14.2411 | 0.001839409 |\n",
       "| Residuals | 15 | 250.1338 |  16.67559 |      NA |          NA |\n",
       "\n"
      ],
      "text/plain": [
       "          Df Sum Sq   Mean Sq   F value Pr(>F)     \n",
       "x          1 237.4788 237.47877 14.2411 0.001839409\n",
       "Residuals 15 250.1338  16.67559      NA          NA"
      ]
     },
     "metadata": {},
     "output_type": "display_data"
    }
   ],
   "source": [
    "anova(LoF.lm)"
   ]
  },
  {
   "cell_type": "code",
   "execution_count": 105,
   "id": "9a13f0f9",
   "metadata": {},
   "outputs": [
    {
     "data": {
      "text/html": [
       "487.6126"
      ],
      "text/latex": [
       "487.6126"
      ],
      "text/markdown": [
       "487.6126"
      ],
      "text/plain": [
       "[1] 487.6126"
      ]
     },
     "metadata": {},
     "output_type": "display_data"
    }
   ],
   "source": [
    "# Sum of Squares Total\n",
    "sum(anova(LoF.lm)[[2]])"
   ]
  },
  {
   "cell_type": "markdown",
   "id": "0d75f3c6",
   "metadata": {},
   "source": [
    "#### Pure Error Sum of Squares"
   ]
  },
  {
   "cell_type": "code",
   "execution_count": 129,
   "id": "7d600fee",
   "metadata": {},
   "outputs": [],
   "source": [
    "SS_pe <- sum((LoF.df[LoF.df$x == 1.0,]$y - mean(LoF.df[LoF.df$x == 1.0,]$y))^2) +\n",
    "sum((LoF.df[LoF.df$x == 3.3,]$y - mean(LoF.df[LoF.df$x == 3.3,]$y))^2) + \n",
    "sum((LoF.df[LoF.df$x == 4.0,]$y - mean(LoF.df[LoF.df$x == 4.0,]$y))^2) +\n",
    "sum((LoF.df[LoF.df$x == 5.6,]$y - mean(LoF.df[LoF.df$x == 5.6,]$y))^2) + \n",
    "sum((LoF.df[LoF.df$x == 6.0,]$y - mean(LoF.df[LoF.df$x == 6.0,]$y))^2)"
   ]
  },
  {
   "cell_type": "code",
   "execution_count": 130,
   "id": "5ebba782",
   "metadata": {},
   "outputs": [],
   "source": [
    "SS_res <- anova(LoF.lm)[[2]][2]"
   ]
  },
  {
   "cell_type": "code",
   "execution_count": 133,
   "id": "fb43388b",
   "metadata": {},
   "outputs": [
    {
     "name": "stdout",
     "output_type": "stream",
     "text": [
      "[1] 234.5708\n"
     ]
    }
   ],
   "source": [
    "SS_lof <- SS_res - SS_pe\n",
    "print(SS_lof)"
   ]
  },
  {
   "cell_type": "code",
   "execution_count": 140,
   "id": "a001fbbf",
   "metadata": {},
   "outputs": [
    {
     "name": "stdout",
     "output_type": "stream",
     "text": [
      "[1] 29.32135\n",
      "[1] 2.22329\n"
     ]
    }
   ],
   "source": [
    "MS_lof <- SS_lof / (10 - 2)\n",
    "MS_pe <- SS_pe / (17 - 10)\n",
    "print(MS_lof)\n",
    "print(MS_pe)"
   ]
  },
  {
   "cell_type": "code",
   "execution_count": 141,
   "id": "af5b2729",
   "metadata": {},
   "outputs": [
    {
     "name": "stdout",
     "output_type": "stream",
     "text": [
      "[1] 13.18827\n"
     ]
    }
   ],
   "source": [
    "F_0 <- MS_lof / MS_pe\n",
    "print(F_0)"
   ]
  },
  {
   "cell_type": "markdown",
   "id": "0698565a",
   "metadata": {},
   "source": [
    "## 4.9 Testing for lack of fit "
   ]
  },
  {
   "cell_type": "code",
   "execution_count": 176,
   "id": "8675d7e1",
   "metadata": {},
   "outputs": [],
   "source": [
    "LoF.lm <- lm(y ~ x, data=LoF.df)\n",
    "LoF.lm_2 <- lm(y ~ factor(x), data=LoF.df)"
   ]
  },
  {
   "cell_type": "code",
   "execution_count": 180,
   "id": "a7901f73",
   "metadata": {},
   "outputs": [
    {
     "data": {
      "text/html": [
       "<table class=\"dataframe\">\n",
       "<caption>A anova: 2 × 6</caption>\n",
       "<thead>\n",
       "\t<tr><th></th><th scope=col>Res.Df</th><th scope=col>RSS</th><th scope=col>Df</th><th scope=col>Sum of Sq</th><th scope=col>F</th><th scope=col>Pr(&gt;F)</th></tr>\n",
       "\t<tr><th></th><th scope=col>&lt;dbl&gt;</th><th scope=col>&lt;dbl&gt;</th><th scope=col>&lt;dbl&gt;</th><th scope=col>&lt;dbl&gt;</th><th scope=col>&lt;dbl&gt;</th><th scope=col>&lt;dbl&gt;</th></tr>\n",
       "</thead>\n",
       "<tbody>\n",
       "\t<tr><th scope=row>1</th><td>15</td><td>250.13383</td><td>NA</td><td>      NA</td><td>      NA</td><td>         NA</td></tr>\n",
       "\t<tr><th scope=row>2</th><td> 7</td><td> 15.56303</td><td> 8</td><td>234.5708</td><td>13.18827</td><td>0.001388715</td></tr>\n",
       "</tbody>\n",
       "</table>\n"
      ],
      "text/latex": [
       "A anova: 2 × 6\n",
       "\\begin{tabular}{r|llllll}\n",
       "  & Res.Df & RSS & Df & Sum of Sq & F & Pr(>F)\\\\\n",
       "  & <dbl> & <dbl> & <dbl> & <dbl> & <dbl> & <dbl>\\\\\n",
       "\\hline\n",
       "\t1 & 15 & 250.13383 & NA &       NA &       NA &          NA\\\\\n",
       "\t2 &  7 &  15.56303 &  8 & 234.5708 & 13.18827 & 0.001388715\\\\\n",
       "\\end{tabular}\n"
      ],
      "text/markdown": [
       "\n",
       "A anova: 2 × 6\n",
       "\n",
       "| <!--/--> | Res.Df &lt;dbl&gt; | RSS &lt;dbl&gt; | Df &lt;dbl&gt; | Sum of Sq &lt;dbl&gt; | F &lt;dbl&gt; | Pr(&gt;F) &lt;dbl&gt; |\n",
       "|---|---|---|---|---|---|---|\n",
       "| 1 | 15 | 250.13383 | NA |       NA |       NA |          NA |\n",
       "| 2 |  7 |  15.56303 |  8 | 234.5708 | 13.18827 | 0.001388715 |\n",
       "\n"
      ],
      "text/plain": [
       "  Res.Df RSS       Df Sum of Sq F        Pr(>F)     \n",
       "1 15     250.13383 NA       NA        NA          NA\n",
       "2  7      15.56303  8 234.5708  13.18827 0.001388715"
      ]
     },
     "metadata": {},
     "output_type": "display_data"
    }
   ],
   "source": [
    "anova(LoF.lm, LoF.lm_2)"
   ]
  },
  {
   "cell_type": "markdown",
   "id": "748276f2",
   "metadata": {},
   "source": [
    "## 4.10"
   ]
  },
  {
   "cell_type": "code",
   "execution_count": 184,
   "id": "4686c056",
   "metadata": {},
   "outputs": [
    {
     "data": {
      "text/html": [
       "4.0798"
      ],
      "text/latex": [
       "4.0798"
      ],
      "text/markdown": [
       "4.0798"
      ],
      "text/plain": [
       "[1] 4.0798"
      ]
     },
     "metadata": {},
     "output_type": "display_data"
    }
   ],
   "source": [
    "4.9244-0.8446"
   ]
  },
  {
   "cell_type": "code",
   "execution_count": null,
   "id": "86645237",
   "metadata": {},
   "outputs": [],
   "source": []
  }
 ],
 "metadata": {
  "kernelspec": {
   "display_name": "R",
   "language": "R",
   "name": "ir"
  },
  "language_info": {
   "codemirror_mode": "r",
   "file_extension": ".r",
   "mimetype": "text/x-r-source",
   "name": "R",
   "pygments_lexer": "r",
   "version": "3.6.3"
  }
 },
 "nbformat": 4,
 "nbformat_minor": 5
}
