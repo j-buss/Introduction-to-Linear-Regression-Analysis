{
 "cells": [
  {
   "cell_type": "markdown",
   "id": "6dc2ea8d",
   "metadata": {},
   "source": [
    "# Chapter 4 Examples - R"
   ]
  },
  {
   "cell_type": "code",
   "execution_count": 2,
   "id": "ccff5d98",
   "metadata": {},
   "outputs": [],
   "source": [
    "#### Sytem may require the following: \n",
    "# sudo apt install libcurl4-openssl-dev\n",
    "# sudo apt install libxml2-dev\n",
    "\n",
    "#### Only need to run the folloing installs once\n",
    "# install.packages(c(\"ggplot2\", \"ggpubr\", \"tidyverse\", \"broom\", \n",
    "#                    \"AICcmodavg\", \"ellipse\", \"asbio\", \"QuantPsyc\", \n",
    "#                    \"qpcR\"))"
   ]
  },
  {
   "cell_type": "markdown",
   "id": "1395c5d3",
   "metadata": {},
   "source": [
    "## Load Libraries"
   ]
  },
  {
   "cell_type": "code",
   "execution_count": 4,
   "id": "75fa0838",
   "metadata": {},
   "outputs": [],
   "source": [
    "suppressMessages(library(readxl))\n",
    "suppressMessages(library(qpcR))\n",
    "#suppressMessages(library(ggplot2))\n",
    "#suppressMessages(library(ggpubr))\n",
    "#suppressMessages(library(tidyverse))\n",
    "#suppressMessages(library(broom))\n",
    "#suppressMessages(library(AICcmodavg))\n",
    "#suppressMessages(library(ellipse))\n",
    "#suppressMessages(library(asbio))\n",
    "#suppressMessages(library(QuantPsyc))"
   ]
  },
  {
   "cell_type": "markdown",
   "id": "b4240d0d",
   "metadata": {},
   "source": [
    "## 4.1"
   ]
  },
  {
   "cell_type": "code",
   "execution_count": 5,
   "id": "c6a177e8",
   "metadata": {},
   "outputs": [
    {
     "data": {
      "text/html": [
       "<table class=\"dataframe\">\n",
       "<caption>A data.frame: 6 × 3</caption>\n",
       "<thead>\n",
       "\t<tr><th></th><th scope=col>DeliveryTime</th><th scope=col>NumberCases</th><th scope=col>Distance</th></tr>\n",
       "\t<tr><th></th><th scope=col>&lt;dbl&gt;</th><th scope=col>&lt;dbl&gt;</th><th scope=col>&lt;dbl&gt;</th></tr>\n",
       "</thead>\n",
       "<tbody>\n",
       "\t<tr><th scope=row>1</th><td>16.68</td><td>7</td><td>560</td></tr>\n",
       "\t<tr><th scope=row>2</th><td>11.50</td><td>3</td><td>220</td></tr>\n",
       "\t<tr><th scope=row>3</th><td>12.03</td><td>3</td><td>340</td></tr>\n",
       "\t<tr><th scope=row>4</th><td>14.88</td><td>4</td><td> 80</td></tr>\n",
       "\t<tr><th scope=row>5</th><td>13.75</td><td>6</td><td>150</td></tr>\n",
       "\t<tr><th scope=row>6</th><td>18.11</td><td>7</td><td>330</td></tr>\n",
       "</tbody>\n",
       "</table>\n"
      ],
      "text/latex": [
       "A data.frame: 6 × 3\n",
       "\\begin{tabular}{r|lll}\n",
       "  & DeliveryTime & NumberCases & Distance\\\\\n",
       "  & <dbl> & <dbl> & <dbl>\\\\\n",
       "\\hline\n",
       "\t1 & 16.68 & 7 & 560\\\\\n",
       "\t2 & 11.50 & 3 & 220\\\\\n",
       "\t3 & 12.03 & 3 & 340\\\\\n",
       "\t4 & 14.88 & 4 &  80\\\\\n",
       "\t5 & 13.75 & 6 & 150\\\\\n",
       "\t6 & 18.11 & 7 & 330\\\\\n",
       "\\end{tabular}\n"
      ],
      "text/markdown": [
       "\n",
       "A data.frame: 6 × 3\n",
       "\n",
       "| <!--/--> | DeliveryTime &lt;dbl&gt; | NumberCases &lt;dbl&gt; | Distance &lt;dbl&gt; |\n",
       "|---|---|---|---|\n",
       "| 1 | 16.68 | 7 | 560 |\n",
       "| 2 | 11.50 | 3 | 220 |\n",
       "| 3 | 12.03 | 3 | 340 |\n",
       "| 4 | 14.88 | 4 |  80 |\n",
       "| 5 | 13.75 | 6 | 150 |\n",
       "| 6 | 18.11 | 7 | 330 |\n",
       "\n"
      ],
      "text/plain": [
       "  DeliveryTime NumberCases Distance\n",
       "1 16.68        7           560     \n",
       "2 11.50        3           220     \n",
       "3 12.03        3           340     \n",
       "4 14.88        4            80     \n",
       "5 13.75        6           150     \n",
       "6 18.11        7           330     "
      ]
     },
     "metadata": {},
     "output_type": "display_data"
    }
   ],
   "source": [
    "Delivery.table <- read_excel(\n",
    "    '../linear_regression_5e_data_sets/Chapter 3/Examples/data-ex-3-1 (Delivery Time).xls')\n",
    "\n",
    "Delivery.df <- data.frame(Delivery.table$`Delivery Time, y`, \n",
    "                              Delivery.table$`Number of Cases, x1`, \n",
    "                              Delivery.table$`Distance, x2 (ft)`)\n",
    "\n",
    "colnames(Delivery.df) <- c(\"DeliveryTime\", \"NumberCases\", \"Distance\")\n",
    "\n",
    "head(Delivery.df)"
   ]
  },
  {
   "cell_type": "code",
   "execution_count": 4,
   "id": "854c08c2",
   "metadata": {},
   "outputs": [
    {
     "data": {
      "text/plain": [
       "  DeliveryTime    NumberCases       Distance     \n",
       " Min.   : 8.00   Min.   : 2.00   Min.   :  36.0  \n",
       " 1st Qu.:13.75   1st Qu.: 4.00   1st Qu.: 150.0  \n",
       " Median :18.11   Median : 7.00   Median : 330.0  \n",
       " Mean   :22.38   Mean   : 8.76   Mean   : 409.3  \n",
       " 3rd Qu.:21.50   3rd Qu.:10.00   3rd Qu.: 605.0  \n",
       " Max.   :79.24   Max.   :30.00   Max.   :1460.0  "
      ]
     },
     "metadata": {},
     "output_type": "display_data"
    }
   ],
   "source": [
    "summary(Delivery.df)"
   ]
  },
  {
   "cell_type": "code",
   "execution_count": 6,
   "id": "0d76c96a",
   "metadata": {},
   "outputs": [
    {
     "name": "stdout",
     "output_type": "stream",
     "text": [
      "\n",
      "Call:\n",
      "lm(formula = DeliveryTime ~ NumberCases + Distance, data = Delivery.df)\n",
      "\n",
      "Coefficients:\n",
      "(Intercept)  NumberCases     Distance  \n",
      "    2.34123      1.61591      0.01438  \n",
      "\n"
     ]
    }
   ],
   "source": [
    "Delivery.lm <- lm(\n",
    "    DeliveryTime ~ NumberCases + Distance, \n",
    "    data=Delivery.df)  \n",
    "\n",
    "print(Delivery.lm)"
   ]
  },
  {
   "cell_type": "code",
   "execution_count": 7,
   "id": "6be1d6d1",
   "metadata": {},
   "outputs": [
    {
     "data": {
      "text/plain": [
       "\n",
       "Call:\n",
       "lm(formula = DeliveryTime ~ NumberCases + Distance, data = Delivery.df)\n",
       "\n",
       "Residuals:\n",
       "    Min      1Q  Median      3Q     Max \n",
       "-5.7880 -0.6629  0.4364  1.1566  7.4197 \n",
       "\n",
       "Coefficients:\n",
       "            Estimate Std. Error t value Pr(>|t|)    \n",
       "(Intercept) 2.341231   1.096730   2.135 0.044170 *  \n",
       "NumberCases 1.615907   0.170735   9.464 3.25e-09 ***\n",
       "Distance    0.014385   0.003613   3.981 0.000631 ***\n",
       "---\n",
       "Signif. codes:  0 ‘***’ 0.001 ‘**’ 0.01 ‘*’ 0.05 ‘.’ 0.1 ‘ ’ 1\n",
       "\n",
       "Residual standard error: 3.259 on 22 degrees of freedom\n",
       "Multiple R-squared:  0.9596,\tAdjusted R-squared:  0.9559 \n",
       "F-statistic: 261.2 on 2 and 22 DF,  p-value: 4.687e-16\n"
      ]
     },
     "metadata": {},
     "output_type": "display_data"
    }
   ],
   "source": [
    "summary(Delivery.lm)"
   ]
  },
  {
   "cell_type": "code",
   "execution_count": 8,
   "id": "4e8a3037",
   "metadata": {},
   "outputs": [
    {
     "data": {
      "text/html": [
       "<table class=\"dataframe\">\n",
       "<caption>A anova: 3 × 5</caption>\n",
       "<thead>\n",
       "\t<tr><th></th><th scope=col>Df</th><th scope=col>Sum Sq</th><th scope=col>Mean Sq</th><th scope=col>F value</th><th scope=col>Pr(&gt;F)</th></tr>\n",
       "\t<tr><th></th><th scope=col>&lt;int&gt;</th><th scope=col>&lt;dbl&gt;</th><th scope=col>&lt;dbl&gt;</th><th scope=col>&lt;dbl&gt;</th><th scope=col>&lt;dbl&gt;</th></tr>\n",
       "</thead>\n",
       "<tbody>\n",
       "\t<tr><th scope=row>NumberCases</th><td> 1</td><td>5382.4088</td><td>5382.40880</td><td>506.61936</td><td>1.112549e-16</td></tr>\n",
       "\t<tr><th scope=row>Distance</th><td> 1</td><td> 168.4021</td><td> 168.40213</td><td> 15.85085</td><td>6.312469e-04</td></tr>\n",
       "\t<tr><th scope=row>Residuals</th><td>22</td><td> 233.7317</td><td>  10.62417</td><td>       NA</td><td>          NA</td></tr>\n",
       "</tbody>\n",
       "</table>\n"
      ],
      "text/latex": [
       "A anova: 3 × 5\n",
       "\\begin{tabular}{r|lllll}\n",
       "  & Df & Sum Sq & Mean Sq & F value & Pr(>F)\\\\\n",
       "  & <int> & <dbl> & <dbl> & <dbl> & <dbl>\\\\\n",
       "\\hline\n",
       "\tNumberCases &  1 & 5382.4088 & 5382.40880 & 506.61936 & 1.112549e-16\\\\\n",
       "\tDistance &  1 &  168.4021 &  168.40213 &  15.85085 & 6.312469e-04\\\\\n",
       "\tResiduals & 22 &  233.7317 &   10.62417 &        NA &           NA\\\\\n",
       "\\end{tabular}\n"
      ],
      "text/markdown": [
       "\n",
       "A anova: 3 × 5\n",
       "\n",
       "| <!--/--> | Df &lt;int&gt; | Sum Sq &lt;dbl&gt; | Mean Sq &lt;dbl&gt; | F value &lt;dbl&gt; | Pr(&gt;F) &lt;dbl&gt; |\n",
       "|---|---|---|---|---|---|\n",
       "| NumberCases |  1 | 5382.4088 | 5382.40880 | 506.61936 | 1.112549e-16 |\n",
       "| Distance |  1 |  168.4021 |  168.40213 |  15.85085 | 6.312469e-04 |\n",
       "| Residuals | 22 |  233.7317 |   10.62417 |        NA |           NA |\n",
       "\n"
      ],
      "text/plain": [
       "            Df Sum Sq    Mean Sq    F value   Pr(>F)      \n",
       "NumberCases  1 5382.4088 5382.40880 506.61936 1.112549e-16\n",
       "Distance     1  168.4021  168.40213  15.85085 6.312469e-04\n",
       "Residuals   22  233.7317   10.62417        NA           NA"
      ]
     },
     "metadata": {},
     "output_type": "display_data"
    }
   ],
   "source": [
    "anova(Delivery.lm)"
   ]
  },
  {
   "cell_type": "code",
   "execution_count": 10,
   "id": "cd0eb2ab",
   "metadata": {},
   "outputs": [
    {
     "data": {
      "text/html": [
       "<style>\n",
       ".dl-inline {width: auto; margin:0; padding: 0}\n",
       ".dl-inline>dt, .dl-inline>dd {float: none; width: auto; display: inline-block}\n",
       ".dl-inline>dt::after {content: \":\\0020\"; padding-right: .5ex}\n",
       ".dl-inline>dt:not(:first-of-type) {padding-left: .5ex}\n",
       "</style><dl class=dl-inline><dt>1</dt><dd>-5.02808432256391</dd><dt>2</dt><dd>1.14638544675942</dd><dt>3</dt><dd>-0.0497937039063259</dd><dt>4</dt><dd>4.92435391192693</dd><dt>5</dt><dd>-0.444398347179943</dd><dt>6</dt><dd>-0.28957428378786</dd><dt>7</dt><dd>0.844623545478995</dd><dt>8</dt><dd>1.15660486687791</dd><dt>9</dt><dd>7.41970620342993</dd><dt>10</dt><dd>2.37641291715491</dd><dt>11</dt><dd>2.23749302124263</dd><dt>12</dt><dd>-0.593040896227584</dd><dt>13</dt><dd>1.02700931720601</dd><dt>14</dt><dd>1.06753586108904</dd><dt>15</dt><dd>0.671201796838956</dd><dt>16</dt><dd>-0.662928425590083</dd><dt>17</dt><dd>0.436360340042651</dd><dt>18</dt><dd>3.44862131481067</dd><dt>19</dt><dd>1.7931934777803</dd><dt>20</dt><dd>-5.78796994232157</dd><dt>21</dt><dd>-2.61417892706148</dd><dt>22</dt><dd>-3.68652788802677</dd><dt>23</dt><dd>-4.60756785567214</dd><dt>24</dt><dd>-4.57285350233929</dd><dt>25</dt><dd>-0.212583925961437</dd></dl>\n"
      ],
      "text/latex": [
       "\\begin{description*}\n",
       "\\item[1] -5.02808432256391\n",
       "\\item[2] 1.14638544675942\n",
       "\\item[3] -0.0497937039063259\n",
       "\\item[4] 4.92435391192693\n",
       "\\item[5] -0.444398347179943\n",
       "\\item[6] -0.28957428378786\n",
       "\\item[7] 0.844623545478995\n",
       "\\item[8] 1.15660486687791\n",
       "\\item[9] 7.41970620342993\n",
       "\\item[10] 2.37641291715491\n",
       "\\item[11] 2.23749302124263\n",
       "\\item[12] -0.593040896227584\n",
       "\\item[13] 1.02700931720601\n",
       "\\item[14] 1.06753586108904\n",
       "\\item[15] 0.671201796838956\n",
       "\\item[16] -0.662928425590083\n",
       "\\item[17] 0.436360340042651\n",
       "\\item[18] 3.44862131481067\n",
       "\\item[19] 1.7931934777803\n",
       "\\item[20] -5.78796994232157\n",
       "\\item[21] -2.61417892706148\n",
       "\\item[22] -3.68652788802677\n",
       "\\item[23] -4.60756785567214\n",
       "\\item[24] -4.57285350233929\n",
       "\\item[25] -0.212583925961437\n",
       "\\end{description*}\n"
      ],
      "text/markdown": [
       "1\n",
       ":   -5.028084322563912\n",
       ":   1.146385446759423\n",
       ":   -0.04979370390632594\n",
       ":   4.924353911926935\n",
       ":   -0.4443983471799436\n",
       ":   -0.289574283787867\n",
       ":   0.8446235454789958\n",
       ":   1.156604866877919\n",
       ":   7.4197062034299310\n",
       ":   2.3764129171549111\n",
       ":   2.2374930212426312\n",
       ":   -0.59304089622758413\n",
       ":   1.0270093172060114\n",
       ":   1.0675358610890415\n",
       ":   0.67120179683895616\n",
       ":   -0.66292842559008317\n",
       ":   0.43636034004265118\n",
       ":   3.4486213148106719\n",
       ":   1.793193477780320\n",
       ":   -5.7879699423215721\n",
       ":   -2.6141789270614822\n",
       ":   -3.6865278880267723\n",
       ":   -4.6075678556721424\n",
       ":   -4.5728535023392925\n",
       ":   -0.212583925961437\n",
       "\n"
      ],
      "text/plain": [
       "         1          2          3          4          5          6          7 \n",
       "-5.0280843  1.1463854 -0.0497937  4.9243539 -0.4443983 -0.2895743  0.8446235 \n",
       "         8          9         10         11         12         13         14 \n",
       " 1.1566049  7.4197062  2.3764129  2.2374930 -0.5930409  1.0270093  1.0675359 \n",
       "        15         16         17         18         19         20         21 \n",
       " 0.6712018 -0.6629284  0.4363603  3.4486213  1.7931935 -5.7879699 -2.6141789 \n",
       "        22         23         24         25 \n",
       "-3.6865279 -4.6075679 -4.5728535 -0.2125839 "
      ]
     },
     "metadata": {},
     "output_type": "display_data"
    }
   ],
   "source": [
    "Delivery.lm$residuals"
   ]
  },
  {
   "cell_type": "code",
   "execution_count": 12,
   "id": "d2f76e48",
   "metadata": {},
   "outputs": [],
   "source": [
    "Delivery.lm.Mres <- anova(Delivery.lm)[[3]][3]"
   ]
  },
  {
   "cell_type": "markdown",
   "id": "f7ae8c4b",
   "metadata": {},
   "source": [
    "### Various Residual Derivations (as defined by Montgomer/Peck/Vining)"
   ]
  },
  {
   "cell_type": "code",
   "execution_count": 58,
   "id": "460d822c",
   "metadata": {},
   "outputs": [
    {
     "data": {
      "text/html": [
       "TRUE"
      ],
      "text/latex": [
       "TRUE"
      ],
      "text/markdown": [
       "TRUE"
      ],
      "text/plain": [
       "[1] TRUE"
      ]
     },
     "metadata": {},
     "output_type": "display_data"
    }
   ],
   "source": [
    "# Residuals\n",
    "Delivery.Residuals <- resid(Delivery.lm)\n",
    "Delivery.Residuals_2 <- Delivery.lm$residuals\n",
    "\n",
    "# Check equivalency\n",
    "all.equal(Delivery.Residuals, Delivery.Residuals_2)"
   ]
  },
  {
   "cell_type": "code",
   "execution_count": 60,
   "id": "2b162d24",
   "metadata": {},
   "outputs": [],
   "source": [
    "# Standardized Residuals\n",
    "Delivery.StandardizedResiduals <- resid(Delivery.lm) / sqrt(anova(Delivery.lm)[[3]][3])\n"
   ]
  },
  {
   "cell_type": "code",
   "execution_count": 67,
   "id": "4531116a",
   "metadata": {},
   "outputs": [
    {
     "data": {
      "text/html": [
       "TRUE"
      ],
      "text/latex": [
       "TRUE"
      ],
      "text/markdown": [
       "TRUE"
      ],
      "text/plain": [
       "[1] TRUE"
      ]
     },
     "metadata": {},
     "output_type": "display_data"
    }
   ],
   "source": [
    "# Studentized Residuals\n",
    "Delivery.StudentizedResiduals <- Delivery.Residuals / sqrt(Delivery.lm.Mres * (1 - Delivery.HatMatrixDiagonal))\n",
    "Delivery.StudentizedResiduals_2 <- rstandard(Delivery.lm)\n",
    "\n",
    "# Check equivaliency\n",
    "all.equal(Delivery.StudentizedResiduals, Delivery.StudentizedResiduals_2)"
   ]
  },
  {
   "cell_type": "code",
   "execution_count": 78,
   "id": "5383300f",
   "metadata": {},
   "outputs": [
    {
     "data": {
      "text/html": [
       "TRUE"
      ],
      "text/latex": [
       "TRUE"
      ],
      "text/markdown": [
       "TRUE"
      ],
      "text/plain": [
       "[1] TRUE"
      ]
     },
     "metadata": {},
     "output_type": "display_data"
    }
   ],
   "source": [
    "# Hat Matrix Diagonal\n",
    "Delivery.HatMatrixDiagonal <- diag(Delivery.X %*% solve(t(Delivery.X) %*% Delivery.X) %*% t(Delivery.X))\n",
    "Delivery.HatMatrixDiagonal_2 <- unname(influence(Delivery.lm)$hat)\n",
    "\n",
    "all.equal(Delivery.HatMatrixDiagonal, Delivery.HatMatrixDiagonal_2)"
   ]
  },
  {
   "cell_type": "code",
   "execution_count": 85,
   "id": "e5fadb2c",
   "metadata": {},
   "outputs": [
    {
     "data": {
      "text/html": [
       "TRUE"
      ],
      "text/latex": [
       "TRUE"
      ],
      "text/markdown": [
       "TRUE"
      ],
      "text/plain": [
       "[1] TRUE"
      ]
     },
     "metadata": {},
     "output_type": "display_data"
    }
   ],
   "source": [
    "# PRESS Residual\n",
    "Delivery.PRESSResidual <- unname(Delivery.Residuals / (1 - Delivery.HatMatrixDiagonal))\n",
    "Delivery.PRESSResidual_2 <- PRESS(Delivery.lm, verbose = FALSE)$residuals\n",
    "\n",
    "all.equal(Delivery.PRESSResidual, Delivery.PRESSResidual_2)"
   ]
  },
  {
   "cell_type": "code",
   "execution_count": 104,
   "id": "6685fe0d",
   "metadata": {},
   "outputs": [
    {
     "data": {
      "text/html": [
       "3"
      ],
      "text/latex": [
       "3"
      ],
      "text/markdown": [
       "3"
      ],
      "text/plain": [
       "[1] 3"
      ]
     },
     "metadata": {},
     "output_type": "display_data"
    }
   ],
   "source": [
    "ncol(Delivery.df)"
   ]
  },
  {
   "cell_type": "code",
   "execution_count": 102,
   "id": "571cea23",
   "metadata": {},
   "outputs": [],
   "source": [
    "# R-student Residual\n",
    "Delivery.n = nrow(Delivery.df)\n",
    "Delivery.p = ncol(Delivery.df)\n",
    "S_sub_i_squared = (\n",
    "        (Delivery.n - Delivery.p) * Delivery.lm.Mres - Delivery.Residuals^2 / (1 - Delivery.HatMatrixDiagonal)\n",
    "    ) / (\n",
    "        (Delivery.n - Delivery.p - 1)\n",
    "    )\n",
    "Delivery.RStudentResidual <- Delivery.Residuals / sqrt(S_sub_i_squared * (1 - Delivery.HatMatrixDiagonal))"
   ]
  },
  {
   "cell_type": "code",
   "execution_count": 105,
   "id": "177e41ad",
   "metadata": {},
   "outputs": [
    {
     "data": {
      "text/html": [
       "22"
      ],
      "text/latex": [
       "22"
      ],
      "text/markdown": [
       "22"
      ],
      "text/plain": [
       "[1] 22"
      ]
     },
     "metadata": {},
     "output_type": "display_data"
    }
   ],
   "source": [
    "Delivery.n - Delivery.p"
   ]
  },
  {
   "cell_type": "code",
   "execution_count": 106,
   "id": "b9717cfb",
   "metadata": {},
   "outputs": [
    {
     "data": {
      "text/html": [
       "10.6241671554797"
      ],
      "text/latex": [
       "10.6241671554797"
      ],
      "text/markdown": [
       "10.6241671554797"
      ],
      "text/plain": [
       "[1] 10.62417"
      ]
     },
     "metadata": {},
     "output_type": "display_data"
    }
   ],
   "source": [
    "Delivery.lm.Mres"
   ]
  },
  {
   "cell_type": "code",
   "execution_count": 107,
   "id": "7a181c5e",
   "metadata": {},
   "outputs": [
    {
     "data": {
      "text/html": [
       "<strong>9:</strong> 7.41970620342993"
      ],
      "text/latex": [
       "\\textbf{9:} 7.41970620342993"
      ],
      "text/markdown": [
       "**9:** 7.41970620342993"
      ],
      "text/plain": [
       "       9 \n",
       "7.419706 "
      ]
     },
     "metadata": {},
     "output_type": "display_data"
    }
   ],
   "source": [
    "Delivery.Residuals[9]"
   ]
  },
  {
   "cell_type": "code",
   "execution_count": 108,
   "id": "cd2a8320",
   "metadata": {},
   "outputs": [
    {
     "data": {
      "text/html": [
       "0.498292159124427"
      ],
      "text/latex": [
       "0.498292159124427"
      ],
      "text/markdown": [
       "0.498292159124427"
      ],
      "text/plain": [
       "[1] 0.4982922"
      ]
     },
     "metadata": {},
     "output_type": "display_data"
    }
   ],
   "source": [
    "Delivery.HatMatrixDiagonal[9]"
   ]
  },
  {
   "cell_type": "code",
   "execution_count": 103,
   "id": "c7e54985",
   "metadata": {},
   "outputs": [
    {
     "data": {
      "text/html": [
       "<style>\n",
       ".dl-inline {width: auto; margin:0; padding: 0}\n",
       ".dl-inline>dt, .dl-inline>dd {float: none; width: auto; display: inline-block}\n",
       ".dl-inline>dt::after {content: \":\\0020\"; padding-right: .5ex}\n",
       ".dl-inline>dt:not(:first-of-type) {padding-left: .5ex}\n",
       "</style><dl class=dl-inline><dt>1</dt><dd>-1.69562881071159</dd><dt>2</dt><dd>0.357537640251461</dd><dt>3</dt><dd>-0.0157217736042165</dd><dt>4</dt><dd>1.63916490850938</dd><dt>5</dt><dd>-0.138564933734427</dd><dt>6</dt><dd>-0.088737276795997</dd><dt>7</dt><dd>0.26464768654144</dd><dt>8</dt><dd>0.359389825378901</dd><dt>9</dt><dd>4.31078011875982</dd><dt>10</dt><dd>0.806775844370585</dd><dt>11</dt><dd>0.70993905990571</dd><dt>12</dt><dd>-0.188974510362242</dd><dt>13</dt><dd>0.318469239932995</dd><dt>14</dt><dd>0.334177247231103</dd><dt>15</dt><dd>0.20566324273111</dd><dt>16</dt><dd>-0.21782566174508</dd><dt>17</dt><dd>0.134923995998433</dd><dt>18</dt><dd>1.11933065082343</dd><dt>19</dt><dd>0.569814202758992</dd><dt>20</dt><dd>-1.99667656931015</dd><dt>21</dt><dd>-0.873086970487743</dd><dt>22</dt><dd>-1.4896247320075</dd><dt>23</dt><dd>-1.48246717966257</dd><dt>24</dt><dd>-1.54221512244316</dd><dt>25</dt><dd>-0.0659633163307028</dd></dl>\n"
      ],
      "text/latex": [
       "\\begin{description*}\n",
       "\\item[1] -1.69562881071159\n",
       "\\item[2] 0.357537640251461\n",
       "\\item[3] -0.0157217736042165\n",
       "\\item[4] 1.63916490850938\n",
       "\\item[5] -0.138564933734427\n",
       "\\item[6] -0.088737276795997\n",
       "\\item[7] 0.26464768654144\n",
       "\\item[8] 0.359389825378901\n",
       "\\item[9] 4.31078011875982\n",
       "\\item[10] 0.806775844370585\n",
       "\\item[11] 0.70993905990571\n",
       "\\item[12] -0.188974510362242\n",
       "\\item[13] 0.318469239932995\n",
       "\\item[14] 0.334177247231103\n",
       "\\item[15] 0.20566324273111\n",
       "\\item[16] -0.21782566174508\n",
       "\\item[17] 0.134923995998433\n",
       "\\item[18] 1.11933065082343\n",
       "\\item[19] 0.569814202758992\n",
       "\\item[20] -1.99667656931015\n",
       "\\item[21] -0.873086970487743\n",
       "\\item[22] -1.4896247320075\n",
       "\\item[23] -1.48246717966257\n",
       "\\item[24] -1.54221512244316\n",
       "\\item[25] -0.0659633163307028\n",
       "\\end{description*}\n"
      ],
      "text/markdown": [
       "1\n",
       ":   -1.695628810711592\n",
       ":   0.3575376402514613\n",
       ":   -0.01572177360421654\n",
       ":   1.639164908509385\n",
       ":   -0.1385649337344276\n",
       ":   -0.0887372767959977\n",
       ":   0.264647686541448\n",
       ":   0.3593898253789019\n",
       ":   4.3107801187598210\n",
       ":   0.80677584437058511\n",
       ":   0.7099390599057112\n",
       ":   -0.18897451036224213\n",
       ":   0.31846923993299514\n",
       ":   0.33417724723110315\n",
       ":   0.2056632427311116\n",
       ":   -0.2178256617450817\n",
       ":   0.13492399599843318\n",
       ":   1.1193306508234319\n",
       ":   0.56981420275899220\n",
       ":   -1.9966765693101521\n",
       ":   -0.87308697048774322\n",
       ":   -1.489624732007523\n",
       ":   -1.4824671796625724\n",
       ":   -1.5422151224431625\n",
       ":   -0.0659633163307028\n",
       "\n"
      ],
      "text/plain": [
       "          1           2           3           4           5           6 \n",
       "-1.69562881  0.35753764 -0.01572177  1.63916491 -0.13856493 -0.08873728 \n",
       "          7           8           9          10          11          12 \n",
       " 0.26464769  0.35938983  4.31078012  0.80677584  0.70993906 -0.18897451 \n",
       "         13          14          15          16          17          18 \n",
       " 0.31846924  0.33417725  0.20566324 -0.21782566  0.13492400  1.11933065 \n",
       "         19          20          21          22          23          24 \n",
       " 0.56981420 -1.99667657 -0.87308697 -1.48962473 -1.48246718 -1.54221512 \n",
       "         25 \n",
       "-0.06596332 "
      ]
     },
     "metadata": {},
     "output_type": "display_data"
    }
   ],
   "source": [
    "Delivery.RStudentResidual"
   ]
  },
  {
   "cell_type": "code",
   "execution_count": null,
   "id": "5770f078",
   "metadata": {},
   "outputs": [],
   "source": []
  },
  {
   "cell_type": "code",
   "execution_count": 101,
   "id": "9f816fcb",
   "metadata": {},
   "outputs": [
    {
     "data": {
      "text/html": [
       "<style>\n",
       ".dl-inline {width: auto; margin:0; padding: 0}\n",
       ".dl-inline>dt, .dl-inline>dd {float: none; width: auto; display: inline-block}\n",
       ".dl-inline>dt::after {content: \":\\0020\"; padding-right: .5ex}\n",
       ".dl-inline>dt:not(:first-of-type) {padding-left: .5ex}\n",
       "</style><dl class=dl-inline><dt>1</dt><dd>-1.69562881071159</dd><dt>2</dt><dd>0.357537640251461</dd><dt>3</dt><dd>-0.0157217736042165</dd><dt>4</dt><dd>1.63916490850938</dd><dt>5</dt><dd>-0.138564933734427</dd><dt>6</dt><dd>-0.0887372767959971</dd><dt>7</dt><dd>0.26464768654144</dd><dt>8</dt><dd>0.359389825378901</dd><dt>9</dt><dd>4.31078011875982</dd><dt>10</dt><dd>0.806775844370585</dd><dt>11</dt><dd>0.70993905990571</dd><dt>12</dt><dd>-0.188974510362242</dd><dt>13</dt><dd>0.318469239932995</dd><dt>14</dt><dd>0.334177247231103</dd><dt>15</dt><dd>0.20566324273111</dd><dt>16</dt><dd>-0.21782566174508</dd><dt>17</dt><dd>0.134923995998433</dd><dt>18</dt><dd>1.11933065082343</dd><dt>19</dt><dd>0.569814202758992</dd><dt>20</dt><dd>-1.99667656931015</dd><dt>21</dt><dd>-0.873086970487743</dd><dt>22</dt><dd>-1.4896247320075</dd><dt>23</dt><dd>-1.48246717966257</dd><dt>24</dt><dd>-1.54221512244316</dd><dt>25</dt><dd>-0.0659633163307028</dd></dl>\n"
      ],
      "text/latex": [
       "\\begin{description*}\n",
       "\\item[1] -1.69562881071159\n",
       "\\item[2] 0.357537640251461\n",
       "\\item[3] -0.0157217736042165\n",
       "\\item[4] 1.63916490850938\n",
       "\\item[5] -0.138564933734427\n",
       "\\item[6] -0.0887372767959971\n",
       "\\item[7] 0.26464768654144\n",
       "\\item[8] 0.359389825378901\n",
       "\\item[9] 4.31078011875982\n",
       "\\item[10] 0.806775844370585\n",
       "\\item[11] 0.70993905990571\n",
       "\\item[12] -0.188974510362242\n",
       "\\item[13] 0.318469239932995\n",
       "\\item[14] 0.334177247231103\n",
       "\\item[15] 0.20566324273111\n",
       "\\item[16] -0.21782566174508\n",
       "\\item[17] 0.134923995998433\n",
       "\\item[18] 1.11933065082343\n",
       "\\item[19] 0.569814202758992\n",
       "\\item[20] -1.99667656931015\n",
       "\\item[21] -0.873086970487743\n",
       "\\item[22] -1.4896247320075\n",
       "\\item[23] -1.48246717966257\n",
       "\\item[24] -1.54221512244316\n",
       "\\item[25] -0.0659633163307028\n",
       "\\end{description*}\n"
      ],
      "text/markdown": [
       "1\n",
       ":   -1.695628810711592\n",
       ":   0.3575376402514613\n",
       ":   -0.01572177360421654\n",
       ":   1.639164908509385\n",
       ":   -0.1385649337344276\n",
       ":   -0.08873727679599717\n",
       ":   0.264647686541448\n",
       ":   0.3593898253789019\n",
       ":   4.3107801187598210\n",
       ":   0.80677584437058511\n",
       ":   0.7099390599057112\n",
       ":   -0.18897451036224213\n",
       ":   0.31846923993299514\n",
       ":   0.33417724723110315\n",
       ":   0.2056632427311116\n",
       ":   -0.2178256617450817\n",
       ":   0.13492399599843318\n",
       ":   1.1193306508234319\n",
       ":   0.56981420275899220\n",
       ":   -1.9966765693101521\n",
       ":   -0.87308697048774322\n",
       ":   -1.489624732007523\n",
       ":   -1.4824671796625724\n",
       ":   -1.5422151224431625\n",
       ":   -0.0659633163307028\n",
       "\n"
      ],
      "text/plain": [
       "          1           2           3           4           5           6 \n",
       "-1.69562881  0.35753764 -0.01572177  1.63916491 -0.13856493 -0.08873728 \n",
       "          7           8           9          10          11          12 \n",
       " 0.26464769  0.35938983  4.31078012  0.80677584  0.70993906 -0.18897451 \n",
       "         13          14          15          16          17          18 \n",
       " 0.31846924  0.33417725  0.20566324 -0.21782566  0.13492400  1.11933065 \n",
       "         19          20          21          22          23          24 \n",
       " 0.56981420 -1.99667657 -0.87308697 -1.48962473 -1.48246718 -1.54221512 \n",
       "         25 \n",
       "-0.06596332 "
      ]
     },
     "metadata": {},
     "output_type": "display_data"
    }
   ],
   "source": [
    "rstudent(Delivery.lm)"
   ]
  },
  {
   "cell_type": "code",
   "execution_count": 38,
   "id": "8371913a",
   "metadata": {},
   "outputs": [],
   "source": [
    "Delivery.Residuals <- resid(Delivery.lm)\n",
    "Delivery.StandardizedResiduals <- Delivery.Residuals / sqrt(Delivery.lm.Mres)\n",
    "Delivery.HatMatrixDiagonal <- diag(Delivery.X %*% solve(t(Delivery.X) %*% Delivery.X) %*% t(Delivery.X))\n",
    "Delivery.StudentizedResiduals <- Delivery.Residuals / sqrt(Delivery.lm.Mres * (1 - Delivery.HatMatrixDiagonal))\n",
    "\n",
    "Delivery.StudentizedResiduals_2 <- rstandard(Delivery.lm)\n",
    "Delivery.RStudentizedResiduals <- rstudent(Delivery.lm)\n",
    "Delivery.pressres <- PRESS(Delivery.lm, verbose = FALSE)$residuals\n",
    "Delivery.pressres_sq <- Delivery.pressres ^ 2\n",
    "Delivery.pressstat <- PRESS(Delivery.lm, verbose = FALSE)$stat\n",
    "Delivery.X <- as.matrix(cbind(1, Delivery.df$NumberCases, Delivery.df$Distance))\n"
   ]
  },
  {
   "cell_type": "code",
   "execution_count": 32,
   "id": "94dbdcd7",
   "metadata": {},
   "outputs": [],
   "source": [
    "Delivery.Residual_df <- data.frame(\n",
    "    unname(Delivery.Residuals),\n",
    "    unname(Delivery.StandardizedResiduals),\n",
    "    unname(Delivery.StudentizedResiduals)\n",
    ")"
   ]
  },
  {
   "cell_type": "code",
   "execution_count": 33,
   "id": "5dabde53",
   "metadata": {},
   "outputs": [
    {
     "data": {
      "text/html": [
       "<table class=\"dataframe\">\n",
       "<caption>A data.frame: 6 × 3</caption>\n",
       "<thead>\n",
       "\t<tr><th></th><th scope=col>unname.Delivery.Residuals.</th><th scope=col>unname.Delivery.StandardizedResiduals.</th><th scope=col>unname.Delivery.StudentizedResiduals.</th></tr>\n",
       "\t<tr><th></th><th scope=col>&lt;dbl&gt;</th><th scope=col>&lt;dbl&gt;</th><th scope=col>&lt;dbl&gt;</th></tr>\n",
       "</thead>\n",
       "<tbody>\n",
       "\t<tr><th scope=row>1</th><td>-5.0280843</td><td>-1.54260631</td><td>-1.62767993</td></tr>\n",
       "\t<tr><th scope=row>2</th><td> 1.1463854</td><td> 0.35170879</td><td> 0.36484267</td></tr>\n",
       "\t<tr><th scope=row>3</th><td>-0.0497937</td><td>-0.01527661</td><td>-0.01609165</td></tr>\n",
       "\t<tr><th scope=row>4</th><td> 4.9243539</td><td> 1.51078203</td><td> 1.57972040</td></tr>\n",
       "\t<tr><th scope=row>5</th><td>-0.4443983</td><td>-0.13634053</td><td>-0.14176094</td></tr>\n",
       "\t<tr><th scope=row>6</th><td>-0.2895743</td><td>-0.08884082</td><td>-0.09080847</td></tr>\n",
       "</tbody>\n",
       "</table>\n"
      ],
      "text/latex": [
       "A data.frame: 6 × 3\n",
       "\\begin{tabular}{r|lll}\n",
       "  & unname.Delivery.Residuals. & unname.Delivery.StandardizedResiduals. & unname.Delivery.StudentizedResiduals.\\\\\n",
       "  & <dbl> & <dbl> & <dbl>\\\\\n",
       "\\hline\n",
       "\t1 & -5.0280843 & -1.54260631 & -1.62767993\\\\\n",
       "\t2 &  1.1463854 &  0.35170879 &  0.36484267\\\\\n",
       "\t3 & -0.0497937 & -0.01527661 & -0.01609165\\\\\n",
       "\t4 &  4.9243539 &  1.51078203 &  1.57972040\\\\\n",
       "\t5 & -0.4443983 & -0.13634053 & -0.14176094\\\\\n",
       "\t6 & -0.2895743 & -0.08884082 & -0.09080847\\\\\n",
       "\\end{tabular}\n"
      ],
      "text/markdown": [
       "\n",
       "A data.frame: 6 × 3\n",
       "\n",
       "| <!--/--> | unname.Delivery.Residuals. &lt;dbl&gt; | unname.Delivery.StandardizedResiduals. &lt;dbl&gt; | unname.Delivery.StudentizedResiduals. &lt;dbl&gt; |\n",
       "|---|---|---|---|\n",
       "| 1 | -5.0280843 | -1.54260631 | -1.62767993 |\n",
       "| 2 |  1.1463854 |  0.35170879 |  0.36484267 |\n",
       "| 3 | -0.0497937 | -0.01527661 | -0.01609165 |\n",
       "| 4 |  4.9243539 |  1.51078203 |  1.57972040 |\n",
       "| 5 | -0.4443983 | -0.13634053 | -0.14176094 |\n",
       "| 6 | -0.2895743 | -0.08884082 | -0.09080847 |\n",
       "\n"
      ],
      "text/plain": [
       "  unname.Delivery.Residuals. unname.Delivery.StandardizedResiduals.\n",
       "1 -5.0280843                 -1.54260631                           \n",
       "2  1.1463854                  0.35170879                           \n",
       "3 -0.0497937                 -0.01527661                           \n",
       "4  4.9243539                  1.51078203                           \n",
       "5 -0.4443983                 -0.13634053                           \n",
       "6 -0.2895743                 -0.08884082                           \n",
       "  unname.Delivery.StudentizedResiduals.\n",
       "1 -1.62767993                          \n",
       "2  0.36484267                          \n",
       "3 -0.01609165                          \n",
       "4  1.57972040                          \n",
       "5 -0.14176094                          \n",
       "6 -0.09080847                          "
      ]
     },
     "metadata": {},
     "output_type": "display_data"
    }
   ],
   "source": [
    "head(Delivery.Residual_df)"
   ]
  },
  {
   "cell_type": "code",
   "execution_count": 17,
   "id": "784549eb",
   "metadata": {},
   "outputs": [],
   "source": [
    "colnames(Delivery.Residual_df) <- c(\n",
    "    \"Residuals\",\n",
    "    \"res_hm\",\n",
    "    \"UNKNOWN\", \n",
    "    \"stdres\", \n",
    "    \"studres\", \n",
    "    \"hatmatdiag\", \n",
    "    \"pressres\", \n",
    "    \"pressres_sq\")"
   ]
  },
  {
   "cell_type": "code",
   "execution_count": 94,
   "id": "c90768a9",
   "metadata": {},
   "outputs": [
    {
     "data": {
      "text/html": [
       "<style>\n",
       ".dl-inline {width: auto; margin:0; padding: 0}\n",
       ".dl-inline>dt, .dl-inline>dd {float: none; width: auto; display: inline-block}\n",
       ".dl-inline>dt::after {content: \":\\0020\"; padding-right: .5ex}\n",
       ".dl-inline>dt:not(:first-of-type) {padding-left: .5ex}\n",
       "</style><dl class=dl-inline><dt>1</dt><dd>-1.62767993156924</dd><dt>2</dt><dd>0.36484267432695</dd><dt>3</dt><dd>-0.0160916536073025</dd><dt>4</dt><dd>1.5797204025666</dd><dt>5</dt><dd>-0.141760940242228</dd><dt>6</dt><dd>-0.0908084749364805</dd><dt>7</dt><dd>0.270424962882287</dd><dt>8</dt><dd>0.366721178379141</dd><dt>9</dt><dd>3.21376278395866</dd><dt>10</dt><dd>0.813254317590723</dd><dt>11</dt><dd>0.718079700645747</dd><dt>12</dt><dd>-0.193257326640403</dd><dt>13</dt><dd>0.325179353734995</dd><dt>14</dt><dd>0.341135469676102</dd><dt>15</dt><dd>0.210291366279044</dd><dt>16</dt><dd>-0.22270022698345</dd><dt>17</dt><dd>0.138039293862609</dd><dt>18</dt><dd>1.11295195772272</dd><dt>19</dt><dd>0.578766339691554</dd><dt>20</dt><dd>-1.87354642998261</dd><dt>21</dt><dd>-0.877842578884356</dd><dt>22</dt><dd>-1.44999541405021</dd><dt>23</dt><dd>-1.44368977370881</dd><dt>24</dt><dd>-1.49605875487722</dd><dt>25</dt><dd>-0.0675086132780044</dd></dl>\n"
      ],
      "text/latex": [
       "\\begin{description*}\n",
       "\\item[1] -1.62767993156924\n",
       "\\item[2] 0.36484267432695\n",
       "\\item[3] -0.0160916536073025\n",
       "\\item[4] 1.5797204025666\n",
       "\\item[5] -0.141760940242228\n",
       "\\item[6] -0.0908084749364805\n",
       "\\item[7] 0.270424962882287\n",
       "\\item[8] 0.366721178379141\n",
       "\\item[9] 3.21376278395866\n",
       "\\item[10] 0.813254317590723\n",
       "\\item[11] 0.718079700645747\n",
       "\\item[12] -0.193257326640403\n",
       "\\item[13] 0.325179353734995\n",
       "\\item[14] 0.341135469676102\n",
       "\\item[15] 0.210291366279044\n",
       "\\item[16] -0.22270022698345\n",
       "\\item[17] 0.138039293862609\n",
       "\\item[18] 1.11295195772272\n",
       "\\item[19] 0.578766339691554\n",
       "\\item[20] -1.87354642998261\n",
       "\\item[21] -0.877842578884356\n",
       "\\item[22] -1.44999541405021\n",
       "\\item[23] -1.44368977370881\n",
       "\\item[24] -1.49605875487722\n",
       "\\item[25] -0.0675086132780044\n",
       "\\end{description*}\n"
      ],
      "text/markdown": [
       "1\n",
       ":   -1.627679931569242\n",
       ":   0.364842674326953\n",
       ":   -0.01609165360730254\n",
       ":   1.57972040256665\n",
       ":   -0.1417609402422286\n",
       ":   -0.09080847493648057\n",
       ":   0.2704249628822878\n",
       ":   0.3667211783791419\n",
       ":   3.2137627839586610\n",
       ":   0.81325431759072311\n",
       ":   0.71807970064574712\n",
       ":   -0.19325732664040313\n",
       ":   0.32517935373499514\n",
       ":   0.34113546967610215\n",
       ":   0.21029136627904416\n",
       ":   -0.2227002269834517\n",
       ":   0.13803929386260918\n",
       ":   1.1129519577227219\n",
       ":   0.57876633969155420\n",
       ":   -1.8735464299826121\n",
       ":   -0.87784257888435622\n",
       ":   -1.4499954140502123\n",
       ":   -1.4436897737088124\n",
       ":   -1.4960587548772225\n",
       ":   -0.0675086132780044\n",
       "\n"
      ],
      "text/plain": [
       "          1           2           3           4           5           6 \n",
       "-1.62767993  0.36484267 -0.01609165  1.57972040 -0.14176094 -0.09080847 \n",
       "          7           8           9          10          11          12 \n",
       " 0.27042496  0.36672118  3.21376278  0.81325432  0.71807970 -0.19325733 \n",
       "         13          14          15          16          17          18 \n",
       " 0.32517935  0.34113547  0.21029137 -0.22270023  0.13803929  1.11295196 \n",
       "         19          20          21          22          23          24 \n",
       " 0.57876634 -1.87354643 -0.87784258 -1.44999541 -1.44368977 -1.49605875 \n",
       "         25 \n",
       "-0.06750861 "
      ]
     },
     "metadata": {},
     "output_type": "display_data"
    }
   ],
   "source": [
    "stdres(Delivery.lm)"
   ]
  },
  {
   "cell_type": "code",
   "execution_count": null,
   "id": "b25fef35",
   "metadata": {},
   "outputs": [],
   "source": []
  }
 ],
 "metadata": {
  "kernelspec": {
   "display_name": "R",
   "language": "R",
   "name": "ir"
  },
  "language_info": {
   "codemirror_mode": "r",
   "file_extension": ".r",
   "mimetype": "text/x-r-source",
   "name": "R",
   "pygments_lexer": "r",
   "version": "3.6.3"
  }
 },
 "nbformat": 4,
 "nbformat_minor": 5
}
